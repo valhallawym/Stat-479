{
 "cells": [
  {
   "cell_type": "code",
   "execution_count": 3,
   "id": "3a2aee2e-0019-4407-b818-febd6ba247c4",
   "metadata": {},
   "outputs": [],
   "source": [
    "import tensorflow as tf\n",
    "import keras as keras"
   ]
  },
  {
   "cell_type": "code",
   "execution_count": 4,
   "id": "3b250e14-61f8-4768-a754-3febff9b6bb9",
   "metadata": {},
   "outputs": [
    {
     "name": "stdout",
     "output_type": "stream",
     "text": [
      "tensorflow: 2.13.0\n",
      "keras: 2.13.1\n"
     ]
    }
   ],
   "source": [
    "print(\"tensorflow:\", tf.__version__)\n",
    "print(\"keras:\", keras.__version__)"
   ]
  },
  {
   "cell_type": "code",
   "execution_count": 5,
   "id": "419623c8-3b66-4c55-bb1f-d7e68d7e56f1",
   "metadata": {},
   "outputs": [
    {
     "name": "stdout",
     "output_type": "stream",
     "text": [
      "Requirement already satisfied: scikit-learn in c:\\users\\006816379\\appdata\\local\\anaconda3\\envs\\stat479\\lib\\site-packages (1.5.2)\n",
      "Requirement already satisfied: numpy>=1.19.5 in c:\\users\\006816379\\appdata\\local\\anaconda3\\envs\\stat479\\lib\\site-packages (from scikit-learn) (1.26.4)\n",
      "Requirement already satisfied: scipy>=1.6.0 in c:\\users\\006816379\\appdata\\local\\anaconda3\\envs\\stat479\\lib\\site-packages (from scikit-learn) (1.14.1)\n",
      "Requirement already satisfied: joblib>=1.2.0 in c:\\users\\006816379\\appdata\\local\\anaconda3\\envs\\stat479\\lib\\site-packages (from scikit-learn) (1.4.2)\n",
      "Requirement already satisfied: threadpoolctl>=3.1.0 in c:\\users\\006816379\\appdata\\local\\anaconda3\\envs\\stat479\\lib\\site-packages (from scikit-learn) (3.5.0)\n",
      "Note: you may need to restart the kernel to use updated packages.\n"
     ]
    }
   ],
   "source": [
    "pip install scikit-learn"
   ]
  },
  {
   "cell_type": "code",
   "execution_count": 46,
   "id": "ee3569bd-4a37-489e-8172-998aed4bc954",
   "metadata": {},
   "outputs": [
    {
     "name": "stdout",
     "output_type": "stream",
     "text": [
      "Collecting pandas\n",
      "  Downloading pandas-2.2.2-cp312-cp312-win_amd64.whl.metadata (19 kB)\n",
      "Requirement already satisfied: numpy>=1.26.0 in c:\\users\\006816379\\appdata\\local\\anaconda3\\envs\\stat479\\lib\\site-packages (from pandas) (1.26.4)\n",
      "Requirement already satisfied: python-dateutil>=2.8.2 in c:\\users\\006816379\\appdata\\local\\anaconda3\\envs\\stat479\\lib\\site-packages (from pandas) (2.9.0.post0)\n",
      "Requirement already satisfied: pytz>=2020.1 in c:\\users\\006816379\\appdata\\local\\anaconda3\\envs\\stat479\\lib\\site-packages (from pandas) (2024.1)\n",
      "Collecting tzdata>=2022.7 (from pandas)\n",
      "  Downloading tzdata-2024.1-py2.py3-none-any.whl.metadata (1.4 kB)\n",
      "Requirement already satisfied: six>=1.5 in c:\\users\\006816379\\appdata\\local\\anaconda3\\envs\\stat479\\lib\\site-packages (from python-dateutil>=2.8.2->pandas) (1.16.0)\n",
      "Downloading pandas-2.2.2-cp312-cp312-win_amd64.whl (11.5 MB)\n",
      "   ---------------------------------------- 0.0/11.5 MB ? eta -:--:--\n",
      "   ---------------- ----------------------- 4.7/11.5 MB 23.7 MB/s eta 0:00:01\n",
      "   ---------------------------------- ----- 10.0/11.5 MB 24.8 MB/s eta 0:00:01\n",
      "   ---------------------------------------- 11.5/11.5 MB 24.8 MB/s eta 0:00:00\n",
      "Downloading tzdata-2024.1-py2.py3-none-any.whl (345 kB)\n",
      "Installing collected packages: tzdata, pandas\n",
      "Successfully installed pandas-2.2.2 tzdata-2024.1\n",
      "Note: you may need to restart the kernel to use updated packages.\n"
     ]
    }
   ],
   "source": [
    "pip install pandas"
   ]
  },
  {
   "cell_type": "code",
   "execution_count": 47,
   "id": "c1fc3bd9-a741-4242-b371-61d0b706eb24",
   "metadata": {},
   "outputs": [],
   "source": [
    "import pandas as pd\n",
    "import numpy as np\n",
    "import matplotlib.pyplot as plt"
   ]
  },
  {
   "cell_type": "markdown",
   "id": "f3ef0c0b-7b79-44f9-a4b7-d8d66bee3a54",
   "metadata": {},
   "source": [
    "## 3.4 Classifying movie reviews: a binary classification example\n",
    "\n",
    "In this example, you’ll learn to classify movie reviews as positive or negative, based on the text content of the reviews.\n",
    "\n",
    "### 3.4.1 The IMDB dataset\n",
    "* a set of 50,000 highly polarized reviews from the Internet Movie Database.\n",
    "* They’re split into 25,000 reviews for training and 25,000 reviews for testing, each set consisting of 50% negative and 50% positive reviews.\n",
    "* The IMDB dataset comes packaged with Keras.\n",
    "* It has already been preprocessed:\n",
    "  - the reviews (sequences of words) have been turned into sequences of integers, where each integer stands for a specific word in a dictionary."
   ]
  },
  {
   "cell_type": "code",
   "execution_count": 5,
   "id": "e031fbf4-e806-417f-bce2-511f59cd12fe",
   "metadata": {},
   "outputs": [],
   "source": [
    "# Loading the IMDB dataset (~ 80 MB of data)\n",
    "from keras.datasets import imdb\n",
    "(train_data, train_labels), (test_data, test_labels) = imdb.load_data(num_words=10000)\n",
    "# only keep the top 10,000 most frequently occurring words in the training data; Rare words will be discarded.\n",
    "# train_data and test_data are lists of reviews where each review is a list of word indices (encoding a sequence of words).\n",
    "# train_labels and test_labels are lists of 0s and 1s, where 0 stands for negative and 1 stands for positive"
   ]
  },
  {
   "cell_type": "code",
   "execution_count": 6,
   "id": "c1b54c53-00ab-4610-a649-d81c83f6b9aa",
   "metadata": {},
   "outputs": [
    {
     "name": "stdout",
     "output_type": "stream",
     "text": [
      "[1, 17, 6, 194, 337, 7, 4, 204, 22, 45, 254, 8, 106, 14, 123, 4, 2, 270, 2, 5, 2, 2, 732, 2098, 101, 405, 39, 14, 1034, 4, 1310, 9, 115, 50, 305, 12, 47, 4, 168, 5, 235, 7, 38, 111, 699, 102, 7, 4, 4039, 9245, 9, 24, 6, 78, 1099, 17, 2345, 2, 21, 27, 9685, 6139, 5, 2, 1603, 92, 1183, 4, 1310, 7, 4, 204, 42, 97, 90, 35, 221, 109, 29, 127, 27, 118, 8, 97, 12, 157, 21, 6789, 2, 9, 6, 66, 78, 1099, 4, 631, 1191, 5, 2642, 272, 191, 1070, 6, 7585, 8, 2197, 2, 2, 544, 5, 383, 1271, 848, 1468, 2, 497, 2, 8, 1597, 8778, 2, 21, 60, 27, 239, 9, 43, 8368, 209, 405, 10, 10, 12, 764, 40, 4, 248, 20, 12, 16, 5, 174, 1791, 72, 7, 51, 6, 1739, 22, 4, 204, 131, 9]\n",
      "(25000,)\n",
      "0\n",
      "(25000,)\n"
     ]
    }
   ],
   "source": [
    "print(train_data[24999]) # print any from 0 to 24999\n",
    "print(train_data.shape)\n",
    "print(train_labels[24999])\n",
    "print(train_labels.shape)"
   ]
  },
  {
   "cell_type": "markdown",
   "id": "412f9c0b-c176-4aaa-8bf7-eaf6eba19185",
   "metadata": {},
   "source": [
    "### 3.4.2 Preparing the data\n",
    "You can’t feed lists of integers into a neural network. You have to turn your lists into tensors (multi-dimensional numerical arrays)."
   ]
  },
  {
   "cell_type": "code",
   "execution_count": 7,
   "id": "705dd751-cc72-47e0-863a-871f4230cede",
   "metadata": {},
   "outputs": [],
   "source": [
    "import numpy as np\n",
    "\n",
    "def vectorize_sequences(sequences, dimension=10000):\n",
    "    results = np.zeros((len(sequences), dimension)) # Creates an all-zero matrix of shape\n",
    "    for i, sequence in enumerate(sequences):\n",
    "        results[i, sequence] = 1. # Set specific indices of results[i] to 1s\n",
    "    return results"
   ]
  },
  {
   "cell_type": "markdown",
   "id": "02d9902f-dabc-4285-bc3f-0f7a0ef68a1a",
   "metadata": {},
   "source": [
    "* Example to use `vectorize_squences` function"
   ]
  },
  {
   "cell_type": "code",
   "execution_count": 8,
   "id": "ad85f66b-0c9d-4aa2-a08e-487865572ea1",
   "metadata": {},
   "outputs": [
    {
     "name": "stdout",
     "output_type": "stream",
     "text": [
      "[[0. 1. 0. 1. 0. 1.]\n",
      " [1. 0. 1. 1. 0. 0.]\n",
      " [0. 0. 1. 0. 1. 0.]]\n"
     ]
    }
   ],
   "source": [
    "# Example sequences (each sequence is a list of word indices)\n",
    "sequences = [\n",
    "    [1, 3, 5],    # first sequence\n",
    "    [0, 2, 3],    # second sequence\n",
    "    [2, 4]        # third sequence\n",
    "]\n",
    "\n",
    "# Vectorizing the example sequences\n",
    "vectorized_data = vectorize_sequences(sequences, dimension=6)  # Using 6 as the dimension (small for example purposes)\n",
    "\n",
    "print(vectorized_data)"
   ]
  },
  {
   "cell_type": "code",
   "execution_count": 9,
   "id": "4e3ee416-fc2f-4032-b9de-c9dfd1aeeb10",
   "metadata": {},
   "outputs": [
    {
     "name": "stdout",
     "output_type": "stream",
     "text": [
      "[0. 1. 1. ... 0. 0. 0.]\n",
      "(25000, 10000)\n",
      "0.0\n",
      "0.0\n"
     ]
    }
   ],
   "source": [
    "# Vectorize training and test data\n",
    "x_train = vectorize_sequences(train_data)\n",
    "x_test = vectorize_sequences(test_data)\n",
    "\n",
    "print(x_train[24999])\n",
    "print(x_train.shape)\n",
    "\n",
    "# also vectorize your labels (convert into a NumPy array)\n",
    "y_train = np.asarray(train_labels).astype('float32')\n",
    "y_test = np.asarray(test_labels).astype('float32')\n",
    "print(y_train[24999])\n",
    "print(y_test[24999])"
   ]
  },
  {
   "cell_type": "markdown",
   "id": "7db80cb3-0729-4835-a15b-be8531aeee2c",
   "metadata": {},
   "source": [
    "### 3.4.3 Building your network\n",
    "The input data is vectors, and the labels are scalars (1s and 0s): this is the easiest setup\n",
    "you’ll ever encounter. A type of network that performs well on such a problem is\n",
    "a simple stack of fully connected (Dense) layers with relu activations: Dense(16, activation='relu').\n",
    "The argument being passed to each Dense layer (16) is the number of hidden units of the layer.\n",
    "Each such Dense layer with a relu activation implements the following chain of tensor operations:\n",
    "*    output = relu(dot(W, input) + b)\n",
    "Having 16 hidden units means the weight matrix W will have shape (input_dimension, 16): \n",
    "the dot product with W will project the input data onto a 16-dimensional representation space \n",
    "(and then you’ll add the bias vector b and apply the relu operation).\n",
    "Having more hidden units (a higher-dimensional representation space) allows your network to learn more-complex representations, \n",
    "but it makes the network more computationally expensive and may lead to learning unwanted patterns \n",
    "(patterns that will improve performance on the training data but not on the test data).\n",
    "\n",
    "There are two key architecture decisions to be made about such a stack of Dense layers:\n",
    "* How many layers to use\n",
    "* How many hidden units to choose for each layer\n",
    "\n",
    "For now, we will assume that\n",
    "* Two intermediate layers with 16 hidden units each\n",
    "* A third layer that will output the scalar prediction regarding the sentiment of the current review\n",
    "\n",
    "The intermediate layers will use relu as their activation function, and the final layer will use a sigmoid activation so as to output a probability (a score between 0 and 1, indicating how likely the sample is to have the target “1”: how likely the review is to be positive).\n",
    "\n",
    "The three-layer network is\n",
    "* input -> Dense (units = 16) -> Dense (Units = 16) -> Dense (Units = 1) -> Output"
   ]
  },
  {
   "cell_type": "code",
   "execution_count": 10,
   "id": "4382a153-e16b-498f-80c3-ede9c5dac5b3",
   "metadata": {},
   "outputs": [],
   "source": [
    "# Keras model implementation\n",
    "from keras import models\n",
    "from keras import layers\n",
    "\n",
    "model = models.Sequential()\n",
    "model.add(layers.Dense(16, activation='relu', input_shape=(10000,)))\n",
    "model.add(layers.Dense(16, activation='relu'))\n",
    "model.add(layers.Dense(1, activation='sigmoid'))"
   ]
  },
  {
   "cell_type": "markdown",
   "id": "6e7ae96b-51bc-4595-98ed-64249e93e5c8",
   "metadata": {},
   "source": [
    "Finally, you need to choose a loss function and an optimizer. Because you’re facing a\n",
    "binary classification problem and the output of your network is a probability (you end\n",
    "your network with a single-unit layer with a sigmoid activation), it’s best to use the *binary_crossentropy* loss.\n",
    "crossentropy is usually the best choice when you’re dealing with models that output probabilities.\n",
    "Crossentropy is a quantity from the field of Information Theory that measures the distance between probability distributions or, in this\n",
    "case, between the ground-truth distribution and your predictions."
   ]
  },
  {
   "cell_type": "code",
   "execution_count": 11,
   "id": "d7b1b6d5-021f-4f37-ade2-bca6c04bd2b3",
   "metadata": {},
   "outputs": [],
   "source": [
    "# Compiling the model by configuring the optimizer\n",
    "from keras import optimizers\n",
    "\n",
    "model.compile(optimizer=optimizers.RMSprop(learning_rate=0.001),\n",
    "              loss='binary_crossentropy',\n",
    "              metrics=['accuracy'])"
   ]
  },
  {
   "cell_type": "markdown",
   "id": "3fc458a4-431a-442d-88cf-3435a2a41af9",
   "metadata": {},
   "source": [
    "### 3.4.4 Validating your approach\n",
    "\n",
    "* Create a validation set by setting apart 10,000 samples from the original training data."
   ]
  },
  {
   "cell_type": "code",
   "execution_count": 12,
   "id": "44f3780c-bd64-4758-a68a-20dc2526d4b1",
   "metadata": {},
   "outputs": [
    {
     "name": "stdout",
     "output_type": "stream",
     "text": [
      "(25000, 10000)\n",
      "(10000, 10000)\n",
      "(15000, 10000)\n",
      "(10000,)\n",
      "(15000,)\n"
     ]
    }
   ],
   "source": [
    "# Setting aside a validation data\n",
    "x_val = x_train[:10000] #  takes the first 10,000 rows from x_train\n",
    "print(x_train.shape)\n",
    "print(x_val.shape)\n",
    "\n",
    "partial_x_train = x_train[10000:]\n",
    "print(partial_x_train.shape)\n",
    "\n",
    "y_val = y_train[:10000]\n",
    "partial_y_train = y_train[10000:]\n",
    "print(y_val.shape)\n",
    "print(partial_y_train.shape)"
   ]
  },
  {
   "cell_type": "markdown",
   "id": "bae800d3-a20d-428d-9a17-d18d023b7809",
   "metadata": {},
   "source": [
    "* train the model for 20 epochs (20 iterations over all samples in the x_train and y_train tensors), in mini-batches of 512 samples. At the same time, monitor loss and accuracy on the 10,000 samples that you set apart. You do so by passing the validation data as the validation_data argument."
   ]
  },
  {
   "cell_type": "code",
   "execution_count": 13,
   "id": "34a1e227-c876-45bd-8011-eea1b9524de7",
   "metadata": {},
   "outputs": [
    {
     "name": "stdout",
     "output_type": "stream",
     "text": [
      "Epoch 1/20\n",
      "30/30 [==============================] - 1s 34ms/step - loss: 0.5262 - accuracy: 0.7745 - val_loss: 0.4026 - val_accuracy: 0.8502\n",
      "Epoch 2/20\n",
      "30/30 [==============================] - 0s 9ms/step - loss: 0.3223 - accuracy: 0.8947 - val_loss: 0.3392 - val_accuracy: 0.8618\n",
      "Epoch 3/20\n",
      "30/30 [==============================] - 0s 8ms/step - loss: 0.2421 - accuracy: 0.9195 - val_loss: 0.3079 - val_accuracy: 0.8762\n",
      "Epoch 4/20\n",
      "30/30 [==============================] - 0s 8ms/step - loss: 0.1972 - accuracy: 0.9329 - val_loss: 0.2746 - val_accuracy: 0.8902\n",
      "Epoch 5/20\n",
      "30/30 [==============================] - 0s 8ms/step - loss: 0.1620 - accuracy: 0.9494 - val_loss: 0.2854 - val_accuracy: 0.8855\n",
      "Epoch 6/20\n",
      "30/30 [==============================] - 0s 9ms/step - loss: 0.1422 - accuracy: 0.9532 - val_loss: 0.2833 - val_accuracy: 0.8853\n",
      "Epoch 7/20\n",
      "30/30 [==============================] - 0s 9ms/step - loss: 0.1186 - accuracy: 0.9635 - val_loss: 0.3006 - val_accuracy: 0.8830\n",
      "Epoch 8/20\n",
      "30/30 [==============================] - 0s 9ms/step - loss: 0.1020 - accuracy: 0.9691 - val_loss: 0.3289 - val_accuracy: 0.8756\n",
      "Epoch 9/20\n",
      "30/30 [==============================] - 0s 8ms/step - loss: 0.0904 - accuracy: 0.9729 - val_loss: 0.3250 - val_accuracy: 0.8829\n",
      "Epoch 10/20\n",
      "30/30 [==============================] - 0s 8ms/step - loss: 0.0744 - accuracy: 0.9806 - val_loss: 0.3533 - val_accuracy: 0.8806\n",
      "Epoch 11/20\n",
      "30/30 [==============================] - 0s 8ms/step - loss: 0.0669 - accuracy: 0.9820 - val_loss: 0.3584 - val_accuracy: 0.8807\n",
      "Epoch 12/20\n",
      "30/30 [==============================] - 0s 9ms/step - loss: 0.0536 - accuracy: 0.9867 - val_loss: 0.3785 - val_accuracy: 0.8778\n",
      "Epoch 13/20\n",
      "30/30 [==============================] - 0s 8ms/step - loss: 0.0468 - accuracy: 0.9891 - val_loss: 0.4032 - val_accuracy: 0.8773\n",
      "Epoch 14/20\n",
      "30/30 [==============================] - 0s 8ms/step - loss: 0.0397 - accuracy: 0.9911 - val_loss: 0.4291 - val_accuracy: 0.8775\n",
      "Epoch 15/20\n",
      "30/30 [==============================] - 0s 8ms/step - loss: 0.0341 - accuracy: 0.9927 - val_loss: 0.4676 - val_accuracy: 0.8740\n",
      "Epoch 16/20\n",
      "30/30 [==============================] - 0s 8ms/step - loss: 0.0289 - accuracy: 0.9945 - val_loss: 0.4670 - val_accuracy: 0.8753\n",
      "Epoch 17/20\n",
      "30/30 [==============================] - 0s 8ms/step - loss: 0.0246 - accuracy: 0.9951 - val_loss: 0.4882 - val_accuracy: 0.8747\n",
      "Epoch 18/20\n",
      "30/30 [==============================] - 0s 8ms/step - loss: 0.0189 - accuracy: 0.9974 - val_loss: 0.5135 - val_accuracy: 0.8737\n",
      "Epoch 19/20\n",
      "30/30 [==============================] - 0s 8ms/step - loss: 0.0180 - accuracy: 0.9975 - val_loss: 0.5344 - val_accuracy: 0.8724\n",
      "Epoch 20/20\n",
      "30/30 [==============================] - 0s 8ms/step - loss: 0.0169 - accuracy: 0.9967 - val_loss: 0.5584 - val_accuracy: 0.8708\n"
     ]
    }
   ],
   "source": [
    "# Training the model\n",
    "#model.compile(optimizer='rmsprop',\n",
    "#              loss='binary_crossentropy',\n",
    "#              metrics=['acc'])\n",
    "history = model.fit(partial_x_train,\n",
    "                    partial_y_train,\n",
    "                    epochs=20,\n",
    "                    batch_size=512, # batch size can be chosen for any power of 2\n",
    "                    validation_data=(x_val, y_val))"
   ]
  },
  {
   "cell_type": "code",
   "execution_count": 14,
   "id": "e1e4e196-33ae-4be4-b12d-2c3bdef1e531",
   "metadata": {},
   "outputs": [
    {
     "data": {
      "text/plain": [
       "dict_keys(['loss', 'accuracy', 'val_loss', 'val_accuracy'])"
      ]
     },
     "execution_count": 14,
     "metadata": {},
     "output_type": "execute_result"
    }
   ],
   "source": [
    "# Let's make a dictionary containing data about everything that happened during training\n",
    "history_dict = history.history\n",
    "history_dict.keys()\n",
    "# The dictionary contains four entries: one per metric that was being monitored during training and during validation."
   ]
  },
  {
   "cell_type": "code",
   "execution_count": 15,
   "id": "56517834-20be-466d-bb4b-8370c85d9bb3",
   "metadata": {},
   "outputs": [
    {
     "name": "stdout",
     "output_type": "stream",
     "text": [
      "Requirement already satisfied: matplotlib in c:\\users\\006816379\\appdata\\local\\anaconda3\\envs\\tf\\lib\\site-packages (3.7.5)\n",
      "Requirement already satisfied: contourpy>=1.0.1 in c:\\users\\006816379\\appdata\\local\\anaconda3\\envs\\tf\\lib\\site-packages (from matplotlib) (1.1.1)\n",
      "Requirement already satisfied: cycler>=0.10 in c:\\users\\006816379\\appdata\\local\\anaconda3\\envs\\tf\\lib\\site-packages (from matplotlib) (0.12.1)\n",
      "Requirement already satisfied: fonttools>=4.22.0 in c:\\users\\006816379\\appdata\\local\\anaconda3\\envs\\tf\\lib\\site-packages (from matplotlib) (4.53.1)\n",
      "Requirement already satisfied: kiwisolver>=1.0.1 in c:\\users\\006816379\\appdata\\local\\anaconda3\\envs\\tf\\lib\\site-packages (from matplotlib) (1.4.7)\n",
      "Requirement already satisfied: numpy<2,>=1.20 in c:\\users\\006816379\\appdata\\local\\anaconda3\\envs\\tf\\lib\\site-packages (from matplotlib) (1.24.3)\n",
      "Requirement already satisfied: packaging>=20.0 in c:\\users\\006816379\\appdata\\local\\anaconda3\\envs\\tf\\lib\\site-packages (from matplotlib) (24.1)\n",
      "Requirement already satisfied: pillow>=6.2.0 in c:\\users\\006816379\\appdata\\local\\anaconda3\\envs\\tf\\lib\\site-packages (from matplotlib) (10.4.0)\n",
      "Requirement already satisfied: pyparsing>=2.3.1 in c:\\users\\006816379\\appdata\\local\\anaconda3\\envs\\tf\\lib\\site-packages (from matplotlib) (3.1.4)\n",
      "Requirement already satisfied: python-dateutil>=2.7 in c:\\users\\006816379\\appdata\\local\\anaconda3\\envs\\tf\\lib\\site-packages (from matplotlib) (2.9.0.post0)\n",
      "Requirement already satisfied: importlib-resources>=3.2.0 in c:\\users\\006816379\\appdata\\local\\anaconda3\\envs\\tf\\lib\\site-packages (from matplotlib) (6.4.0)\n",
      "Requirement already satisfied: zipp>=3.1.0 in c:\\users\\006816379\\appdata\\local\\anaconda3\\envs\\tf\\lib\\site-packages (from importlib-resources>=3.2.0->matplotlib) (3.17.0)\n",
      "Requirement already satisfied: six>=1.5 in c:\\users\\006816379\\appdata\\local\\anaconda3\\envs\\tf\\lib\\site-packages (from python-dateutil>=2.7->matplotlib) (1.16.0)\n",
      "Note: you may need to restart the kernel to use updated packages.\n"
     ]
    }
   ],
   "source": [
    "pip install matplotlib"
   ]
  },
  {
   "cell_type": "code",
   "execution_count": 17,
   "id": "be6c431e-d475-443f-8d64-e2cf759aa807",
   "metadata": {},
   "outputs": [
    {
     "data": {
      "image/png": "[encoded data removed]",
      "text/plain": [
       "<Figure size 640x480 with 1 Axes>"
      ]
     },
     "metadata": {},
     "output_type": "display_data"
    }
   ],
   "source": [
    "# Plotting the training and validation loss\n",
    "import matplotlib.pyplot as plt\n",
    "\n",
    "loss_values = history_dict['loss']\n",
    "val_loss_values = history_dict['val_loss']\n",
    "\n",
    "epochs = range(1, len(loss_values) + 1)\n",
    "\n",
    "plt.plot(epochs, loss_values, 'bo', label='Training loss') # 'bo' means blue dot\n",
    "plt.plot(epochs, val_loss_values, 'b', label='Validation loss') # 'b' means solid blue line\n",
    "\n",
    "plt.title('Training and validation loss')\n",
    "plt.xlabel('Epochs')\n",
    "plt.ylabel('Loss')\n",
    "plt.legend()\n",
    "\n",
    "# Setting the x-ticks to integers and adding breaks at every 5 epochs\n",
    "plt.xticks(range(0, len(loss_values) + 1, 5))  # Adjust the step size to 5\n",
    "\n",
    "plt.show()"
   ]
  },
  {
   "cell_type": "code",
   "execution_count": 18,
   "id": "38eafe47-3d25-4334-89a4-4c7d31335737",
   "metadata": {},
   "outputs": [
    {
     "data": {
      "image/png": "[encoded data removed]",
      "text/plain": [
       "<Figure size 640x480 with 1 Axes>"
      ]
     },
     "metadata": {},
     "output_type": "display_data"
    }
   ],
   "source": [
    "# Plotting the training and validation accuracy\n",
    "plt.clf() # clear the figure\n",
    "\n",
    "acc_values = history_dict['accuracy']\n",
    "val_acc_values = history_dict['val_accuracy']\n",
    "\n",
    "plt.plot(epochs, acc_values, 'bo', label='Training acc')\n",
    "plt.plot(epochs, val_acc_values, 'b', label='Validation acc')\n",
    "plt.title('Training and validation accuracy')\n",
    "plt.xlabel('Epochs')\n",
    "plt.ylabel('Loss')\n",
    "plt.legend()\n",
    "\n",
    "# Setting the x-ticks to integers and adding breaks at every 5 epochs\n",
    "plt.xticks(range(0, len(loss_values) + 1, 5))  # Adjust the step size to 5\n",
    "\n",
    "plt.show()"
   ]
  },
  {
   "cell_type": "markdown",
   "id": "deb52129-d406-462f-9e4a-ddf6a043ad57",
   "metadata": {},
   "source": [
    "* It seems there is an overfitting problem.  To prevent overfitting, you could stop training after 5 epochs"
   ]
  },
  {
   "cell_type": "code",
   "execution_count": 22,
   "id": "54921199-dfd9-4fc5-8e1c-260ce0e73131",
   "metadata": {},
   "outputs": [
    {
     "name": "stdout",
     "output_type": "stream",
     "text": [
      "Epoch 1/8\n",
      "\u001b[1m49/49\u001b[0m \u001b[32m━━━━━━━━━━━━━━━━━━━━\u001b[0m\u001b[37m\u001b[0m \u001b[1m1s\u001b[0m 4ms/step - accuracy: 0.7373 - loss: 0.5461\n",
      "Epoch 2/8\n",
      "\u001b[1m49/49\u001b[0m \u001b[32m━━━━━━━━━━━━━━━━━━━━\u001b[0m\u001b[37m\u001b[0m \u001b[1m0s\u001b[0m 4ms/step - accuracy: 0.9051 - loss: 0.2796\n",
      "Epoch 3/8\n",
      "\u001b[1m49/49\u001b[0m \u001b[32m━━━━━━━━━━━━━━━━━━━━\u001b[0m\u001b[37m\u001b[0m \u001b[1m0s\u001b[0m 4ms/step - accuracy: 0.9208 - loss: 0.2181\n",
      "Epoch 4/8\n",
      "\u001b[1m49/49\u001b[0m \u001b[32m━━━━━━━━━━━━━━━━━━━━\u001b[0m\u001b[37m\u001b[0m \u001b[1m0s\u001b[0m 4ms/step - accuracy: 0.9392 - loss: 0.1757\n",
      "Epoch 5/8\n",
      "\u001b[1m49/49\u001b[0m \u001b[32m━━━━━━━━━━━━━━━━━━━━\u001b[0m\u001b[37m\u001b[0m \u001b[1m0s\u001b[0m 4ms/step - accuracy: 0.9451 - loss: 0.1558\n",
      "Epoch 6/8\n",
      "\u001b[1m49/49\u001b[0m \u001b[32m━━━━━━━━━━━━━━━━━━━━\u001b[0m\u001b[37m\u001b[0m \u001b[1m0s\u001b[0m 4ms/step - accuracy: 0.9544 - loss: 0.1356\n",
      "Epoch 7/8\n",
      "\u001b[1m49/49\u001b[0m \u001b[32m━━━━━━━━━━━━━━━━━━━━\u001b[0m\u001b[37m\u001b[0m \u001b[1m0s\u001b[0m 4ms/step - accuracy: 0.9611 - loss: 0.1179\n",
      "Epoch 8/8\n",
      "\u001b[1m49/49\u001b[0m \u001b[32m━━━━━━━━━━━━━━━━━━━━\u001b[0m\u001b[37m\u001b[0m \u001b[1m0s\u001b[0m 4ms/step - accuracy: 0.9655 - loss: 0.1045\n",
      "\u001b[1m782/782\u001b[0m \u001b[32m━━━━━━━━━━━━━━━━━━━━\u001b[0m\u001b[37m\u001b[0m \u001b[1m1s\u001b[0m 1ms/step - accuracy: 0.8676 - loss: 0.3715\n",
      "[0.3706571161746979, 0.8676000237464905]\n"
     ]
    }
   ],
   "source": [
    "# Retraining a model from scratch\n",
    "model = models.Sequential()\n",
    "model.add(layers.Dense(16, activation='relu', input_shape=(10000,)))\n",
    "model.add(layers.Dense(16, activation='relu'))\n",
    "model.add(layers.Dense(1, activation='sigmoid'))\n",
    "\n",
    "model.compile(optimizer='rmsprop',\n",
    "              loss='binary_crossentropy',\n",
    "              metrics=['accuracy'])\n",
    "\n",
    "model.fit(x_train, y_train, epochs=8, batch_size=512) # batch size can be chosen for any power of 2\n",
    "\n",
    "results = model.evaluate(x_test, y_test)\n",
    "\n",
    "print(results)"
   ]
  },
  {
   "cell_type": "markdown",
   "id": "997da306-d174-453c-a0e4-85c1ee119fe1",
   "metadata": {},
   "source": [
    "## 3.5 Classifying newswires: a multiclass classification example\n",
    "\n",
    "* Build a network to classify Reuters newswires into 46 mutually exclusive topics.\n",
    "* Because each data point should be classified into only one category, the problem is an instance of single-label, multiclass classification.\n",
    "\n",
    "### 3.5.1 The Reuters dataset\n",
    "* consists of a set of short newswires and their topics, published by Reuters in 1986.\n",
    "* It’s a simple, widely used toy dataset for text classification.\n",
    "* There are 46 different topics; some topics are more represented than others, but each topic has at least 10 examples in the training set.\n",
    "* It comes packaged as part of Keras."
   ]
  },
  {
   "cell_type": "code",
   "execution_count": 52,
   "id": "bd85a3ec-fc11-4e35-9f17-e0240665d12f",
   "metadata": {},
   "outputs": [
    {
     "name": "stdout",
     "output_type": "stream",
     "text": [
      "(8982,)\n",
      "(8982,)\n",
      "(2246,)\n",
      "(2246,)\n"
     ]
    }
   ],
   "source": [
    "# Loading the Reuters dataset\n",
    "from keras.datasets import reuters\n",
    "\n",
    "(train_data, train_labels), (test_data, test_labels) = reuters.load_data(num_words=10000)\n",
    "# the argument num_words=10000 restricts the data to the 10,000 most frequently occurring words found in the data.\n",
    "\n",
    "print(train_data.shape) # 8,982 training examples\n",
    "print(train_labels.shape)\n",
    "\n",
    "print(test_data.shape) # 2,246 test examples\n",
    "print(test_labels.shape)"
   ]
  },
  {
   "cell_type": "code",
   "execution_count": 53,
   "id": "4f5172e8-034f-4e3d-b939-d1e3282cf97e",
   "metadata": {},
   "outputs": [
    {
     "name": "stdout",
     "output_type": "stream",
     "text": [
      "[1, 245, 273, 207, 156, 53, 74, 160, 26, 14, 46, 296, 26, 39, 74, 2979, 3554, 14, 46, 4689, 4329, 86, 61, 3499, 4795, 14, 61, 451, 4329, 17, 12]\n",
      "31\n",
      "3\n"
     ]
    }
   ],
   "source": [
    "print(train_data[10]) # each example is a list of integers (word indices)\n",
    "print(len(train_data[10])) # each train_data example has a different length\n",
    "\n",
    "print(train_labels[10])"
   ]
  },
  {
   "cell_type": "code",
   "execution_count": 54,
   "id": "ee978595-23b4-4a92-b77e-d16070932c7e",
   "metadata": {},
   "outputs": [
    {
     "name": "stdout",
     "output_type": "stream",
     "text": [
      "(8982, 10000)\n",
      "(2246, 10000)\n"
     ]
    }
   ],
   "source": [
    "# Encoding the data (The same function as before)\n",
    "import numpy as np\n",
    "\n",
    "def vectorize_sequences(sequences, dimension=10000):\n",
    "    results = np.zeros((len(sequences), dimension)) # Creates an all-zero matrix of shape\n",
    "    for i, sequence in enumerate(sequences):\n",
    "        results[i, sequence] = 1. # Set specific indices of results[i] to 1s\n",
    "    return results\n",
    "\n",
    "x_train = vectorize_sequences(train_data)\n",
    "x_test = vectorize_sequences(test_data)\n",
    "print(x_train.shape)\n",
    "print(x_test.shape)"
   ]
  },
  {
   "cell_type": "code",
   "execution_count": 55,
   "id": "a42ff1d6-e004-44c7-ab86-d816d594cdca",
   "metadata": {},
   "outputs": [
    {
     "name": "stdout",
     "output_type": "stream",
     "text": [
      "(8982,)\n",
      "(8982, 10000)\n"
     ]
    }
   ],
   "source": [
    "v_train_labels = vectorize_sequences(train_labels)\n",
    "v_test_labels = vectorize_sequences(test_labels)\n",
    "\n",
    "# alternative way to vertorization\n",
    "from keras.utils import to_categorical\n",
    "\n",
    "one_hot_train_labels = to_categorical(train_labels)\n",
    "one_hot_test_labels = to_categorical(train_labels)\n",
    "\n",
    "print(train_labels.shape)\n",
    "print(v_train_labels.shape)"
   ]
  },
  {
   "cell_type": "markdown",
   "id": "4a093738-40e1-4454-86d3-a1f8df1b9f77",
   "metadata": {},
   "source": [
    "### 3.5.3 Building the network\n",
    "\n",
    "* Since we have 46 different classes, we need to increase the number of neurons in hidden layers. Let's go with 64 units"
   ]
  },
  {
   "cell_type": "code",
   "execution_count": 56,
   "id": "59ca7f9c-8976-44b7-8842-d2045f60c78e",
   "metadata": {},
   "outputs": [],
   "source": [
    "# model definition\n",
    "from keras import models\n",
    "from keras import layers\n",
    "\n",
    "model = models.Sequential()\n",
    "model.add(layers.Dense(64, activation='relu', input_shape=(10000,)))\n",
    "model.add(layers.Dense(64, activation='relu'))\n",
    "model.add(layers.Dense(46, activation='softmax')) # output layer has 46 units for 46 different classes"
   ]
  },
  {
   "cell_type": "code",
   "execution_count": 57,
   "id": "f018728f-706a-4d39-8cff-e467371f4c56",
   "metadata": {},
   "outputs": [],
   "source": [
    "# Compiling the model\n",
    "model.compile(optimizer='rmsprop', # rmsprop can adjust the learning rate for each parameter individually, \n",
    "              # but SGD has a fixed learning rate that can have slow convergence\n",
    "              loss='categorical_crossentropy',\n",
    "              metrics=['accuracy'])"
   ]
  },
  {
   "cell_type": "markdown",
   "id": "5fc08135-7e66-4268-ab52-cc952ac0983f",
   "metadata": {},
   "source": [
    "### 3.5.4 Validating your approach\n",
    "\n",
    "* Let’s set apart 1,000 samples in the training data to use as a validation set."
   ]
  },
  {
   "cell_type": "code",
   "execution_count": 58,
   "id": "511fec64-32de-425e-b8d6-6d75987fb4da",
   "metadata": {},
   "outputs": [
    {
     "name": "stdout",
     "output_type": "stream",
     "text": [
      "(8982,)\n",
      "(8982, 46)\n",
      "(2246,)\n",
      "(2246, 46)\n"
     ]
    }
   ],
   "source": [
    "# For labels, as similar as before\n",
    "def to_one_hot(labels, dimension=46):\n",
    "    results = np.zeros((len(labels), dimension)) # Creates an all-zero matrix of shape\n",
    "    for i, label in enumerate(labels):\n",
    "        results[i, label] = 1. # Set specific indices of results[i] to 1s\n",
    "    return results\n",
    "\n",
    "one_hot_train_labels = to_one_hot(train_labels) # vectorize training labels\n",
    "one_hot_test_labels = to_one_hot(test_labels)\n",
    "\n",
    "print(train_labels.shape)\n",
    "print(one_hot_train_labels.shape)\n",
    "\n",
    "print(test_labels.shape)\n",
    "print(one_hot_test_labels.shape)"
   ]
  },
  {
   "cell_type": "code",
   "execution_count": 59,
   "id": "3fc89798-4aac-409b-ac94-29a5e7df8ec6",
   "metadata": {},
   "outputs": [
    {
     "name": "stdout",
     "output_type": "stream",
     "text": [
      "(8982,)\n",
      "(8982, 46)\n",
      "(2246,)\n",
      "(2246, 46)\n"
     ]
    }
   ],
   "source": [
    "####  If you are using a built-in way to do this in Keras (Easier)\n",
    "from keras.utils import to_categorical\n",
    "\n",
    "one_hot_train_labels = to_categorical(train_labels)\n",
    "one_hot_test_labels = to_categorical(test_labels)\n",
    "\n",
    "print(train_labels.shape)\n",
    "print(one_hot_train_labels.shape)\n",
    "\n",
    "print(test_labels.shape)\n",
    "print(one_hot_test_labels.shape)"
   ]
  },
  {
   "cell_type": "code",
   "execution_count": 60,
   "id": "d835a8ad-8846-4ba6-ac21-3e8cfd82408f",
   "metadata": {},
   "outputs": [],
   "source": [
    "# Let’s set apart 1,000 samples in the training data to use as a validation set\n",
    "x_val = x_train[:1000]\n",
    "partial_x_train = x_train[1000:]\n",
    "\n",
    "y_val = one_hot_train_labels[:1000]\n",
    "partial_y_train = one_hot_train_labels[1000:]"
   ]
  },
  {
   "cell_type": "code",
   "execution_count": 61,
   "id": "4233aba6-ff78-4085-9e98-5ac8b4c4c544",
   "metadata": {},
   "outputs": [
    {
     "name": "stdout",
     "output_type": "stream",
     "text": [
      "Epoch 1/20\n",
      "\u001b[1m16/16\u001b[0m \u001b[32m━━━━━━━━━━━━━━━━━━━━\u001b[0m\u001b[37m\u001b[0m \u001b[1m1s\u001b[0m 15ms/step - accuracy: 0.4151 - loss: 3.1202 - val_accuracy: 0.6060 - val_loss: 1.7928\n",
      "Epoch 2/20\n",
      "\u001b[1m16/16\u001b[0m \u001b[32m━━━━━━━━━━━━━━━━━━━━\u001b[0m\u001b[37m\u001b[0m \u001b[1m0s\u001b[0m 7ms/step - accuracy: 0.6495 - loss: 1.6413 - val_accuracy: 0.6860 - val_loss: 1.4023\n",
      "Epoch 3/20\n",
      "\u001b[1m16/16\u001b[0m \u001b[32m━━━━━━━━━━━━━━━━━━━━\u001b[0m\u001b[37m\u001b[0m \u001b[1m0s\u001b[0m 6ms/step - accuracy: 0.7265 - loss: 1.2450 - val_accuracy: 0.7050 - val_loss: 1.2353\n",
      "Epoch 4/20\n",
      "\u001b[1m16/16\u001b[0m \u001b[32m━━━━━━━━━━━━━━━━━━━━\u001b[0m\u001b[37m\u001b[0m \u001b[1m0s\u001b[0m 6ms/step - accuracy: 0.7739 - loss: 1.0222 - val_accuracy: 0.7550 - val_loss: 1.1143\n",
      "Epoch 5/20\n",
      "\u001b[1m16/16\u001b[0m \u001b[32m━━━━━━━━━━━━━━━━━━━━\u001b[0m\u001b[37m\u001b[0m \u001b[1m0s\u001b[0m 6ms/step - accuracy: 0.8160 - loss: 0.8571 - val_accuracy: 0.7730 - val_loss: 1.0354\n",
      "Epoch 6/20\n",
      "\u001b[1m16/16\u001b[0m \u001b[32m━━━━━━━━━━━━━━━━━━━━\u001b[0m\u001b[37m\u001b[0m \u001b[1m0s\u001b[0m 6ms/step - accuracy: 0.8467 - loss: 0.6985 - val_accuracy: 0.7890 - val_loss: 0.9680\n",
      "Epoch 7/20\n",
      "\u001b[1m16/16\u001b[0m \u001b[32m━━━━━━━━━━━━━━━━━━━━\u001b[0m\u001b[37m\u001b[0m \u001b[1m0s\u001b[0m 6ms/step - accuracy: 0.8651 - loss: 0.6178 - val_accuracy: 0.8000 - val_loss: 0.9328\n",
      "Epoch 8/20\n",
      "\u001b[1m16/16\u001b[0m \u001b[32m━━━━━━━━━━━━━━━━━━━━\u001b[0m\u001b[37m\u001b[0m \u001b[1m0s\u001b[0m 6ms/step - accuracy: 0.9037 - loss: 0.4879 - val_accuracy: 0.7880 - val_loss: 0.9685\n",
      "Epoch 9/20\n",
      "\u001b[1m16/16\u001b[0m \u001b[32m━━━━━━━━━━━━━━━━━━━━\u001b[0m\u001b[37m\u001b[0m \u001b[1m0s\u001b[0m 6ms/step - accuracy: 0.9096 - loss: 0.4181 - val_accuracy: 0.8070 - val_loss: 0.8910\n",
      "Epoch 10/20\n",
      "\u001b[1m16/16\u001b[0m \u001b[32m━━━━━━━━━━━━━━━━━━━━\u001b[0m\u001b[37m\u001b[0m \u001b[1m0s\u001b[0m 6ms/step - accuracy: 0.9286 - loss: 0.3544 - val_accuracy: 0.8140 - val_loss: 0.8629\n",
      "Epoch 11/20\n",
      "\u001b[1m16/16\u001b[0m \u001b[32m━━━━━━━━━━━━━━━━━━━━\u001b[0m\u001b[37m\u001b[0m \u001b[1m0s\u001b[0m 6ms/step - accuracy: 0.9388 - loss: 0.2890 - val_accuracy: 0.8140 - val_loss: 0.8685\n",
      "Epoch 12/20\n",
      "\u001b[1m16/16\u001b[0m \u001b[32m━━━━━━━━━━━━━━━━━━━━\u001b[0m\u001b[37m\u001b[0m \u001b[1m0s\u001b[0m 6ms/step - accuracy: 0.9468 - loss: 0.2582 - val_accuracy: 0.8220 - val_loss: 0.8766\n",
      "Epoch 13/20\n",
      "\u001b[1m16/16\u001b[0m \u001b[32m━━━━━━━━━━━━━━━━━━━━\u001b[0m\u001b[37m\u001b[0m \u001b[1m0s\u001b[0m 6ms/step - accuracy: 0.9533 - loss: 0.2219 - val_accuracy: 0.8120 - val_loss: 0.8710\n",
      "Epoch 14/20\n",
      "\u001b[1m16/16\u001b[0m \u001b[32m━━━━━━━━━━━━━━━━━━━━\u001b[0m\u001b[37m\u001b[0m \u001b[1m0s\u001b[0m 6ms/step - accuracy: 0.9511 - loss: 0.1995 - val_accuracy: 0.8160 - val_loss: 0.8767\n",
      "Epoch 15/20\n",
      "\u001b[1m16/16\u001b[0m \u001b[32m━━━━━━━━━━━━━━━━━━━━\u001b[0m\u001b[37m\u001b[0m \u001b[1m0s\u001b[0m 6ms/step - accuracy: 0.9529 - loss: 0.1795 - val_accuracy: 0.8090 - val_loss: 0.9192\n",
      "Epoch 16/20\n",
      "\u001b[1m16/16\u001b[0m \u001b[32m━━━━━━━━━━━━━━━━━━━━\u001b[0m\u001b[37m\u001b[0m \u001b[1m0s\u001b[0m 7ms/step - accuracy: 0.9572 - loss: 0.1558 - val_accuracy: 0.8130 - val_loss: 0.9038\n",
      "Epoch 17/20\n",
      "\u001b[1m16/16\u001b[0m \u001b[32m━━━━━━━━━━━━━━━━━━━━\u001b[0m\u001b[37m\u001b[0m \u001b[1m0s\u001b[0m 7ms/step - accuracy: 0.9595 - loss: 0.1446 - val_accuracy: 0.8130 - val_loss: 0.9019\n",
      "Epoch 18/20\n",
      "\u001b[1m16/16\u001b[0m \u001b[32m━━━━━━━━━━━━━━━━━━━━\u001b[0m\u001b[37m\u001b[0m \u001b[1m0s\u001b[0m 6ms/step - accuracy: 0.9607 - loss: 0.1350 - val_accuracy: 0.8040 - val_loss: 0.9357\n",
      "Epoch 19/20\n",
      "\u001b[1m16/16\u001b[0m \u001b[32m━━━━━━━━━━━━━━━━━━━━\u001b[0m\u001b[37m\u001b[0m \u001b[1m0s\u001b[0m 6ms/step - accuracy: 0.9593 - loss: 0.1333 - val_accuracy: 0.7970 - val_loss: 0.9761\n",
      "Epoch 20/20\n",
      "\u001b[1m16/16\u001b[0m \u001b[32m━━━━━━━━━━━━━━━━━━━━\u001b[0m\u001b[37m\u001b[0m \u001b[1m0s\u001b[0m 6ms/step - accuracy: 0.9602 - loss: 0.1253 - val_accuracy: 0.8120 - val_loss: 0.9670\n"
     ]
    }
   ],
   "source": [
    "# Now, let’s train the network for 20 epochs\n",
    "history = model.fit(partial_x_train,\n",
    "                    partial_y_train,\n",
    "                    epochs=20,\n",
    "                    batch_size=512,\n",
    "                    validation_data=(x_val, y_val))"
   ]
  },
  {
   "cell_type": "code",
   "execution_count": 64,
   "id": "aa182772-72af-41b4-b62c-c0c24f62e3d1",
   "metadata": {},
   "outputs": [
    {
     "data": {
      "image/png": "[encoded data removed]",
      "text/plain": [
       "<Figure size 640x480 with 1 Axes>"
      ]
     },
     "metadata": {},
     "output_type": "display_data"
    }
   ],
   "source": [
    "# let’s display its loss and accuracy curves\n",
    "import matplotlib.pyplot as plt\n",
    "\n",
    "loss = history.history['loss']\n",
    "val_loss = history.history['val_loss']\n",
    "\n",
    "epochs = range(1, len(loss) + 1)\n",
    "\n",
    "plt.plot(epochs, loss, 'bo', label='Training loss')\n",
    "plt.plot(epochs, val_loss, 'b', label='Validation loss')\n",
    "plt.title('Training and validation loss')\n",
    "plt.xlabel('Epochs')\n",
    "plt.ylabel('Loss')\n",
    "plt.legend()\n",
    "\n",
    "# Setting the x-ticks to integers and adding breaks at every 5 epochs\n",
    "# plt.xticks(range(0, len(loss_values) + 1, 5))  # Adjust the step size to 5\n",
    "\n",
    "plt.show()"
   ]
  },
  {
   "cell_type": "code",
   "execution_count": 65,
   "id": "71a3f8b7-a09f-4b40-aabe-1ae139228419",
   "metadata": {},
   "outputs": [
    {
     "data": {
      "image/png": "[encoded data removed]",
      "text/plain": [
       "<Figure size 640x480 with 1 Axes>"
      ]
     },
     "metadata": {},
     "output_type": "display_data"
    }
   ],
   "source": [
    "# Plotting the training and validation accuracy\n",
    "plt.clf()\n",
    "\n",
    "acc = history.history['accuracy']\n",
    "val_acc = history.history['val_accuracy']\n",
    "\n",
    "plt.plot(epochs, acc, 'bo', label='Training acc')\n",
    "plt.plot(epochs, val_acc, 'b', label='Validation acc')\n",
    "plt.title('Training and validation accuracy')\n",
    "plt.xlabel('Epochs')\n",
    "plt.ylabel('Loss')\n",
    "plt.legend()\n",
    "\n",
    "# Setting the x-ticks to integers and adding breaks at every 5 epochs\n",
    "# plt.xticks(range(0, len(loss_values) + 1, 5))  # Adjust the step size to 5\n",
    "\n",
    "plt.show()"
   ]
  },
  {
   "cell_type": "markdown",
   "id": "1fc6fdc3-903a-4492-9c89-87b773b2f86f",
   "metadata": {},
   "source": [
    "* The network begins to overfit after 10 epochs. Let’s train a new network from \n",
    "scratch for10e epochs and then evaluate it on the test set\n",
    "."
   ]
  },
  {
   "cell_type": "code",
   "execution_count": 66,
   "id": "a782cbaa-959b-4c48-aab8-b3ba974513d9",
   "metadata": {},
   "outputs": [
    {
     "name": "stdout",
     "output_type": "stream",
     "text": [
      "Epoch 1/10\n",
      "\u001b[1m16/16\u001b[0m \u001b[32m━━━━━━━━━━━━━━━━━━━━\u001b[0m\u001b[37m\u001b[0m \u001b[1m1s\u001b[0m 13ms/step - accuracy: 0.3481 - loss: 3.3068 - val_accuracy: 0.6070 - val_loss: 1.9325\n",
      "Epoch 2/10\n",
      "\u001b[1m16/16\u001b[0m \u001b[32m━━━━━━━━━━━━━━━━━━━━\u001b[0m\u001b[37m\u001b[0m \u001b[1m0s\u001b[0m 7ms/step - accuracy: 0.6477 - loss: 1.7081 - val_accuracy: 0.6880 - val_loss: 1.4035\n",
      "Epoch 3/10\n",
      "\u001b[1m16/16\u001b[0m \u001b[32m━━━━━━━━━━━━━━━━━━━━\u001b[0m\u001b[37m\u001b[0m \u001b[1m0s\u001b[0m 6ms/step - accuracy: 0.7234 - loss: 1.2432 - val_accuracy: 0.7090 - val_loss: 1.2495\n",
      "Epoch 4/10\n",
      "\u001b[1m16/16\u001b[0m \u001b[32m━━━━━━━━━━━━━━━━━━━━\u001b[0m\u001b[37m\u001b[0m \u001b[1m0s\u001b[0m 6ms/step - accuracy: 0.7732 - loss: 1.0396 - val_accuracy: 0.7450 - val_loss: 1.1255\n",
      "Epoch 5/10\n",
      "\u001b[1m16/16\u001b[0m \u001b[32m━━━━━━━━━━━━━━━━━━━━\u001b[0m\u001b[37m\u001b[0m \u001b[1m0s\u001b[0m 7ms/step - accuracy: 0.8131 - loss: 0.8484 - val_accuracy: 0.7710 - val_loss: 1.0603\n",
      "Epoch 6/10\n",
      "\u001b[1m16/16\u001b[0m \u001b[32m━━━━━━━━━━━━━━━━━━━━\u001b[0m\u001b[37m\u001b[0m \u001b[1m0s\u001b[0m 6ms/step - accuracy: 0.8428 - loss: 0.7272 - val_accuracy: 0.7780 - val_loss: 1.0090\n",
      "Epoch 7/10\n",
      "\u001b[1m16/16\u001b[0m \u001b[32m━━━━━━━━━━━━━━━━━━━━\u001b[0m\u001b[37m\u001b[0m \u001b[1m0s\u001b[0m 6ms/step - accuracy: 0.8625 - loss: 0.6181 - val_accuracy: 0.8020 - val_loss: 0.9615\n",
      "Epoch 8/10\n",
      "\u001b[1m16/16\u001b[0m \u001b[32m━━━━━━━━━━━━━━━━━━━━\u001b[0m\u001b[37m\u001b[0m \u001b[1m0s\u001b[0m 6ms/step - accuracy: 0.8910 - loss: 0.5214 - val_accuracy: 0.7960 - val_loss: 0.9545\n",
      "Epoch 9/10\n",
      "\u001b[1m16/16\u001b[0m \u001b[32m━━━━━━━━━━━━━━━━━━━━\u001b[0m\u001b[37m\u001b[0m \u001b[1m0s\u001b[0m 7ms/step - accuracy: 0.9066 - loss: 0.4303 - val_accuracy: 0.8070 - val_loss: 0.9275\n",
      "Epoch 10/10\n",
      "\u001b[1m16/16\u001b[0m \u001b[32m━━━━━━━━━━━━━━━━━━━━\u001b[0m\u001b[37m\u001b[0m \u001b[1m0s\u001b[0m 7ms/step - accuracy: 0.9180 - loss: 0.3656 - val_accuracy: 0.8110 - val_loss: 0.9106\n",
      "\u001b[1m71/71\u001b[0m \u001b[32m━━━━━━━━━━━━━━━━━━━━\u001b[0m\u001b[37m\u001b[0m \u001b[1m0s\u001b[0m 947us/step - accuracy: 0.7880 - loss: 0.9331\n"
     ]
    }
   ],
   "source": [
    "# Retraining a model from scratch\n",
    "model = models.Sequential()\n",
    "model.add(layers.Dense(64, activation='relu', input_shape=(10000,)))\n",
    "model.add(layers.Dense(64, activation='relu'))\n",
    "model.add(layers.Dense(46, activation='softmax'))\n",
    "\n",
    "model.compile(optimizer='rmsprop',\n",
    "              loss='categorical_crossentropy',\n",
    "              metrics=['accuracy'])\n",
    "\n",
    "model.fit(partial_x_train,\n",
    "          partial_y_train,\n",
    "          epochs=10,\n",
    "          batch_size=512,\n",
    "          validation_data=(x_val, y_val))\n",
    "\n",
    "results = model.evaluate(x_test, one_hot_test_labels)"
   ]
  },
  {
   "cell_type": "markdown",
   "id": "1f9e4e9d-3e37-4118-89d8-d686d399fe08",
   "metadata": {},
   "source": [
    "### 3.5.5 Generating predictions on new data\n"
   ]
  },
  {
   "cell_type": "code",
   "execution_count": 70,
   "id": "c39f61cc-3784-4077-aa16-1940c59cbc04",
   "metadata": {},
   "outputs": [
    {
     "name": "stdout",
     "output_type": "stream",
     "text": [
      "\u001b[1m71/71\u001b[0m \u001b[32m━━━━━━━━━━━━━━━━━━━━\u001b[0m\u001b[37m\u001b[0m \u001b[1m0s\u001b[0m 1ms/step\n",
      "(46,)\n",
      "predicted:  11\n",
      "True: 11\n"
     ]
    }
   ],
   "source": [
    "# Generating predictions for new data\n",
    "predictions = model.predict(x_test)\n",
    "\n",
    "print(predictions[0].shape) # Each entry in predictions is a vector of length 46:\n",
    "\n",
    "print(\"predicted: \", np.argmax(predictions[15])) # The largest entry is the predicted class—the class with the highest probability\n",
    "\n",
    "print(\"True:\", test_labels[15])"
   ]
  },
  {
   "cell_type": "markdown",
   "id": "e0941280-858a-4a14-a8ca-ebaadadc5be9",
   "metadata": {},
   "source": [
    "### 3.5.6 Exercises\n",
    "* Let's download the cement data and read it into a pandas dataframe."
   ]
  },
  {
   "cell_type": "code",
   "execution_count": 104,
   "id": "d2eccb49-ac54-4d23-aa63-7644512a4716",
   "metadata": {},
   "outputs": [
    {
     "name": "stdout",
     "output_type": "stream",
     "text": [
      "Collecting pandas\n",
      "  Downloading pandas-2.0.3-cp38-cp38-win_amd64.whl.metadata (18 kB)\n",
      "Requirement already satisfied: python-dateutil>=2.8.2 in c:\\users\\006816379\\appdata\\local\\anaconda3\\envs\\tf\\lib\\site-packages (from pandas) (2.9.0.post0)\n",
      "Requirement already satisfied: pytz>=2020.1 in c:\\users\\006816379\\appdata\\local\\anaconda3\\envs\\tf\\lib\\site-packages (from pandas) (2024.1)\n",
      "Collecting tzdata>=2022.1 (from pandas)\n",
      "  Downloading tzdata-2024.2-py2.py3-none-any.whl.metadata (1.4 kB)\n",
      "Requirement already satisfied: numpy>=1.20.3 in c:\\users\\006816379\\appdata\\local\\anaconda3\\envs\\tf\\lib\\site-packages (from pandas) (1.24.3)\n",
      "Requirement already satisfied: six>=1.5 in c:\\users\\006816379\\appdata\\local\\anaconda3\\envs\\tf\\lib\\site-packages (from python-dateutil>=2.8.2->pandas) (1.16.0)\n",
      "Downloading pandas-2.0.3-cp38-cp38-win_amd64.whl (10.8 MB)\n",
      "   ---------------------------------------- 0.0/10.8 MB ? eta -:--:--\n",
      "   ------------- -------------------------- 3.7/10.8 MB 24.2 MB/s eta 0:00:01\n",
      "   ---------------------------------- ----- 9.2/10.8 MB 21.9 MB/s eta 0:00:01\n",
      "   ---------------------------------------- 10.8/10.8 MB 21.7 MB/s eta 0:00:00\n",
      "Downloading tzdata-2024.2-py2.py3-none-any.whl (346 kB)\n",
      "Installing collected packages: tzdata, pandas\n",
      "Successfully installed pandas-2.0.3 tzdata-2024.2\n"
     ]
    }
   ],
   "source": [
    "!pip install pandas"
   ]
  },
  {
   "cell_type": "code",
   "execution_count": 71,
   "id": "e6a04105-18bf-40e7-8e24-af7de5e2f7d1",
   "metadata": {},
   "outputs": [
    {
     "data": {
      "text/html": [
       "<div>\n",
       "<style scoped>\n",
       "    .dataframe tbody tr th:only-of-type {\n",
       "        vertical-align: middle;\n",
       "    }\n",
       "\n",
       "    .dataframe tbody tr th {\n",
       "        vertical-align: top;\n",
       "    }\n",
       "\n",
       "    .dataframe thead th {\n",
       "        text-align: right;\n",
       "    }\n",
       "</style>\n",
       "<table border=\"1\" class=\"dataframe\">\n",
       "  <thead>\n",
       "    <tr style=\"text-align: right;\">\n",
       "      <th></th>\n",
       "      <th>Cement</th>\n",
       "      <th>Blast Furnace Slag</th>\n",
       "      <th>Fly Ash</th>\n",
       "      <th>Water</th>\n",
       "      <th>Superplasticizer</th>\n",
       "      <th>Coarse Aggregate</th>\n",
       "      <th>Fine Aggregate</th>\n",
       "      <th>Age</th>\n",
       "      <th>Strength</th>\n",
       "    </tr>\n",
       "  </thead>\n",
       "  <tbody>\n",
       "    <tr>\n",
       "      <th>0</th>\n",
       "      <td>540.0</td>\n",
       "      <td>0.0</td>\n",
       "      <td>0.0</td>\n",
       "      <td>162.0</td>\n",
       "      <td>2.5</td>\n",
       "      <td>1040.0</td>\n",
       "      <td>676.0</td>\n",
       "      <td>28</td>\n",
       "      <td>79.99</td>\n",
       "    </tr>\n",
       "    <tr>\n",
       "      <th>1</th>\n",
       "      <td>540.0</td>\n",
       "      <td>0.0</td>\n",
       "      <td>0.0</td>\n",
       "      <td>162.0</td>\n",
       "      <td>2.5</td>\n",
       "      <td>1055.0</td>\n",
       "      <td>676.0</td>\n",
       "      <td>28</td>\n",
       "      <td>61.89</td>\n",
       "    </tr>\n",
       "    <tr>\n",
       "      <th>2</th>\n",
       "      <td>332.5</td>\n",
       "      <td>142.5</td>\n",
       "      <td>0.0</td>\n",
       "      <td>228.0</td>\n",
       "      <td>0.0</td>\n",
       "      <td>932.0</td>\n",
       "      <td>594.0</td>\n",
       "      <td>270</td>\n",
       "      <td>40.27</td>\n",
       "    </tr>\n",
       "    <tr>\n",
       "      <th>3</th>\n",
       "      <td>332.5</td>\n",
       "      <td>142.5</td>\n",
       "      <td>0.0</td>\n",
       "      <td>228.0</td>\n",
       "      <td>0.0</td>\n",
       "      <td>932.0</td>\n",
       "      <td>594.0</td>\n",
       "      <td>365</td>\n",
       "      <td>41.05</td>\n",
       "    </tr>\n",
       "    <tr>\n",
       "      <th>4</th>\n",
       "      <td>198.6</td>\n",
       "      <td>132.4</td>\n",
       "      <td>0.0</td>\n",
       "      <td>192.0</td>\n",
       "      <td>0.0</td>\n",
       "      <td>978.4</td>\n",
       "      <td>825.5</td>\n",
       "      <td>360</td>\n",
       "      <td>44.30</td>\n",
       "    </tr>\n",
       "  </tbody>\n",
       "</table>\n",
       "</div>"
      ],
      "text/plain": [
       "   Cement  Blast Furnace Slag  Fly Ash  Water  Superplasticizer  \\\n",
       "0   540.0                 0.0      0.0  162.0               2.5   \n",
       "1   540.0                 0.0      0.0  162.0               2.5   \n",
       "2   332.5               142.5      0.0  228.0               0.0   \n",
       "3   332.5               142.5      0.0  228.0               0.0   \n",
       "4   198.6               132.4      0.0  192.0               0.0   \n",
       "\n",
       "   Coarse Aggregate  Fine Aggregate  Age  Strength  \n",
       "0            1040.0           676.0   28     79.99  \n",
       "1            1055.0           676.0   28     61.89  \n",
       "2             932.0           594.0  270     40.27  \n",
       "3             932.0           594.0  365     41.05  \n",
       "4             978.4           825.5  360     44.30  "
      ]
     },
     "execution_count": 71,
     "metadata": {},
     "output_type": "execute_result"
    }
   ],
   "source": [
    "import pandas as pd\n",
    "import numpy as np\n",
    "\n",
    "concrete_data = pd.read_csv('https://s3-api.us-geo.objectstorage.softlayer.net/cf-courses-data/CognitiveClass/DL0101EN/labs/data/concrete_data.csv')\n",
    "concrete_data.head()"
   ]
  },
  {
   "cell_type": "markdown",
   "id": "535a29b8-98d6-4515-9066-4b2e76f57556",
   "metadata": {},
   "source": [
    "* So the first concrete sample has 540 cubic meter of cement, 0 cubic meter of blast furnace slag, 0 cubic meter of fly ash, 162 cubic meter of water, 2.5 cubic meter of superplaticizer, 1040 cubic meter of coarse aggregate, 676 cubic meter of fine aggregate. Such a concrete mix which is 28 days old, has a compressive strength of 79.99 MPa"
   ]
  },
  {
   "cell_type": "code",
   "execution_count": 39,
   "id": "c010ed5b-7383-4e92-946d-c8b54f487bc1",
   "metadata": {},
   "outputs": [
    {
     "data": {
      "text/plain": [
       "(1030, 9)"
      ]
     },
     "execution_count": 39,
     "metadata": {},
     "output_type": "execute_result"
    }
   ],
   "source": [
    "# Let's check how many data points we have.\n",
    "concrete_data.shape"
   ]
  },
  {
   "cell_type": "markdown",
   "id": "acba53ff-62b4-4a0a-a9dc-a1f089cef1b4",
   "metadata": {},
   "source": [
    "So, there are approximately 1000 samples to train our model on"
   ]
  },
  {
   "cell_type": "code",
   "execution_count": 42,
   "id": "910ea2aa-82ac-48d9-9cd6-8397fe529828",
   "metadata": {},
   "outputs": [
    {
     "data": {
      "text/html": [
       "<div>\n",
       "<style scoped>\n",
       "    .dataframe tbody tr th:only-of-type {\n",
       "        vertical-align: middle;\n",
       "    }\n",
       "\n",
       "    .dataframe tbody tr th {\n",
       "        vertical-align: top;\n",
       "    }\n",
       "\n",
       "    .dataframe thead th {\n",
       "        text-align: right;\n",
       "    }\n",
       "</style>\n",
       "<table border=\"1\" class=\"dataframe\">\n",
       "  <thead>\n",
       "    <tr style=\"text-align: right;\">\n",
       "      <th></th>\n",
       "      <th>Cement</th>\n",
       "      <th>Blast Furnace Slag</th>\n",
       "      <th>Fly Ash</th>\n",
       "      <th>Water</th>\n",
       "      <th>Superplasticizer</th>\n",
       "      <th>Coarse Aggregate</th>\n",
       "      <th>Fine Aggregate</th>\n",
       "      <th>Age</th>\n",
       "      <th>Strength</th>\n",
       "    </tr>\n",
       "  </thead>\n",
       "  <tbody>\n",
       "    <tr>\n",
       "      <th>count</th>\n",
       "      <td>1030.000000</td>\n",
       "      <td>1030.000000</td>\n",
       "      <td>1030.000000</td>\n",
       "      <td>1030.000000</td>\n",
       "      <td>1030.000000</td>\n",
       "      <td>1030.000000</td>\n",
       "      <td>1030.000000</td>\n",
       "      <td>1030.000000</td>\n",
       "      <td>1030.000000</td>\n",
       "    </tr>\n",
       "    <tr>\n",
       "      <th>mean</th>\n",
       "      <td>281.167864</td>\n",
       "      <td>73.895825</td>\n",
       "      <td>54.188350</td>\n",
       "      <td>181.567282</td>\n",
       "      <td>6.204660</td>\n",
       "      <td>972.918932</td>\n",
       "      <td>773.580485</td>\n",
       "      <td>45.662136</td>\n",
       "      <td>35.817961</td>\n",
       "    </tr>\n",
       "    <tr>\n",
       "      <th>std</th>\n",
       "      <td>104.506364</td>\n",
       "      <td>86.279342</td>\n",
       "      <td>63.997004</td>\n",
       "      <td>21.354219</td>\n",
       "      <td>5.973841</td>\n",
       "      <td>77.753954</td>\n",
       "      <td>80.175980</td>\n",
       "      <td>63.169912</td>\n",
       "      <td>16.705742</td>\n",
       "    </tr>\n",
       "    <tr>\n",
       "      <th>min</th>\n",
       "      <td>102.000000</td>\n",
       "      <td>0.000000</td>\n",
       "      <td>0.000000</td>\n",
       "      <td>121.800000</td>\n",
       "      <td>0.000000</td>\n",
       "      <td>801.000000</td>\n",
       "      <td>594.000000</td>\n",
       "      <td>1.000000</td>\n",
       "      <td>2.330000</td>\n",
       "    </tr>\n",
       "    <tr>\n",
       "      <th>25%</th>\n",
       "      <td>192.375000</td>\n",
       "      <td>0.000000</td>\n",
       "      <td>0.000000</td>\n",
       "      <td>164.900000</td>\n",
       "      <td>0.000000</td>\n",
       "      <td>932.000000</td>\n",
       "      <td>730.950000</td>\n",
       "      <td>7.000000</td>\n",
       "      <td>23.710000</td>\n",
       "    </tr>\n",
       "    <tr>\n",
       "      <th>50%</th>\n",
       "      <td>272.900000</td>\n",
       "      <td>22.000000</td>\n",
       "      <td>0.000000</td>\n",
       "      <td>185.000000</td>\n",
       "      <td>6.400000</td>\n",
       "      <td>968.000000</td>\n",
       "      <td>779.500000</td>\n",
       "      <td>28.000000</td>\n",
       "      <td>34.445000</td>\n",
       "    </tr>\n",
       "    <tr>\n",
       "      <th>75%</th>\n",
       "      <td>350.000000</td>\n",
       "      <td>142.950000</td>\n",
       "      <td>118.300000</td>\n",
       "      <td>192.000000</td>\n",
       "      <td>10.200000</td>\n",
       "      <td>1029.400000</td>\n",
       "      <td>824.000000</td>\n",
       "      <td>56.000000</td>\n",
       "      <td>46.135000</td>\n",
       "    </tr>\n",
       "    <tr>\n",
       "      <th>max</th>\n",
       "      <td>540.000000</td>\n",
       "      <td>359.400000</td>\n",
       "      <td>200.100000</td>\n",
       "      <td>247.000000</td>\n",
       "      <td>32.200000</td>\n",
       "      <td>1145.000000</td>\n",
       "      <td>992.600000</td>\n",
       "      <td>365.000000</td>\n",
       "      <td>82.600000</td>\n",
       "    </tr>\n",
       "  </tbody>\n",
       "</table>\n",
       "</div>"
      ],
      "text/plain": [
       "            Cement  Blast Furnace Slag      Fly Ash        Water  \\\n",
       "count  1030.000000         1030.000000  1030.000000  1030.000000   \n",
       "mean    281.167864           73.895825    54.188350   181.567282   \n",
       "std     104.506364           86.279342    63.997004    21.354219   \n",
       "min     102.000000            0.000000     0.000000   121.800000   \n",
       "25%     192.375000            0.000000     0.000000   164.900000   \n",
       "50%     272.900000           22.000000     0.000000   185.000000   \n",
       "75%     350.000000          142.950000   118.300000   192.000000   \n",
       "max     540.000000          359.400000   200.100000   247.000000   \n",
       "\n",
       "       Superplasticizer  Coarse Aggregate  Fine Aggregate          Age  \\\n",
       "count       1030.000000       1030.000000     1030.000000  1030.000000   \n",
       "mean           6.204660        972.918932      773.580485    45.662136   \n",
       "std            5.973841         77.753954       80.175980    63.169912   \n",
       "min            0.000000        801.000000      594.000000     1.000000   \n",
       "25%            0.000000        932.000000      730.950000     7.000000   \n",
       "50%            6.400000        968.000000      779.500000    28.000000   \n",
       "75%           10.200000       1029.400000      824.000000    56.000000   \n",
       "max           32.200000       1145.000000      992.600000   365.000000   \n",
       "\n",
       "          Strength  \n",
       "count  1030.000000  \n",
       "mean     35.817961  \n",
       "std      16.705742  \n",
       "min       2.330000  \n",
       "25%      23.710000  \n",
       "50%      34.445000  \n",
       "75%      46.135000  \n",
       "max      82.600000  "
      ]
     },
     "execution_count": 42,
     "metadata": {},
     "output_type": "execute_result"
    }
   ],
   "source": [
    "# Let's check the dataset for any missing values. (Descriptive Statistics)\n",
    "concrete_data.describe()"
   ]
  },
  {
   "cell_type": "code",
   "execution_count": 43,
   "id": "fc3704c7-43b8-4cb5-9236-28ae25b9b157",
   "metadata": {},
   "outputs": [
    {
     "data": {
      "text/plain": [
       "Cement                0\n",
       "Blast Furnace Slag    0\n",
       "Fly Ash               0\n",
       "Water                 0\n",
       "Superplasticizer      0\n",
       "Coarse Aggregate      0\n",
       "Fine Aggregate        0\n",
       "Age                   0\n",
       "Strength              0\n",
       "dtype: int64"
      ]
     },
     "execution_count": 43,
     "metadata": {},
     "output_type": "execute_result"
    }
   ],
   "source": [
    "concrete_data.isnull().sum()"
   ]
  },
  {
   "cell_type": "code",
   "execution_count": 44,
   "id": "824972e3-63f6-488d-87c7-f4bbcac818e0",
   "metadata": {},
   "outputs": [
    {
     "name": "stdout",
     "output_type": "stream",
     "text": [
      "Index(['Cement', 'Blast Furnace Slag', 'Fly Ash', 'Water', 'Superplasticizer',\n",
      "       'Coarse Aggregate', 'Fine Aggregate', 'Age', 'Strength'],\n",
      "      dtype='object')\n",
      "(1030, 8)\n",
      "(1030,)\n"
     ]
    }
   ],
   "source": [
    "# Split data into predictors and target\n",
    "# The target variable in this problem is the concrete sample strength.\n",
    "concrete_data_columns = concrete_data.columns\n",
    "print(concrete_data_columns)\n",
    "\n",
    "predictors = concrete_data[concrete_data_columns[concrete_data_columns != 'Strength']] # all columns but Strength\n",
    "print(predictors.shape)\n",
    "target = concrete_data['Strength'] # Strength column\n",
    "print(target.shape)"
   ]
  },
  {
   "cell_type": "code",
   "execution_count": 45,
   "id": "e8e17b42-6411-4f82-8240-6f13bfbe1e2d",
   "metadata": {},
   "outputs": [
    {
     "data": {
      "text/html": [
       "<div>\n",
       "<style scoped>\n",
       "    .dataframe tbody tr th:only-of-type {\n",
       "        vertical-align: middle;\n",
       "    }\n",
       "\n",
       "    .dataframe tbody tr th {\n",
       "        vertical-align: top;\n",
       "    }\n",
       "\n",
       "    .dataframe thead th {\n",
       "        text-align: right;\n",
       "    }\n",
       "</style>\n",
       "<table border=\"1\" class=\"dataframe\">\n",
       "  <thead>\n",
       "    <tr style=\"text-align: right;\">\n",
       "      <th></th>\n",
       "      <th>Cement</th>\n",
       "      <th>Blast Furnace Slag</th>\n",
       "      <th>Fly Ash</th>\n",
       "      <th>Water</th>\n",
       "      <th>Superplasticizer</th>\n",
       "      <th>Coarse Aggregate</th>\n",
       "      <th>Fine Aggregate</th>\n",
       "      <th>Age</th>\n",
       "    </tr>\n",
       "  </thead>\n",
       "  <tbody>\n",
       "    <tr>\n",
       "      <th>0</th>\n",
       "      <td>540.0</td>\n",
       "      <td>0.0</td>\n",
       "      <td>0.0</td>\n",
       "      <td>162.0</td>\n",
       "      <td>2.5</td>\n",
       "      <td>1040.0</td>\n",
       "      <td>676.0</td>\n",
       "      <td>28</td>\n",
       "    </tr>\n",
       "    <tr>\n",
       "      <th>1</th>\n",
       "      <td>540.0</td>\n",
       "      <td>0.0</td>\n",
       "      <td>0.0</td>\n",
       "      <td>162.0</td>\n",
       "      <td>2.5</td>\n",
       "      <td>1055.0</td>\n",
       "      <td>676.0</td>\n",
       "      <td>28</td>\n",
       "    </tr>\n",
       "    <tr>\n",
       "      <th>2</th>\n",
       "      <td>332.5</td>\n",
       "      <td>142.5</td>\n",
       "      <td>0.0</td>\n",
       "      <td>228.0</td>\n",
       "      <td>0.0</td>\n",
       "      <td>932.0</td>\n",
       "      <td>594.0</td>\n",
       "      <td>270</td>\n",
       "    </tr>\n",
       "    <tr>\n",
       "      <th>3</th>\n",
       "      <td>332.5</td>\n",
       "      <td>142.5</td>\n",
       "      <td>0.0</td>\n",
       "      <td>228.0</td>\n",
       "      <td>0.0</td>\n",
       "      <td>932.0</td>\n",
       "      <td>594.0</td>\n",
       "      <td>365</td>\n",
       "    </tr>\n",
       "    <tr>\n",
       "      <th>4</th>\n",
       "      <td>198.6</td>\n",
       "      <td>132.4</td>\n",
       "      <td>0.0</td>\n",
       "      <td>192.0</td>\n",
       "      <td>0.0</td>\n",
       "      <td>978.4</td>\n",
       "      <td>825.5</td>\n",
       "      <td>360</td>\n",
       "    </tr>\n",
       "  </tbody>\n",
       "</table>\n",
       "</div>"
      ],
      "text/plain": [
       "   Cement  Blast Furnace Slag  Fly Ash  Water  Superplasticizer  \\\n",
       "0   540.0                 0.0      0.0  162.0               2.5   \n",
       "1   540.0                 0.0      0.0  162.0               2.5   \n",
       "2   332.5               142.5      0.0  228.0               0.0   \n",
       "3   332.5               142.5      0.0  228.0               0.0   \n",
       "4   198.6               132.4      0.0  192.0               0.0   \n",
       "\n",
       "   Coarse Aggregate  Fine Aggregate  Age  \n",
       "0            1040.0           676.0   28  \n",
       "1            1055.0           676.0   28  \n",
       "2             932.0           594.0  270  \n",
       "3             932.0           594.0  365  \n",
       "4             978.4           825.5  360  "
      ]
     },
     "execution_count": 45,
     "metadata": {},
     "output_type": "execute_result"
    }
   ],
   "source": [
    "predictors.head()"
   ]
  },
  {
   "cell_type": "code",
   "execution_count": 46,
   "id": "7409317f-5229-4753-b204-f732f8fce6f3",
   "metadata": {},
   "outputs": [
    {
     "data": {
      "text/plain": [
       "0    79.99\n",
       "1    61.89\n",
       "2    40.27\n",
       "3    41.05\n",
       "4    44.30\n",
       "Name: Strength, dtype: float64"
      ]
     },
     "execution_count": 46,
     "metadata": {},
     "output_type": "execute_result"
    }
   ],
   "source": [
    "target.head()"
   ]
  },
  {
   "cell_type": "markdown",
   "id": "e67f3772-9937-49ca-b342-df6b76aa7848",
   "metadata": {},
   "source": [
    "Finally, the last step is to normalize the data by substracting the mean and dividing by the standard deviation.\n"
   ]
  },
  {
   "cell_type": "code",
   "execution_count": 47,
   "id": "b0385419-1178-4ee3-9b51-7e3a41edac0b",
   "metadata": {},
   "outputs": [
    {
     "data": {
      "text/html": [
       "<div>\n",
       "<style scoped>\n",
       "    .dataframe tbody tr th:only-of-type {\n",
       "        vertical-align: middle;\n",
       "    }\n",
       "\n",
       "    .dataframe tbody tr th {\n",
       "        vertical-align: top;\n",
       "    }\n",
       "\n",
       "    .dataframe thead th {\n",
       "        text-align: right;\n",
       "    }\n",
       "</style>\n",
       "<table border=\"1\" class=\"dataframe\">\n",
       "  <thead>\n",
       "    <tr style=\"text-align: right;\">\n",
       "      <th></th>\n",
       "      <th>Cement</th>\n",
       "      <th>Blast Furnace Slag</th>\n",
       "      <th>Fly Ash</th>\n",
       "      <th>Water</th>\n",
       "      <th>Superplasticizer</th>\n",
       "      <th>Coarse Aggregate</th>\n",
       "      <th>Fine Aggregate</th>\n",
       "      <th>Age</th>\n",
       "    </tr>\n",
       "  </thead>\n",
       "  <tbody>\n",
       "    <tr>\n",
       "      <th>0</th>\n",
       "      <td>2.476712</td>\n",
       "      <td>-0.856472</td>\n",
       "      <td>-0.846733</td>\n",
       "      <td>-0.916319</td>\n",
       "      <td>-0.620147</td>\n",
       "      <td>0.862735</td>\n",
       "      <td>-1.217079</td>\n",
       "      <td>-0.279597</td>\n",
       "    </tr>\n",
       "    <tr>\n",
       "      <th>1</th>\n",
       "      <td>2.476712</td>\n",
       "      <td>-0.856472</td>\n",
       "      <td>-0.846733</td>\n",
       "      <td>-0.916319</td>\n",
       "      <td>-0.620147</td>\n",
       "      <td>1.055651</td>\n",
       "      <td>-1.217079</td>\n",
       "      <td>-0.279597</td>\n",
       "    </tr>\n",
       "    <tr>\n",
       "      <th>2</th>\n",
       "      <td>0.491187</td>\n",
       "      <td>0.795140</td>\n",
       "      <td>-0.846733</td>\n",
       "      <td>2.174405</td>\n",
       "      <td>-1.038638</td>\n",
       "      <td>-0.526262</td>\n",
       "      <td>-2.239829</td>\n",
       "      <td>3.551340</td>\n",
       "    </tr>\n",
       "    <tr>\n",
       "      <th>3</th>\n",
       "      <td>0.491187</td>\n",
       "      <td>0.795140</td>\n",
       "      <td>-0.846733</td>\n",
       "      <td>2.174405</td>\n",
       "      <td>-1.038638</td>\n",
       "      <td>-0.526262</td>\n",
       "      <td>-2.239829</td>\n",
       "      <td>5.055221</td>\n",
       "    </tr>\n",
       "    <tr>\n",
       "      <th>4</th>\n",
       "      <td>-0.790075</td>\n",
       "      <td>0.678079</td>\n",
       "      <td>-0.846733</td>\n",
       "      <td>0.488555</td>\n",
       "      <td>-1.038638</td>\n",
       "      <td>0.070492</td>\n",
       "      <td>0.647569</td>\n",
       "      <td>4.976069</td>\n",
       "    </tr>\n",
       "  </tbody>\n",
       "</table>\n",
       "</div>"
      ],
      "text/plain": [
       "     Cement  Blast Furnace Slag   Fly Ash     Water  Superplasticizer  \\\n",
       "0  2.476712           -0.856472 -0.846733 -0.916319         -0.620147   \n",
       "1  2.476712           -0.856472 -0.846733 -0.916319         -0.620147   \n",
       "2  0.491187            0.795140 -0.846733  2.174405         -1.038638   \n",
       "3  0.491187            0.795140 -0.846733  2.174405         -1.038638   \n",
       "4 -0.790075            0.678079 -0.846733  0.488555         -1.038638   \n",
       "\n",
       "   Coarse Aggregate  Fine Aggregate       Age  \n",
       "0          0.862735       -1.217079 -0.279597  \n",
       "1          1.055651       -1.217079 -0.279597  \n",
       "2         -0.526262       -2.239829  3.551340  \n",
       "3         -0.526262       -2.239829  5.055221  \n",
       "4          0.070492        0.647569  4.976069  "
      ]
     },
     "execution_count": 47,
     "metadata": {},
     "output_type": "execute_result"
    }
   ],
   "source": [
    "predictors_norm = (predictors - predictors.mean()) / predictors.std()\n",
    "predictors_norm.head()"
   ]
  },
  {
   "cell_type": "markdown",
   "id": "8a09ef00-5e9b-40d2-b823-02a56ac062a3",
   "metadata": {},
   "source": [
    "Let's save the number of predictors to *n_cols* since we will need this number when building our network.\n"
   ]
  },
  {
   "cell_type": "code",
   "execution_count": 49,
   "id": "83e8fc61-081e-4ed7-8856-bfcaaee05a75",
   "metadata": {},
   "outputs": [
    {
     "name": "stdout",
     "output_type": "stream",
     "text": [
      "(1030, 8)\n"
     ]
    }
   ],
   "source": [
    "print(predictors_norm.shape)\n",
    "n_cols = predictors_norm.shape[1] # number of predictors, which is 8"
   ]
  },
  {
   "cell_type": "code",
   "execution_count": 50,
   "id": "bfd1865b-d627-4895-8629-6b3e6c943794",
   "metadata": {},
   "outputs": [],
   "source": [
    "# Build a NN\n",
    "from keras.models import Sequential\n",
    "from keras.layers import Dense\n",
    "\n",
    "# define regression model\n",
    "def regression_model():\n",
    "    # create model: two hidden layers, each of 50 hidden units\n",
    "    model = Sequential()\n",
    "    model.add(Dense(50, activation='relu', input_shape=(n_cols,))) \n",
    "    model.add(Dense(50, activation='relu'))\n",
    "    model.add(Dense(1))\n",
    "    \n",
    "    # compile model\n",
    "    model.compile(optimizer='adam', loss='mean_squared_error')\n",
    "    return model"
   ]
  },
  {
   "cell_type": "markdown",
   "id": "23d9f42a-2a12-40e3-b873-8d1a5f1e14de",
   "metadata": {},
   "source": [
    "## Train and Test the Network\n"
   ]
  },
  {
   "cell_type": "code",
   "execution_count": 51,
   "id": "305c9318-0cd0-4f30-b190-6061cb9b1bc1",
   "metadata": {},
   "outputs": [],
   "source": [
    "# build the model\n",
    "model = regression_model()"
   ]
  },
  {
   "cell_type": "markdown",
   "id": "62c80aa0-5639-4e8a-8509-f213439890cf",
   "metadata": {},
   "source": [
    "Next, we will train and test the model at the same time using the *fit* method. We will leave out 30% of the data for validation and we will train the model for 100 epochs.\n"
   ]
  },
  {
   "cell_type": "code",
   "execution_count": 55,
   "id": "873a78a4-55b0-4c4f-95f6-279a5618c1ce",
   "metadata": {},
   "outputs": [
    {
     "name": "stdout",
     "output_type": "stream",
     "text": [
      "(1030, 8)\n",
      "(1030,)\n",
      "(1030, 8)\n",
      "(1030,)\n"
     ]
    }
   ],
   "source": [
    "# fit the model\n",
    "# Convert predictors and target to NumPy arrays\n",
    "predictors_norm_np = predictors_norm.to_numpy()  # or predictors_norm.values\n",
    "target_np = target.to_numpy()  # or target.values\n",
    "\n",
    "print(predictors_norm.shape)\n",
    "print(target.shape)\n",
    "\n",
    "print(predictors_norm_np.shape)\n",
    "print(target_np.shape)\n"
   ]
  },
  {
   "cell_type": "code",
   "execution_count": 60,
   "id": "9f379bf5-43b4-4ae7-bc3b-5efb974dbe75",
   "metadata": {},
   "outputs": [
    {
     "name": "stdout",
     "output_type": "stream",
     "text": [
      "Epoch 1/100\n",
      "23/23 - 0s - loss: 30.8066 - val_loss: 129.8282 - 192ms/epoch - 8ms/step\n",
      "Epoch 2/100\n",
      "23/23 - 0s - loss: 30.7507 - val_loss: 127.7918 - 28ms/epoch - 1ms/step\n",
      "Epoch 3/100\n",
      "23/23 - 0s - loss: 30.1077 - val_loss: 124.5288 - 28ms/epoch - 1ms/step\n",
      "Epoch 4/100\n",
      "23/23 - 0s - loss: 29.7928 - val_loss: 133.6788 - 25ms/epoch - 1ms/step\n",
      "Epoch 5/100\n",
      "23/23 - 0s - loss: 29.9797 - val_loss: 126.4677 - 25ms/epoch - 1ms/step\n",
      "Epoch 6/100\n",
      "23/23 - 0s - loss: 29.0811 - val_loss: 130.4576 - 24ms/epoch - 1ms/step\n",
      "Epoch 7/100\n",
      "23/23 - 0s - loss: 28.9513 - val_loss: 125.8301 - 24ms/epoch - 1ms/step\n",
      "Epoch 8/100\n",
      "23/23 - 0s - loss: 28.8167 - val_loss: 128.1515 - 26ms/epoch - 1ms/step\n",
      "Epoch 9/100\n",
      "23/23 - 0s - loss: 28.9695 - val_loss: 132.0172 - 25ms/epoch - 1ms/step\n",
      "Epoch 10/100\n",
      "23/23 - 0s - loss: 29.1238 - val_loss: 125.4032 - 24ms/epoch - 1ms/step\n",
      "Epoch 11/100\n",
      "23/23 - 0s - loss: 29.1322 - val_loss: 119.0451 - 26ms/epoch - 1ms/step\n",
      "Epoch 12/100\n",
      "23/23 - 0s - loss: 28.2263 - val_loss: 124.1451 - 24ms/epoch - 1ms/step\n",
      "Epoch 13/100\n",
      "23/23 - 0s - loss: 27.9722 - val_loss: 122.6621 - 25ms/epoch - 1ms/step\n",
      "Epoch 14/100\n",
      "23/23 - 0s - loss: 27.7325 - val_loss: 123.0392 - 34ms/epoch - 1ms/step\n",
      "Epoch 15/100\n",
      "23/23 - 0s - loss: 27.2942 - val_loss: 124.3069 - 24ms/epoch - 1ms/step\n",
      "Epoch 16/100\n",
      "23/23 - 0s - loss: 27.2256 - val_loss: 125.0048 - 25ms/epoch - 1ms/step\n",
      "Epoch 17/100\n",
      "23/23 - 0s - loss: 26.8915 - val_loss: 131.7038 - 24ms/epoch - 1ms/step\n",
      "Epoch 18/100\n",
      "23/23 - 0s - loss: 27.0437 - val_loss: 128.2173 - 25ms/epoch - 1ms/step\n",
      "Epoch 19/100\n",
      "23/23 - 0s - loss: 26.6784 - val_loss: 132.8955 - 23ms/epoch - 1000us/step\n",
      "Epoch 20/100\n",
      "23/23 - 0s - loss: 26.5303 - val_loss: 128.3757 - 25ms/epoch - 1ms/step\n",
      "Epoch 21/100\n",
      "23/23 - 0s - loss: 26.3074 - val_loss: 120.7912 - 23ms/epoch - 1000us/step\n",
      "Epoch 22/100\n",
      "23/23 - 0s - loss: 25.8652 - val_loss: 129.1444 - 24ms/epoch - 1ms/step\n",
      "Epoch 23/100\n",
      "23/23 - 0s - loss: 26.2315 - val_loss: 131.1641 - 25ms/epoch - 1ms/step\n",
      "Epoch 24/100\n",
      "23/23 - 0s - loss: 25.9796 - val_loss: 129.1132 - 25ms/epoch - 1ms/step\n",
      "Epoch 25/100\n",
      "23/23 - 0s - loss: 25.5855 - val_loss: 119.4091 - 25ms/epoch - 1ms/step\n",
      "Epoch 26/100\n",
      "23/23 - 0s - loss: 25.8750 - val_loss: 129.7952 - 24ms/epoch - 1ms/step\n",
      "Epoch 27/100\n",
      "23/23 - 0s - loss: 25.0368 - val_loss: 124.6871 - 27ms/epoch - 1ms/step\n",
      "Epoch 28/100\n",
      "23/23 - 0s - loss: 25.1686 - val_loss: 120.7900 - 27ms/epoch - 1ms/step\n",
      "Epoch 29/100\n",
      "23/23 - 0s - loss: 25.0451 - val_loss: 121.0259 - 24ms/epoch - 1ms/step\n",
      "Epoch 30/100\n",
      "23/23 - 0s - loss: 25.3039 - val_loss: 130.4753 - 24ms/epoch - 1ms/step\n",
      "Epoch 31/100\n",
      "23/23 - 0s - loss: 24.8582 - val_loss: 135.7334 - 24ms/epoch - 1ms/step\n",
      "Epoch 32/100\n",
      "23/23 - 0s - loss: 24.6664 - val_loss: 127.2528 - 23ms/epoch - 1ms/step\n",
      "Epoch 33/100\n",
      "23/23 - 0s - loss: 24.1521 - val_loss: 131.7278 - 25ms/epoch - 1ms/step\n",
      "Epoch 34/100\n",
      "23/23 - 0s - loss: 24.1210 - val_loss: 123.6584 - 25ms/epoch - 1ms/step\n",
      "Epoch 35/100\n",
      "23/23 - 0s - loss: 23.8457 - val_loss: 126.0829 - 24ms/epoch - 1ms/step\n",
      "Epoch 36/100\n",
      "23/23 - 0s - loss: 23.7866 - val_loss: 127.9175 - 26ms/epoch - 1ms/step\n",
      "Epoch 37/100\n",
      "23/23 - 0s - loss: 24.0235 - val_loss: 130.0301 - 26ms/epoch - 1ms/step\n",
      "Epoch 38/100\n",
      "23/23 - 0s - loss: 24.0273 - val_loss: 119.8298 - 26ms/epoch - 1ms/step\n",
      "Epoch 39/100\n",
      "23/23 - 0s - loss: 24.1519 - val_loss: 120.0770 - 26ms/epoch - 1ms/step\n",
      "Epoch 40/100\n",
      "23/23 - 0s - loss: 23.4545 - val_loss: 131.2171 - 24ms/epoch - 1ms/step\n",
      "Epoch 41/100\n",
      "23/23 - 0s - loss: 23.1917 - val_loss: 124.2405 - 23ms/epoch - 1ms/step\n",
      "Epoch 42/100\n",
      "23/23 - 0s - loss: 23.1985 - val_loss: 124.3516 - 24ms/epoch - 1ms/step\n",
      "Epoch 43/100\n",
      "23/23 - 0s - loss: 23.2022 - val_loss: 124.6926 - 25ms/epoch - 1ms/step\n",
      "Epoch 44/100\n",
      "23/23 - 0s - loss: 22.8721 - val_loss: 120.3862 - 23ms/epoch - 979us/step\n",
      "Epoch 45/100\n",
      "23/23 - 0s - loss: 22.9494 - val_loss: 126.6701 - 24ms/epoch - 1ms/step\n",
      "Epoch 46/100\n",
      "23/23 - 0s - loss: 22.3435 - val_loss: 125.1673 - 26ms/epoch - 1ms/step\n",
      "Epoch 47/100\n",
      "23/23 - 0s - loss: 22.5356 - val_loss: 117.8444 - 24ms/epoch - 1ms/step\n",
      "Epoch 48/100\n",
      "23/23 - 0s - loss: 22.5475 - val_loss: 125.6289 - 27ms/epoch - 1ms/step\n",
      "Epoch 49/100\n",
      "23/23 - 0s - loss: 22.4095 - val_loss: 119.4025 - 25ms/epoch - 1ms/step\n",
      "Epoch 50/100\n",
      "23/23 - 0s - loss: 21.9886 - val_loss: 116.1433 - 24ms/epoch - 1ms/step\n",
      "Epoch 51/100\n",
      "23/23 - 0s - loss: 22.2659 - val_loss: 118.9938 - 24ms/epoch - 1ms/step\n",
      "Epoch 52/100\n",
      "23/23 - 0s - loss: 21.6919 - val_loss: 115.9792 - 23ms/epoch - 1ms/step\n",
      "Epoch 53/100\n",
      "23/23 - 0s - loss: 21.8192 - val_loss: 122.7272 - 25ms/epoch - 1ms/step\n",
      "Epoch 54/100\n",
      "23/23 - 0s - loss: 21.3262 - val_loss: 121.0751 - 24ms/epoch - 1ms/step\n",
      "Epoch 55/100\n",
      "23/23 - 0s - loss: 21.2114 - val_loss: 120.3743 - 24ms/epoch - 1ms/step\n",
      "Epoch 56/100\n",
      "23/23 - 0s - loss: 21.5796 - val_loss: 128.0463 - 23ms/epoch - 979us/step\n",
      "Epoch 57/100\n",
      "23/23 - 0s - loss: 21.8074 - val_loss: 115.0479 - 23ms/epoch - 1ms/step\n",
      "Epoch 58/100\n",
      "23/23 - 0s - loss: 21.0865 - val_loss: 117.4035 - 23ms/epoch - 1ms/step\n",
      "Epoch 59/100\n",
      "23/23 - 0s - loss: 21.0858 - val_loss: 126.1640 - 23ms/epoch - 1000us/step\n",
      "Epoch 60/100\n",
      "23/23 - 0s - loss: 21.2955 - val_loss: 123.9037 - 24ms/epoch - 1ms/step\n",
      "Epoch 61/100\n",
      "23/23 - 0s - loss: 20.8821 - val_loss: 119.1284 - 23ms/epoch - 1ms/step\n",
      "Epoch 62/100\n",
      "23/23 - 0s - loss: 20.6926 - val_loss: 112.5851 - 23ms/epoch - 1ms/step\n",
      "Epoch 63/100\n",
      "23/23 - 0s - loss: 20.8352 - val_loss: 120.4280 - 24ms/epoch - 1ms/step\n",
      "Epoch 64/100\n",
      "23/23 - 0s - loss: 20.5563 - val_loss: 119.4352 - 25ms/epoch - 1ms/step\n",
      "Epoch 65/100\n",
      "23/23 - 0s - loss: 20.3914 - val_loss: 114.1889 - 23ms/epoch - 1000us/step\n",
      "Epoch 66/100\n",
      "23/23 - 0s - loss: 20.1833 - val_loss: 114.0391 - 24ms/epoch - 1ms/step\n",
      "Epoch 67/100\n",
      "23/23 - 0s - loss: 20.2544 - val_loss: 123.5825 - 25ms/epoch - 1ms/step\n",
      "Epoch 68/100\n",
      "23/23 - 0s - loss: 20.0516 - val_loss: 122.8079 - 24ms/epoch - 1ms/step\n",
      "Epoch 69/100\n",
      "23/23 - 0s - loss: 19.6744 - val_loss: 112.1522 - 24ms/epoch - 1ms/step\n",
      "Epoch 70/100\n",
      "23/23 - 0s - loss: 19.4508 - val_loss: 129.2650 - 23ms/epoch - 1ms/step\n",
      "Epoch 71/100\n",
      "23/23 - 0s - loss: 20.3469 - val_loss: 107.2357 - 32ms/epoch - 1ms/step\n",
      "Epoch 72/100\n",
      "23/23 - 0s - loss: 19.2943 - val_loss: 104.6036 - 24ms/epoch - 1ms/step\n",
      "Epoch 73/100\n",
      "23/23 - 0s - loss: 20.2237 - val_loss: 105.2637 - 23ms/epoch - 1000us/step\n",
      "Epoch 74/100\n",
      "23/23 - 0s - loss: 20.0276 - val_loss: 101.5950 - 23ms/epoch - 1ms/step\n",
      "Epoch 75/100\n",
      "23/23 - 0s - loss: 19.5633 - val_loss: 107.7219 - 23ms/epoch - 1ms/step\n",
      "Epoch 76/100\n",
      "23/23 - 0s - loss: 19.2628 - val_loss: 112.2096 - 23ms/epoch - 979us/step\n",
      "Epoch 77/100\n",
      "23/23 - 0s - loss: 19.0229 - val_loss: 107.6375 - 23ms/epoch - 1ms/step\n",
      "Epoch 78/100\n",
      "23/23 - 0s - loss: 18.6293 - val_loss: 111.8403 - 23ms/epoch - 982us/step\n",
      "Epoch 79/100\n",
      "23/23 - 0s - loss: 18.8314 - val_loss: 114.9209 - 24ms/epoch - 1ms/step\n",
      "Epoch 80/100\n",
      "23/23 - 0s - loss: 18.8855 - val_loss: 113.5930 - 24ms/epoch - 1ms/step\n",
      "Epoch 81/100\n",
      "23/23 - 0s - loss: 18.9074 - val_loss: 125.1659 - 23ms/epoch - 1000us/step\n",
      "Epoch 82/100\n",
      "23/23 - 0s - loss: 18.4547 - val_loss: 111.3580 - 22ms/epoch - 956us/step\n",
      "Epoch 83/100\n",
      "23/23 - 0s - loss: 18.5968 - val_loss: 104.6714 - 23ms/epoch - 1ms/step\n",
      "Epoch 84/100\n",
      "23/23 - 0s - loss: 18.4847 - val_loss: 109.6411 - 25ms/epoch - 1ms/step\n",
      "Epoch 85/100\n",
      "23/23 - 0s - loss: 18.3262 - val_loss: 104.0290 - 25ms/epoch - 1ms/step\n",
      "Epoch 86/100\n",
      "23/23 - 0s - loss: 18.2439 - val_loss: 113.8330 - 25ms/epoch - 1ms/step\n",
      "Epoch 87/100\n",
      "23/23 - 0s - loss: 18.5139 - val_loss: 102.3087 - 24ms/epoch - 1ms/step\n",
      "Epoch 88/100\n",
      "23/23 - 0s - loss: 17.9701 - val_loss: 113.7185 - 23ms/epoch - 1ms/step\n",
      "Epoch 89/100\n",
      "23/23 - 0s - loss: 17.7658 - val_loss: 108.4819 - 25ms/epoch - 1ms/step\n",
      "Epoch 90/100\n",
      "23/23 - 0s - loss: 17.9819 - val_loss: 111.7220 - 23ms/epoch - 1ms/step\n",
      "Epoch 91/100\n",
      "23/23 - 0s - loss: 17.7078 - val_loss: 106.9758 - 24ms/epoch - 1ms/step\n",
      "Epoch 92/100\n",
      "23/23 - 0s - loss: 17.3652 - val_loss: 107.7642 - 25ms/epoch - 1ms/step\n",
      "Epoch 93/100\n",
      "23/23 - 0s - loss: 17.5765 - val_loss: 103.7771 - 24ms/epoch - 1ms/step\n",
      "Epoch 94/100\n",
      "23/23 - 0s - loss: 17.6205 - val_loss: 100.9493 - 23ms/epoch - 1ms/step\n",
      "Epoch 95/100\n",
      "23/23 - 0s - loss: 17.6661 - val_loss: 104.0464 - 23ms/epoch - 1ms/step\n",
      "Epoch 96/100\n",
      "23/23 - 0s - loss: 17.3341 - val_loss: 109.5083 - 23ms/epoch - 1ms/step\n",
      "Epoch 97/100\n",
      "23/23 - 0s - loss: 17.1863 - val_loss: 113.7931 - 23ms/epoch - 1ms/step\n",
      "Epoch 98/100\n",
      "23/23 - 0s - loss: 17.2041 - val_loss: 100.8976 - 24ms/epoch - 1ms/step\n",
      "Epoch 99/100\n",
      "23/23 - 0s - loss: 17.1573 - val_loss: 102.1050 - 25ms/epoch - 1ms/step\n",
      "Epoch 100/100\n",
      "23/23 - 0s - loss: 17.5947 - val_loss: 107.6335 - 23ms/epoch - 1ms/step\n"
     ]
    },
    {
     "data": {
      "text/plain": [
       "<keras.src.callbacks.History at 0x193645aaee0>"
      ]
     },
     "execution_count": 60,
     "metadata": {},
     "output_type": "execute_result"
    }
   ],
   "source": [
    "# Fit the model with NumPy arrays\n",
    "model.fit(predictors_norm_np, target_np, validation_split=0.3, epochs=100, verbose=2)\n",
    "# model.fit(predictors_norm, target, validation_split=0.3, epochs=100, verbose=2)"
   ]
  },
  {
   "cell_type": "markdown",
   "id": "58f10617-7d97-4990-94de-ed7dc670c578",
   "metadata": {},
   "source": [
    "# 3.6 Predicting house prices: a regression example"
   ]
  },
  {
   "cell_type": "markdown",
   "id": "1fd9bc55-053f-4062-96c2-778afc76576d",
   "metadata": {},
   "source": [
    "### 3.6.1 The Boston Housing Price dataset"
   ]
  },
  {
   "cell_type": "markdown",
   "id": "55473973-6ba4-481e-9cfd-72bb88cf3664",
   "metadata": {},
   "source": [
    "* predict the median price of homes in a given Boston suburb in the mid-1970s, given data points about the suburb at the time, such as the crime rate, the local property tax rate, and so on.\n",
    "* It has relatively few data points: only 506, split between 404 training samples and 102 test samples."
   ]
  },
  {
   "cell_type": "code",
   "execution_count": 61,
   "id": "f4649530-8c9c-4c79-97b6-06f2ebebba3a",
   "metadata": {},
   "outputs": [],
   "source": [
    "# Loading the Boston housing dataset\n",
    "from keras.datasets import boston_housing\n",
    "(train_data, train_targets), (test_data, test_targets) = boston_housing.load_data()"
   ]
  },
  {
   "cell_type": "code",
   "execution_count": 62,
   "id": "0dbe9ef2-fc4d-41b6-99c9-68f2c3b65260",
   "metadata": {},
   "outputs": [
    {
     "name": "stdout",
     "output_type": "stream",
     "text": [
      "(404, 13)\n",
      "(102, 13)\n"
     ]
    }
   ],
   "source": [
    "print(train_data.shape)\n",
    "print(test_data.shape)\n"
   ]
  },
  {
   "cell_type": "code",
   "execution_count": 63,
   "id": "0c16c287-d2f6-4653-8a37-52aab9a8ebee",
   "metadata": {},
   "outputs": [
    {
     "data": {
      "text/html": [
       "<div>\n",
       "<style scoped>\n",
       "    .dataframe tbody tr th:only-of-type {\n",
       "        vertical-align: middle;\n",
       "    }\n",
       "\n",
       "    .dataframe tbody tr th {\n",
       "        vertical-align: top;\n",
       "    }\n",
       "\n",
       "    .dataframe thead th {\n",
       "        text-align: right;\n",
       "    }\n",
       "</style>\n",
       "<table border=\"1\" class=\"dataframe\">\n",
       "  <thead>\n",
       "    <tr style=\"text-align: right;\">\n",
       "      <th></th>\n",
       "      <th>0</th>\n",
       "      <th>1</th>\n",
       "      <th>2</th>\n",
       "      <th>3</th>\n",
       "      <th>4</th>\n",
       "      <th>5</th>\n",
       "      <th>6</th>\n",
       "      <th>7</th>\n",
       "      <th>8</th>\n",
       "      <th>9</th>\n",
       "      <th>10</th>\n",
       "      <th>11</th>\n",
       "      <th>12</th>\n",
       "    </tr>\n",
       "  </thead>\n",
       "  <tbody>\n",
       "    <tr>\n",
       "      <th>0</th>\n",
       "      <td>1.23247</td>\n",
       "      <td>0.0</td>\n",
       "      <td>8.14</td>\n",
       "      <td>0.0</td>\n",
       "      <td>0.538</td>\n",
       "      <td>6.142</td>\n",
       "      <td>91.7</td>\n",
       "      <td>3.9769</td>\n",
       "      <td>4.0</td>\n",
       "      <td>307.0</td>\n",
       "      <td>21.0</td>\n",
       "      <td>396.90</td>\n",
       "      <td>18.72</td>\n",
       "    </tr>\n",
       "    <tr>\n",
       "      <th>1</th>\n",
       "      <td>0.02177</td>\n",
       "      <td>82.5</td>\n",
       "      <td>2.03</td>\n",
       "      <td>0.0</td>\n",
       "      <td>0.415</td>\n",
       "      <td>7.610</td>\n",
       "      <td>15.7</td>\n",
       "      <td>6.2700</td>\n",
       "      <td>2.0</td>\n",
       "      <td>348.0</td>\n",
       "      <td>14.7</td>\n",
       "      <td>395.38</td>\n",
       "      <td>3.11</td>\n",
       "    </tr>\n",
       "    <tr>\n",
       "      <th>2</th>\n",
       "      <td>4.89822</td>\n",
       "      <td>0.0</td>\n",
       "      <td>18.10</td>\n",
       "      <td>0.0</td>\n",
       "      <td>0.631</td>\n",
       "      <td>4.970</td>\n",
       "      <td>100.0</td>\n",
       "      <td>1.3325</td>\n",
       "      <td>24.0</td>\n",
       "      <td>666.0</td>\n",
       "      <td>20.2</td>\n",
       "      <td>375.52</td>\n",
       "      <td>3.26</td>\n",
       "    </tr>\n",
       "    <tr>\n",
       "      <th>3</th>\n",
       "      <td>0.03961</td>\n",
       "      <td>0.0</td>\n",
       "      <td>5.19</td>\n",
       "      <td>0.0</td>\n",
       "      <td>0.515</td>\n",
       "      <td>6.037</td>\n",
       "      <td>34.5</td>\n",
       "      <td>5.9853</td>\n",
       "      <td>5.0</td>\n",
       "      <td>224.0</td>\n",
       "      <td>20.2</td>\n",
       "      <td>396.90</td>\n",
       "      <td>8.01</td>\n",
       "    </tr>\n",
       "    <tr>\n",
       "      <th>4</th>\n",
       "      <td>3.69311</td>\n",
       "      <td>0.0</td>\n",
       "      <td>18.10</td>\n",
       "      <td>0.0</td>\n",
       "      <td>0.713</td>\n",
       "      <td>6.376</td>\n",
       "      <td>88.4</td>\n",
       "      <td>2.5671</td>\n",
       "      <td>24.0</td>\n",
       "      <td>666.0</td>\n",
       "      <td>20.2</td>\n",
       "      <td>391.43</td>\n",
       "      <td>14.65</td>\n",
       "    </tr>\n",
       "  </tbody>\n",
       "</table>\n",
       "</div>"
      ],
      "text/plain": [
       "        0     1      2    3      4      5      6       7     8      9     10  \\\n",
       "0  1.23247   0.0   8.14  0.0  0.538  6.142   91.7  3.9769   4.0  307.0  21.0   \n",
       "1  0.02177  82.5   2.03  0.0  0.415  7.610   15.7  6.2700   2.0  348.0  14.7   \n",
       "2  4.89822   0.0  18.10  0.0  0.631  4.970  100.0  1.3325  24.0  666.0  20.2   \n",
       "3  0.03961   0.0   5.19  0.0  0.515  6.037   34.5  5.9853   5.0  224.0  20.2   \n",
       "4  3.69311   0.0  18.10  0.0  0.713  6.376   88.4  2.5671  24.0  666.0  20.2   \n",
       "\n",
       "       11     12  \n",
       "0  396.90  18.72  \n",
       "1  395.38   3.11  \n",
       "2  375.52   3.26  \n",
       "3  396.90   8.01  \n",
       "4  391.43  14.65  "
      ]
     },
     "execution_count": 63,
     "metadata": {},
     "output_type": "execute_result"
    }
   ],
   "source": [
    "train_data_df = pd.DataFrame(train_data)\n",
    "train_data_df.head()\n"
   ]
  },
  {
   "cell_type": "markdown",
   "id": "8c43d20f-af5a-480b-9b29-39409b3253e5",
   "metadata": {},
   "source": [
    "### 3.6.2 Preparing the data\n"
   ]
  },
  {
   "cell_type": "markdown",
   "id": "ef31838e-3929-4a93-b75b-bfaff7f4188d",
   "metadata": {},
   "source": [
    "* It would be problematic to feed into a neural network values that all take wildly different ranges.\n",
    "  - do feature-wise normalization"
   ]
  },
  {
   "cell_type": "code",
   "execution_count": 64,
   "id": "08ab9b23-b437-400e-bf49-35102344fb0d",
   "metadata": {},
   "outputs": [],
   "source": [
    "# Normalizing the data\n",
    "mean = train_data.mean(axis=0) \n",
    "# the parameter axis=0 is used to specify that the mean should be calculated column-wise (across the rows for each column) when normalizing the data. \n",
    "train_data -= mean\n",
    "std = train_data.std(axis=0)\n",
    "train_data /= std\n",
    "\n",
    "# Note that the quantities used for normalizing the test data are computed using the training data. \n",
    "# You should never use in your workflow any quantity computed on the test data.\n",
    "test_data -= mean\n",
    "test_data /= std"
   ]
  },
  {
   "cell_type": "markdown",
   "id": "29ca54a2-a4b2-4e76-8aa2-38e031f4414a",
   "metadata": {},
   "source": [
    "### 3.6.3 Building your network"
   ]
  },
  {
   "cell_type": "markdown",
   "id": "6dde7f05-95c7-473d-a4dc-d9360e655101",
   "metadata": {},
   "source": [
    "Because so few samples are available, you’ll use a very small network with two hidden\n",
    "layers, each with 64 units."
   ]
  },
  {
   "cell_type": "code",
   "execution_count": 74,
   "id": "1323b0a8-5e4d-4105-9900-a8a31d81b723",
   "metadata": {},
   "outputs": [],
   "source": [
    "from keras import models\n",
    "from keras import layers\n",
    "def build_model():\n",
    "    model = models.Sequential()\n",
    "    model.add(layers.Dense(64, activation='relu',\n",
    "                           input_shape=(train_data.shape[1],)))\n",
    "    model.add(layers.Dense(64, activation='relu'))\n",
    "    model.add(layers.Dense(1))\n",
    "    \n",
    "    model.compile(optimizer='rmsprop', loss='mse', metrics=['mean_absolute_error']) # Mean absolute error\n",
    "    return model"
   ]
  },
  {
   "cell_type": "markdown",
   "id": "3c87e14a-70f3-4f0d-b96b-fad99007db13",
   "metadata": {},
   "source": [
    "### 3.6.4 Validating your approach using K-fold validation\n",
    "\n"
   ]
  },
  {
   "cell_type": "code",
   "execution_count": 75,
   "id": "3f1a16c6-7c72-4e6e-9a23-c819f606d639",
   "metadata": {},
   "outputs": [
    {
     "name": "stdout",
     "output_type": "stream",
     "text": [
      "404\n",
      "134\n",
      "processing fold # 0\n",
      "processing fold # 1\n",
      "processing fold # 2\n"
     ]
    }
   ],
   "source": [
    "k = 3 # 3-fold CV\n",
    "print(len(train_data)) # 404\n",
    "num_val_samples = len(train_data) // k # integer division (134.6667 -> rounds down to 134)\n",
    "print(num_val_samples)\n",
    "num_epochs = 100\n",
    "all_scores = []\n",
    "\n",
    "for i in range(k):\n",
    "    print('processing fold #', i)\n",
    "    # Prepares the validation data: data from partition #k\n",
    "    val_data = train_data[i * num_val_samples: (i + 1) * num_val_samples]\n",
    "    val_targets = train_targets[i * num_val_samples: (i + 1) * num_val_samples]\n",
    "\n",
    "    # Prepares the training data: data from all other partitions\n",
    "    partial_train_data = np.concatenate([train_data[:i * num_val_samples], train_data[(i + 1) * num_val_samples:]], axis=0)\n",
    "    # When axis=0, the function concatenates arrays vertically (i.e., by stacking rows one after the other). \n",
    "    partial_train_targets = np.concatenate([train_targets[:i * num_val_samples], train_targets[(i + 1) * num_val_samples:]], axis=0)\n",
    "\n",
    "    model = build_model() # already defined in the above cell #128\n",
    "    model.fit(partial_train_data, partial_train_targets,\n",
    "                        epochs=num_epochs, batch_size=1, verbose=0)\n",
    "    # verbose=0 means that no output will be printed during the training process\n",
    "    val_mse, val_mae = model.evaluate(val_data, val_targets, verbose=0)\n",
    "    all_scores.append(val_mae)"
   ]
  },
  {
   "cell_type": "code",
   "execution_count": 76,
   "id": "e2955fa8-babf-4bc8-b2ee-261646588383",
   "metadata": {},
   "outputs": [
    {
     "name": "stdout",
     "output_type": "stream",
     "text": [
      "[2.5093343257904053, 2.8559300899505615, 2.5673611164093018]\n",
      "2.6442085107167563\n"
     ]
    },
    {
     "data": {
      "text/plain": [
       "0.15157241930800977"
      ]
     },
     "execution_count": 76,
     "metadata": {},
     "output_type": "execute_result"
    }
   ],
   "source": [
    "print(all_scores)\n",
    "print(np.mean(all_scores)) \n",
    "np.std(all_scores)"
   ]
  },
  {
   "cell_type": "markdown",
   "id": "63f28040-7157-4434-80f0-0e5b60474c15",
   "metadata": {},
   "source": [
    "##### * In this case, you’re off by abo64 $2,700 on average;  Let’s try training the network a bit longer: 500 epochs\n",
    "* To keep a record of how \n",
    "well the model does at each epoch, you’ll modify the training loop to save the perepoc \r\n",
    "validation score log."
   ]
  },
  {
   "cell_type": "code",
   "execution_count": 88,
   "id": "f1aa6ece-75ff-4c8f-b5ec-03b84b84ade7",
   "metadata": {},
   "outputs": [
    {
     "name": "stdout",
     "output_type": "stream",
     "text": [
      "processing fold # 0\n",
      "processing fold # 1\n",
      "processing fold # 2\n"
     ]
    }
   ],
   "source": [
    "num_epochs = 500\n",
    "all_mae_histories = []\n",
    "\n",
    "for i in range(k):\n",
    "    print('processing fold #', i)\n",
    "    # Prepares the validation data: data from partition #k\n",
    "    val_data = train_data[i * num_val_samples: (i + 1) * num_val_samples]\n",
    "    val_targets = train_targets[i * num_val_samples: (i + 1) * num_val_samples]\n",
    "\n",
    "    # Prepares the training data: data from all other partitions\n",
    "    partial_train_data = np.concatenate([train_data[:i * num_val_samples], train_data[(i + 1) * num_val_samples:]], axis=0)\n",
    "    # When axis=0, the function concatenates arrays vertically (i.e., by stacking rows one after the other). \n",
    "    partial_train_targets = np.concatenate([train_targets[:i * num_val_samples], train_targets[(i + 1) * num_val_samples:]], axis=0)\n",
    "\n",
    "    model = build_model() # already defined in the above cell #128\n",
    "    history = model.fit(partial_train_data, partial_train_targets,\n",
    "                        validation_data=(val_data, val_targets),\n",
    "                        epochs=num_epochs, batch_size=1, verbose=0)\n",
    "    # verbose=0 means that no output will be printed during the training process\n",
    "    mae_history = history.history['val_mean_absolute_error']\n",
    "    all_mae_histories.append(mae_history)"
   ]
  },
  {
   "cell_type": "code",
   "execution_count": 89,
   "id": "16933c10-0725-4c2e-becb-edb37913ecca",
   "metadata": {},
   "outputs": [],
   "source": [
    "# compute the average of the per-epoch MAE scores for all folds.\n",
    "    # When axis=0, the function concatenates arrays vertically (i.e., by stacking rows one after the other). \n",
    "average_mae_history = [np.mean([x[i] for x in all_mae_histories]) for i in range(num_epochs)]"
   ]
  },
  {
   "cell_type": "markdown",
   "id": "9e0991c1-d3cd-4d28-8082-e8880fcb9e0b",
   "metadata": {},
   "source": [
    "* [x[i] for x in all_mae_histories]:\n",
    "  - iterates through the list all_mae_histories (which presumably contains the MAE values for each fold from k-fold cross-validation)\n",
    "  - For each x (which represents a list of MAE values for a fold), it accesses the value at index i (which corresponds to the MAE for the i-th epoch).\n",
    "  - This creates a list of MAE values for the i-th epoch across all folds.\n",
    "\n",
    "* np.mean([...]):\n",
    "  - After collecting all the MAE values for the i-th epoch from the folds, np.mean() calculates the average of those values.\n",
    "  - This gives the average MAE for the i-th epoch across all folds in the k-fold cross-validation process.\n",
    "\n",
    "* for i in range(num_epochs):\n",
    "  - iterates over all epochs\n",
    "  - For each epoch, it calculates the average MAE from the different validation folds.\n",
    " \n",
    "* Example: Assume that k = 3 and 4 epochs\n",
    "  - Assume that the MAE values for each fold across 4 epochs are given as follows:\n",
    "  - Fold 1:\n",
    "    - Epoch 1: .5; Epoch 2: .4; Epoch 3: .35; Epoch 4: .3\n",
    "  - Fold 2:\n",
    "    - Epoch 1: .55; Epoch 2: .45; Epoch 3: .4; Epoch 4: .35\n",
    "  - Fold 3:\n",
    "    - Epoch 1: .6; Epoch 2: .5; Epoch 3: .45; Epoch 4: .4\n",
    "   \n",
    "  - Now we can calculate the mean MAE for each epoch i."
   ]
  },
  {
   "cell_type": "code",
   "execution_count": 94,
   "id": "3aee9a5f-dab0-47ef-86bc-d3b3df1c75b8",
   "metadata": {},
   "outputs": [
    {
     "data": {
      "image/png": "[encoded data removed]",
      "text/plain": [
       "<Figure size 640x480 with 1 Axes>"
      ]
     },
     "metadata": {},
     "output_type": "display_data"
    }
   ],
   "source": [
    "import matplotlib.pyplot as plt\n",
    "\n",
    "plt.plot(range(1, len(average_mae_history) + 1), average_mae_history)\n",
    "plt.xlabel('Epochs')\n",
    "plt.ylabel('Validation MAE')\n",
    "plt.show()"
   ]
  },
  {
   "cell_type": "markdown",
   "id": "a4e9d2fb-1e96-4156-b6f2-bd0751855bab",
   "metadata": {},
   "source": [
    "It may be a little difficult to see the plot, due to scaling issues and relatively high variance.\r\n",
    "Let’s do the followin:\n",
    "* Omit the first 10 data points, which are on a different scale than the rest of the curve.\n",
    "* Replace each point with an exponential moving average of the previous points, \n",
    "to obtain a smooth curve.g"
   ]
  },
  {
   "cell_type": "code",
   "execution_count": 95,
   "id": "fd03c18c-1135-4c70-86b2-001ea4eef565",
   "metadata": {},
   "outputs": [],
   "source": [
    "def smooth_curve(points, factor=0.9): # points: a list or array of data points that you want to smooth\n",
    "    # factor: smoothing factor to the previous smoothed value\n",
    "    smoothed_points = [] # initialization\n",
    "    for point in points: # iterates over each point in the points list.\n",
    "        if smoothed_points: # checks whether smoothed_points already contains any values.\n",
    "            # if it does\n",
    "            previous = smoothed_points[-1] # retrieves the last smoothed value\n",
    "            smoothed_points.append(previous * factor + point * (1 - factor)) # 90% weight to the previous value\n",
    "        else: # If not (i.e., the list is empty), it simply appends the first point.\n",
    "            smoothed_points.append(point)\n",
    "    return smoothed_points"
   ]
  },
  {
   "cell_type": "code",
   "execution_count": 96,
   "id": "683ef796-6b9f-4aa6-ae31-c9a2185a5d5b",
   "metadata": {},
   "outputs": [],
   "source": [
    "smooth_mae_history = smooth_curve(average_mae_history[10:])"
   ]
  },
  {
   "cell_type": "code",
   "execution_count": 97,
   "id": "4fe6b2fb-1e7f-4112-afc7-db3cfa5444a5",
   "metadata": {},
   "outputs": [
    {
     "data": {
      "image/png": "[encoded data removed]",
      "text/plain": [
       "<Figure size 640x480 with 1 Axes>"
      ]
     },
     "metadata": {},
     "output_type": "display_data"
    }
   ],
   "source": [
    "plt.plot(range(1, len(smooth_mae_history) + 1), smooth_mae_history)\n",
    "plt.xlabel('Epochs')\n",
    "plt.ylabel('Validation MAE')\n",
    "plt.show()"
   ]
  },
  {
   "cell_type": "markdown",
   "id": "3fcda148-e25b-4612-8a7f-1777b5546272",
   "metadata": {},
   "source": [
    "According to this plot, validation MAE stops improving significantly after 80 epochs. Past that point, you start overfitting."
   ]
  },
  {
   "cell_type": "code",
   "execution_count": 98,
   "id": "b8978795-984e-42a4-ab39-298db50dc925",
   "metadata": {},
   "outputs": [
    {
     "name": "stdout",
     "output_type": "stream",
     "text": [
      "4/4 [==============================] - 0s 1ms/step - loss: 18.0206 - mean_absolute_error: 2.6586\n",
      "2.6585853099823\n"
     ]
    }
   ],
   "source": [
    "# Training the final model\n",
    "model = build_model()\n",
    "\n",
    "model.fit(train_data, train_targets,\n",
    "          epochs=80, batch_size=16, verbose=0)\n",
    "test_mse_score, test_mae_score = model.evaluate(test_data, test_targets)\n",
    "print(test_mae_score)"
   ]
  },
  {
   "cell_type": "markdown",
   "id": "ed8bfcc8-b82a-4891-a92e-429435979738",
   "metadata": {},
   "source": [
    "You’re still off by about $2660."
   ]
  },
  {
   "cell_type": "markdown",
   "id": "41cb44d4-3d86-4202-94f8-72e97bb74f62",
   "metadata": {},
   "source": [
    "### 4.4.2 Adding weight regularizaiton"
   ]
  },
  {
   "cell_type": "markdown",
   "id": "a5ec0abc-5652-4cc8-88fb-1c1d34226625",
   "metadata": {},
   "source": [
    "To demonstrate how to add regularization to a Feedforward Neural Network (FNN) using a real dataset, let's use the Diabetes dataset from `sklearn.datasets` to demonstrate how to apply Elastic Net regularization to a Feedforward Neural Network (FNN)."
   ]
  },
  {
   "cell_type": "code",
   "execution_count": 152,
   "id": "c570c2b5-fbef-43ae-a13a-27f443c23992",
   "metadata": {},
   "outputs": [
    {
     "name": "stdout",
     "output_type": "stream",
     "text": [
      "dict_keys(['data', 'target', 'frame', 'DESCR', 'feature_names', 'data_filename', 'target_filename', 'data_module'])\n",
      "(442, 10)\n",
      "(442,)\n"
     ]
    }
   ],
   "source": [
    "from sklearn.datasets import load_diabetes\n",
    "\n",
    "# Load the diabetes dataset\n",
    "data = load_diabetes()\n",
    "\n",
    "print(data.keys()) # to inspect the Bunch object data using keys()\n",
    "\n",
    "X = data.data\n",
    "y = data.target\n",
    "\n",
    "print(X.shape)\n",
    "print(y.shape)"
   ]
  },
  {
   "cell_type": "code",
   "execution_count": 108,
   "id": "42379271-728f-402e-a5a5-1246e3d0b1c0",
   "metadata": {},
   "outputs": [],
   "source": [
    "# Split into training and test sets\n",
    "from sklearn.model_selection import train_test_split\n",
    "\n",
    "X_train, X_test, y_train, y_test = train_test_split(X, y, test_size=0.2, random_state=42) # random_state can be considered as random seed"
   ]
  },
  {
   "cell_type": "code",
   "execution_count": 109,
   "id": "55c8c543-7785-4212-84de-e1ad33dd17e8",
   "metadata": {},
   "outputs": [],
   "source": [
    "# Normalize the data\n",
    "from sklearn.preprocessing import StandardScaler\n",
    "\n",
    "scaler = StandardScaler()\n",
    "X_train = scaler.fit_transform(X_train)\n",
    "X_test = scaler.transform(X_test)"
   ]
  },
  {
   "cell_type": "markdown",
   "id": "60f2e27d-0385-475a-a8b9-0dca4b69e3a8",
   "metadata": {},
   "source": [
    "We'll apply Elastic Net regularization using the `l1_l2` regularizer, which allows us to combine L1 and L2 penalties.\n",
    "\n",
    "    * L1 (Lasso) regularization encourages sparsity (many weights become zero)\n",
    "    * L2 (Ridge) regularization reduces the magnitude of all weights."
   ]
  },
  {
   "cell_type": "code",
   "execution_count": 112,
   "id": "4366fa83-4216-476d-9d4c-6e66661e4ce1",
   "metadata": {},
   "outputs": [],
   "source": [
    "from tensorflow.keras.regularizers import l1_l2\n",
    "\n",
    "def build_model_with_elastic_net():\n",
    "    model = keras.Sequential([\n",
    "        layers.Dense(64, activation='relu', input_shape=(X_train.shape[1],),\n",
    "                     kernel_regularizer=l1_l2(l1=0.001, l2=0.001)),  # Elastic Net regularization\n",
    "        layers.Dense(64, activation='relu', kernel_regularizer=l1_l2(l1=0.001, l2=0.001)),\n",
    "        layers.Dense(1, activation='linear')  # Output layer for regression (predicting a continuous target)\n",
    "    ])\n",
    "    \n",
    "    model.compile(optimizer='adam',\n",
    "                  loss='mean_squared_error',  # Regression loss\n",
    "                  metrics=['mean_absolute_error'])\n",
    "    return model\n",
    "\n",
    "# Build the model\n",
    "model = build_model_with_elastic_net()"
   ]
  },
  {
   "cell_type": "markdown",
   "id": "952d6e37-cfd2-4aa7-8d0a-4e8c4b42ae03",
   "metadata": {},
   "source": [
    "* The values 0.001 for both L1 and L2 regularization are small, indicating a mild regularization effect. These values are often used as starting points when experimenting with regularization because:\n",
    "\n",
    "    * They provide a balance between model complexity and regularization.\n",
    "      \n",
    "    * They allow the model to train without being too constrained (over-regularized) but still prevent overfitting by penalizing large weights and unnecessary complexity.\n",
    "\n",
    "      \n",
    "* These values (0.001) are chosen as a default or starting point. In practice, you may want to experiment with different regularization strengths (e.g., 0.01, 0.1, etc.) to find the best values for your dataset. A larger value would apply a stronger regularization effect, potentially improving performance for models prone to overfitting.\n",
    "ty."
   ]
  },
  {
   "cell_type": "code",
   "execution_count": 113,
   "id": "67689eaf-b0bd-497a-8848-1ae252a89058",
   "metadata": {},
   "outputs": [
    {
     "name": "stdout",
     "output_type": "stream",
     "text": [
      "Epoch 1/50\n",
      "9/9 - 0s - loss: 31401.8965 - mean_absolute_error: 158.2782 - val_loss: 22281.8926 - val_mean_absolute_error: 133.3577 - 384ms/epoch - 43ms/step\n",
      "Epoch 2/50\n",
      "9/9 - 0s - loss: 31144.4961 - mean_absolute_error: 157.4892 - val_loss: 22068.2949 - val_mean_absolute_error: 132.5879 - 22ms/epoch - 2ms/step\n",
      "Epoch 3/50\n",
      "9/9 - 0s - loss: 30838.7480 - mean_absolute_error: 156.5593 - val_loss: 21807.4785 - val_mean_absolute_error: 131.6435 - 23ms/epoch - 3ms/step\n",
      "Epoch 4/50\n",
      "9/9 - 0s - loss: 30442.9043 - mean_absolute_error: 155.3629 - val_loss: 21463.9746 - val_mean_absolute_error: 130.4016 - 20ms/epoch - 2ms/step\n",
      "Epoch 5/50\n",
      "9/9 - 0s - loss: 29918.6348 - mean_absolute_error: 153.7458 - val_loss: 21007.1523 - val_mean_absolute_error: 128.7611 - 22ms/epoch - 2ms/step\n",
      "Epoch 6/50\n",
      "9/9 - 0s - loss: 29198.2656 - mean_absolute_error: 151.5744 - val_loss: 20412.3340 - val_mean_absolute_error: 126.6229 - 21ms/epoch - 2ms/step\n",
      "Epoch 7/50\n",
      "9/9 - 0s - loss: 28226.6270 - mean_absolute_error: 148.6840 - val_loss: 19668.1504 - val_mean_absolute_error: 123.9258 - 19ms/epoch - 2ms/step\n",
      "Epoch 8/50\n",
      "9/9 - 0s - loss: 27006.4668 - mean_absolute_error: 145.0002 - val_loss: 18740.7285 - val_mean_absolute_error: 120.5102 - 21ms/epoch - 2ms/step\n",
      "Epoch 9/50\n",
      "9/9 - 0s - loss: 25491.0078 - mean_absolute_error: 140.3009 - val_loss: 17622.8867 - val_mean_absolute_error: 116.3220 - 20ms/epoch - 2ms/step\n",
      "Epoch 10/50\n",
      "9/9 - 0s - loss: 23692.4258 - mean_absolute_error: 134.4832 - val_loss: 16303.0967 - val_mean_absolute_error: 111.2077 - 22ms/epoch - 2ms/step\n",
      "Epoch 11/50\n",
      "9/9 - 0s - loss: 21448.9961 - mean_absolute_error: 127.1413 - val_loss: 14838.9951 - val_mean_absolute_error: 105.2359 - 22ms/epoch - 2ms/step\n",
      "Epoch 12/50\n",
      "9/9 - 0s - loss: 19164.9336 - mean_absolute_error: 118.9585 - val_loss: 13210.6660 - val_mean_absolute_error: 98.1638 - 21ms/epoch - 2ms/step\n",
      "Epoch 13/50\n",
      "9/9 - 0s - loss: 16584.2148 - mean_absolute_error: 109.3313 - val_loss: 11528.7285 - val_mean_absolute_error: 90.1379 - 21ms/epoch - 2ms/step\n",
      "Epoch 14/50\n",
      "9/9 - 0s - loss: 13958.6260 - mean_absolute_error: 98.6131 - val_loss: 9889.2920 - val_mean_absolute_error: 81.3176 - 19ms/epoch - 2ms/step\n",
      "Epoch 15/50\n",
      "9/9 - 0s - loss: 11664.6582 - mean_absolute_error: 87.7509 - val_loss: 8342.0576 - val_mean_absolute_error: 72.3475 - 20ms/epoch - 2ms/step\n",
      "Epoch 16/50\n",
      "9/9 - 0s - loss: 9610.2148 - mean_absolute_error: 77.7365 - val_loss: 7052.4932 - val_mean_absolute_error: 64.2672 - 18ms/epoch - 2ms/step\n",
      "Epoch 17/50\n",
      "9/9 - 0s - loss: 8069.8999 - mean_absolute_error: 70.2701 - val_loss: 6039.3945 - val_mean_absolute_error: 58.2147 - 18ms/epoch - 2ms/step\n",
      "Epoch 18/50\n",
      "9/9 - 0s - loss: 6958.6851 - mean_absolute_error: 64.7627 - val_loss: 5348.1655 - val_mean_absolute_error: 53.9436 - 19ms/epoch - 2ms/step\n",
      "Epoch 19/50\n",
      "9/9 - 0s - loss: 6345.2261 - mean_absolute_error: 61.2544 - val_loss: 4830.4219 - val_mean_absolute_error: 51.0256 - 19ms/epoch - 2ms/step\n",
      "Epoch 20/50\n",
      "9/9 - 0s - loss: 5855.4180 - mean_absolute_error: 58.8291 - val_loss: 4501.9658 - val_mean_absolute_error: 49.5817 - 20ms/epoch - 2ms/step\n",
      "Epoch 21/50\n",
      "9/9 - 0s - loss: 5543.9824 - mean_absolute_error: 57.6898 - val_loss: 4262.7134 - val_mean_absolute_error: 48.7008 - 18ms/epoch - 2ms/step\n",
      "Epoch 22/50\n",
      "9/9 - 0s - loss: 5305.9326 - mean_absolute_error: 56.6942 - val_loss: 4092.6284 - val_mean_absolute_error: 47.9147 - 19ms/epoch - 2ms/step\n",
      "Epoch 23/50\n",
      "9/9 - 0s - loss: 5102.7217 - mean_absolute_error: 55.8714 - val_loss: 3971.9983 - val_mean_absolute_error: 47.2345 - 20ms/epoch - 2ms/step\n",
      "Epoch 24/50\n",
      "9/9 - 0s - loss: 4930.2671 - mean_absolute_error: 55.2741 - val_loss: 3882.3135 - val_mean_absolute_error: 46.6887 - 20ms/epoch - 2ms/step\n",
      "Epoch 25/50\n",
      "9/9 - 0s - loss: 4798.2251 - mean_absolute_error: 54.6204 - val_loss: 3784.1216 - val_mean_absolute_error: 46.1042 - 22ms/epoch - 2ms/step\n",
      "Epoch 26/50\n",
      "9/9 - 0s - loss: 4677.1660 - mean_absolute_error: 54.0004 - val_loss: 3713.2424 - val_mean_absolute_error: 45.5639 - 20ms/epoch - 2ms/step\n",
      "Epoch 27/50\n",
      "9/9 - 0s - loss: 4572.8916 - mean_absolute_error: 53.4278 - val_loss: 3625.7786 - val_mean_absolute_error: 45.0508 - 22ms/epoch - 2ms/step\n",
      "Epoch 28/50\n",
      "9/9 - 0s - loss: 4461.8081 - mean_absolute_error: 52.7268 - val_loss: 3568.1567 - val_mean_absolute_error: 44.6132 - 23ms/epoch - 3ms/step\n",
      "Epoch 29/50\n",
      "9/9 - 0s - loss: 4369.9683 - mean_absolute_error: 52.1163 - val_loss: 3505.1541 - val_mean_absolute_error: 44.1811 - 21ms/epoch - 2ms/step\n",
      "Epoch 30/50\n",
      "9/9 - 0s - loss: 4282.9966 - mean_absolute_error: 51.4957 - val_loss: 3457.2642 - val_mean_absolute_error: 43.7531 - 22ms/epoch - 2ms/step\n",
      "Epoch 31/50\n",
      "9/9 - 0s - loss: 4219.0142 - mean_absolute_error: 51.0247 - val_loss: 3397.3516 - val_mean_absolute_error: 43.3183 - 23ms/epoch - 3ms/step\n",
      "Epoch 32/50\n",
      "9/9 - 0s - loss: 4132.4014 - mean_absolute_error: 50.4681 - val_loss: 3354.6636 - val_mean_absolute_error: 43.0089 - 22ms/epoch - 2ms/step\n",
      "Epoch 33/50\n",
      "9/9 - 0s - loss: 4061.8984 - mean_absolute_error: 50.0302 - val_loss: 3301.3811 - val_mean_absolute_error: 42.8203 - 23ms/epoch - 3ms/step\n",
      "Epoch 34/50\n",
      "9/9 - 0s - loss: 4006.0044 - mean_absolute_error: 49.7095 - val_loss: 3249.3545 - val_mean_absolute_error: 42.6481 - 21ms/epoch - 2ms/step\n",
      "Epoch 35/50\n",
      "9/9 - 0s - loss: 3936.7043 - mean_absolute_error: 49.2916 - val_loss: 3223.4114 - val_mean_absolute_error: 42.4696 - 20ms/epoch - 2ms/step\n",
      "Epoch 36/50\n",
      "9/9 - 0s - loss: 3883.9531 - mean_absolute_error: 48.9797 - val_loss: 3174.3740 - val_mean_absolute_error: 42.2904 - 23ms/epoch - 3ms/step\n",
      "Epoch 37/50\n",
      "9/9 - 0s - loss: 3826.9185 - mean_absolute_error: 48.6769 - val_loss: 3148.5010 - val_mean_absolute_error: 42.1468 - 24ms/epoch - 3ms/step\n",
      "Epoch 38/50\n",
      "9/9 - 0s - loss: 3769.2598 - mean_absolute_error: 48.2856 - val_loss: 3115.2205 - val_mean_absolute_error: 42.1072 - 22ms/epoch - 2ms/step\n",
      "Epoch 39/50\n",
      "9/9 - 0s - loss: 3718.9805 - mean_absolute_error: 47.9762 - val_loss: 3085.7837 - val_mean_absolute_error: 41.9760 - 21ms/epoch - 2ms/step\n",
      "Epoch 40/50\n",
      "9/9 - 0s - loss: 3674.0618 - mean_absolute_error: 47.7015 - val_loss: 3053.0740 - val_mean_absolute_error: 41.8507 - 21ms/epoch - 2ms/step\n",
      "Epoch 41/50\n",
      "9/9 - 0s - loss: 3626.7012 - mean_absolute_error: 47.4270 - val_loss: 3031.0454 - val_mean_absolute_error: 41.8484 - 23ms/epoch - 3ms/step\n",
      "Epoch 42/50\n",
      "9/9 - 0s - loss: 3582.3992 - mean_absolute_error: 47.2287 - val_loss: 3010.8169 - val_mean_absolute_error: 41.7753 - 23ms/epoch - 3ms/step\n",
      "Epoch 43/50\n",
      "9/9 - 0s - loss: 3549.1101 - mean_absolute_error: 47.0396 - val_loss: 2990.5171 - val_mean_absolute_error: 41.7826 - 20ms/epoch - 2ms/step\n",
      "Epoch 44/50\n",
      "9/9 - 0s - loss: 3502.1167 - mean_absolute_error: 46.7669 - val_loss: 2979.4409 - val_mean_absolute_error: 41.7650 - 21ms/epoch - 2ms/step\n",
      "Epoch 45/50\n",
      "9/9 - 0s - loss: 3468.0059 - mean_absolute_error: 46.5219 - val_loss: 2965.0837 - val_mean_absolute_error: 41.7622 - 21ms/epoch - 2ms/step\n",
      "Epoch 46/50\n",
      "9/9 - 0s - loss: 3434.0181 - mean_absolute_error: 46.2965 - val_loss: 2937.9380 - val_mean_absolute_error: 41.7659 - 20ms/epoch - 2ms/step\n",
      "Epoch 47/50\n",
      "9/9 - 0s - loss: 3404.3538 - mean_absolute_error: 46.1771 - val_loss: 2916.0342 - val_mean_absolute_error: 41.8007 - 19ms/epoch - 2ms/step\n",
      "Epoch 48/50\n",
      "9/9 - 0s - loss: 3374.6118 - mean_absolute_error: 45.9928 - val_loss: 2908.0364 - val_mean_absolute_error: 41.6792 - 20ms/epoch - 2ms/step\n",
      "Epoch 49/50\n",
      "9/9 - 0s - loss: 3334.6206 - mean_absolute_error: 45.7021 - val_loss: 2891.0754 - val_mean_absolute_error: 41.7106 - 21ms/epoch - 2ms/step\n",
      "Epoch 50/50\n",
      "9/9 - 0s - loss: 3311.3459 - mean_absolute_error: 45.5794 - val_loss: 2874.3291 - val_mean_absolute_error: 41.6171 - 21ms/epoch - 2ms/step\n"
     ]
    }
   ],
   "source": [
    "# Train the model\n",
    "history = model.fit(X_train, y_train, \n",
    "                    epochs=50, \n",
    "                    batch_size=32, \n",
    "                    validation_split=0.2, \n",
    "                    verbose=2)"
   ]
  },
  {
   "cell_type": "code",
   "execution_count": 114,
   "id": "a1f62eb0-b682-47fd-a0b0-a2424debfee3",
   "metadata": {},
   "outputs": [
    {
     "data": {
      "image/png": "[encoded data removed]",
      "text/plain": [
       "<Figure size 640x480 with 1 Axes>"
      ]
     },
     "metadata": {},
     "output_type": "display_data"
    }
   ],
   "source": [
    "# Visualize Training and Validation Loss\n",
    "import matplotlib.pyplot as plt\n",
    "\n",
    "# Plot the training and validation loss\n",
    "plt.plot(history.history['loss'], label='Training Loss')\n",
    "plt.plot(history.history['val_loss'], label='Validation Loss')\n",
    "plt.title('Training and Validation Loss with Elastic Net Regularization')\n",
    "plt.xlabel('Epochs')\n",
    "plt.ylabel('Loss')\n",
    "plt.legend()\n",
    "plt.show()"
   ]
  },
  {
   "cell_type": "code",
   "execution_count": 115,
   "id": "90e41912-b39b-45e7-8a85-8feaaa08dade",
   "metadata": {},
   "outputs": [
    {
     "name": "stdout",
     "output_type": "stream",
     "text": [
      "3/3 [==============================] - 0s 1ms/step - loss: 3393.4097 - mean_absolute_error: 46.9249\n",
      "Test Mean Absolute Error: 46.9249267578125\n"
     ]
    }
   ],
   "source": [
    "# Evaluate the Model on Test Data\n",
    "test_loss, test_mae = model.evaluate(X_test, y_test)\n",
    "print('Test Mean Absolute Error:', test_mae)"
   ]
  },
  {
   "cell_type": "code",
   "execution_count": 116,
   "id": "e1fcfaf8-fadc-455b-8cc5-e0e954ca5a60",
   "metadata": {},
   "outputs": [
    {
     "name": "stdout",
     "output_type": "stream",
     "text": [
      "Epoch 1/30\n",
      "9/9 - 0s - loss: 3279.1060 - mean_absolute_error: 45.3480 - val_loss: 2861.5532 - val_mean_absolute_error: 41.7077 - 33ms/epoch - 4ms/step\n",
      "Epoch 2/30\n",
      "9/9 - 0s - loss: 3251.4263 - mean_absolute_error: 45.1856 - val_loss: 2859.7805 - val_mean_absolute_error: 41.7211 - 20ms/epoch - 2ms/step\n",
      "Epoch 3/30\n",
      "9/9 - 0s - loss: 3223.6353 - mean_absolute_error: 45.0610 - val_loss: 2850.4182 - val_mean_absolute_error: 41.7219 - 19ms/epoch - 2ms/step\n",
      "Epoch 4/30\n",
      "9/9 - 0s - loss: 3204.1145 - mean_absolute_error: 44.9076 - val_loss: 2843.2578 - val_mean_absolute_error: 41.6205 - 21ms/epoch - 2ms/step\n",
      "Epoch 5/30\n",
      "9/9 - 0s - loss: 3178.7778 - mean_absolute_error: 44.7977 - val_loss: 2835.0994 - val_mean_absolute_error: 41.6519 - 20ms/epoch - 2ms/step\n",
      "Epoch 6/30\n",
      "9/9 - 0s - loss: 3158.7554 - mean_absolute_error: 44.6592 - val_loss: 2828.5432 - val_mean_absolute_error: 41.6330 - 20ms/epoch - 2ms/step\n",
      "Epoch 7/30\n",
      "9/9 - 0s - loss: 3138.7793 - mean_absolute_error: 44.5531 - val_loss: 2829.2751 - val_mean_absolute_error: 41.7449 - 20ms/epoch - 2ms/step\n",
      "Epoch 8/30\n",
      "9/9 - 0s - loss: 3115.9385 - mean_absolute_error: 44.3981 - val_loss: 2817.7827 - val_mean_absolute_error: 41.6197 - 20ms/epoch - 2ms/step\n",
      "Epoch 9/30\n",
      "9/9 - 0s - loss: 3095.1367 - mean_absolute_error: 44.2883 - val_loss: 2810.0435 - val_mean_absolute_error: 41.5808 - 19ms/epoch - 2ms/step\n",
      "Epoch 10/30\n",
      "9/9 - 0s - loss: 3081.0657 - mean_absolute_error: 44.2376 - val_loss: 2808.3823 - val_mean_absolute_error: 41.5947 - 20ms/epoch - 2ms/step\n",
      "Epoch 11/30\n",
      "9/9 - 0s - loss: 3062.5332 - mean_absolute_error: 44.1595 - val_loss: 2798.1433 - val_mean_absolute_error: 41.4730 - 19ms/epoch - 2ms/step\n",
      "Epoch 12/30\n",
      "9/9 - 0s - loss: 3045.8123 - mean_absolute_error: 44.0582 - val_loss: 2797.5635 - val_mean_absolute_error: 41.5127 - 18ms/epoch - 2ms/step\n",
      "Epoch 13/30\n",
      "9/9 - 0s - loss: 3027.7051 - mean_absolute_error: 43.9552 - val_loss: 2792.4207 - val_mean_absolute_error: 41.4207 - 19ms/epoch - 2ms/step\n",
      "Epoch 14/30\n",
      "9/9 - 0s - loss: 3013.2280 - mean_absolute_error: 43.8436 - val_loss: 2792.9912 - val_mean_absolute_error: 41.4969 - 20ms/epoch - 2ms/step\n",
      "Epoch 15/30\n",
      "9/9 - 0s - loss: 3004.9248 - mean_absolute_error: 43.7952 - val_loss: 2778.5706 - val_mean_absolute_error: 41.3586 - 19ms/epoch - 2ms/step\n",
      "Epoch 16/30\n",
      "9/9 - 0s - loss: 2989.9893 - mean_absolute_error: 43.7374 - val_loss: 2783.5012 - val_mean_absolute_error: 41.5174 - 18ms/epoch - 2ms/step\n",
      "Epoch 17/30\n",
      "9/9 - 0s - loss: 2970.4939 - mean_absolute_error: 43.5415 - val_loss: 2789.3591 - val_mean_absolute_error: 41.5687 - 19ms/epoch - 2ms/step\n",
      "Epoch 18/30\n",
      "9/9 - 0s - loss: 2957.3584 - mean_absolute_error: 43.4572 - val_loss: 2789.4885 - val_mean_absolute_error: 41.6081 - 19ms/epoch - 2ms/step\n",
      "Epoch 19/30\n",
      "9/9 - 0s - loss: 2946.1436 - mean_absolute_error: 43.3682 - val_loss: 2789.6848 - val_mean_absolute_error: 41.6387 - 19ms/epoch - 2ms/step\n",
      "Epoch 20/30\n",
      "9/9 - 0s - loss: 2929.6311 - mean_absolute_error: 43.2374 - val_loss: 2785.5244 - val_mean_absolute_error: 41.6053 - 19ms/epoch - 2ms/step\n",
      "Epoch 21/30\n",
      "9/9 - 0s - loss: 2916.4539 - mean_absolute_error: 43.1892 - val_loss: 2779.9785 - val_mean_absolute_error: 41.5838 - 18ms/epoch - 2ms/step\n",
      "Epoch 22/30\n",
      "9/9 - 0s - loss: 2914.5916 - mean_absolute_error: 43.1898 - val_loss: 2772.8875 - val_mean_absolute_error: 41.4936 - 19ms/epoch - 2ms/step\n",
      "Epoch 23/30\n",
      "9/9 - 0s - loss: 2897.0176 - mean_absolute_error: 43.0884 - val_loss: 2774.0510 - val_mean_absolute_error: 41.5449 - 19ms/epoch - 2ms/step\n",
      "Epoch 24/30\n",
      "9/9 - 0s - loss: 2886.8430 - mean_absolute_error: 42.9999 - val_loss: 2781.3948 - val_mean_absolute_error: 41.6209 - 21ms/epoch - 2ms/step\n",
      "Epoch 25/30\n",
      "9/9 - 0s - loss: 2875.5759 - mean_absolute_error: 42.9264 - val_loss: 2778.5681 - val_mean_absolute_error: 41.5672 - 19ms/epoch - 2ms/step\n",
      "Epoch 26/30\n",
      "9/9 - 0s - loss: 2868.1013 - mean_absolute_error: 42.8513 - val_loss: 2784.5391 - val_mean_absolute_error: 41.6669 - 21ms/epoch - 2ms/step\n",
      "Epoch 27/30\n",
      "9/9 - 0s - loss: 2859.7524 - mean_absolute_error: 42.7565 - val_loss: 2779.3516 - val_mean_absolute_error: 41.6017 - 19ms/epoch - 2ms/step\n",
      "Epoch 28/30\n",
      "9/9 - 0s - loss: 2847.3284 - mean_absolute_error: 42.6956 - val_loss: 2773.5356 - val_mean_absolute_error: 41.5895 - 20ms/epoch - 2ms/step\n",
      "Epoch 29/30\n",
      "9/9 - 0s - loss: 2839.8933 - mean_absolute_error: 42.6527 - val_loss: 2773.4688 - val_mean_absolute_error: 41.5933 - 20ms/epoch - 2ms/step\n",
      "Epoch 30/30\n",
      "9/9 - 0s - loss: 2828.5339 - mean_absolute_error: 42.5497 - val_loss: 2776.9341 - val_mean_absolute_error: 41.6425 - 20ms/epoch - 2ms/step\n"
     ]
    },
    {
     "data": {
      "text/plain": [
       "<keras.src.callbacks.History at 0x19398076c40>"
      ]
     },
     "execution_count": 116,
     "metadata": {},
     "output_type": "execute_result"
    }
   ],
   "source": [
    "# refit using epochs =30\n",
    "model.fit(X_train, y_train, \n",
    "                    epochs=30, \n",
    "                    batch_size=32, \n",
    "                    validation_split=0.2, \n",
    "                    verbose=2)"
   ]
  },
  {
   "cell_type": "code",
   "execution_count": 117,
   "id": "7117909b-840e-44b2-afd1-7a52ae77942e",
   "metadata": {},
   "outputs": [
    {
     "name": "stdout",
     "output_type": "stream",
     "text": [
      "3/3 [==============================] - 0s 1ms/step - loss: 2987.8582 - mean_absolute_error: 43.5192\n",
      "Test Mean Absolute Error: 43.51915740966797\n"
     ]
    }
   ],
   "source": [
    "test_loss, test_mae = model.evaluate(X_test, y_test)\n",
    "print('Test Mean Absolute Error:', test_mae)"
   ]
  },
  {
   "cell_type": "markdown",
   "id": "a25dafa7-d8d3-4700-bb6a-5259df36c78c",
   "metadata": {},
   "source": [
    "### 4.4.3 Adding dropout"
   ]
  },
  {
   "cell_type": "markdown",
   "id": "6966d4d3-48e8-44c1-b29a-1475f501cdb9",
   "metadata": {},
   "source": [
    "* Dropout is one of the most effective and most commonly used regularization techniques for neural networks.\n",
    "\n",
    "* Dropout, applied to a layer, consists of randomly dropping out \n",
    "(setting to zero) a number of output features of the layer during training.\n",
    "* The dropout rate is the fraction \n",
    "of the features that are zeroed out; it’s usually set between 0.2 and 0.5\n",
    "\n",
    "* At test time, no \n",
    "units are dropped out; instead, the layer’s output values are scaled down by a facto \r\n",
    "equal to the dropout ra.e,.\n"
   ]
  },
  {
   "cell_type": "code",
   "execution_count": 151,
   "id": "afe9cb64-9b2d-4df2-b70a-00e6a748b504",
   "metadata": {},
   "outputs": [
    {
     "name": "stdout",
     "output_type": "stream",
     "text": [
      "(150, 4)\n",
      "(150,)\n"
     ]
    }
   ],
   "source": [
    "# Load the Iris dataset\n",
    "from sklearn.datasets import load_iris\n",
    "\n",
    "data = load_iris()\n",
    "X = data.data  # Features\n",
    "y = data.target  # Target (class labels)\n",
    "\n",
    "print(X.shape)\n",
    "print(y.shape)"
   ]
  },
  {
   "cell_type": "code",
   "execution_count": 127,
   "id": "e7776148-1720-45c5-b2da-5ddd089f2864",
   "metadata": {},
   "outputs": [],
   "source": [
    "# One-hot encode the target\n",
    "from sklearn.preprocessing import OneHotEncoder\n",
    "\n",
    "encoder = OneHotEncoder(sparse_output=False) # initializes a OneHotEncoder object from the sklearn.preprocessing module.\n",
    "y = encoder.fit_transform(y.reshape(-1, 1)) \n",
    "# This reshapes the target array y from a 1D array into a 2D column vector because OneHotEncoder expects a 2D input. \n",
    "# The -1 means that the number of rows will be inferred based on the data length.\n"
   ]
  },
  {
   "cell_type": "markdown",
   "id": "b54b16d0-5b56-4951-9f91-99a14d1993f0",
   "metadata": {},
   "source": [
    "* OneHotEncoder: This is a class used to convert categorical labels (in this case, class labels) into a format that can be fed into machine learning models. Specifically, it transforms a single categorical label into a binary vector (one-hot encoded format) where each class is represented by a vector with one 1 and the rest 0."
   ]
  },
  {
   "cell_type": "code",
   "execution_count": 128,
   "id": "19edc56a-429d-4387-b3e8-6c07fed1c8f9",
   "metadata": {},
   "outputs": [],
   "source": [
    "# Split into training and test sets\n",
    "from sklearn.model_selection import train_test_split\n",
    "\n",
    "X_train, X_test, y_train, y_test = train_test_split(X, y, test_size=0.2, random_state=42)\n"
   ]
  },
  {
   "cell_type": "code",
   "execution_count": 129,
   "id": "b9158ae0-9edf-4ec9-b08d-206d9704a69b",
   "metadata": {},
   "outputs": [],
   "source": [
    "# Standardize the data (important for neural networks)\n",
    "from sklearn.preprocessing import StandardScaler\n",
    "\n",
    "scaler = StandardScaler()\n",
    "X_train = scaler.fit_transform(X_train)\n",
    "X_test = scaler.transform(X_test)"
   ]
  },
  {
   "cell_type": "code",
   "execution_count": 130,
   "id": "c7fcacc6-8441-4475-a4ca-7e244ad755da",
   "metadata": {},
   "outputs": [],
   "source": [
    "# Build a Neural Network with Dropout and Elastic Net Regularization\n",
    "def build_classification_model_with_regularization():\n",
    "    model = keras.Sequential([\n",
    "        # First hidden layer with Elastic Net (L1 + L2) and ReLU activation\n",
    "        layers.Dense(64, activation='relu', input_shape=(X_train.shape[1],),\n",
    "                     kernel_regularizer=l1_l2(l1=0.001, l2=0.001)),\n",
    "        # Add Dropout layer with 20% dropout rate\n",
    "        layers.Dropout(0.3),\n",
    "        \n",
    "        # Second hidden layer with Elastic Net (L1 + L2) and ReLU activation\n",
    "        layers.Dense(64, activation='relu', kernel_regularizer=l1_l2(l1=0.001, l2=0.001)),\n",
    "        # Add another Dropout layer with 30% dropout rate\n",
    "        layers.Dropout(0.3),\n",
    "        \n",
    "        # Output layer for classification (Softmax activation for multi-class classification)\n",
    "        layers.Dense(3, activation='softmax')\n",
    "    ])\n",
    "    \n",
    "    model.compile(optimizer='adam',\n",
    "                  loss='categorical_crossentropy',  # Categorical crossentropy for multi-class classification\n",
    "                  metrics=['accuracy'])\n",
    "    return model\n",
    "\n",
    "# Build the model\n",
    "model = build_classification_model_with_regularization()"
   ]
  },
  {
   "cell_type": "code",
   "execution_count": 131,
   "id": "d00dfd13-df7e-4d61-84e0-e7468b24f1b5",
   "metadata": {},
   "outputs": [
    {
     "name": "stdout",
     "output_type": "stream",
     "text": [
      "Epoch 1/50\n",
      "6/6 - 0s - loss: 1.6424 - accuracy: 0.4583 - val_loss: 1.5363 - val_accuracy: 0.6667 - 376ms/epoch - 63ms/step\n",
      "Epoch 2/50\n",
      "6/6 - 0s - loss: 1.5161 - accuracy: 0.6250 - val_loss: 1.4385 - val_accuracy: 0.8750 - 18ms/epoch - 3ms/step\n",
      "Epoch 3/50\n",
      "6/6 - 0s - loss: 1.4524 - accuracy: 0.7083 - val_loss: 1.3446 - val_accuracy: 0.9583 - 18ms/epoch - 3ms/step\n",
      "Epoch 4/50\n",
      "6/6 - 0s - loss: 1.3588 - accuracy: 0.7708 - val_loss: 1.2568 - val_accuracy: 0.9167 - 19ms/epoch - 3ms/step\n",
      "Epoch 5/50\n",
      "6/6 - 0s - loss: 1.2875 - accuracy: 0.7604 - val_loss: 1.1783 - val_accuracy: 0.8750 - 18ms/epoch - 3ms/step\n",
      "Epoch 6/50\n",
      "6/6 - 0s - loss: 1.2051 - accuracy: 0.7396 - val_loss: 1.1085 - val_accuracy: 0.8750 - 17ms/epoch - 3ms/step\n",
      "Epoch 7/50\n",
      "6/6 - 0s - loss: 1.1413 - accuracy: 0.7708 - val_loss: 1.0427 - val_accuracy: 0.8750 - 19ms/epoch - 3ms/step\n",
      "Epoch 8/50\n",
      "6/6 - 0s - loss: 1.0446 - accuracy: 0.7812 - val_loss: 0.9871 - val_accuracy: 0.8750 - 18ms/epoch - 3ms/step\n",
      "Epoch 9/50\n",
      "6/6 - 0s - loss: 1.0158 - accuracy: 0.8021 - val_loss: 0.9413 - val_accuracy: 0.8750 - 19ms/epoch - 3ms/step\n",
      "Epoch 10/50\n",
      "6/6 - 0s - loss: 0.9698 - accuracy: 0.7917 - val_loss: 0.9052 - val_accuracy: 0.8750 - 19ms/epoch - 3ms/step\n",
      "Epoch 11/50\n",
      "6/6 - 0s - loss: 0.9331 - accuracy: 0.8021 - val_loss: 0.8743 - val_accuracy: 0.9167 - 17ms/epoch - 3ms/step\n",
      "Epoch 12/50\n",
      "6/6 - 0s - loss: 0.9099 - accuracy: 0.7917 - val_loss: 0.8451 - val_accuracy: 0.9167 - 17ms/epoch - 3ms/step\n",
      "Epoch 13/50\n",
      "6/6 - 0s - loss: 0.8406 - accuracy: 0.8438 - val_loss: 0.8197 - val_accuracy: 0.9167 - 17ms/epoch - 3ms/step\n",
      "Epoch 14/50\n",
      "6/6 - 0s - loss: 0.8339 - accuracy: 0.8125 - val_loss: 0.7986 - val_accuracy: 0.9167 - 17ms/epoch - 3ms/step\n",
      "Epoch 15/50\n",
      "6/6 - 0s - loss: 0.8280 - accuracy: 0.7812 - val_loss: 0.7758 - val_accuracy: 0.9167 - 17ms/epoch - 3ms/step\n",
      "Epoch 16/50\n",
      "6/6 - 0s - loss: 0.7933 - accuracy: 0.8333 - val_loss: 0.7550 - val_accuracy: 0.9167 - 17ms/epoch - 3ms/step\n",
      "Epoch 17/50\n",
      "6/6 - 0s - loss: 0.7782 - accuracy: 0.8229 - val_loss: 0.7337 - val_accuracy: 0.9167 - 16ms/epoch - 3ms/step\n",
      "Epoch 18/50\n",
      "6/6 - 0s - loss: 0.7400 - accuracy: 0.8542 - val_loss: 0.7170 - val_accuracy: 0.9167 - 18ms/epoch - 3ms/step\n",
      "Epoch 19/50\n",
      "6/6 - 0s - loss: 0.7260 - accuracy: 0.8438 - val_loss: 0.7062 - val_accuracy: 0.9167 - 17ms/epoch - 3ms/step\n",
      "Epoch 20/50\n",
      "6/6 - 0s - loss: 0.7398 - accuracy: 0.8750 - val_loss: 0.6856 - val_accuracy: 0.9167 - 17ms/epoch - 3ms/step\n",
      "Epoch 21/50\n",
      "6/6 - 0s - loss: 0.6813 - accuracy: 0.8958 - val_loss: 0.6696 - val_accuracy: 0.9167 - 17ms/epoch - 3ms/step\n",
      "Epoch 22/50\n",
      "6/6 - 0s - loss: 0.7066 - accuracy: 0.8333 - val_loss: 0.6550 - val_accuracy: 0.9167 - 16ms/epoch - 3ms/step\n",
      "Epoch 23/50\n",
      "6/6 - 0s - loss: 0.6798 - accuracy: 0.8750 - val_loss: 0.6455 - val_accuracy: 0.9167 - 18ms/epoch - 3ms/step\n",
      "Epoch 24/50\n",
      "6/6 - 0s - loss: 0.6927 - accuracy: 0.8646 - val_loss: 0.6281 - val_accuracy: 0.9167 - 16ms/epoch - 3ms/step\n",
      "Epoch 25/50\n",
      "6/6 - 0s - loss: 0.6310 - accuracy: 0.8958 - val_loss: 0.6133 - val_accuracy: 0.9167 - 16ms/epoch - 3ms/step\n",
      "Epoch 26/50\n",
      "6/6 - 0s - loss: 0.6474 - accuracy: 0.8646 - val_loss: 0.5982 - val_accuracy: 0.9167 - 18ms/epoch - 3ms/step\n",
      "Epoch 27/50\n",
      "6/6 - 0s - loss: 0.6627 - accuracy: 0.8229 - val_loss: 0.5871 - val_accuracy: 0.9167 - 17ms/epoch - 3ms/step\n",
      "Epoch 28/50\n",
      "6/6 - 0s - loss: 0.6035 - accuracy: 0.9062 - val_loss: 0.5708 - val_accuracy: 0.9583 - 16ms/epoch - 3ms/step\n",
      "Epoch 29/50\n",
      "6/6 - 0s - loss: 0.5924 - accuracy: 0.8646 - val_loss: 0.5567 - val_accuracy: 0.9583 - 17ms/epoch - 3ms/step\n",
      "Epoch 30/50\n",
      "6/6 - 0s - loss: 0.5802 - accuracy: 0.9062 - val_loss: 0.5341 - val_accuracy: 0.9167 - 18ms/epoch - 3ms/step\n",
      "Epoch 31/50\n",
      "6/6 - 0s - loss: 0.5904 - accuracy: 0.8750 - val_loss: 0.5186 - val_accuracy: 0.9167 - 17ms/epoch - 3ms/step\n",
      "Epoch 32/50\n",
      "6/6 - 0s - loss: 0.5421 - accuracy: 0.8958 - val_loss: 0.5165 - val_accuracy: 0.9583 - 17ms/epoch - 3ms/step\n",
      "Epoch 33/50\n",
      "6/6 - 0s - loss: 0.5219 - accuracy: 0.9271 - val_loss: 0.5163 - val_accuracy: 0.9583 - 17ms/epoch - 3ms/step\n",
      "Epoch 34/50\n",
      "6/6 - 0s - loss: 0.5428 - accuracy: 0.9375 - val_loss: 0.5048 - val_accuracy: 0.9583 - 16ms/epoch - 3ms/step\n",
      "Epoch 35/50\n",
      "6/6 - 0s - loss: 0.5398 - accuracy: 0.9167 - val_loss: 0.4902 - val_accuracy: 0.9583 - 17ms/epoch - 3ms/step\n",
      "Epoch 36/50\n",
      "6/6 - 0s - loss: 0.5198 - accuracy: 0.9375 - val_loss: 0.4727 - val_accuracy: 0.9583 - 16ms/epoch - 3ms/step\n",
      "Epoch 37/50\n",
      "6/6 - 0s - loss: 0.4615 - accuracy: 0.9479 - val_loss: 0.4644 - val_accuracy: 0.9583 - 16ms/epoch - 3ms/step\n",
      "Epoch 38/50\n",
      "6/6 - 0s - loss: 0.4906 - accuracy: 0.9271 - val_loss: 0.4557 - val_accuracy: 0.9583 - 17ms/epoch - 3ms/step\n",
      "Epoch 39/50\n",
      "6/6 - 0s - loss: 0.4988 - accuracy: 0.9062 - val_loss: 0.4530 - val_accuracy: 0.9583 - 17ms/epoch - 3ms/step\n",
      "Epoch 40/50\n",
      "6/6 - 0s - loss: 0.4640 - accuracy: 0.9271 - val_loss: 0.4483 - val_accuracy: 0.9583 - 17ms/epoch - 3ms/step\n",
      "Epoch 41/50\n",
      "6/6 - 0s - loss: 0.4473 - accuracy: 0.9271 - val_loss: 0.4389 - val_accuracy: 0.9583 - 18ms/epoch - 3ms/step\n",
      "Epoch 42/50\n",
      "6/6 - 0s - loss: 0.4896 - accuracy: 0.9271 - val_loss: 0.4353 - val_accuracy: 0.9583 - 18ms/epoch - 3ms/step\n",
      "Epoch 43/50\n",
      "6/6 - 0s - loss: 0.4586 - accuracy: 0.9167 - val_loss: 0.4255 - val_accuracy: 0.9583 - 17ms/epoch - 3ms/step\n",
      "Epoch 44/50\n",
      "6/6 - 0s - loss: 0.4180 - accuracy: 0.9375 - val_loss: 0.4112 - val_accuracy: 0.9583 - 18ms/epoch - 3ms/step\n",
      "Epoch 45/50\n",
      "6/6 - 0s - loss: 0.4274 - accuracy: 0.9375 - val_loss: 0.4036 - val_accuracy: 0.9583 - 17ms/epoch - 3ms/step\n",
      "Epoch 46/50\n",
      "6/6 - 0s - loss: 0.4486 - accuracy: 0.9271 - val_loss: 0.3911 - val_accuracy: 0.9583 - 17ms/epoch - 3ms/step\n",
      "Epoch 47/50\n",
      "6/6 - 0s - loss: 0.4051 - accuracy: 0.9688 - val_loss: 0.3882 - val_accuracy: 0.9583 - 18ms/epoch - 3ms/step\n",
      "Epoch 48/50\n",
      "6/6 - 0s - loss: 0.3860 - accuracy: 0.9792 - val_loss: 0.3833 - val_accuracy: 0.9583 - 17ms/epoch - 3ms/step\n",
      "Epoch 49/50\n",
      "6/6 - 0s - loss: 0.3995 - accuracy: 0.9479 - val_loss: 0.3737 - val_accuracy: 0.9583 - 18ms/epoch - 3ms/step\n",
      "Epoch 50/50\n",
      "6/6 - 0s - loss: 0.3780 - accuracy: 0.9583 - val_loss: 0.3724 - val_accuracy: 0.9583 - 19ms/epoch - 3ms/step\n"
     ]
    }
   ],
   "source": [
    "# Train the model\n",
    "history = model.fit(X_train, y_train, \n",
    "                    epochs=50, \n",
    "                    batch_size=16, \n",
    "                    validation_split=0.2, \n",
    "                    verbose=2)"
   ]
  },
  {
   "cell_type": "code",
   "execution_count": 132,
   "id": "55074d2d-e6cf-4044-9def-09a9e6bd3af5",
   "metadata": {},
   "outputs": [
    {
     "name": "stdout",
     "output_type": "stream",
     "text": [
      "1/1 [==============================] - 0s 11ms/step - loss: 0.3257 - accuracy: 1.0000\n",
      "Test Accuracy: 1.0\n"
     ]
    }
   ],
   "source": [
    "test_loss, test_acc = model.evaluate(X_test, y_test)\n",
    "print('Test Accuracy:', test_acc)"
   ]
  },
  {
   "cell_type": "code",
   "execution_count": 133,
   "id": "24b6be8e-4dd4-4e9b-b552-8a3a370ec9b5",
   "metadata": {},
   "outputs": [
    {
     "data": {
      "image/png": "[encoded data removed]",
      "text/plain": [
       "<Figure size 640x480 with 1 Axes>"
      ]
     },
     "metadata": {},
     "output_type": "display_data"
    }
   ],
   "source": [
    "import matplotlib.pyplot as plt\n",
    "\n",
    "# Plot the training and validation accuracy\n",
    "plt.plot(history.history['accuracy'], label='Training Accuracy')\n",
    "plt.plot(history.history['val_accuracy'], label='Validation Accuracy')\n",
    "plt.title('Training and Validation Accuracy with Dropout and Elastic Net Regularization')\n",
    "plt.xlabel('Epochs')\n",
    "plt.ylabel('Accuracy')\n",
    "plt.legend()\n",
    "plt.show()"
   ]
  },
  {
   "cell_type": "code",
   "execution_count": 134,
   "id": "e0679e02-4df7-49e9-ba07-c7a2b839cf6d",
   "metadata": {},
   "outputs": [
    {
     "name": "stdout",
     "output_type": "stream",
     "text": [
      "Epoch 1/20\n",
      "6/6 - 0s - loss: 0.3656 - accuracy: 0.9688 - val_loss: 0.3706 - val_accuracy: 0.9583 - 30ms/epoch - 5ms/step\n",
      "Epoch 2/20\n",
      "6/6 - 0s - loss: 0.3788 - accuracy: 0.9792 - val_loss: 0.3630 - val_accuracy: 0.9583 - 16ms/epoch - 3ms/step\n",
      "Epoch 3/20\n",
      "6/6 - 0s - loss: 0.3763 - accuracy: 0.9375 - val_loss: 0.3645 - val_accuracy: 0.9583 - 17ms/epoch - 3ms/step\n",
      "Epoch 4/20\n",
      "6/6 - 0s - loss: 0.3786 - accuracy: 0.9479 - val_loss: 0.3614 - val_accuracy: 0.9583 - 17ms/epoch - 3ms/step\n",
      "Epoch 5/20\n",
      "6/6 - 0s - loss: 0.3599 - accuracy: 0.9583 - val_loss: 0.3478 - val_accuracy: 0.9583 - 17ms/epoch - 3ms/step\n",
      "Epoch 6/20\n",
      "6/6 - 0s - loss: 0.3663 - accuracy: 0.9479 - val_loss: 0.3390 - val_accuracy: 0.9583 - 18ms/epoch - 3ms/step\n",
      "Epoch 7/20\n",
      "6/6 - 0s - loss: 0.3516 - accuracy: 0.9479 - val_loss: 0.3334 - val_accuracy: 0.9583 - 19ms/epoch - 3ms/step\n",
      "Epoch 8/20\n",
      "6/6 - 0s - loss: 0.3590 - accuracy: 0.9583 - val_loss: 0.3447 - val_accuracy: 0.9583 - 18ms/epoch - 3ms/step\n",
      "Epoch 9/20\n",
      "6/6 - 0s - loss: 0.3648 - accuracy: 0.9583 - val_loss: 0.3279 - val_accuracy: 0.9583 - 20ms/epoch - 3ms/step\n",
      "Epoch 10/20\n",
      "6/6 - 0s - loss: 0.3644 - accuracy: 0.9375 - val_loss: 0.3233 - val_accuracy: 0.9583 - 28ms/epoch - 5ms/step\n",
      "Epoch 11/20\n",
      "6/6 - 0s - loss: 0.3620 - accuracy: 0.9375 - val_loss: 0.3248 - val_accuracy: 0.9583 - 18ms/epoch - 3ms/step\n",
      "Epoch 12/20\n",
      "6/6 - 0s - loss: 0.3449 - accuracy: 0.9271 - val_loss: 0.3211 - val_accuracy: 0.9583 - 17ms/epoch - 3ms/step\n",
      "Epoch 13/20\n",
      "6/6 - 0s - loss: 0.3635 - accuracy: 0.9583 - val_loss: 0.3208 - val_accuracy: 0.9583 - 17ms/epoch - 3ms/step\n",
      "Epoch 14/20\n",
      "6/6 - 0s - loss: 0.3390 - accuracy: 0.9479 - val_loss: 0.3209 - val_accuracy: 0.9583 - 17ms/epoch - 3ms/step\n",
      "Epoch 15/20\n",
      "6/6 - 0s - loss: 0.3743 - accuracy: 0.9375 - val_loss: 0.3075 - val_accuracy: 0.9583 - 19ms/epoch - 3ms/step\n",
      "Epoch 16/20\n",
      "6/6 - 0s - loss: 0.3334 - accuracy: 0.9375 - val_loss: 0.3198 - val_accuracy: 0.9583 - 19ms/epoch - 3ms/step\n",
      "Epoch 17/20\n",
      "6/6 - 0s - loss: 0.3391 - accuracy: 0.9375 - val_loss: 0.3255 - val_accuracy: 0.9583 - 18ms/epoch - 3ms/step\n",
      "Epoch 18/20\n",
      "6/6 - 0s - loss: 0.3598 - accuracy: 0.9479 - val_loss: 0.3182 - val_accuracy: 0.9583 - 19ms/epoch - 3ms/step\n",
      "Epoch 19/20\n",
      "6/6 - 0s - loss: 0.3341 - accuracy: 0.9479 - val_loss: 0.3084 - val_accuracy: 0.9583 - 19ms/epoch - 3ms/step\n",
      "Epoch 20/20\n",
      "6/6 - 0s - loss: 0.3053 - accuracy: 0.9479 - val_loss: 0.3095 - val_accuracy: 0.9583 - 17ms/epoch - 3ms/step\n"
     ]
    },
    {
     "data": {
      "text/plain": [
       "<keras.src.callbacks.History at 0x1939872c610>"
      ]
     },
     "execution_count": 134,
     "metadata": {},
     "output_type": "execute_result"
    }
   ],
   "source": [
    "model.fit(X_train, y_train, \n",
    "                    epochs=20, \n",
    "                    batch_size=16, \n",
    "                    validation_split=0.2, \n",
    "                    verbose=2)"
   ]
  },
  {
   "cell_type": "code",
   "execution_count": 135,
   "id": "39f40302-b9b9-40ff-91fc-021f4fc67fe9",
   "metadata": {},
   "outputs": [
    {
     "name": "stdout",
     "output_type": "stream",
     "text": [
      "1/1 [==============================] - 0s 11ms/step - loss: 0.2576 - accuracy: 1.0000\n",
      "Test Accuracy: 1.0\n"
     ]
    }
   ],
   "source": [
    "test_loss, test_acc = model.evaluate(X_test, y_test)\n",
    "print('Test Accuracy:', test_acc)"
   ]
  },
  {
   "cell_type": "markdown",
   "id": "b326197a-ba68-4924-ab70-a2f95508aaac",
   "metadata": {},
   "source": [
    "# FNN for Survival Analysis"
   ]
  },
  {
   "cell_type": "markdown",
   "id": "232cb632-a29e-4b39-8a69-03e9b76a0656",
   "metadata": {},
   "source": [
    "* For a survival analysis problem, a Feedforward Neural Network (FNN) can be adapted using methods such as DeepSurv or by incorporating survival-specific loss functions like the Cox Proportional Hazards loss.\n",
    "\n",
    "* Use the Veterans' Lung Cancer dataset (available in lifelines.datasets) as an example, which contains data on lung cancer patients, their survival times, and associated covariates.\n",
    "\n",
    "* We will use the Cox Proportional Hazards loss in a neural network framework for survival prediction.\n",
    "\n",
    "* We'll train the model to predict the hazard function for each individual based on their features."
   ]
  },
  {
   "cell_type": "code",
   "execution_count": 153,
   "id": "19121341-59b1-49c2-98dc-1f44d8891ce3",
   "metadata": {},
   "outputs": [
    {
     "name": "stdout",
     "output_type": "stream",
     "text": [
      "Requirement already satisfied: lifelines in c:\\users\\006816379\\appdata\\local\\anaconda3\\envs\\tf\\lib\\site-packages (0.27.8)\n",
      "Requirement already satisfied: tensorflow in c:\\users\\006816379\\appdata\\local\\anaconda3\\envs\\tf\\lib\\site-packages (2.13.0)\n",
      "Requirement already satisfied: pandas in c:\\users\\006816379\\appdata\\local\\anaconda3\\envs\\tf\\lib\\site-packages (2.0.3)\n",
      "Requirement already satisfied: scikit-learn in c:\\users\\006816379\\appdata\\local\\anaconda3\\envs\\tf\\lib\\site-packages (1.3.2)\n",
      "Requirement already satisfied: numpy<2.0,>=1.14.0 in c:\\users\\006816379\\appdata\\local\\anaconda3\\envs\\tf\\lib\\site-packages (from lifelines) (1.24.3)\n",
      "Requirement already satisfied: scipy>=1.2.0 in c:\\users\\006816379\\appdata\\local\\anaconda3\\envs\\tf\\lib\\site-packages (from lifelines) (1.10.1)\n",
      "Requirement already satisfied: matplotlib>=3.0 in c:\\users\\006816379\\appdata\\local\\anaconda3\\envs\\tf\\lib\\site-packages (from lifelines) (3.7.5)\n",
      "Requirement already satisfied: autograd>=1.5 in c:\\users\\006816379\\appdata\\local\\anaconda3\\envs\\tf\\lib\\site-packages (from lifelines) (1.7.0)\n",
      "Requirement already satisfied: autograd-gamma>=0.3 in c:\\users\\006816379\\appdata\\local\\anaconda3\\envs\\tf\\lib\\site-packages (from lifelines) (0.5.0)\n",
      "Requirement already satisfied: formulaic>=0.2.2 in c:\\users\\006816379\\appdata\\local\\anaconda3\\envs\\tf\\lib\\site-packages (from lifelines) (1.0.2)\n",
      "Requirement already satisfied: tensorflow-intel==2.13.0 in c:\\users\\006816379\\appdata\\local\\anaconda3\\envs\\tf\\lib\\site-packages (from tensorflow) (2.13.0)\n",
      "Requirement already satisfied: absl-py>=1.0.0 in c:\\users\\006816379\\appdata\\local\\anaconda3\\envs\\tf\\lib\\site-packages (from tensorflow-intel==2.13.0->tensorflow) (2.1.0)\n",
      "Requirement already satisfied: astunparse>=1.6.0 in c:\\users\\006816379\\appdata\\local\\anaconda3\\envs\\tf\\lib\\site-packages (from tensorflow-intel==2.13.0->tensorflow) (1.6.3)\n",
      "Requirement already satisfied: flatbuffers>=23.1.21 in c:\\users\\006816379\\appdata\\local\\anaconda3\\envs\\tf\\lib\\site-packages (from tensorflow-intel==2.13.0->tensorflow) (24.3.25)\n",
      "Requirement already satisfied: gast<=0.4.0,>=0.2.1 in c:\\users\\006816379\\appdata\\local\\anaconda3\\envs\\tf\\lib\\site-packages (from tensorflow-intel==2.13.0->tensorflow) (0.4.0)\n",
      "Requirement already satisfied: google-pasta>=0.1.1 in c:\\users\\006816379\\appdata\\local\\anaconda3\\envs\\tf\\lib\\site-packages (from tensorflow-intel==2.13.0->tensorflow) (0.2.0)\n",
      "Requirement already satisfied: h5py>=2.9.0 in c:\\users\\006816379\\appdata\\local\\anaconda3\\envs\\tf\\lib\\site-packages (from tensorflow-intel==2.13.0->tensorflow) (3.11.0)\n",
      "Requirement already satisfied: libclang>=13.0.0 in c:\\users\\006816379\\appdata\\local\\anaconda3\\envs\\tf\\lib\\site-packages (from tensorflow-intel==2.13.0->tensorflow) (18.1.1)\n",
      "Requirement already satisfied: opt-einsum>=2.3.2 in c:\\users\\006816379\\appdata\\local\\anaconda3\\envs\\tf\\lib\\site-packages (from tensorflow-intel==2.13.0->tensorflow) (3.3.0)\n",
      "Requirement already satisfied: packaging in c:\\users\\006816379\\appdata\\local\\anaconda3\\envs\\tf\\lib\\site-packages (from tensorflow-intel==2.13.0->tensorflow) (24.1)\n",
      "Requirement already satisfied: protobuf!=4.21.0,!=4.21.1,!=4.21.2,!=4.21.3,!=4.21.4,!=4.21.5,<5.0.0dev,>=3.20.3 in c:\\users\\006816379\\appdata\\local\\anaconda3\\envs\\tf\\lib\\site-packages (from tensorflow-intel==2.13.0->tensorflow) (4.25.4)\n",
      "Requirement already satisfied: setuptools in c:\\users\\006816379\\appdata\\local\\anaconda3\\envs\\tf\\lib\\site-packages (from tensorflow-intel==2.13.0->tensorflow) (72.1.0)\n",
      "Requirement already satisfied: six>=1.12.0 in c:\\users\\006816379\\appdata\\local\\anaconda3\\envs\\tf\\lib\\site-packages (from tensorflow-intel==2.13.0->tensorflow) (1.16.0)\n",
      "Requirement already satisfied: termcolor>=1.1.0 in c:\\users\\006816379\\appdata\\local\\anaconda3\\envs\\tf\\lib\\site-packages (from tensorflow-intel==2.13.0->tensorflow) (2.4.0)\n",
      "Collecting typing-extensions<4.6.0,>=3.6.6 (from tensorflow-intel==2.13.0->tensorflow)\n",
      "  Using cached typing_extensions-4.5.0-py3-none-any.whl.metadata (8.5 kB)\n",
      "Requirement already satisfied: wrapt>=1.11.0 in c:\\users\\006816379\\appdata\\local\\anaconda3\\envs\\tf\\lib\\site-packages (from tensorflow-intel==2.13.0->tensorflow) (1.16.0)\n",
      "Requirement already satisfied: grpcio<2.0,>=1.24.3 in c:\\users\\006816379\\appdata\\local\\anaconda3\\envs\\tf\\lib\\site-packages (from tensorflow-intel==2.13.0->tensorflow) (1.66.1)\n",
      "Requirement already satisfied: tensorboard<2.14,>=2.13 in c:\\users\\006816379\\appdata\\local\\anaconda3\\envs\\tf\\lib\\site-packages (from tensorflow-intel==2.13.0->tensorflow) (2.13.0)\n",
      "Requirement already satisfied: tensorflow-estimator<2.14,>=2.13.0 in c:\\users\\006816379\\appdata\\local\\anaconda3\\envs\\tf\\lib\\site-packages (from tensorflow-intel==2.13.0->tensorflow) (2.13.0)\n",
      "Requirement already satisfied: keras<2.14,>=2.13.1 in c:\\users\\006816379\\appdata\\local\\anaconda3\\envs\\tf\\lib\\site-packages (from tensorflow-intel==2.13.0->tensorflow) (2.13.1)\n",
      "Requirement already satisfied: tensorflow-io-gcs-filesystem>=0.23.1 in c:\\users\\006816379\\appdata\\local\\anaconda3\\envs\\tf\\lib\\site-packages (from tensorflow-intel==2.13.0->tensorflow) (0.31.0)\n",
      "Requirement already satisfied: python-dateutil>=2.8.2 in c:\\users\\006816379\\appdata\\local\\anaconda3\\envs\\tf\\lib\\site-packages (from pandas) (2.9.0.post0)\n",
      "Requirement already satisfied: pytz>=2020.1 in c:\\users\\006816379\\appdata\\local\\anaconda3\\envs\\tf\\lib\\site-packages (from pandas) (2024.1)\n",
      "Requirement already satisfied: tzdata>=2022.1 in c:\\users\\006816379\\appdata\\local\\anaconda3\\envs\\tf\\lib\\site-packages (from pandas) (2024.2)\n",
      "Requirement already satisfied: joblib>=1.1.1 in c:\\users\\006816379\\appdata\\local\\anaconda3\\envs\\tf\\lib\\site-packages (from scikit-learn) (1.4.2)\n",
      "Requirement already satisfied: threadpoolctl>=2.0.0 in c:\\users\\006816379\\appdata\\local\\anaconda3\\envs\\tf\\lib\\site-packages (from scikit-learn) (3.5.0)\n",
      "Requirement already satisfied: astor>=0.8 in c:\\users\\006816379\\appdata\\local\\anaconda3\\envs\\tf\\lib\\site-packages (from formulaic>=0.2.2->lifelines) (0.8.1)\n",
      "Requirement already satisfied: graphlib-backport>=1.0.0 in c:\\users\\006816379\\appdata\\local\\anaconda3\\envs\\tf\\lib\\site-packages (from formulaic>=0.2.2->lifelines) (1.1.0)\n",
      "Requirement already satisfied: interface-meta>=1.2.0 in c:\\users\\006816379\\appdata\\local\\anaconda3\\envs\\tf\\lib\\site-packages (from formulaic>=0.2.2->lifelines) (1.3.0)\n",
      "Requirement already satisfied: contourpy>=1.0.1 in c:\\users\\006816379\\appdata\\local\\anaconda3\\envs\\tf\\lib\\site-packages (from matplotlib>=3.0->lifelines) (1.1.1)\n",
      "Requirement already satisfied: cycler>=0.10 in c:\\users\\006816379\\appdata\\local\\anaconda3\\envs\\tf\\lib\\site-packages (from matplotlib>=3.0->lifelines) (0.12.1)\n",
      "Requirement already satisfied: fonttools>=4.22.0 in c:\\users\\006816379\\appdata\\local\\anaconda3\\envs\\tf\\lib\\site-packages (from matplotlib>=3.0->lifelines) (4.53.1)\n",
      "Requirement already satisfied: kiwisolver>=1.0.1 in c:\\users\\006816379\\appdata\\local\\anaconda3\\envs\\tf\\lib\\site-packages (from matplotlib>=3.0->lifelines) (1.4.7)\n",
      "Requirement already satisfied: pillow>=6.2.0 in c:\\users\\006816379\\appdata\\local\\anaconda3\\envs\\tf\\lib\\site-packages (from matplotlib>=3.0->lifelines) (10.4.0)\n",
      "Requirement already satisfied: pyparsing>=2.3.1 in c:\\users\\006816379\\appdata\\local\\anaconda3\\envs\\tf\\lib\\site-packages (from matplotlib>=3.0->lifelines) (3.1.4)\n",
      "Requirement already satisfied: importlib-resources>=3.2.0 in c:\\users\\006816379\\appdata\\local\\anaconda3\\envs\\tf\\lib\\site-packages (from matplotlib>=3.0->lifelines) (6.4.0)\n",
      "Requirement already satisfied: wheel<1.0,>=0.23.0 in c:\\users\\006816379\\appdata\\local\\anaconda3\\envs\\tf\\lib\\site-packages (from astunparse>=1.6.0->tensorflow-intel==2.13.0->tensorflow) (0.43.0)\n",
      "Requirement already satisfied: zipp>=3.1.0 in c:\\users\\006816379\\appdata\\local\\anaconda3\\envs\\tf\\lib\\site-packages (from importlib-resources>=3.2.0->matplotlib>=3.0->lifelines) (3.17.0)\n",
      "Requirement already satisfied: google-auth<3,>=1.6.3 in c:\\users\\006816379\\appdata\\local\\anaconda3\\envs\\tf\\lib\\site-packages (from tensorboard<2.14,>=2.13->tensorflow-intel==2.13.0->tensorflow) (2.34.0)\n",
      "Requirement already satisfied: google-auth-oauthlib<1.1,>=0.5 in c:\\users\\006816379\\appdata\\local\\anaconda3\\envs\\tf\\lib\\site-packages (from tensorboard<2.14,>=2.13->tensorflow-intel==2.13.0->tensorflow) (1.0.0)\n",
      "Requirement already satisfied: markdown>=2.6.8 in c:\\users\\006816379\\appdata\\local\\anaconda3\\envs\\tf\\lib\\site-packages (from tensorboard<2.14,>=2.13->tensorflow-intel==2.13.0->tensorflow) (3.7)\n",
      "Requirement already satisfied: requests<3,>=2.21.0 in c:\\users\\006816379\\appdata\\local\\anaconda3\\envs\\tf\\lib\\site-packages (from tensorboard<2.14,>=2.13->tensorflow-intel==2.13.0->tensorflow) (2.32.3)\n",
      "Requirement already satisfied: tensorboard-data-server<0.8.0,>=0.7.0 in c:\\users\\006816379\\appdata\\local\\anaconda3\\envs\\tf\\lib\\site-packages (from tensorboard<2.14,>=2.13->tensorflow-intel==2.13.0->tensorflow) (0.7.2)\n",
      "Requirement already satisfied: werkzeug>=1.0.1 in c:\\users\\006816379\\appdata\\local\\anaconda3\\envs\\tf\\lib\\site-packages (from tensorboard<2.14,>=2.13->tensorflow-intel==2.13.0->tensorflow) (3.0.4)\n",
      "Requirement already satisfied: cachetools<6.0,>=2.0.0 in c:\\users\\006816379\\appdata\\local\\anaconda3\\envs\\tf\\lib\\site-packages (from google-auth<3,>=1.6.3->tensorboard<2.14,>=2.13->tensorflow-intel==2.13.0->tensorflow) (5.5.0)\n",
      "Requirement already satisfied: pyasn1-modules>=0.2.1 in c:\\users\\006816379\\appdata\\local\\anaconda3\\envs\\tf\\lib\\site-packages (from google-auth<3,>=1.6.3->tensorboard<2.14,>=2.13->tensorflow-intel==2.13.0->tensorflow) (0.4.0)\n",
      "Requirement already satisfied: rsa<5,>=3.1.4 in c:\\users\\006816379\\appdata\\local\\anaconda3\\envs\\tf\\lib\\site-packages (from google-auth<3,>=1.6.3->tensorboard<2.14,>=2.13->tensorflow-intel==2.13.0->tensorflow) (4.9)\n",
      "Requirement already satisfied: requests-oauthlib>=0.7.0 in c:\\users\\006816379\\appdata\\local\\anaconda3\\envs\\tf\\lib\\site-packages (from google-auth-oauthlib<1.1,>=0.5->tensorboard<2.14,>=2.13->tensorflow-intel==2.13.0->tensorflow) (2.0.0)\n",
      "Requirement already satisfied: importlib-metadata>=4.4 in c:\\users\\006816379\\appdata\\local\\anaconda3\\envs\\tf\\lib\\site-packages (from markdown>=2.6.8->tensorboard<2.14,>=2.13->tensorflow-intel==2.13.0->tensorflow) (7.0.1)\n",
      "Requirement already satisfied: charset-normalizer<4,>=2 in c:\\users\\006816379\\appdata\\local\\anaconda3\\envs\\tf\\lib\\site-packages (from requests<3,>=2.21.0->tensorboard<2.14,>=2.13->tensorflow-intel==2.13.0->tensorflow) (3.3.2)\n",
      "Requirement already satisfied: idna<4,>=2.5 in c:\\users\\006816379\\appdata\\local\\anaconda3\\envs\\tf\\lib\\site-packages (from requests<3,>=2.21.0->tensorboard<2.14,>=2.13->tensorflow-intel==2.13.0->tensorflow) (3.7)\n",
      "Requirement already satisfied: urllib3<3,>=1.21.1 in c:\\users\\006816379\\appdata\\local\\anaconda3\\envs\\tf\\lib\\site-packages (from requests<3,>=2.21.0->tensorboard<2.14,>=2.13->tensorflow-intel==2.13.0->tensorflow) (2.2.2)\n",
      "Requirement already satisfied: certifi>=2017.4.17 in c:\\users\\006816379\\appdata\\local\\anaconda3\\envs\\tf\\lib\\site-packages (from requests<3,>=2.21.0->tensorboard<2.14,>=2.13->tensorflow-intel==2.13.0->tensorflow) (2024.8.30)\n",
      "Requirement already satisfied: MarkupSafe>=2.1.1 in c:\\users\\006816379\\appdata\\local\\anaconda3\\envs\\tf\\lib\\site-packages (from werkzeug>=1.0.1->tensorboard<2.14,>=2.13->tensorflow-intel==2.13.0->tensorflow) (2.1.3)\n",
      "Requirement already satisfied: pyasn1<0.7.0,>=0.4.6 in c:\\users\\006816379\\appdata\\local\\anaconda3\\envs\\tf\\lib\\site-packages (from pyasn1-modules>=0.2.1->google-auth<3,>=1.6.3->tensorboard<2.14,>=2.13->tensorflow-intel==2.13.0->tensorflow) (0.6.0)\n",
      "Requirement already satisfied: oauthlib>=3.0.0 in c:\\users\\006816379\\appdata\\local\\anaconda3\\envs\\tf\\lib\\site-packages (from requests-oauthlib>=0.7.0->google-auth-oauthlib<1.1,>=0.5->tensorboard<2.14,>=2.13->tensorflow-intel==2.13.0->tensorflow) (3.2.2)\n",
      "Using cached typing_extensions-4.5.0-py3-none-any.whl (27 kB)\n",
      "Installing collected packages: typing-extensions\n",
      "  Attempting uninstall: typing-extensions\n",
      "    Found existing installation: typing_extensions 4.11.0\n",
      "    Uninstalling typing_extensions-4.11.0:\n",
      "      Successfully uninstalled typing_extensions-4.11.0\n",
      "Successfully installed typing-extensions-4.5.0\n",
      "Note: you may need to restart the kernel to use updated packages.\n"
     ]
    }
   ],
   "source": [
    "pip install lifelines tensorflow pandas scikit-learn"
   ]
  },
  {
   "cell_type": "markdown",
   "id": "0a0dbb48-861b-43e6-b8a0-3c7f4263a8c6",
   "metadata": {},
   "source": [
    "* In this example, we used the WHAS500 dataset from the sksurv library, which contains heart failure survival data.\n",
    "\n",
    "* We built a Feedforward Neural Network for survival analysis, using Cox Proportional Hazards loss and evaluated the model using the concordance index.\n",
    "\n",
    "* The model was trained and evaluated using a custom survival loss function that accounts for censored data."
   ]
  },
  {
   "cell_type": "code",
   "execution_count": 156,
   "id": "d8ef96e1-6eab-48a6-9411-e6cd7f0187fc",
   "metadata": {},
   "outputs": [
    {
     "name": "stdout",
     "output_type": "stream",
     "text": [
      "dict_keys(['data', 'target', 'frame', 'DESCR', 'feature_names', 'data_filename', 'target_filename', 'data_module'])\n"
     ]
    }
   ],
   "source": [
    "from sksurv.datasets import load_whas500\n",
    "import pandas as pd\n",
    "\n",
    "# Load the WHAS500 dataset\n",
    "data_x, data_y = load_whas500()\n",
    "\n",
    "print(data.keys())"
   ]
  },
  {
   "cell_type": "code",
   "execution_count": 157,
   "id": "461c0d5c-10c1-477c-89bd-8efabd6189bc",
   "metadata": {},
   "outputs": [
    {
     "data": {
      "text/html": [
       "<div>\n",
       "<style scoped>\n",
       "    .dataframe tbody tr th:only-of-type {\n",
       "        vertical-align: middle;\n",
       "    }\n",
       "\n",
       "    .dataframe tbody tr th {\n",
       "        vertical-align: top;\n",
       "    }\n",
       "\n",
       "    .dataframe thead th {\n",
       "        text-align: right;\n",
       "    }\n",
       "</style>\n",
       "<table border=\"1\" class=\"dataframe\">\n",
       "  <thead>\n",
       "    <tr style=\"text-align: right;\">\n",
       "      <th></th>\n",
       "      <th>afb</th>\n",
       "      <th>age</th>\n",
       "      <th>av3</th>\n",
       "      <th>bmi</th>\n",
       "      <th>chf</th>\n",
       "      <th>cvd</th>\n",
       "      <th>diasbp</th>\n",
       "      <th>gender</th>\n",
       "      <th>hr</th>\n",
       "      <th>los</th>\n",
       "      <th>miord</th>\n",
       "      <th>mitype</th>\n",
       "      <th>sho</th>\n",
       "      <th>sysbp</th>\n",
       "    </tr>\n",
       "  </thead>\n",
       "  <tbody>\n",
       "    <tr>\n",
       "      <th>0</th>\n",
       "      <td>1</td>\n",
       "      <td>83.0</td>\n",
       "      <td>0</td>\n",
       "      <td>25.54051</td>\n",
       "      <td>0</td>\n",
       "      <td>1</td>\n",
       "      <td>78.0</td>\n",
       "      <td>0</td>\n",
       "      <td>89.0</td>\n",
       "      <td>5.0</td>\n",
       "      <td>1</td>\n",
       "      <td>0</td>\n",
       "      <td>0</td>\n",
       "      <td>152.0</td>\n",
       "    </tr>\n",
       "    <tr>\n",
       "      <th>1</th>\n",
       "      <td>0</td>\n",
       "      <td>49.0</td>\n",
       "      <td>0</td>\n",
       "      <td>24.02398</td>\n",
       "      <td>0</td>\n",
       "      <td>1</td>\n",
       "      <td>60.0</td>\n",
       "      <td>0</td>\n",
       "      <td>84.0</td>\n",
       "      <td>5.0</td>\n",
       "      <td>0</td>\n",
       "      <td>1</td>\n",
       "      <td>0</td>\n",
       "      <td>120.0</td>\n",
       "    </tr>\n",
       "    <tr>\n",
       "      <th>2</th>\n",
       "      <td>0</td>\n",
       "      <td>70.0</td>\n",
       "      <td>0</td>\n",
       "      <td>22.14290</td>\n",
       "      <td>0</td>\n",
       "      <td>0</td>\n",
       "      <td>88.0</td>\n",
       "      <td>1</td>\n",
       "      <td>83.0</td>\n",
       "      <td>5.0</td>\n",
       "      <td>0</td>\n",
       "      <td>1</td>\n",
       "      <td>0</td>\n",
       "      <td>147.0</td>\n",
       "    </tr>\n",
       "    <tr>\n",
       "      <th>3</th>\n",
       "      <td>0</td>\n",
       "      <td>70.0</td>\n",
       "      <td>0</td>\n",
       "      <td>26.63187</td>\n",
       "      <td>1</td>\n",
       "      <td>1</td>\n",
       "      <td>76.0</td>\n",
       "      <td>0</td>\n",
       "      <td>65.0</td>\n",
       "      <td>10.0</td>\n",
       "      <td>0</td>\n",
       "      <td>1</td>\n",
       "      <td>0</td>\n",
       "      <td>123.0</td>\n",
       "    </tr>\n",
       "    <tr>\n",
       "      <th>4</th>\n",
       "      <td>0</td>\n",
       "      <td>70.0</td>\n",
       "      <td>0</td>\n",
       "      <td>24.41255</td>\n",
       "      <td>0</td>\n",
       "      <td>1</td>\n",
       "      <td>85.0</td>\n",
       "      <td>0</td>\n",
       "      <td>63.0</td>\n",
       "      <td>6.0</td>\n",
       "      <td>0</td>\n",
       "      <td>1</td>\n",
       "      <td>0</td>\n",
       "      <td>135.0</td>\n",
       "    </tr>\n",
       "  </tbody>\n",
       "</table>\n",
       "</div>"
      ],
      "text/plain": [
       "  afb   age av3       bmi chf cvd  diasbp gender    hr   los miord mitype sho  \\\n",
       "0   1  83.0   0  25.54051   0   1    78.0      0  89.0   5.0     1      0   0   \n",
       "1   0  49.0   0  24.02398   0   1    60.0      0  84.0   5.0     0      1   0   \n",
       "2   0  70.0   0  22.14290   0   0    88.0      1  83.0   5.0     0      1   0   \n",
       "3   0  70.0   0  26.63187   1   1    76.0      0  65.0  10.0     0      1   0   \n",
       "4   0  70.0   0  24.41255   0   1    85.0      0  63.0   6.0     0      1   0   \n",
       "\n",
       "   sysbp  \n",
       "0  152.0  \n",
       "1  120.0  \n",
       "2  147.0  \n",
       "3  123.0  \n",
       "4  135.0  "
      ]
     },
     "execution_count": 157,
     "metadata": {},
     "output_type": "execute_result"
    }
   ],
   "source": [
    "# Convert to DataFrame for easier manipulation\n",
    "df_x = pd.DataFrame(data_x)\n",
    "df_y = pd.DataFrame(data_y)\n",
    "\n",
    "df_x.head()"
   ]
  },
  {
   "cell_type": "code",
   "execution_count": 160,
   "id": "d3c51bca-ec67-427b-a6de-108150f83dba",
   "metadata": {},
   "outputs": [
    {
     "name": "stdout",
     "output_type": "stream",
     "text": [
      "Index(['fstat', 'lenfol'], dtype='object')\n"
     ]
    }
   ],
   "source": [
    "df_y.head()\n",
    "print(df_y.columns)"
   ]
  },
  {
   "cell_type": "code",
   "execution_count": 161,
   "id": "146bbd35-6aa9-4c3a-8d2c-5d8e06e5cb51",
   "metadata": {},
   "outputs": [
    {
     "name": "stdout",
     "output_type": "stream",
     "text": [
      "  afb   age av3       bmi chf cvd  diasbp gender    hr   los miord mitype sho  \\\n",
      "0   1  83.0   0  25.54051   0   1    78.0      0  89.0   5.0     1      0   0   \n",
      "1   0  49.0   0  24.02398   0   1    60.0      0  84.0   5.0     0      1   0   \n",
      "2   0  70.0   0  22.14290   0   0    88.0      1  83.0   5.0     0      1   0   \n",
      "3   0  70.0   0  26.63187   1   1    76.0      0  65.0  10.0     0      1   0   \n",
      "4   0  70.0   0  24.41255   0   1    85.0      0  63.0   6.0     0      1   0   \n",
      "\n",
      "   sysbp  \n",
      "0  152.0  \n",
      "1  120.0  \n",
      "2  147.0  \n",
      "3  123.0  \n",
      "4  135.0  \n",
      "     time  event\n",
      "0  2178.0  False\n",
      "1  2172.0  False\n",
      "2  2190.0  False\n",
      "3   297.0   True\n",
      "4  2131.0  False\n"
     ]
    }
   ],
   "source": [
    "# Combine time and event indicator with features\n",
    "df_y['time'] = df_y['lenfol']\n",
    "df_y['event'] = df_y['fstat']\n",
    "df_y = df_y[['time', 'event']]\n",
    "\n",
    "print(df_x.head())\n",
    "print(df_y.head())"
   ]
  },
  {
   "cell_type": "code",
   "execution_count": 162,
   "id": "58888ab7-78cb-4e0c-8c39-f1194ba547cc",
   "metadata": {},
   "outputs": [],
   "source": [
    "# Preprocess the Data\n",
    "from sklearn.model_selection import train_test_split\n",
    "from sklearn.preprocessing import StandardScaler\n",
    "\n",
    "# Split the dataset into training and testing sets\n",
    "X_train, X_test, y_train, y_test = train_test_split(df_x, df_y, test_size=0.2, random_state=42)\n",
    "\n",
    "# Normalize the features\n",
    "scaler = StandardScaler()\n",
    "X_train = scaler.fit_transform(X_train)\n",
    "X_test = scaler.transform(X_test)"
   ]
  },
  {
   "cell_type": "code",
   "execution_count": 163,
   "id": "f2f5dfd2-d8b6-43cb-bb18-b60b93c62c9f",
   "metadata": {},
   "outputs": [],
   "source": [
    "# define a simple FNN model for survival analysis using Cox Proportional Hazards loss.\n",
    "import tensorflow as tf\n",
    "from tensorflow.keras import layers, models\n",
    "\n",
    "# Custom Cox Proportional Hazards loss function\n",
    "# The goal is to calculate the negative partial log-likelihood of the Cox PH model,\n",
    "def cox_ph_loss(y_true, y_pred):\n",
    "    time = y_true[:, 0]  # The survival time of the event or censoring\n",
    "    event = y_true[:, 1]  # Event indicator of whether the event occurred (1) or was censored (0)\n",
    "    # y_pred: This contains the predicted risk scores for each individual. \n",
    "    # These scores represent the model's estimate of the hazard ratio (the higher the score, the higher the estimated risk of the event occurring).\n",
    "\n",
    "    # Sort the patients by increasing survival time\n",
    "    order = tf.argsort(time) # gives the indices that would sort the time tensor in ascending order.\n",
    "    time = tf.gather(time, order) \n",
    "    event = tf.gather(event, order)\n",
    "    y_pred = tf.gather(y_pred, order)\n",
    "    # reorders the time, event, and y_pred tensors according to the sorted order.\n",
    "    \n",
    "    # Calculate the risk score and cumulative risk\n",
    "    risk = tf.math.exp(y_pred) # risk score\n",
    "    cum_risk = tf.math.cumsum(risk[::-1])[::-1]  \n",
    "    # Calculate the cumulative risk in reverse order (over all individuals who have survived up until a certain point in time.)\n",
    "    log_likelihood = tf.reduce_sum(event * (y_pred - tf.math.log(cum_risk + 1e-9)))\n",
    "\n",
    "    return -log_likelihood # minimizing negative log-likelihood (same as maximizing log-likelihood)\n"
   ]
  },
  {
   "cell_type": "markdown",
   "id": "cacb2b78-8d42-4117-8da1-a4a282c2ab60",
   "metadata": {},
   "source": [
    "Example: \n",
    "\n",
    "* \r\n",
    "Imagine we have three individuals with risk scores of 2, 3, and 4, and their survival times are 10, 1 and 14 days, respectively:\n",
    "  - At time 10 (when the first event happens), the sum of all risk scores for individuals who are still at risk (those who have not yet experienced the event) is 2+3+4=9.\n",
    "\n",
    "  - A    At time 12, only two individuals (the ones with risk scores of 3 and 4) are still at risk, so the cumulative sum of their risk scores is 3\n",
    "\n",
    "  - \r\n",
    "    At time 14, only the last individual (with a risk score of 4) is still at risk, so the cumulative sum is 4."
   ]
  },
  {
   "cell_type": "code",
   "execution_count": 165,
   "id": "c9f7d455-a1e1-4ce6-adbe-2c48c1ee8212",
   "metadata": {},
   "outputs": [],
   "source": [
    "# Build the Feedforward Neural Network\n",
    "def build_survival_model(input_shape):\n",
    "    model = models.Sequential([\n",
    "        layers.Dense(64, activation='relu', input_shape=input_shape),\n",
    "        layers.Dense(32, activation='relu'),\n",
    "        layers.Dense(1, activation=None)  # Output layer with no activation for risk score prediction\n",
    "    ])\n",
    "    model.compile(optimizer='adam', loss=cox_ph_loss)\n",
    "    return model\n",
    "\n",
    "# Define the input shape and build the model\n",
    "input_shape = (X_train.shape[1],)\n",
    "model = build_survival_model(input_shape)"
   ]
  },
  {
   "cell_type": "code",
   "execution_count": 167,
   "id": "70f8764a-b7b6-4211-adbb-5b005945ed11",
   "metadata": {},
   "outputs": [],
   "source": [
    "# Prepare the Labels for Training\n",
    "# prepare the labels by combining the survival times and event indicators into a single array that can be passed to the model\n",
    "# Prepare the labels for the Cox PH loss function\n",
    "y_train_prepared = np.vstack([y_train['time'].values, y_train['event'].values]).T\n",
    "y_test_prepared = np.vstack([y_test['time'].values, y_test['event'].values]).T"
   ]
  },
  {
   "cell_type": "code",
   "execution_count": 168,
   "id": "f99892f4-3612-4d87-8973-0cf3037e78da",
   "metadata": {},
   "outputs": [
    {
     "name": "stdout",
     "output_type": "stream",
     "text": [
      "Epoch 1/50\n",
      "10/10 - 0s - loss: 1117.9031 - val_loss: 959.9046 - 386ms/epoch - 39ms/step\n",
      "Epoch 2/50\n",
      "10/10 - 0s - loss: 1095.1929 - val_loss: 957.3768 - 20ms/epoch - 2ms/step\n",
      "Epoch 3/50\n",
      "10/10 - 0s - loss: 1080.2302 - val_loss: 965.0781 - 20ms/epoch - 2ms/step\n",
      "Epoch 4/50\n",
      "10/10 - 0s - loss: 1063.6029 - val_loss: 971.7464 - 20ms/epoch - 2ms/step\n",
      "Epoch 5/50\n",
      "10/10 - 0s - loss: 1055.7526 - val_loss: 978.1760 - 18ms/epoch - 2ms/step\n",
      "Epoch 6/50\n",
      "10/10 - 0s - loss: 1052.8336 - val_loss: 981.3504 - 19ms/epoch - 2ms/step\n",
      "Epoch 7/50\n",
      "10/10 - 0s - loss: 1041.9797 - val_loss: 985.8730 - 19ms/epoch - 2ms/step\n",
      "Epoch 8/50\n",
      "10/10 - 0s - loss: 1041.5293 - val_loss: 990.4567 - 18ms/epoch - 2ms/step\n",
      "Epoch 9/50\n",
      "10/10 - 0s - loss: 1035.5399 - val_loss: 996.8295 - 21ms/epoch - 2ms/step\n",
      "Epoch 10/50\n",
      "10/10 - 0s - loss: 1029.1992 - val_loss: 1005.1849 - 18ms/epoch - 2ms/step\n",
      "Epoch 11/50\n",
      "10/10 - 0s - loss: 1031.2048 - val_loss: 1005.3765 - 18ms/epoch - 2ms/step\n",
      "Epoch 12/50\n",
      "10/10 - 0s - loss: 1029.5530 - val_loss: 1002.3066 - 18ms/epoch - 2ms/step\n",
      "Epoch 13/50\n",
      "10/10 - 0s - loss: 1017.2678 - val_loss: 1003.5823 - 19ms/epoch - 2ms/step\n",
      "Epoch 14/50\n",
      "10/10 - 0s - loss: 1011.7802 - val_loss: 1009.7983 - 17ms/epoch - 2ms/step\n",
      "Epoch 15/50\n",
      "10/10 - 0s - loss: 1008.7518 - val_loss: 1015.6709 - 18ms/epoch - 2ms/step\n",
      "Epoch 16/50\n",
      "10/10 - 0s - loss: 1005.5015 - val_loss: 1020.1720 - 18ms/epoch - 2ms/step\n",
      "Epoch 17/50\n",
      "10/10 - 0s - loss: 1007.1149 - val_loss: 1022.8391 - 17ms/epoch - 2ms/step\n",
      "Epoch 18/50\n",
      "10/10 - 0s - loss: 998.5269 - val_loss: 1026.5327 - 18ms/epoch - 2ms/step\n",
      "Epoch 19/50\n",
      "10/10 - 0s - loss: 999.8676 - val_loss: 1026.0752 - 18ms/epoch - 2ms/step\n",
      "Epoch 20/50\n",
      "10/10 - 0s - loss: 987.5804 - val_loss: 1032.5413 - 18ms/epoch - 2ms/step\n",
      "Epoch 21/50\n",
      "10/10 - 0s - loss: 989.0513 - val_loss: 1040.4249 - 18ms/epoch - 2ms/step\n",
      "Epoch 22/50\n",
      "10/10 - 0s - loss: 991.0120 - val_loss: 1041.0393 - 17ms/epoch - 2ms/step\n",
      "Epoch 23/50\n",
      "10/10 - 0s - loss: 982.4582 - val_loss: 1033.3308 - 17ms/epoch - 2ms/step\n",
      "Epoch 24/50\n",
      "10/10 - 0s - loss: 975.3778 - val_loss: 1043.8990 - 17ms/epoch - 2ms/step\n",
      "Epoch 25/50\n",
      "10/10 - 0s - loss: 976.1418 - val_loss: 1049.0652 - 20ms/epoch - 2ms/step\n",
      "Epoch 26/50\n",
      "10/10 - 0s - loss: 968.2596 - val_loss: 1062.4015 - 17ms/epoch - 2ms/step\n",
      "Epoch 27/50\n",
      "10/10 - 0s - loss: 967.2254 - val_loss: 1055.8254 - 17ms/epoch - 2ms/step\n",
      "Epoch 28/50\n",
      "10/10 - 0s - loss: 971.4489 - val_loss: 1042.4336 - 18ms/epoch - 2ms/step\n",
      "Epoch 29/50\n",
      "10/10 - 0s - loss: 968.1883 - val_loss: 1046.4009 - 18ms/epoch - 2ms/step\n",
      "Epoch 30/50\n",
      "10/10 - 0s - loss: 973.4623 - val_loss: 1053.4080 - 18ms/epoch - 2ms/step\n",
      "Epoch 31/50\n",
      "10/10 - 0s - loss: 965.5126 - val_loss: 1059.7590 - 18ms/epoch - 2ms/step\n",
      "Epoch 32/50\n",
      "10/10 - 0s - loss: 964.0386 - val_loss: 1055.2504 - 19ms/epoch - 2ms/step\n",
      "Epoch 33/50\n",
      "10/10 - 0s - loss: 960.2674 - val_loss: 1058.3750 - 19ms/epoch - 2ms/step\n",
      "Epoch 34/50\n",
      "10/10 - 0s - loss: 955.0389 - val_loss: 1072.5383 - 19ms/epoch - 2ms/step\n",
      "Epoch 35/50\n",
      "10/10 - 0s - loss: 967.3175 - val_loss: 1058.5850 - 20ms/epoch - 2ms/step\n",
      "Epoch 36/50\n",
      "10/10 - 0s - loss: 952.6266 - val_loss: 1057.1117 - 19ms/epoch - 2ms/step\n",
      "Epoch 37/50\n",
      "10/10 - 0s - loss: 953.0591 - val_loss: 1076.5415 - 18ms/epoch - 2ms/step\n",
      "Epoch 38/50\n",
      "10/10 - 0s - loss: 939.0729 - val_loss: 1094.4023 - 19ms/epoch - 2ms/step\n",
      "Epoch 39/50\n",
      "10/10 - 0s - loss: 934.7328 - val_loss: 1091.2405 - 18ms/epoch - 2ms/step\n",
      "Epoch 40/50\n",
      "10/10 - 0s - loss: 935.8014 - val_loss: 1095.7294 - 25ms/epoch - 2ms/step\n",
      "Epoch 41/50\n",
      "10/10 - 0s - loss: 935.9836 - val_loss: 1111.6614 - 26ms/epoch - 3ms/step\n",
      "Epoch 42/50\n",
      "10/10 - 0s - loss: 938.2674 - val_loss: 1099.3323 - 21ms/epoch - 2ms/step\n",
      "Epoch 43/50\n",
      "10/10 - 0s - loss: 922.1992 - val_loss: 1087.3066 - 18ms/epoch - 2ms/step\n",
      "Epoch 44/50\n",
      "10/10 - 0s - loss: 922.6437 - val_loss: 1108.9675 - 18ms/epoch - 2ms/step\n",
      "Epoch 45/50\n",
      "10/10 - 0s - loss: 925.5231 - val_loss: 1120.0734 - 19ms/epoch - 2ms/step\n",
      "Epoch 46/50\n",
      "10/10 - 0s - loss: 922.7155 - val_loss: 1120.1096 - 18ms/epoch - 2ms/step\n",
      "Epoch 47/50\n",
      "10/10 - 0s - loss: 905.2686 - val_loss: 1130.9531 - 18ms/epoch - 2ms/step\n",
      "Epoch 48/50\n",
      "10/10 - 0s - loss: 916.5299 - val_loss: 1121.9662 - 18ms/epoch - 2ms/step\n",
      "Epoch 49/50\n",
      "10/10 - 0s - loss: 910.7396 - val_loss: 1142.2966 - 18ms/epoch - 2ms/step\n",
      "Epoch 50/50\n",
      "10/10 - 0s - loss: 924.7656 - val_loss: 1151.7891 - 19ms/epoch - 2ms/step\n"
     ]
    }
   ],
   "source": [
    "## Train the neural network model\n",
    "history = model.fit(X_train, y_train_prepared, epochs=50, batch_size=32, validation_split=0.2, verbose=2)\n"
   ]
  },
  {
   "cell_type": "code",
   "execution_count": 170,
   "id": "b067e803-db17-460d-8058-5a584ef5726a",
   "metadata": {},
   "outputs": [
    {
     "name": "stdout",
     "output_type": "stream",
     "text": [
      "4/4 [==============================] - 0s 1000us/step\n",
      "Concordance Index: 0.3505572441742654\n"
     ]
    }
   ],
   "source": [
    "# Evaluate the model using the concordance index, which measures the predictive acccuracy of survival models\n",
    "from sksurv.metrics import concordance_index_censored\n",
    "\n",
    "# Predict risk scores for the test data\n",
    "risk_scores = model.predict(X_test)\n",
    "\n",
    "# Calculate the concordance index to evaluate the model's performance\n",
    "c_index = concordance_index_censored(y_test['event'], y_test['time'], -risk_scores.flatten())\n",
    "print(f\"Concordance Index: {c_index[0]}\")\n"
   ]
  },
  {
   "cell_type": "code",
   "execution_count": 171,
   "id": "5392f61a-d8ae-4987-821c-ac4ee18e5f12",
   "metadata": {},
   "outputs": [
    {
     "data": {
      "image/png": "[encoded data removed]",
      "text/plain": [
       "<Figure size 640x480 with 1 Axes>"
      ]
     },
     "metadata": {},
     "output_type": "display_data"
    }
   ],
   "source": [
    "# visualize the training and validation loss\n",
    "# Plot the training and validation loss\n",
    "plt.plot(history.history['loss'], label='Training Loss')\n",
    "plt.plot(history.history['val_loss'], label='Validation Loss')\n",
    "plt.title('Training and Validation Loss for WHAS500 Survival Analysis')\n",
    "plt.xlabel('Epochs')\n",
    "plt.ylabel('Loss')\n",
    "plt.legend()\n",
    "plt.show()"
   ]
  },
  {
   "cell_type": "code",
   "execution_count": 181,
   "id": "b09238cc-d419-4bd6-828a-540c5323b0d6",
   "metadata": {},
   "outputs": [
    {
     "ename": "AttributeError",
     "evalue": "module 'importlib.resources' has no attribute 'files'",
     "output_type": "error",
     "traceback": [
      "\u001b[1;31m---------------------------------------------------------------------------\u001b[0m",
      "\u001b[1;31mAttributeError\u001b[0m                            Traceback (most recent call last)",
      "Cell \u001b[1;32mIn[181], line 5\u001b[0m\n\u001b[0;32m      2\u001b[0m \u001b[38;5;28;01mfrom\u001b[39;00m \u001b[38;5;21;01mlifelines\u001b[39;00m\u001b[38;5;21;01m.\u001b[39;00m\u001b[38;5;21;01mdatasets\u001b[39;00m \u001b[38;5;28;01mimport\u001b[39;00m load_rossi\n\u001b[0;32m      4\u001b[0m \u001b[38;5;66;03m# Load the Rotterdam Tumor Recurrence dataset\u001b[39;00m\n\u001b[1;32m----> 5\u001b[0m data_x, data_y \u001b[38;5;241m=\u001b[39m \u001b[43mload_rossi\u001b[49m\u001b[43m(\u001b[49m\u001b[43m)\u001b[49m\n\u001b[0;32m      7\u001b[0m \u001b[38;5;66;03m# Show the first few rows of the dataset\u001b[39;00m\n\u001b[0;32m      8\u001b[0m \u001b[38;5;28mprint\u001b[39m(data\u001b[38;5;241m.\u001b[39mhead())\n",
      "File \u001b[1;32m~\\AppData\\Local\\anaconda3\\envs\\TF\\lib\\site-packages\\lifelines\\datasets\\__init__.py:358\u001b[0m, in \u001b[0;36mload_rossi\u001b[1;34m(**kwargs)\u001b[0m\n\u001b[0;32m    336\u001b[0m \u001b[38;5;28;01mdef\u001b[39;00m \u001b[38;5;21mload_rossi\u001b[39m(\u001b[38;5;241m*\u001b[39m\u001b[38;5;241m*\u001b[39mkwargs):\n\u001b[0;32m    337\u001b[0m \u001b[38;5;250m    \u001b[39m\u001b[38;5;124;03m\"\"\"\u001b[39;00m\n\u001b[0;32m    338\u001b[0m \u001b[38;5;124;03m    This data set is originally from Rossi et al. (1980), and is used as an example in Allison (1995). The data pertain to 432 convicts who were released from Maryland state prisons in the 1970s and who were followed up for one year after release. Half the released convicts were assigned at random to an experimental treatment in which they were given financial aid; half did not receive aid.::\u001b[39;00m\n\u001b[0;32m    339\u001b[0m \n\u001b[1;32m   (...)\u001b[0m\n\u001b[0;32m    356\u001b[0m \n\u001b[0;32m    357\u001b[0m \u001b[38;5;124;03m    \"\"\"\u001b[39;00m\n\u001b[1;32m--> 358\u001b[0m     \u001b[38;5;28;01mreturn\u001b[39;00m \u001b[43m_load_dataset\u001b[49m\u001b[43m(\u001b[49m\u001b[38;5;124;43m\"\u001b[39;49m\u001b[38;5;124;43mrossi.csv\u001b[39;49m\u001b[38;5;124;43m\"\u001b[39;49m\u001b[43m,\u001b[49m\u001b[43m \u001b[49m\u001b[38;5;241;43m*\u001b[39;49m\u001b[38;5;241;43m*\u001b[39;49m\u001b[43mkwargs\u001b[49m\u001b[43m)\u001b[49m\n",
      "File \u001b[1;32m~\\AppData\\Local\\anaconda3\\envs\\TF\\lib\\site-packages\\lifelines\\datasets\\__init__.py:21\u001b[0m, in \u001b[0;36m_load_dataset\u001b[1;34m(filename, **kwargs)\u001b[0m\n\u001b[0;32m      6\u001b[0m \u001b[38;5;28;01mdef\u001b[39;00m \u001b[38;5;21m_load_dataset\u001b[39m(filename, \u001b[38;5;241m*\u001b[39m\u001b[38;5;241m*\u001b[39mkwargs):\n\u001b[0;32m      7\u001b[0m \u001b[38;5;250m    \u001b[39m\u001b[38;5;124;03m\"\"\"\u001b[39;00m\n\u001b[0;32m      8\u001b[0m \u001b[38;5;124;03m    Load a dataset from lifelines.datasets\u001b[39;00m\n\u001b[0;32m      9\u001b[0m \n\u001b[1;32m   (...)\u001b[0m\n\u001b[0;32m     19\u001b[0m \u001b[38;5;124;03m        output: DataFrame\u001b[39;00m\n\u001b[0;32m     20\u001b[0m \u001b[38;5;124;03m    \"\"\"\u001b[39;00m\n\u001b[1;32m---> 21\u001b[0m     \u001b[38;5;28;01mreturn\u001b[39;00m pd\u001b[38;5;241m.\u001b[39mread_csv(\u001b[43mresources\u001b[49m\u001b[38;5;241;43m.\u001b[39;49m\u001b[43mfiles\u001b[49m(\u001b[38;5;124m\"\u001b[39m\u001b[38;5;124mlifelines\u001b[39m\u001b[38;5;124m\"\u001b[39m) \u001b[38;5;241m/\u001b[39m \u001b[38;5;124m\"\u001b[39m\u001b[38;5;124mdatasets\u001b[39m\u001b[38;5;124m\"\u001b[39m \u001b[38;5;241m/\u001b[39m filename, engine\u001b[38;5;241m=\u001b[39m\u001b[38;5;124m\"\u001b[39m\u001b[38;5;124mpython\u001b[39m\u001b[38;5;124m\"\u001b[39m, \u001b[38;5;241m*\u001b[39m\u001b[38;5;241m*\u001b[39mkwargs)\n",
      "\u001b[1;31mAttributeError\u001b[0m: module 'importlib.resources' has no attribute 'files'"
     ]
    }
   ],
   "source": [
    "import pandas as pd\n",
    "from lifelines.datasets import load_rossi\n",
    "\n",
    "# Load the Rotterdam Tumor Recurrence dataset\n",
    "data = load_rossi()\n",
    "\n",
    "# Show the first few rows of the dataset\n",
    "print(data.head())\n"
   ]
  },
  {
   "cell_type": "code",
   "execution_count": null,
   "id": "bd70d4bc-6672-47a3-887d-0e74ad88b99f",
   "metadata": {},
   "outputs": [],
   "source": []
  },
  {
   "cell_type": "code",
   "execution_count": null,
   "id": "3759d833-95b4-4008-9a1a-5ae19eb8e587",
   "metadata": {},
   "outputs": [],
   "source": []
  },
  {
   "cell_type": "code",
   "execution_count": null,
   "id": "14050995-12be-4c7b-9439-bb9b6fc37c1e",
   "metadata": {},
   "outputs": [],
   "source": []
  },
  {
   "cell_type": "code",
   "execution_count": null,
   "id": "4fa892db-2e79-490e-8807-b7762dd11418",
   "metadata": {},
   "outputs": [],
   "source": []
  },
  {
   "cell_type": "code",
   "execution_count": null,
   "id": "5e65b9f8-b388-4388-bc79-fe906c2a4b2e",
   "metadata": {},
   "outputs": [],
   "source": []
  },
  {
   "cell_type": "markdown",
   "id": "8981b119-c1be-4bea-bf9b-5eac9daa92cf",
   "metadata": {},
   "source": [
    "# HW #7"
   ]
  },
  {
   "cell_type": "code",
   "execution_count": 1,
   "id": "b7f6f98f-30e9-4d87-80cc-aee183c2e144",
   "metadata": {},
   "outputs": [],
   "source": [
    "import numpy as np\n",
    "import pandas as pd\n",
    "from sklearn.model_selection import train_test_split\n",
    "from sklearn.preprocessing import LabelBinarizer\n",
    "from sklearn.datasets import load_iris\n",
    "from keras.models import Sequential\n",
    "from keras.layers import Dense\n",
    "from keras.optimizers import Adam\n",
    "from keras.utils import to_categorical\n",
    "\n",
    "# Load the Iris dataset\n",
    "iris = load_iris()\n",
    "X = iris.data  # Features (sepal length, sepal width, petal length, petal width)\n",
    "y = iris.target  # Target labels"
   ]
  },
  {
   "cell_type": "code",
   "execution_count": 2,
   "id": "7211487d-7015-4faa-9269-4f594644291f",
   "metadata": {},
   "outputs": [],
   "source": [
    "# Convert the target to binary (1 for 'setosa', 0 for others)\n",
    "y_binary = np.where(y == 0, 1, 0)\n",
    "\n",
    "# Split the dataset into training and validation sets (80% training, 20% validation)\n",
    "X_train, X_val, y_train, y_val = train_test_split(X, y_binary, test_size=0.2, random_state=42)\n"
   ]
  },
  {
   "cell_type": "code",
   "execution_count": 3,
   "id": "b5859579-1683-4418-9166-4c4d4c9c0cfc",
   "metadata": {},
   "outputs": [],
   "source": [
    "model = Sequential()\n",
    "model.add(Dense(64, activation='relu', input_shape=(4,)))  # Input layer (4 features)\n",
    "model.add(Dense(64, activation='relu'))  # Hidden layer 1\n",
    "model.add(Dense(1, activation='sigmoid'))  # Output layer (binary classification)\n",
    "\n",
    "# Compile the model\n",
    "model.compile(optimizer=Adam(), loss='binary_crossentropy', metrics=['accuracy'])"
   ]
  },
  {
   "cell_type": "code",
   "execution_count": 4,
   "id": "17258fe2-f862-44df-843c-67104e8208ad",
   "metadata": {},
   "outputs": [
    {
     "name": "stdout",
     "output_type": "stream",
     "text": [
      "Epoch 1/50\n",
      "12/12 [==============================] - 0s 9ms/step - loss: 0.5680 - accuracy: 0.6667 - val_loss: 0.4649 - val_accuracy: 0.6667\n",
      "Epoch 2/50\n",
      "12/12 [==============================] - 0s 2ms/step - loss: 0.4190 - accuracy: 0.7500 - val_loss: 0.3515 - val_accuracy: 0.9000\n",
      "Epoch 3/50\n",
      "12/12 [==============================] - 0s 2ms/step - loss: 0.3060 - accuracy: 0.9917 - val_loss: 0.2501 - val_accuracy: 1.0000\n",
      "Epoch 4/50\n",
      "12/12 [==============================] - 0s 2ms/step - loss: 0.2093 - accuracy: 1.0000 - val_loss: 0.1645 - val_accuracy: 1.0000\n",
      "Epoch 5/50\n",
      "12/12 [==============================] - 0s 2ms/step - loss: 0.1355 - accuracy: 1.0000 - val_loss: 0.1040 - val_accuracy: 1.0000\n",
      "Epoch 6/50\n",
      "12/12 [==============================] - 0s 2ms/step - loss: 0.0883 - accuracy: 1.0000 - val_loss: 0.0717 - val_accuracy: 1.0000\n",
      "Epoch 7/50\n",
      "12/12 [==============================] - 0s 2ms/step - loss: 0.0618 - accuracy: 1.0000 - val_loss: 0.0496 - val_accuracy: 1.0000\n",
      "Epoch 8/50\n",
      "12/12 [==============================] - 0s 2ms/step - loss: 0.0439 - accuracy: 1.0000 - val_loss: 0.0373 - val_accuracy: 1.0000\n",
      "Epoch 9/50\n",
      "12/12 [==============================] - 0s 2ms/step - loss: 0.0332 - accuracy: 1.0000 - val_loss: 0.0284 - val_accuracy: 1.0000\n",
      "Epoch 10/50\n",
      "12/12 [==============================] - 0s 2ms/step - loss: 0.0257 - accuracy: 1.0000 - val_loss: 0.0224 - val_accuracy: 1.0000\n",
      "Epoch 11/50\n",
      "12/12 [==============================] - 0s 2ms/step - loss: 0.0208 - accuracy: 1.0000 - val_loss: 0.0180 - val_accuracy: 1.0000\n",
      "Epoch 12/50\n",
      "12/12 [==============================] - 0s 2ms/step - loss: 0.0172 - accuracy: 1.0000 - val_loss: 0.0153 - val_accuracy: 1.0000\n",
      "Epoch 13/50\n",
      "12/12 [==============================] - 0s 2ms/step - loss: 0.0144 - accuracy: 1.0000 - val_loss: 0.0129 - val_accuracy: 1.0000\n",
      "Epoch 14/50\n",
      "12/12 [==============================] - 0s 2ms/step - loss: 0.0123 - accuracy: 1.0000 - val_loss: 0.0110 - val_accuracy: 1.0000\n",
      "Epoch 15/50\n",
      "12/12 [==============================] - 0s 2ms/step - loss: 0.0107 - accuracy: 1.0000 - val_loss: 0.0092 - val_accuracy: 1.0000\n",
      "Epoch 16/50\n",
      "12/12 [==============================] - 0s 2ms/step - loss: 0.0093 - accuracy: 1.0000 - val_loss: 0.0082 - val_accuracy: 1.0000\n",
      "Epoch 17/50\n",
      "12/12 [==============================] - 0s 2ms/step - loss: 0.0082 - accuracy: 1.0000 - val_loss: 0.0074 - val_accuracy: 1.0000\n",
      "Epoch 18/50\n",
      "12/12 [==============================] - 0s 2ms/step - loss: 0.0073 - accuracy: 1.0000 - val_loss: 0.0066 - val_accuracy: 1.0000\n",
      "Epoch 19/50\n",
      "12/12 [==============================] - 0s 2ms/step - loss: 0.0066 - accuracy: 1.0000 - val_loss: 0.0058 - val_accuracy: 1.0000\n",
      "Epoch 20/50\n",
      "12/12 [==============================] - 0s 2ms/step - loss: 0.0059 - accuracy: 1.0000 - val_loss: 0.0052 - val_accuracy: 1.0000\n",
      "Epoch 21/50\n",
      "12/12 [==============================] - 0s 2ms/step - loss: 0.0053 - accuracy: 1.0000 - val_loss: 0.0047 - val_accuracy: 1.0000\n",
      "Epoch 22/50\n",
      "12/12 [==============================] - 0s 2ms/step - loss: 0.0049 - accuracy: 1.0000 - val_loss: 0.0043 - val_accuracy: 1.0000\n",
      "Epoch 23/50\n",
      "12/12 [==============================] - 0s 2ms/step - loss: 0.0045 - accuracy: 1.0000 - val_loss: 0.0040 - val_accuracy: 1.0000\n",
      "Epoch 24/50\n",
      "12/12 [==============================] - 0s 2ms/step - loss: 0.0041 - accuracy: 1.0000 - val_loss: 0.0036 - val_accuracy: 1.0000\n",
      "Epoch 25/50\n",
      "12/12 [==============================] - 0s 2ms/step - loss: 0.0038 - accuracy: 1.0000 - val_loss: 0.0033 - val_accuracy: 1.0000\n",
      "Epoch 26/50\n",
      "12/12 [==============================] - 0s 2ms/step - loss: 0.0036 - accuracy: 1.0000 - val_loss: 0.0031 - val_accuracy: 1.0000\n",
      "Epoch 27/50\n",
      "12/12 [==============================] - 0s 2ms/step - loss: 0.0032 - accuracy: 1.0000 - val_loss: 0.0029 - val_accuracy: 1.0000\n",
      "Epoch 28/50\n",
      "12/12 [==============================] - 0s 2ms/step - loss: 0.0031 - accuracy: 1.0000 - val_loss: 0.0026 - val_accuracy: 1.0000\n",
      "Epoch 29/50\n",
      "12/12 [==============================] - 0s 2ms/step - loss: 0.0029 - accuracy: 1.0000 - val_loss: 0.0025 - val_accuracy: 1.0000\n",
      "Epoch 30/50\n",
      "12/12 [==============================] - 0s 2ms/step - loss: 0.0027 - accuracy: 1.0000 - val_loss: 0.0023 - val_accuracy: 1.0000\n",
      "Epoch 31/50\n",
      "12/12 [==============================] - 0s 2ms/step - loss: 0.0025 - accuracy: 1.0000 - val_loss: 0.0021 - val_accuracy: 1.0000\n",
      "Epoch 32/50\n",
      "12/12 [==============================] - 0s 2ms/step - loss: 0.0024 - accuracy: 1.0000 - val_loss: 0.0020 - val_accuracy: 1.0000\n",
      "Epoch 33/50\n",
      "12/12 [==============================] - 0s 2ms/step - loss: 0.0022 - accuracy: 1.0000 - val_loss: 0.0019 - val_accuracy: 1.0000\n",
      "Epoch 34/50\n",
      "12/12 [==============================] - 0s 2ms/step - loss: 0.0021 - accuracy: 1.0000 - val_loss: 0.0018 - val_accuracy: 1.0000\n",
      "Epoch 35/50\n",
      "12/12 [==============================] - 0s 2ms/step - loss: 0.0020 - accuracy: 1.0000 - val_loss: 0.0017 - val_accuracy: 1.0000\n",
      "Epoch 36/50\n",
      "12/12 [==============================] - 0s 2ms/step - loss: 0.0019 - accuracy: 1.0000 - val_loss: 0.0016 - val_accuracy: 1.0000\n",
      "Epoch 37/50\n",
      "12/12 [==============================] - 0s 2ms/step - loss: 0.0018 - accuracy: 1.0000 - val_loss: 0.0015 - val_accuracy: 1.0000\n",
      "Epoch 38/50\n",
      "12/12 [==============================] - 0s 2ms/step - loss: 0.0017 - accuracy: 1.0000 - val_loss: 0.0014 - val_accuracy: 1.0000\n",
      "Epoch 39/50\n",
      "12/12 [==============================] - 0s 2ms/step - loss: 0.0016 - accuracy: 1.0000 - val_loss: 0.0013 - val_accuracy: 1.0000\n",
      "Epoch 40/50\n",
      "12/12 [==============================] - 0s 2ms/step - loss: 0.0016 - accuracy: 1.0000 - val_loss: 0.0013 - val_accuracy: 1.0000\n",
      "Epoch 41/50\n",
      "12/12 [==============================] - 0s 2ms/step - loss: 0.0015 - accuracy: 1.0000 - val_loss: 0.0012 - val_accuracy: 1.0000\n",
      "Epoch 42/50\n",
      "12/12 [==============================] - 0s 2ms/step - loss: 0.0014 - accuracy: 1.0000 - val_loss: 0.0011 - val_accuracy: 1.0000\n",
      "Epoch 43/50\n",
      "12/12 [==============================] - 0s 2ms/step - loss: 0.0013 - accuracy: 1.0000 - val_loss: 0.0011 - val_accuracy: 1.0000\n",
      "Epoch 44/50\n",
      "12/12 [==============================] - 0s 2ms/step - loss: 0.0013 - accuracy: 1.0000 - val_loss: 0.0010 - val_accuracy: 1.0000\n",
      "Epoch 45/50\n",
      "12/12 [==============================] - 0s 2ms/step - loss: 0.0012 - accuracy: 1.0000 - val_loss: 9.9791e-04 - val_accuracy: 1.0000\n",
      "Epoch 46/50\n",
      "12/12 [==============================] - 0s 2ms/step - loss: 0.0012 - accuracy: 1.0000 - val_loss: 9.4333e-04 - val_accuracy: 1.0000\n",
      "Epoch 47/50\n",
      "12/12 [==============================] - 0s 2ms/step - loss: 0.0011 - accuracy: 1.0000 - val_loss: 9.0111e-04 - val_accuracy: 1.0000\n",
      "Epoch 48/50\n",
      "12/12 [==============================] - 0s 2ms/step - loss: 0.0011 - accuracy: 1.0000 - val_loss: 8.8254e-04 - val_accuracy: 1.0000\n",
      "Epoch 49/50\n",
      "12/12 [==============================] - 0s 2ms/step - loss: 0.0010 - accuracy: 1.0000 - val_loss: 8.3974e-04 - val_accuracy: 1.0000\n",
      "Epoch 50/50\n",
      "12/12 [==============================] - 0s 2ms/step - loss: 9.9467e-04 - accuracy: 1.0000 - val_loss: 8.0264e-04 - val_accuracy: 1.0000\n"
     ]
    }
   ],
   "source": [
    "# Train the model\n",
    "history = model.fit(X_train, y_train, epochs=50, batch_size=10, validation_data=(X_val, y_val))"
   ]
  },
  {
   "cell_type": "code",
   "execution_count": 5,
   "id": "2b2168b9-eb63-469c-a930-6064bec7f995",
   "metadata": {},
   "outputs": [
    {
     "name": "stdout",
     "output_type": "stream",
     "text": [
      "1/1 [==============================] - 0s 48ms/step - loss: 8.0264e-04 - accuracy: 1.0000\n",
      "Validation Accuracy: 100.00%\n"
     ]
    },
    {
     "data": {
      "image/png": "[encoded data removed]",
      "text/plain": [
       "<Figure size 640x480 with 1 Axes>"
      ]
     },
     "metadata": {},
     "output_type": "display_data"
    }
   ],
   "source": [
    "import matplotlib.pyplot as plt\n",
    "\n",
    "# Evaluate the model on the validation data\n",
    "val_loss, val_accuracy = model.evaluate(X_val, y_val)\n",
    "print(f\"Validation Accuracy: {val_accuracy * 100:.2f}%\")\n",
    "\n",
    "# Plot the training and validation loss over epochs\n",
    "history_dict = history.history\n",
    "\n",
    "loss_values = history_dict['loss']\n",
    "val_loss_values = history_dict['val_loss']\n",
    "\n",
    "epochs = range(1, len(loss_values) + 1)\n",
    "\n",
    "plt.plot(epochs, loss_values, 'bo', label='Training loss')  # 'bo' is for blue dot\n",
    "plt.plot(epochs, val_loss_values, 'b', label='Validation loss')  # 'b' is for solid blue line\n",
    "plt.title('Training and validation loss')\n",
    "plt.xlabel('Epochs')\n",
    "plt.ylabel('Loss')\n",
    "plt.legend()\n",
    "\n",
    "plt.show()"
   ]
  },
  {
   "cell_type": "code",
   "execution_count": null,
   "id": "d941caa2-2449-49be-8427-78c25ab9ee96",
   "metadata": {},
   "outputs": [],
   "source": []
  },
  {
   "cell_type": "code",
   "execution_count": null,
   "id": "765d4327-834c-4f9b-a788-7e1d09fc81a7",
   "metadata": {},
   "outputs": [],
   "source": []
  },
  {
   "cell_type": "code",
   "execution_count": null,
   "id": "55ee3bcc-e8e7-4a26-bfd7-7bdd823419a5",
   "metadata": {},
   "outputs": [],
   "source": []
  },
  {
   "cell_type": "code",
   "execution_count": null,
   "id": "ac334b4c-f93e-42b7-8219-cd23bead010b",
   "metadata": {},
   "outputs": [],
   "source": []
  },
  {
   "cell_type": "code",
   "execution_count": null,
   "id": "7276f315-2e35-4efa-9275-b3a1e296b148",
   "metadata": {},
   "outputs": [],
   "source": []
  }
 ],
 "metadata": {
  "kernelspec": {
   "display_name": "Python 3 (ipykernel)",
   "language": "python",
   "name": "python3"
  },
  "language_info": {
   "codemirror_mode": {
    "name": "ipython",
    "version": 3
   },
   "file_extension": ".py",
   "mimetype": "text/x-python",
   "name": "python",
   "nbconvert_exporter": "python",
   "pygments_lexer": "ipython3",
   "version": "3.11.9"
  }
 },
 "nbformat": 4,
 "nbformat_minor": 5
}

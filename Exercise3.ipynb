{
 "cells": [
  {
   "cell_type": "code",
   "execution_count": 1,
   "id": "3a2aee2e-0019-4407-b818-febd6ba247c4",
   "metadata": {},
   "outputs": [],
   "source": [
    "import tensorflow as tf\n",
    "import keras as keras"
   ]
  },
  {
   "cell_type": "code",
   "execution_count": 3,
   "id": "3b250e14-61f8-4768-a754-3febff9b6bb9",
   "metadata": {},
   "outputs": [
    {
     "name": "stdout",
     "output_type": "stream",
     "text": [
      "tensorflow: 2.13.0\n",
      "keras: 2.13.1\n"
     ]
    }
   ],
   "source": [
    "print(\"tensorflow:\", tf.__version__)\n",
    "print(\"keras:\", keras.__version__)"
   ]
  },
  {
   "cell_type": "code",
   "execution_count": 5,
   "id": "419623c8-3b66-4c55-bb1f-d7e68d7e56f1",
   "metadata": {},
   "outputs": [
    {
     "name": "stdout",
     "output_type": "stream",
     "text": [
      "Requirement already satisfied: scikit-learn in c:\\users\\006816379\\appdata\\local\\anaconda3\\envs\\stat479\\lib\\site-packages (1.5.2)\n",
      "Requirement already satisfied: numpy>=1.19.5 in c:\\users\\006816379\\appdata\\local\\anaconda3\\envs\\stat479\\lib\\site-packages (from scikit-learn) (1.26.4)\n",
      "Requirement already satisfied: scipy>=1.6.0 in c:\\users\\006816379\\appdata\\local\\anaconda3\\envs\\stat479\\lib\\site-packages (from scikit-learn) (1.14.1)\n",
      "Requirement already satisfied: joblib>=1.2.0 in c:\\users\\006816379\\appdata\\local\\anaconda3\\envs\\stat479\\lib\\site-packages (from scikit-learn) (1.4.2)\n",
      "Requirement already satisfied: threadpoolctl>=3.1.0 in c:\\users\\006816379\\appdata\\local\\anaconda3\\envs\\stat479\\lib\\site-packages (from scikit-learn) (3.5.0)\n",
      "Note: you may need to restart the kernel to use updated packages.\n"
     ]
    }
   ],
   "source": [
    "pip install scikit-learn"
   ]
  },
  {
   "cell_type": "code",
   "execution_count": 46,
   "id": "ee3569bd-4a37-489e-8172-998aed4bc954",
   "metadata": {},
   "outputs": [
    {
     "name": "stdout",
     "output_type": "stream",
     "text": [
      "Collecting pandas\n",
      "  Downloading pandas-2.2.2-cp312-cp312-win_amd64.whl.metadata (19 kB)\n",
      "Requirement already satisfied: numpy>=1.26.0 in c:\\users\\006816379\\appdata\\local\\anaconda3\\envs\\stat479\\lib\\site-packages (from pandas) (1.26.4)\n",
      "Requirement already satisfied: python-dateutil>=2.8.2 in c:\\users\\006816379\\appdata\\local\\anaconda3\\envs\\stat479\\lib\\site-packages (from pandas) (2.9.0.post0)\n",
      "Requirement already satisfied: pytz>=2020.1 in c:\\users\\006816379\\appdata\\local\\anaconda3\\envs\\stat479\\lib\\site-packages (from pandas) (2024.1)\n",
      "Collecting tzdata>=2022.7 (from pandas)\n",
      "  Downloading tzdata-2024.1-py2.py3-none-any.whl.metadata (1.4 kB)\n",
      "Requirement already satisfied: six>=1.5 in c:\\users\\006816379\\appdata\\local\\anaconda3\\envs\\stat479\\lib\\site-packages (from python-dateutil>=2.8.2->pandas) (1.16.0)\n",
      "Downloading pandas-2.2.2-cp312-cp312-win_amd64.whl (11.5 MB)\n",
      "   ---------------------------------------- 0.0/11.5 MB ? eta -:--:--\n",
      "   ---------------- ----------------------- 4.7/11.5 MB 23.7 MB/s eta 0:00:01\n",
      "   ---------------------------------- ----- 10.0/11.5 MB 24.8 MB/s eta 0:00:01\n",
      "   ---------------------------------------- 11.5/11.5 MB 24.8 MB/s eta 0:00:00\n",
      "Downloading tzdata-2024.1-py2.py3-none-any.whl (345 kB)\n",
      "Installing collected packages: tzdata, pandas\n",
      "Successfully installed pandas-2.2.2 tzdata-2024.1\n",
      "Note: you may need to restart the kernel to use updated packages.\n"
     ]
    }
   ],
   "source": [
    "pip install pandas"
   ]
  },
  {
   "cell_type": "code",
   "execution_count": 47,
   "id": "c1fc3bd9-a741-4242-b371-61d0b706eb24",
   "metadata": {},
   "outputs": [],
   "source": [
    "import pandas as pd\n",
    "import numpy as np\n",
    "import matplotlib.pyplot as plt"
   ]
  },
  {
   "cell_type": "markdown",
   "id": "3be0f649-bd6d-4c4f-bd83-751d017d5947",
   "metadata": {},
   "source": [
    "# Keras \n",
    "\n",
    "Keras is a deep-learning framework for Python that is a model-level library, providing high-level building blocks for developing deep-learning models.\n",
    "\n",
    "Keras has the following key features:\n",
    "* It allows the same code to run seamlessly on CPU or GPU.\n",
    "* It has a user-friendly Application Programming Interface (API) that makes it easy to quickly prototype deep-learning models.\n",
    "* It has built-in support for convolutional networks (for computer vision), recurrent networks (for sequence processing), and any combination of both."
   ]
  },
  {
   "cell_type": "markdown",
   "id": "a2e28f10-54ae-497f-bbcb-a6cd3c80b731",
   "metadata": {},
   "source": [
    "# ANN for image classification"
   ]
  },
  {
   "cell_type": "markdown",
   "id": "5219ef66-4a01-4bc1-9eda-8fea87329110",
   "metadata": {},
   "source": [
    "## STEPS\n",
    "\n",
    "* #1 - Load in the data\n",
    "  * MNIST dataset\n",
    "  * 10 digits (0 to 9)\n",
    "  * Already included in Tensorflow\n",
    " \n",
    "* #2 Build the model\n",
    "  * Sequential dense layers ending with multiclass logistic regression\n",
    " \n",
    "* #3 Train the model\n",
    "\n",
    "* #4 Evaluate th emodel\n",
    "\n",
    "* #5 Make predictions"
   ]
  },
  {
   "cell_type": "markdown",
   "id": "9e2b4f79-c416-4cc7-af11-e8be5a75daca",
   "metadata": {},
   "source": [
    "## Using MNIST dataset"
   ]
  },
  {
   "cell_type": "code",
   "execution_count": 4,
   "id": "efd7c1da-d329-4dc7-828f-68034cccb228",
   "metadata": {},
   "outputs": [],
   "source": [
    "# Example: MNIST (the National Institute of Standards and Technology) dataset\n",
    "# This dataset is standard machine learning benchmark of handwritten digits.\n",
    "import tensorflow as tf\n",
    "import keras as keras\n",
    "\n",
    "from keras.datasets import mnist\n",
    "(train_images, train_labels), (test_images, test_labels) = mnist.load_data()"
   ]
  },
  {
   "cell_type": "code",
   "execution_count": 5,
   "id": "a68426f3-601d-42b8-b0ba-06d13864a74a",
   "metadata": {},
   "outputs": [
    {
     "name": "stdout",
     "output_type": "stream",
     "text": [
      "(60000, 28, 28)\n",
      "(60000,)\n"
     ]
    }
   ],
   "source": [
    "print(train_images.shape) # Nx28x28\n",
    "print(train_labels.shape) # N"
   ]
  },
  {
   "cell_type": "code",
   "execution_count": 6,
   "id": "bf714ca9-dee5-4dcb-956b-6d50dfa0dfa1",
   "metadata": {},
   "outputs": [
    {
     "name": "stdout",
     "output_type": "stream",
     "text": [
      "(10000, 28, 28)\n",
      "(10000,)\n"
     ]
    }
   ],
   "source": [
    "print(test_images.shape) # Nx28x28\n",
    "print(test_labels.shape) # N"
   ]
  },
  {
   "cell_type": "markdown",
   "id": "f03543e2-6c5c-429b-b30e-8b0033a96ff4",
   "metadata": {},
   "source": [
    "The problem we’re trying to solve here is to classify grayscale images of handwritten digits (28 × 28 = 784 pixels, grayscale) into their 10 categories (0 through 9). We’ll use the MNIST dataset, a classic in the machine-learning community, which has been around almost as long as the field itself and has been intensively studied. It’s a set of 60,000 training images, plus 10,000 test images, assembled by the National Institute of Standards and Technology (the NIST in MNIST) in the 1980s.\n",
    "\n",
    "The images are encoded as Numpy arrays, and the labels are an array of digits, ranging from 0 to 9."
   ]
  },
  {
   "cell_type": "code",
   "execution_count": 7,
   "id": "59f85389-1556-4e1b-bea9-b6d45d1bf272",
   "metadata": {},
   "outputs": [
    {
     "name": "stdout",
     "output_type": "stream",
     "text": [
      "3\n",
      "(60000, 28, 28)\n",
      "uint8\n",
      "60000\n"
     ]
    },
    {
     "data": {
      "text/plain": [
       "array([5, 0, 4, ..., 5, 6, 8], dtype=uint8)"
      ]
     },
     "execution_count": 7,
     "metadata": {},
     "output_type": "execute_result"
    }
   ],
   "source": [
    "print(train_images.ndim) # 3D tensor \n",
    "print(train_images.shape) # an array of 60,000 matrices of 28 × 28 integers\n",
    "print(train_images.dtype) # a 3D tensor of 8-bit integers; Each such matrix is a grayscale image, with coefficients between 0 and 255.\n",
    "print(len(train_labels))\n",
    "train_labels"
   ]
  },
  {
   "cell_type": "code",
   "execution_count": 8,
   "id": "39f66a5f-415b-4fdb-961a-2c0c80b7f39e",
   "metadata": {},
   "outputs": [
    {
     "data": {
      "image/png": "[encoded data removed]",
      "text/plain": [
       "<Figure size 640x480 with 1 Axes>"
      ]
     },
     "metadata": {},
     "output_type": "display_data"
    }
   ],
   "source": [
    "# Displaying 4th digit in this 3D tensor\n",
    "digit = train_images[0] # select a specific digit: sample 0 to \n",
    "#print(digit)  \n",
    "\n",
    "import matplotlib.pyplot as plt # you need to install matplotlib like \"conda install matplotlib\"\n",
    "plt.imshow(digit, cmap=plt.cm.binary) # cm: color map to binary (black 0 and white 1)\n",
    "plt.show()"
   ]
  },
  {
   "cell_type": "code",
   "execution_count": 9,
   "id": "f372e1e5-6e10-4725-8ca3-972b1b7fadb4",
   "metadata": {},
   "outputs": [
    {
     "name": "stdout",
     "output_type": "stream",
     "text": [
      "(90, 28, 28)\n"
     ]
    }
   ],
   "source": [
    "# Manipulating tensors in Numpy\n",
    "# Selecting specific elements in a tensor is called `tensor slicing`.\n",
    "# selects digits #10 to #100 (#100 isn’t included) and puts them in an array of shape (90, 28, 28):\n",
    "my_slice = train_images[10:100]\n",
    "print(my_slice.shape)"
   ]
  },
  {
   "cell_type": "code",
   "execution_count": 10,
   "id": "119a47b6-7d9c-4832-acc2-17596079727b",
   "metadata": {},
   "outputs": [
    {
     "name": "stdout",
     "output_type": "stream",
     "text": [
      "(90, 28, 28)\n"
     ]
    }
   ],
   "source": [
    "# It’s equivalent to this more detailed notation\n",
    "my_slice = train_images[10:100, :, :]\n",
    "print(my_slice.shape)"
   ]
  },
  {
   "cell_type": "code",
   "execution_count": 11,
   "id": "e10a25cb-067f-4c66-9608-bf9232ef3358",
   "metadata": {},
   "outputs": [
    {
     "data": {
      "text/plain": [
       "(128, 28, 28)"
      ]
     },
     "execution_count": 11,
     "metadata": {},
     "output_type": "execute_result"
    }
   ],
   "source": [
    "# data batches\n",
    "# break the data into small batches; \n",
    "# batch size of 128\n",
    "\n",
    "n = 2; # n is an integer\n",
    "batch = train_images[128*n:128*(n+1)]\n",
    "batch.shape"
   ]
  },
  {
   "cell_type": "markdown",
   "id": "65ce37b2-c8f1-445e-a412-d914dd68699c",
   "metadata": {},
   "source": [
    "### Why Use Batches?\n",
    "* Memory Efficiency: Instead of loading the entire dataset into memory at once, which may not be feasible for large datasets, training with smaller batches helps conserve memory.\n",
    "\n",
    "* Faster Training: Updating the model after every batch instead of the entire dataset allows for faster updates and quicker convergence during training.\n",
    "\n",
    "* Improved Generalization: Using batches introduces some stochasticity (randomness) in the training process, which can help prevent overfitting and improve the model's generalization to unseen data.\n",
    "\n",
    "* Parallelization: Batches can be processed in parallel, leveraging modern hardware (GPUs/TPUs), making training more efficient.\n"
   ]
  },
  {
   "cell_type": "code",
   "execution_count": 12,
   "id": "337e9c18-1773-4e54-8beb-1b2c13d58c10",
   "metadata": {},
   "outputs": [
    {
     "name": "stdout",
     "output_type": "stream",
     "text": [
      "train_images.shape: (60000, 28, 28)\n",
      "test_images.shape: (10000, 28, 28)\n"
     ]
    }
   ],
   "source": [
    "train_images, test_images = train_images/255.0, test_images /255.0 # normalize to the range [0, 1]\n",
    "\n",
    "print(\"train_images.shape:\",train_images.shape) \n",
    "print(\"test_images.shape:\",test_images.shape) \n"
   ]
  },
  {
   "cell_type": "code",
   "execution_count": 13,
   "id": "7196ccea-8496-41b4-84e8-6d96abf0ed53",
   "metadata": {},
   "outputs": [],
   "source": [
    "# Build the model\n",
    "# inside the brackets [], define the layers of the model.\n",
    "model = tf.keras.models.Sequential([\n",
    "    tf.keras.layers.Input(shape=(28,28)),\n",
    "    tf.keras.layers.Flatten(), # This is necessary to make into 1D input for input layer\n",
    "    tf.keras.layers.Dense(512, activation='relu'), # hidden layer with 512 neurons\n",
    "    tf.keras.layers.Dropout(.2), # regularization technique\n",
    "    # It randomly sets 20% (as specified by the 0.2) of the input neurons to zero during training.\n",
    "    tf.keras.layers.Dense(10, activation='softmax') # 10 output; predicting digits 0-9 in MNIST\n",
    "])"
   ]
  },
  {
   "cell_type": "markdown",
   "id": "10a8324a-3d61-4e79-b888-a2b81e3d6ce8",
   "metadata": {},
   "source": [
    "#### `tf.keras.layers.Flatten`:\n",
    "* Flatten is a Keras layer that takes a multi-dimensional input (like a 2D image) and flattens it into a 1D vector.\n",
    "* In this case, the input to the model is a 28x28 grayscale pixel image, which has a shape of (28, 28).\n",
    "#### `input_shape=(28, 28)`:\n",
    "* The Flatten layer will convert each input image from a 2D array with shape (28, 28) into a 1D array of size 28 * 28 = 784. "
   ]
  },
  {
   "cell_type": "code",
   "execution_count": 14,
   "id": "f59c2649-5fe3-46d6-ba0a-0701c5434f18",
   "metadata": {},
   "outputs": [],
   "source": [
    "model.compile(optimizer='adam',\n",
    "              loss = 'sparse_categorical_crossentropy', # when the true labels are integers instead of one-hot encoded vectors.\n",
    "              # when the true labels are one-hot encoded, use `categorical_crossentropy`\n",
    "              metrics=['accuracy'])"
   ]
  },
  {
   "cell_type": "markdown",
   "id": "dd74670c-1235-4d6f-bb9e-4a78cf8db09d",
   "metadata": {},
   "source": [
    "##  `optimizer='adam':`\n",
    "\n",
    "* Adam (Adaptive Moment Estimation) is an optimization algorithm that combines the advantages of two other optimizers:\n",
    "  -  RMSProp: Which adjusts the learning rate based on recent gradients.\n",
    "  - Momentum: Which helps smooth the optimization by considering previous updates.\n",
    "\n",
    "## `loss='sparse_categorical_crossentropy':`\n",
    "\n",
    "* The loss function measures how far off the model's predictions are from the true labels.\n",
    "* `sparse_categorical_crossentropy` is used when you're performing multi-class classification and your target labels are integers (e.g., 0, 1, 2,...), rather than one-hot encoded vectors.\n",
    "* It's a variation of categorical crossentropy but is used when the labels are provided as sparse integers (like class indices).\n",
    "    - Example: For digit classification, your labels might be 0 for the digit \"0\", 1 for the digit \"1\", and so on up to 9.\n",
    "* It calculates the difference between the predicted probability distribution (from the model) and the actual label in a way that encourages the model to predict the correct class with high confidence."
   ]
  },
  {
   "cell_type": "code",
   "execution_count": 15,
   "id": "eacc4004-e4ac-4f9c-9e24-9f62407d5346",
   "metadata": {},
   "outputs": [
    {
     "name": "stdout",
     "output_type": "stream",
     "text": [
      "Epoch 1/10\n",
      "1875/1875 [==============================] - 7s 4ms/step - loss: 0.2215 - accuracy: 0.9349 - val_loss: 0.1029 - val_accuracy: 0.9698\n",
      "Epoch 2/10\n",
      "1875/1875 [==============================] - 7s 3ms/step - loss: 0.0972 - accuracy: 0.9697 - val_loss: 0.0744 - val_accuracy: 0.9762\n",
      "Epoch 3/10\n",
      "1875/1875 [==============================] - 6s 3ms/step - loss: 0.0678 - accuracy: 0.9784 - val_loss: 0.0710 - val_accuracy: 0.9774\n",
      "Epoch 4/10\n",
      "1875/1875 [==============================] - 6s 3ms/step - loss: 0.0526 - accuracy: 0.9836 - val_loss: 0.0688 - val_accuracy: 0.9804\n",
      "Epoch 5/10\n",
      "1875/1875 [==============================] - 6s 3ms/step - loss: 0.0434 - accuracy: 0.9858 - val_loss: 0.0747 - val_accuracy: 0.9772\n",
      "Epoch 6/10\n",
      "1875/1875 [==============================] - 6s 3ms/step - loss: 0.0362 - accuracy: 0.9880 - val_loss: 0.0688 - val_accuracy: 0.9803\n",
      "Epoch 7/10\n",
      "1875/1875 [==============================] - 7s 3ms/step - loss: 0.0319 - accuracy: 0.9894 - val_loss: 0.0672 - val_accuracy: 0.9820\n",
      "Epoch 8/10\n",
      "1875/1875 [==============================] - 7s 3ms/step - loss: 0.0273 - accuracy: 0.9911 - val_loss: 0.0750 - val_accuracy: 0.9810\n",
      "Epoch 9/10\n",
      "1875/1875 [==============================] - 6s 3ms/step - loss: 0.0248 - accuracy: 0.9914 - val_loss: 0.0737 - val_accuracy: 0.9820\n",
      "Epoch 10/10\n",
      "1875/1875 [==============================] - 7s 4ms/step - loss: 0.0224 - accuracy: 0.9926 - val_loss: 0.0794 - val_accuracy: 0.9825\n"
     ]
    }
   ],
   "source": [
    "r = model.fit(train_images, train_labels, validation_data=(test_images, test_labels), epochs=10)"
   ]
  },
  {
   "cell_type": "markdown",
   "id": "62c3ff68-8eb2-4763-a213-7e8bb91ce78a",
   "metadata": {},
   "source": [
    "#### Why 1875 Batches?\n",
    "* The `1875/1875` in the output refers to the number of batches processed during each epoch of training.\n",
    "\n",
    "* If you're using the MNIST dataset (which has 60,000 training images) and a default batch size of 32, then the total number of batches is calculated as:\n",
    "\n",
    "$$Total Batches\n",
    "=\n",
    "60,000/32\n",
    "=\n",
    "1875$$\n",
    "\n",
    "Each batch processes 32 images, and after processing 1875 batches, all 60,000 images are processed once (i.e., completing one epoch)."
   ]
  },
  {
   "cell_type": "code",
   "execution_count": 16,
   "id": "55c38567-c469-4663-8de1-a6bfa81a9b1a",
   "metadata": {},
   "outputs": [
    {
     "name": "stdout",
     "output_type": "stream",
     "text": [
      "Requirement already satisfied: matplotlib in c:\\users\\006816379\\appdata\\local\\anaconda3\\envs\\tf\\lib\\site-packages (3.7.5)\n",
      "Requirement already satisfied: contourpy>=1.0.1 in c:\\users\\006816379\\appdata\\local\\anaconda3\\envs\\tf\\lib\\site-packages (from matplotlib) (1.1.1)\n",
      "Requirement already satisfied: cycler>=0.10 in c:\\users\\006816379\\appdata\\local\\anaconda3\\envs\\tf\\lib\\site-packages (from matplotlib) (0.12.1)\n",
      "Requirement already satisfied: fonttools>=4.22.0 in c:\\users\\006816379\\appdata\\local\\anaconda3\\envs\\tf\\lib\\site-packages (from matplotlib) (4.53.1)\n",
      "Requirement already satisfied: kiwisolver>=1.0.1 in c:\\users\\006816379\\appdata\\local\\anaconda3\\envs\\tf\\lib\\site-packages (from matplotlib) (1.4.7)\n",
      "Requirement already satisfied: numpy<2,>=1.20 in c:\\users\\006816379\\appdata\\local\\anaconda3\\envs\\tf\\lib\\site-packages (from matplotlib) (1.24.3)\n",
      "Requirement already satisfied: packaging>=20.0 in c:\\users\\006816379\\appdata\\local\\anaconda3\\envs\\tf\\lib\\site-packages (from matplotlib) (24.1)\n",
      "Requirement already satisfied: pillow>=6.2.0 in c:\\users\\006816379\\appdata\\local\\anaconda3\\envs\\tf\\lib\\site-packages (from matplotlib) (10.4.0)\n",
      "Requirement already satisfied: pyparsing>=2.3.1 in c:\\users\\006816379\\appdata\\local\\anaconda3\\envs\\tf\\lib\\site-packages (from matplotlib) (3.1.4)\n",
      "Requirement already satisfied: python-dateutil>=2.7 in c:\\users\\006816379\\appdata\\local\\anaconda3\\envs\\tf\\lib\\site-packages (from matplotlib) (2.9.0.post0)\n",
      "Requirement already satisfied: importlib-resources>=3.2.0 in c:\\users\\006816379\\appdata\\local\\anaconda3\\envs\\tf\\lib\\site-packages (from matplotlib) (6.4.0)\n",
      "Requirement already satisfied: zipp>=3.1.0 in c:\\users\\006816379\\appdata\\local\\anaconda3\\envs\\tf\\lib\\site-packages (from importlib-resources>=3.2.0->matplotlib) (3.17.0)\n",
      "Requirement already satisfied: six>=1.5 in c:\\users\\006816379\\appdata\\local\\anaconda3\\envs\\tf\\lib\\site-packages (from python-dateutil>=2.7->matplotlib) (1.16.0)\n",
      "Note: you may need to restart the kernel to use updated packages.\n"
     ]
    }
   ],
   "source": [
    "pip install matplotlib"
   ]
  },
  {
   "cell_type": "code",
   "execution_count": 17,
   "id": "f404b049-19e6-4957-9e14-c7ed89e322c1",
   "metadata": {},
   "outputs": [
    {
     "data": {
      "text/plain": [
       "<matplotlib.legend.Legend at 0x23794547940>"
      ]
     },
     "execution_count": 17,
     "metadata": {},
     "output_type": "execute_result"
    },
    {
     "data": {
      "image/png": "[encoded data removed]",
      "text/plain": [
       "<Figure size 640x480 with 1 Axes>"
      ]
     },
     "metadata": {},
     "output_type": "display_data"
    }
   ],
   "source": [
    "# Plot loss per iteration\n",
    "import matplotlib.pyplot as plt\n",
    "\n",
    "plt.plot(r.history['loss'], label='loss')\n",
    "plt.plot(r.history['val_loss'], label='val_loss')\n",
    "plt.legend()"
   ]
  },
  {
   "cell_type": "code",
   "execution_count": 18,
   "id": "870b97a7-fcba-42d0-a9c0-59ef8a2f7eb7",
   "metadata": {},
   "outputs": [
    {
     "data": {
      "text/plain": [
       "<matplotlib.legend.Legend at 0x237946f8f40>"
      ]
     },
     "execution_count": 18,
     "metadata": {},
     "output_type": "execute_result"
    },
    {
     "data": {
      "image/png": "[encoded data removed]",
      "text/plain": [
       "<Figure size 640x480 with 1 Axes>"
      ]
     },
     "metadata": {},
     "output_type": "display_data"
    }
   ],
   "source": [
    "# plot accuracy per iteration\n",
    "plt.plot(r.history['accuracy'], label='acc')\n",
    "plt.plot(r.history['val_accuracy'], label='val_acc')\n",
    "plt.legend()"
   ]
  },
  {
   "cell_type": "code",
   "execution_count": 19,
   "id": "0252d176-d92c-4e6b-ba62-4ae1dc7c6cbb",
   "metadata": {},
   "outputs": [
    {
     "name": "stdout",
     "output_type": "stream",
     "text": [
      "313/313 [==============================] - 0s 722us/step - loss: 0.0794 - accuracy: 0.9825\n",
      "[0.07936742156744003, 0.9825000166893005]\n"
     ]
    }
   ],
   "source": [
    "# Evaluate the model\n",
    "print(model.evaluate(test_images, test_labels))"
   ]
  },
  {
   "cell_type": "markdown",
   "id": "3cc8c5f6-e438-48af-b7b5-d2d92952ad3e",
   "metadata": {},
   "source": [
    "## Confusiton matrix"
   ]
  },
  {
   "cell_type": "code",
   "execution_count": 20,
   "id": "b34ae1b2-2ee3-4e25-9482-2a8e06b205b3",
   "metadata": {},
   "outputs": [
    {
     "name": "stdout",
     "output_type": "stream",
     "text": [
      "Requirement already satisfied: scikit-learn in c:\\users\\006816379\\appdata\\local\\anaconda3\\envs\\tf\\lib\\site-packages (1.3.2)\n",
      "Requirement already satisfied: numpy<2.0,>=1.17.3 in c:\\users\\006816379\\appdata\\local\\anaconda3\\envs\\tf\\lib\\site-packages (from scikit-learn) (1.24.3)\n",
      "Requirement already satisfied: scipy>=1.5.0 in c:\\users\\006816379\\appdata\\local\\anaconda3\\envs\\tf\\lib\\site-packages (from scikit-learn) (1.10.1)\n",
      "Requirement already satisfied: joblib>=1.1.1 in c:\\users\\006816379\\appdata\\local\\anaconda3\\envs\\tf\\lib\\site-packages (from scikit-learn) (1.4.2)\n",
      "Requirement already satisfied: threadpoolctl>=2.0.0 in c:\\users\\006816379\\appdata\\local\\anaconda3\\envs\\tf\\lib\\site-packages (from scikit-learn) (3.5.0)\n",
      "Note: you may need to restart the kernel to use updated packages.\n"
     ]
    }
   ],
   "source": [
    "pip install scikit-learn"
   ]
  },
  {
   "cell_type": "code",
   "execution_count": 26,
   "id": "70f2b87e-ba32-412c-ba1e-c4124798deb5",
   "metadata": {},
   "outputs": [],
   "source": [
    "# Plot confusion matrix\n",
    "from sklearn.metrics import confusion_matrix\n",
    "import numpy as np\n",
    "import itertools"
   ]
  },
  {
   "cell_type": "code",
   "execution_count": 27,
   "id": "1e33c424-2d98-493f-b2bf-7c6100e85380",
   "metadata": {},
   "outputs": [],
   "source": [
    "def plot_confusion_matrix(cm, classes, normalize=False, title='Confusion matrix', cmap=plt.cm.Blues):\n",
    "    #---\n",
    "    # cm: the confusion matrix (a 2D array) \n",
    "    # classes: A list or array of class labels (e.g., ['cat', 'dog']), which are used to label the axes of the confusion matrix.\n",
    "    # title: title of the confusion matrix plot\n",
    "    # cmap: the colormap for the confusion matrix plot, which will color the matrix using shades of blue.\n",
    "    \n",
    "    #This function prints and plots the confusion matrix.\n",
    "    #Normalization can be applied by setting 'normalize=True'.\n",
    "    #---\n",
    "\n",
    "    if normalize:\n",
    "        cm = cm.astype('float')/cm.sum(axis=1)[:, np.newaxis] # normalized to display proportions rather than raw counts\n",
    "        # `cm.astype('float')` type conversion to flaot for obtaining fractional values\n",
    "        # `cm.sum(axis=1)`: row-wise summation (in confusion matrix, each row represents the true class, and each column represents the predicted class\n",
    "        #                   thus, this calculate the total number of occurrences (true labels) for each class.\n",
    "        # `[:, np.newaxis]`: np.newaxis is used to add a new axis to the array.\n",
    "        #                    In this case, it's turning the 1D array from cm.sum(axis=1) into a column vector \n",
    "        print(\"Normalized confusion matrix (proportion)\")\n",
    "    else:\n",
    "        print(\"Confuusion matrix, without normalizaiton\")\n",
    "\n",
    "    print(cm)\n",
    "\n",
    "    # Plotting the confusion matrix using a heatmap\n",
    "    plt.imshow(cm, interpolation='nearest', cmap=cmap)\n",
    "    # interpolation='nearest': This controls how pixel values are interpolated. \n",
    "    # Using 'nearest' means that the matrix is displayed without smoothing, so each cell in the matrix will be represented as a solid block of color.\n",
    "    # cmap is the colormap used to color the cells of the confusion matrix. \n",
    "    plt.title(title) \n",
    "    plt.colorbar() # his adds a color bar next to the plot, indicating the color scale used in the heatmap. \n",
    "    tick_marks = np.arange(len(classes)) # np.arange(len(classes)) generates an array of tick positions (integers) from 0 to len(classes) - 1.\n",
    "    plt.xticks(tick_marks, classes, rotation=45)\n",
    "    plt.yticks(tick_marks, classes)\n",
    "\n",
    "    # Formatting the matrix values to show in the heatmap\n",
    "    fmt = '.2f' if normalize else 'd' # If confusion matrix is normalized then use floating-point numbers with 2 decimal places\n",
    "                                      # Otherwise, just use integers\n",
    "    thresh = cm.max() / 2. # `thresh` sets a threshold to determine how to color the text inside the cells of the confusion matrix.\n",
    "                           # cm.max(): This finds the maximum value in the confusion matrix. This could be the highest count or the highest proportion\n",
    "                           # This means that for any cell with a value greater than `thresh`, the text will be white\n",
    "                           # for any cell with a value less than or equal to `thresh`, the text will be black.\n",
    "\n",
    "    for i, j in itertools.product(range(cm.shape[0]), range(cm.shape[1])):\n",
    "        plt.text(j, i, format(cm[i, j], fmt),\n",
    "                 horizontalalignment=\"center\",\n",
    "                 color=\"white\" if cm[i, j] > thresh else \"black\")\n",
    "\n",
    "    plt.tight_layout()\n",
    "    plt.ylabel('True label')\n",
    "    plt.xlabel('Predicted label')\n",
    "    plt.show()"
   ]
  },
  {
   "cell_type": "code",
   "execution_count": 32,
   "id": "67c97fd2-9286-42ab-b5fe-b5dd59f8c5bd",
   "metadata": {},
   "outputs": [
    {
     "name": "stdout",
     "output_type": "stream",
     "text": [
      "313/313 [==============================] - 0s 658us/step\n",
      "[[ 972    1    1    0    1    1    1    1    2    0]\n",
      " [   0 1128    1    1    0    0    2    1    1    1]\n",
      " [   2    2 1013    4    1    0    2    2    5    1]\n",
      " [   0    0    1  988    0   11    0    2    1    7]\n",
      " [   1    0    4    0  961    0    4    3    1    8]\n",
      " [   2    0    0    4    1  883    0    0    1    1]\n",
      " [   2    3    1    1    3    8  939    0    1    0]\n",
      " [   0    2    9    2    0    0    0 1009    1    5]\n",
      " [   1    0    4    8    4    6    0    3  941    7]\n",
      " [   1    2    2    1    4    4    0    4    0  991]]\n",
      "Normalized confusion matrix (proportion)\n",
      "[[9.91836735e-01 1.02040816e-03 1.02040816e-03 0.00000000e+00\n",
      "  1.02040816e-03 1.02040816e-03 1.02040816e-03 1.02040816e-03\n",
      "  2.04081633e-03 0.00000000e+00]\n",
      " [0.00000000e+00 9.93832599e-01 8.81057269e-04 8.81057269e-04\n",
      "  0.00000000e+00 0.00000000e+00 1.76211454e-03 8.81057269e-04\n",
      "  8.81057269e-04 8.81057269e-04]\n",
      " [1.93798450e-03 1.93798450e-03 9.81589147e-01 3.87596899e-03\n",
      "  9.68992248e-04 0.00000000e+00 1.93798450e-03 1.93798450e-03\n",
      "  4.84496124e-03 9.68992248e-04]\n",
      " [0.00000000e+00 0.00000000e+00 9.90099010e-04 9.78217822e-01\n",
      "  0.00000000e+00 1.08910891e-02 0.00000000e+00 1.98019802e-03\n",
      "  9.90099010e-04 6.93069307e-03]\n",
      " [1.01832994e-03 0.00000000e+00 4.07331976e-03 0.00000000e+00\n",
      "  9.78615071e-01 0.00000000e+00 4.07331976e-03 3.05498982e-03\n",
      "  1.01832994e-03 8.14663951e-03]\n",
      " [2.24215247e-03 0.00000000e+00 0.00000000e+00 4.48430493e-03\n",
      "  1.12107623e-03 9.89910314e-01 0.00000000e+00 0.00000000e+00\n",
      "  1.12107623e-03 1.12107623e-03]\n",
      " [2.08768267e-03 3.13152401e-03 1.04384134e-03 1.04384134e-03\n",
      "  3.13152401e-03 8.35073069e-03 9.80167015e-01 0.00000000e+00\n",
      "  1.04384134e-03 0.00000000e+00]\n",
      " [0.00000000e+00 1.94552529e-03 8.75486381e-03 1.94552529e-03\n",
      "  0.00000000e+00 0.00000000e+00 0.00000000e+00 9.81517510e-01\n",
      "  9.72762646e-04 4.86381323e-03]\n",
      " [1.02669405e-03 0.00000000e+00 4.10677618e-03 8.21355236e-03\n",
      "  4.10677618e-03 6.16016427e-03 0.00000000e+00 3.08008214e-03\n",
      "  9.66119097e-01 7.18685832e-03]\n",
      " [9.91080278e-04 1.98216056e-03 1.98216056e-03 9.91080278e-04\n",
      "  3.96432111e-03 3.96432111e-03 0.00000000e+00 3.96432111e-03\n",
      "  0.00000000e+00 9.82160555e-01]]\n"
     ]
    },
    {
     "data": {
      "image/png": "[encoded data removed]",
      "text/plain": [
       "<Figure size 640x480 with 2 Axes>"
      ]
     },
     "metadata": {},
     "output_type": "display_data"
    }
   ],
   "source": [
    "p_test = model.predict(test_images).argmax(axis=1)\n",
    "# `argmax(axis=1)` returns the index (category) of the maximum value along the specified axis.\r",
    "cm = confusion_matrix(test_labels, p_test)\n",
    "print(cm)\n",
    "plot_confusion_matrix(cm, list(range(10)), normalize=True)\n"
   ]
  },
  {
   "cell_type": "code",
   "execution_count": 33,
   "id": "111d4a25-2fda-4361-a2c1-b408c3e402d0",
   "metadata": {},
   "outputs": [
    {
     "name": "stdout",
     "output_type": "stream",
     "text": [
      "[  96  115  149  217  247  321  340  445  447  495  543  582  659  684\n",
      "  691  720  740  810  844  882  938  947  951 1014 1039 1101 1112 1156\n",
      " 1178 1181 1182 1226 1242 1247 1260 1319 1328 1393 1395 1522 1530 1549\n",
      " 1609 1681 1686 1790 1800 1878 1901 1982 2004 2024 2053 2109 2135 2182\n",
      " 2293 2387 2422 2462 2488 2534 2582 2597 2598 2607 2648 2654 2721 2877\n",
      " 2921 2939 2953 3012 3023 3060 3073 3117 3218 3289 3422 3490 3503 3520\n",
      " 3558 3727 3751 3780 3808 3818 3853 3893 3941 3943 4065 4075 4078 4156\n",
      " 4163 4176 4199 4201 4248 4289 4369 4380 4433 4437 4497 4536 4571 4578\n",
      " 4635 4639 4740 4751 4807 4814 4823 4880 4956 5046 5331 5495 5623 5634\n",
      " 5642 5676 5734 5749 5757 5936 5955 5973 6004 6011 6023 6024 6059 6532\n",
      " 6555 6574 6597 6625 6651 6755 6783 7107 7434 7921 8059 8094 8246 8277\n",
      " 8325 8362 8527 9009 9015 9019 9024 9280 9316 9587 9634 9679 9692 9700\n",
      " 9735 9745 9768 9770 9792 9839 9944]\n"
     ]
    },
    {
     "data": {
      "image/png": "[encoded data removed]",
      "text/plain": [
       "<Figure size 640x480 with 1 Axes>"
      ]
     },
     "metadata": {},
     "output_type": "display_data"
    }
   ],
   "source": [
    "# Show some misclassified examples\n",
    "misclassified_idx = np.where(p_test != test_labels)[0]\n",
    "print(misclassified_idx)\n",
    "\n",
    "i = np.random.choice(misclassified_idx)\n",
    "plt.imshow(test_images[i], cmap='gray')\n",
    "plt.title(\"True label: %s Predicted: %s\" %(test_labels[i], p_test[i])); # semi-colon is used to suppress any unnecessary extra output displayed\n",
    "# in %(test_labels[i], p_test[i]), % is an operator to tell Python to substitue the values into the placeholders in the string"
   ]
  },
  {
   "cell_type": "markdown",
   "id": "7486b266-7a57-4624-8746-7af98c40e13a",
   "metadata": {},
   "source": [
    "## ANN Regression"
   ]
  },
  {
   "cell_type": "code",
   "execution_count": 34,
   "id": "cc8cbf9a-fd78-4b7d-909b-afa0f3800b65",
   "metadata": {},
   "outputs": [],
   "source": [
    "from mpl_toolkits.mplot3d import Axes3D  # for 3D plotting"
   ]
  },
  {
   "cell_type": "code",
   "execution_count": 35,
   "id": "9aecc04a-ee2e-41bb-909f-aca61849f9a4",
   "metadata": {},
   "outputs": [
    {
     "name": "stdout",
     "output_type": "stream",
     "text": [
      "(1000, 2)\n",
      "(1000,)\n"
     ]
    }
   ],
   "source": [
    "# make the dataset (synthetic data)\n",
    "N = 1000\n",
    "X = np.random.random((N,2))*6 - 3 # To generate 2D data points uniformly distributed between (-3, 3) from uniform(0, 1)\n",
    "Y = np.cos(2*X[:, 0]) + np.cos(3*X[:, 1])\n",
    "print(X.shape)\n",
    "print(Y.shape)"
   ]
  },
  {
   "cell_type": "markdown",
   "id": "b2a700d3-25ad-415b-97d9-c1026aedd40a",
   "metadata": {},
   "source": [
    "* This implenets the function:\n",
    "$$ y = cos(2x_1) + cos(3x_2)$$"
   ]
  },
  {
   "cell_type": "code",
   "execution_count": 41,
   "id": "b739bb74-b850-40c8-9855-6d143b923dcc",
   "metadata": {},
   "outputs": [
    {
     "data": {
      "image/png": "[encoded data removed]",
      "text/plain": [
       "<Figure size 640x480 with 1 Axes>"
      ]
     },
     "metadata": {},
     "output_type": "display_data"
    }
   ],
   "source": [
    "# plot it\n",
    "fig = plt.figure() # create an empty figure\n",
    "ax = fig.add_subplot(111, projection ='3d') # add 3 d plot to an existing figure object (fig)\n",
    "# 111 is shorthand notation that tells Matplotlib to create a grid of subplots with 1 row, 1 column (final subplot of 1x1 grid)\n",
    "ax.scatter(X[:,0], X[:,1], Y)\n",
    "\n",
    "# Rotate the 3D plot by setting the elevation and azimuth angles\n",
    "ax.view_init(elev=20, azim=30)  # adjust elev and azim as needed\n",
    "\n",
    "plt.show()"
   ]
  },
  {
   "cell_type": "code",
   "execution_count": 43,
   "id": "8de7a88d-3397-44c8-91cc-60aff1315863",
   "metadata": {},
   "outputs": [],
   "source": [
    "# Build the model\n",
    "model = tf.keras.models.Sequential([\n",
    "    tf.keras.layers.Dense(128, input_shape=(2,), activation='relu'), # one hidden layer with 128 neurons\n",
    "    tf.keras.layers.Dense(1) # due to regression, we do not need activation function here\n",
    "])\n"
   ]
  },
  {
   "cell_type": "code",
   "execution_count": 44,
   "id": "035ee95e-ba81-4931-87fe-3b8811e3d5e3",
   "metadata": {},
   "outputs": [
    {
     "name": "stdout",
     "output_type": "stream",
     "text": [
      "Epoch 1/100\n",
      "32/32 [==============================] - 0s 466us/step - loss: 1.0508\n",
      "Epoch 2/100\n",
      "32/32 [==============================] - 0s 469us/step - loss: 0.9790\n",
      "Epoch 3/100\n",
      "32/32 [==============================] - 0s 452us/step - loss: 0.9497\n",
      "Epoch 4/100\n",
      "32/32 [==============================] - 0s 431us/step - loss: 0.9374\n",
      "Epoch 5/100\n",
      "32/32 [==============================] - 0s 468us/step - loss: 0.8927\n",
      "Epoch 6/100\n",
      "32/32 [==============================] - 0s 442us/step - loss: 0.8739\n",
      "Epoch 7/100\n",
      "32/32 [==============================] - 0s 468us/step - loss: 0.7749\n",
      "Epoch 8/100\n",
      "32/32 [==============================] - 0s 460us/step - loss: 0.7605\n",
      "Epoch 9/100\n",
      "32/32 [==============================] - 0s 469us/step - loss: 0.6712\n",
      "Epoch 10/100\n",
      "32/32 [==============================] - 0s 455us/step - loss: 0.6683\n",
      "Epoch 11/100\n",
      "32/32 [==============================] - 0s 620us/step - loss: 0.5765\n",
      "Epoch 12/100\n",
      "32/32 [==============================] - 0s 475us/step - loss: 0.5583\n",
      "Epoch 13/100\n",
      "32/32 [==============================] - 0s 421us/step - loss: 0.5490\n",
      "Epoch 14/100\n",
      "32/32 [==============================] - 0s 468us/step - loss: 0.5293\n",
      "Epoch 15/100\n",
      "32/32 [==============================] - 0s 422us/step - loss: 0.5217\n",
      "Epoch 16/100\n",
      "32/32 [==============================] - 0s 460us/step - loss: 0.5192\n",
      "Epoch 17/100\n",
      "32/32 [==============================] - 0s 452us/step - loss: 0.5238\n",
      "Epoch 18/100\n",
      "32/32 [==============================] - 0s 434us/step - loss: 0.5140\n",
      "Epoch 19/100\n",
      "32/32 [==============================] - 0s 423us/step - loss: 0.5166\n",
      "Epoch 20/100\n",
      "32/32 [==============================] - 0s 436us/step - loss: 0.5149\n",
      "Epoch 21/100\n",
      "32/32 [==============================] - 0s 436us/step - loss: 0.5816\n",
      "Epoch 22/100\n",
      "32/32 [==============================] - 0s 428us/step - loss: 0.5486\n",
      "Epoch 23/100\n",
      "32/32 [==============================] - 0s 422us/step - loss: 0.5168\n",
      "Epoch 24/100\n",
      "32/32 [==============================] - 0s 484us/step - loss: 0.4942\n",
      "Epoch 25/100\n",
      "32/32 [==============================] - 0s 472us/step - loss: 0.4744\n",
      "Epoch 26/100\n",
      "32/32 [==============================] - 0s 459us/step - loss: 0.4512\n",
      "Epoch 27/100\n",
      "32/32 [==============================] - 0s 436us/step - loss: 0.4607\n",
      "Epoch 28/100\n",
      "32/32 [==============================] - 0s 422us/step - loss: 0.4569\n",
      "Epoch 29/100\n",
      "32/32 [==============================] - 0s 470us/step - loss: 0.4671\n",
      "Epoch 30/100\n",
      "32/32 [==============================] - 0s 420us/step - loss: 0.4487\n",
      "Epoch 31/100\n",
      "32/32 [==============================] - 0s 456us/step - loss: 0.4782\n",
      "Epoch 32/100\n",
      "32/32 [==============================] - 0s 428us/step - loss: 0.3916\n",
      "Epoch 33/100\n",
      "32/32 [==============================] - 0s 438us/step - loss: 0.4191\n",
      "Epoch 34/100\n",
      "32/32 [==============================] - 0s 426us/step - loss: 0.3880\n",
      "Epoch 35/100\n",
      "32/32 [==============================] - 0s 502us/step - loss: 0.3924\n",
      "Epoch 36/100\n",
      "32/32 [==============================] - 0s 422us/step - loss: 0.4109\n",
      "Epoch 37/100\n",
      "32/32 [==============================] - 0s 436us/step - loss: 0.3450\n",
      "Epoch 38/100\n",
      "32/32 [==============================] - 0s 468us/step - loss: 0.3462\n",
      "Epoch 39/100\n",
      "32/32 [==============================] - 0s 468us/step - loss: 0.3653\n",
      "Epoch 40/100\n",
      "32/32 [==============================] - 0s 423us/step - loss: 0.3369\n",
      "Epoch 41/100\n",
      "32/32 [==============================] - 0s 485us/step - loss: 0.3396\n",
      "Epoch 42/100\n",
      "32/32 [==============================] - 0s 549us/step - loss: 0.3039\n",
      "Epoch 43/100\n",
      "32/32 [==============================] - 0s 504us/step - loss: 0.3136\n",
      "Epoch 44/100\n",
      "32/32 [==============================] - 0s 504us/step - loss: 0.2793\n",
      "Epoch 45/100\n",
      "32/32 [==============================] - 0s 468us/step - loss: 0.2759\n",
      "Epoch 46/100\n",
      "32/32 [==============================] - 0s 492us/step - loss: 0.2936\n",
      "Epoch 47/100\n",
      "32/32 [==============================] - 0s 413us/step - loss: 0.2848\n",
      "Epoch 48/100\n",
      "32/32 [==============================] - 0s 392us/step - loss: 0.2646\n",
      "Epoch 49/100\n",
      "32/32 [==============================] - 0s 412us/step - loss: 0.2407\n",
      "Epoch 50/100\n",
      "32/32 [==============================] - 0s 433us/step - loss: 0.2296\n",
      "Epoch 51/100\n",
      "32/32 [==============================] - 0s 471us/step - loss: 0.2270\n",
      "Epoch 52/100\n",
      "32/32 [==============================] - 0s 461us/step - loss: 0.1983\n",
      "Epoch 53/100\n",
      "32/32 [==============================] - 0s 477us/step - loss: 0.2140\n",
      "Epoch 54/100\n",
      "32/32 [==============================] - 0s 484us/step - loss: 0.1677\n",
      "Epoch 55/100\n",
      "32/32 [==============================] - 0s 468us/step - loss: 0.1603\n",
      "Epoch 56/100\n",
      "32/32 [==============================] - 0s 517us/step - loss: 0.1344\n",
      "Epoch 57/100\n",
      "32/32 [==============================] - 0s 452us/step - loss: 0.1271\n",
      "Epoch 58/100\n",
      "32/32 [==============================] - 0s 468us/step - loss: 0.1192\n",
      "Epoch 59/100\n",
      "32/32 [==============================] - 0s 422us/step - loss: 0.1117\n",
      "Epoch 60/100\n",
      "32/32 [==============================] - 0s 425us/step - loss: 0.0917\n",
      "Epoch 61/100\n",
      "32/32 [==============================] - 0s 419us/step - loss: 0.0808\n",
      "Epoch 62/100\n",
      "32/32 [==============================] - 0s 452us/step - loss: 0.0635\n",
      "Epoch 63/100\n",
      "32/32 [==============================] - 0s 452us/step - loss: 0.0585\n",
      "Epoch 64/100\n",
      "32/32 [==============================] - 0s 484us/step - loss: 0.0791\n",
      "Epoch 65/100\n",
      "32/32 [==============================] - 0s 468us/step - loss: 0.0554\n",
      "Epoch 66/100\n",
      "32/32 [==============================] - 0s 484us/step - loss: 0.0554\n",
      "Epoch 67/100\n",
      "32/32 [==============================] - 0s 484us/step - loss: 0.0340\n",
      "Epoch 68/100\n",
      "32/32 [==============================] - 0s 419us/step - loss: 0.0432\n",
      "Epoch 69/100\n",
      "32/32 [==============================] - 0s 419us/step - loss: 0.0336\n",
      "Epoch 70/100\n",
      "32/32 [==============================] - 0s 452us/step - loss: 0.0350\n",
      "Epoch 71/100\n",
      "32/32 [==============================] - 0s 484us/step - loss: 0.0212\n",
      "Epoch 72/100\n",
      "32/32 [==============================] - 0s 454us/step - loss: 0.0162\n",
      "Epoch 73/100\n",
      "32/32 [==============================] - 0s 419us/step - loss: 0.0152\n",
      "Epoch 74/100\n",
      "32/32 [==============================] - 0s 452us/step - loss: 0.0148\n",
      "Epoch 75/100\n",
      "32/32 [==============================] - 0s 452us/step - loss: 0.0114\n",
      "Epoch 76/100\n",
      "32/32 [==============================] - 0s 452us/step - loss: 0.0114\n",
      "Epoch 77/100\n",
      "32/32 [==============================] - 0s 419us/step - loss: 0.0112\n",
      "Epoch 78/100\n",
      "32/32 [==============================] - 0s 454us/step - loss: 0.0118\n",
      "Epoch 79/100\n",
      "32/32 [==============================] - 0s 452us/step - loss: 0.0099\n",
      "Epoch 80/100\n",
      "32/32 [==============================] - 0s 419us/step - loss: 0.0091\n",
      "Epoch 81/100\n",
      "32/32 [==============================] - 0s 452us/step - loss: 0.0173\n",
      "Epoch 82/100\n",
      "32/32 [==============================] - 0s 419us/step - loss: 0.0263\n",
      "Epoch 83/100\n",
      "32/32 [==============================] - 0s 452us/step - loss: 0.0236\n",
      "Epoch 84/100\n",
      "32/32 [==============================] - 0s 419us/step - loss: 0.0123\n",
      "Epoch 85/100\n",
      "32/32 [==============================] - 0s 422us/step - loss: 0.0102\n",
      "Epoch 86/100\n",
      "32/32 [==============================] - 0s 452us/step - loss: 0.0156\n",
      "Epoch 87/100\n",
      "32/32 [==============================] - 0s 419us/step - loss: 0.0110\n",
      "Epoch 88/100\n",
      "32/32 [==============================] - 0s 419us/step - loss: 0.0097\n",
      "Epoch 89/100\n",
      "32/32 [==============================] - 0s 437us/step - loss: 0.0114\n",
      "Epoch 90/100\n",
      "32/32 [==============================] - 0s 452us/step - loss: 0.0083\n",
      "Epoch 91/100\n",
      "32/32 [==============================] - 0s 468us/step - loss: 0.0168\n",
      "Epoch 92/100\n",
      "32/32 [==============================] - 0s 452us/step - loss: 0.0110\n",
      "Epoch 93/100\n",
      "32/32 [==============================] - 0s 452us/step - loss: 0.0108\n",
      "Epoch 94/100\n",
      "32/32 [==============================] - 0s 581us/step - loss: 0.0113\n",
      "Epoch 95/100\n",
      "32/32 [==============================] - 0s 452us/step - loss: 0.0143\n",
      "Epoch 96/100\n",
      "32/32 [==============================] - 0s 452us/step - loss: 0.0228\n",
      "Epoch 97/100\n",
      "32/32 [==============================] - 0s 422us/step - loss: 0.0120\n",
      "Epoch 98/100\n",
      "32/32 [==============================] - 0s 452us/step - loss: 0.0087\n",
      "Epoch 99/100\n",
      "32/32 [==============================] - 0s 419us/step - loss: 0.0114\n",
      "Epoch 100/100\n",
      "32/32 [==============================] - 0s 419us/step - loss: 0.0113\n"
     ]
    }
   ],
   "source": [
    "# Compile and fit\n",
    "opt = tf.keras.optimizers.Adam(.01) # Adam (Adaptive Moment Estimation) optimizer with a specified learning rate of .01\n",
    "# Adam combines the benefits of two popular optimizers\n",
    "# * Momentum: Helps accelerate gradient descent by considering the previous gradients to smooth the update steps.\n",
    "# * RMSProp: Adjusts the learning rate based on recent gradient magnitudes to help maintain a good learning speed.\n",
    "model.compile(optimizer=opt, loss='mse')\n",
    "r = model.fit(X,Y, epochs=100)"
   ]
  },
  {
   "cell_type": "code",
   "execution_count": 45,
   "id": "553f9b04-ab10-4d3a-bb79-74cf1ad03088",
   "metadata": {},
   "outputs": [
    {
     "data": {
      "text/plain": [
       "[<matplotlib.lines.Line2D at 0x237952a9430>]"
      ]
     },
     "execution_count": 45,
     "metadata": {},
     "output_type": "execute_result"
    },
    {
     "data": {
      "image/png": "[encoded data removed]",
      "text/plain": [
       "<Figure size 640x480 with 1 Axes>"
      ]
     },
     "metadata": {},
     "output_type": "display_data"
    }
   ],
   "source": [
    "# Plot the loss\n",
    "plt.plot(r.history['loss'], label='loss')"
   ]
  },
  {
   "cell_type": "code",
   "execution_count": 50,
   "id": "1f8803d8-e330-430c-9dcc-f58d5e6cb274",
   "metadata": {},
   "outputs": [
    {
     "name": "stdout",
     "output_type": "stream",
     "text": [
      "(50, 50)\n",
      "(50, 50)\n",
      "(2500, 2)\n",
      "79/79 [==============================] - 0s 353us/step\n",
      "(2500,)\n"
     ]
    },
    {
     "data": {
      "image/png": "[encoded data removed]",
      "text/plain": [
       "<Figure size 640x480 with 1 Axes>"
      ]
     },
     "metadata": {},
     "output_type": "display_data"
    }
   ],
   "source": [
    "# Plot the prediction surface\n",
    "\n",
    "# Plot the data first\n",
    "fig = plt.figure()\n",
    "ax = fig.add_subplot(111, projection='3d')\n",
    "ax.scatter(X[:,0], X[:,1], Y)\n",
    "\n",
    "# Surface plot\n",
    "line = np.linspace(-3, 3, 50) # 50 evenly spaced points between (-3, 3) -> 1d array of shape (50,)\n",
    "xx, yy = np.meshgrid(line, line) # cross product between these two sets of points; every x1 and every x2 are paired each other\n",
    "print(xx.shape)\n",
    "print(yy.shape)\n",
    "\n",
    "# Since input expects N by 2 array\n",
    "Xgrid = np.vstack((xx.flatten(), yy.flatten())).T # Stacks these two flattened arrays vertically, then transpose the results\n",
    "# After flatten, xx.flatten() shape becomes (2500,) and the same as yy.flatten\n",
    "# after vstack these two 1D arrrays, it becomes (2, 2500)\n",
    "# after transpose the shape is (2500,2)\n",
    "print(Xgrid.shape)\n",
    "\n",
    "Yhat = model.predict(Xgrid).flatten()\n",
    "# Steps = Total number of samples / Batch size\n",
    "# Steps = 2500 / 32 ≈ 78.125 -> TensorFlow will round up to ensure that all samples are processed, resulting in 79 steps.\n",
    "\n",
    "print(Yhat.shape)\n",
    "\n",
    "# 3D triangular surface plot: allows you to visualize data that is unevenly distributed \n",
    "ax.plot_trisurf(Xgrid[:,0], Xgrid[:,1], Yhat, linewidth=.2, antialiased = True) # antialiased = True ensures that the surface plot has smoother lines\n",
    "plt.show()"
   ]
  },
  {
   "cell_type": "markdown",
   "id": "f3ef0c0b-7b79-44f9-a4b7-d8d66bee3a54",
   "metadata": {},
   "source": [
    "## 3.4 Classifying movie reviews: a binary classification example\n",
    "\n",
    "In this example, you’ll learn to classify movie reviews as positive or negative, based on the text content of the reviews.\n",
    "\n",
    "### 3.4.1 The IMDB dataset\n",
    "* a set of 50,000 highly polarized reviews from the Internet Movie Database.\n",
    "* They’re split into 25,000 reviews for training and 25,000 reviews for testing, each set consisting of 50% negative and 50% positive reviews.\n",
    "* The IMDB dataset comes packaged with Keras.\n",
    "* It has already been preprocessed:\n",
    "  - the reviews (sequences of words) have been turned into sequences of integers, where each integer stands for a specific word in a dictionary."
   ]
  },
  {
   "cell_type": "code",
   "execution_count": 4,
   "id": "e031fbf4-e806-417f-bce2-511f59cd12fe",
   "metadata": {},
   "outputs": [
    {
     "name": "stdout",
     "output_type": "stream",
     "text": [
      "Downloading data from https://storage.googleapis.com/tensorflow/tf-keras-datasets/imdb.npz\n",
      "17464789/17464789 [==============================] - 1s 0us/step\n"
     ]
    }
   ],
   "source": [
    "# Loading the IMDB dataset (~ 80 MB of data)\n",
    "from keras.datasets import imdb\n",
    "(train_data, train_labels), (test_data, test_labels) = imdb.load_data(num_words=10000)\n",
    "# only keep the top 10,000 most frequently occurring words in the training data; Rare words will be discarded.\n",
    "# train_data and test_data are lists of reviews where each review is a list of word indices (encoding a sequence of words).\n",
    "# train_labels and test_labels are lists of 0s and 1s, where 0 stands for negative and 1 stands for positive"
   ]
  },
  {
   "cell_type": "code",
   "execution_count": 60,
   "id": "c1b54c53-00ab-4610-a649-d81c83f6b9aa",
   "metadata": {},
   "outputs": [
    {
     "name": "stdout",
     "output_type": "stream",
     "text": [
      "[1, 17, 6, 194, 337, 7, 4, 204, 22, 45, 254, 8, 106, 14, 123, 4, 2, 270, 2, 5, 2, 2, 732, 2098, 101, 405, 39, 14, 1034, 4, 1310, 9, 115, 50, 305, 12, 47, 4, 168, 5, 235, 7, 38, 111, 699, 102, 7, 4, 4039, 9245, 9, 24, 6, 78, 1099, 17, 2345, 2, 21, 27, 9685, 6139, 5, 2, 1603, 92, 1183, 4, 1310, 7, 4, 204, 42, 97, 90, 35, 221, 109, 29, 127, 27, 118, 8, 97, 12, 157, 21, 6789, 2, 9, 6, 66, 78, 1099, 4, 631, 1191, 5, 2642, 272, 191, 1070, 6, 7585, 8, 2197, 2, 2, 544, 5, 383, 1271, 848, 1468, 2, 497, 2, 8, 1597, 8778, 2, 21, 60, 27, 239, 9, 43, 8368, 209, 405, 10, 10, 12, 764, 40, 4, 248, 20, 12, 16, 5, 174, 1791, 72, 7, 51, 6, 1739, 22, 4, 204, 131, 9]\n",
      "(25000,)\n",
      "0\n",
      "(25000,)\n"
     ]
    }
   ],
   "source": [
    "print(train_data[24999]) # print 0 to 24999\n",
    "print(train_data.shape)\n",
    "print(train_labels[24999])\n",
    "print(train_labels.shape)"
   ]
  },
  {
   "cell_type": "markdown",
   "id": "412f9c0b-c176-4aaa-8bf7-eaf6eba19185",
   "metadata": {},
   "source": [
    "### 3.4.2 Preparing the data\n",
    "You can’t feed lists of integers into a neural network. You have to turn your lists into tensors (multi-dimensional numerical arrays)."
   ]
  },
  {
   "cell_type": "code",
   "execution_count": 5,
   "id": "705dd751-cc72-47e0-863a-871f4230cede",
   "metadata": {},
   "outputs": [],
   "source": [
    "import numpy as np\n",
    "\n",
    "def vectorize_sequences(sequences, dimension=10000):\n",
    "    results = np.zeros((len(sequences), dimension)) # Creates an all-zero matrix of shape\n",
    "    for i, sequence in enumerate(sequences):\n",
    "        results[i, sequence] = 1. # Set specific indices of results[i] to 1s\n",
    "    return results"
   ]
  },
  {
   "cell_type": "markdown",
   "id": "02d9902f-dabc-4285-bc3f-0f7a0ef68a1a",
   "metadata": {},
   "source": [
    "* Example to use `vectorize_squences` function"
   ]
  },
  {
   "cell_type": "code",
   "execution_count": 62,
   "id": "ad85f66b-0c9d-4aa2-a08e-487865572ea1",
   "metadata": {},
   "outputs": [
    {
     "name": "stdout",
     "output_type": "stream",
     "text": [
      "[[0. 1. 0. 1. 0. 1.]\n",
      " [1. 0. 1. 1. 0. 0.]\n",
      " [0. 0. 1. 0. 1. 0.]]\n"
     ]
    }
   ],
   "source": [
    "# Example sequences (each sequence is a list of word indices)\n",
    "sequences = [\n",
    "    [1, 3, 5],    # first sequence\n",
    "    [0, 2, 3],    # second sequence\n",
    "    [2, 4]        # third sequence\n",
    "]\n",
    "\n",
    "# Vectorizing the example sequences\n",
    "vectorized_data = vectorize_sequences(sequences, dimension=6)  # Using 6 as the dimension (small for example purposes)\n",
    "\n",
    "print(vectorized_data)"
   ]
  },
  {
   "cell_type": "code",
   "execution_count": 6,
   "id": "4e3ee416-fc2f-4032-b9de-c9dfd1aeeb10",
   "metadata": {},
   "outputs": [
    {
     "name": "stdout",
     "output_type": "stream",
     "text": [
      "[0. 1. 1. ... 0. 0. 0.]\n",
      "(25000, 10000)\n",
      "0.0\n",
      "0.0\n"
     ]
    }
   ],
   "source": [
    "# Vectorize training and test data\n",
    "x_train = vectorize_sequences(train_data)\n",
    "x_test = vectorize_sequences(test_data)\n",
    "\n",
    "print(x_train[24999])\n",
    "print(x_train.shape)\n",
    "\n",
    "# also vectorize your labels (convert into a NumPy array)\n",
    "y_train = np.asarray(train_labels).astype('float32')\n",
    "y_test = np.asarray(test_labels).astype('float32')\n",
    "print(y_train[24999])\n",
    "print(y_test[24999])"
   ]
  },
  {
   "cell_type": "markdown",
   "id": "7db80cb3-0729-4835-a15b-be8531aeee2c",
   "metadata": {},
   "source": [
    "### 3.4.3 Building your network\n",
    "The input data is vectors, and the labels are scalars (1s and 0s): this is the easiest setup\n",
    "you’ll ever encounter. A type of network that performs well on such a problem is\n",
    "a simple stack of fully connected (Dense) layers with relu activations: Dense(16, activation='relu').\n",
    "The argument being passed to each Dense layer (16) is the number of hidden units of the layer.\n",
    "each such Dense layer with a relu activation implements the following chain of tensor operations:\n",
    "*    output = relu(dot(W, input) + b)\n",
    "Having 16 hidden units means the weight matrix W will have shape (input_dimension, 16): \n",
    "the dot product with W will project the input data onto a 16-dimensional representation space \n",
    "(and then you’ll add the bias vector b and apply the relu operation).\n",
    "Having more hidden units (a higher-dimensional representation space) allows your network to learn more-complex representations, \n",
    "but it makes the network more computationally expensive and may lead to learning unwanted patterns \n",
    "(patterns that will improve performance on the training data but not on the test data).\n",
    "\n",
    "There are two key architecture decisions to be made about such a stack of Dense layers:\n",
    "* How many layers to use\n",
    "* How many hidden units to choose for each layer\n",
    "\n",
    "For now, we will assume that\n",
    "* Two intermediate layers with 16 hidden units each\n",
    "* A third layer that will output the scalar prediction regarding the sentiment of the current review\n",
    "\n",
    "The intermediate layers will use relu as their activation function, and the final layer will use a sigmoid activation so as to output a probability (a score between 0 and 1, indicating how likely the sample is to have the target “1”: how likely the review is to be positive).\n",
    "\n",
    "The three-layer network is\n",
    "* input -> Dense (units = 16) -> Dense (Units = 16) -> Dense (Units = 1) -> Output"
   ]
  },
  {
   "cell_type": "code",
   "execution_count": 7,
   "id": "4382a153-e16b-498f-80c3-ede9c5dac5b3",
   "metadata": {},
   "outputs": [],
   "source": [
    "# Keras model implementation\n",
    "from keras import models\n",
    "from keras import layers\n",
    "\n",
    "model = models.Sequential()\n",
    "model.add(layers.Dense(16, activation='relu', input_shape=(10000,)))\n",
    "model.add(layers.Dense(16, activation='relu'))\n",
    "model.add(layers.Dense(1, activation='sigmoid'))"
   ]
  },
  {
   "cell_type": "markdown",
   "id": "6e7ae96b-51bc-4595-98ed-64249e93e5c8",
   "metadata": {},
   "source": [
    "Finally, you need to choose a loss function and an optimizer. Because you’re facing a\n",
    "binary classification problem and the output of your network is a probability (you end\n",
    "your network with a single-unit layer with a sigmoid activation), it’s best to use the *binary_crossentropy* loss.\n",
    "crossentropy is usually the best choice when you’re dealing with models that output probabilities.\n",
    "Crossentropy is a quantity from the field of Information Theory that measures the distance between probability distributions or, in this\n",
    "case, between the ground-truth distribution and your predictions."
   ]
  },
  {
   "cell_type": "code",
   "execution_count": 8,
   "id": "d7b1b6d5-021f-4f37-ade2-bca6c04bd2b3",
   "metadata": {},
   "outputs": [],
   "source": [
    "# Compiling the model by configuring the optimizer\n",
    "from keras import optimizers\n",
    "\n",
    "model.compile(optimizer=optimizers.RMSprop(learning_rate=0.001),\n",
    "              loss='binary_crossentropy',\n",
    "              metrics=['accuracy'])"
   ]
  },
  {
   "cell_type": "markdown",
   "id": "3fc458a4-431a-442d-88cf-3435a2a41af9",
   "metadata": {},
   "source": [
    "### 3.4.4 Validating your approach\n",
    "\n",
    "* Create a validation set by setting apart 10,000 samples from the original training data."
   ]
  },
  {
   "cell_type": "code",
   "execution_count": 11,
   "id": "44f3780c-bd64-4758-a68a-20dc2526d4b1",
   "metadata": {},
   "outputs": [
    {
     "name": "stdout",
     "output_type": "stream",
     "text": [
      "(25000, 10000)\n",
      "(10000, 10000)\n",
      "(15000, 10000)\n",
      "(10000,)\n",
      "(15000,)\n"
     ]
    }
   ],
   "source": [
    "# Setting aside a validation data\n",
    "x_val = x_train[:10000] #  takes the first 10,000 rows from x_train\n",
    "print(x_train.shape)\n",
    "print(x_val.shape)\n",
    "\n",
    "partial_x_train = x_train[10000:]\n",
    "print(partial_x_train.shape)\n",
    "\n",
    "y_val = y_train[:10000]\n",
    "partial_y_train = y_train[10000:]\n",
    "print(y_val.shape)\n",
    "print(partial_y_train.shape)"
   ]
  },
  {
   "cell_type": "markdown",
   "id": "bae800d3-a20d-428d-9a17-d18d023b7809",
   "metadata": {},
   "source": [
    "* train the model for 20 epochs (20 iterations over all samples in the x_train and y_train tensors), in mini-batches of 512 samples. At the same time, monitor loss and accuracy on the 10,000 samples that you set apart. You do so by passing the validation data as the validation_data argument."
   ]
  },
  {
   "cell_type": "code",
   "execution_count": 12,
   "id": "34a1e227-c876-45bd-8011-eea1b9524de7",
   "metadata": {},
   "outputs": [
    {
     "name": "stdout",
     "output_type": "stream",
     "text": [
      "Epoch 1/20\n",
      "30/30 [==============================] - 2s 33ms/step - loss: 0.5856 - acc: 0.7233 - val_loss: 0.4775 - val_acc: 0.8413\n",
      "Epoch 2/20\n",
      "30/30 [==============================] - 0s 13ms/step - loss: 0.3938 - acc: 0.8796 - val_loss: 0.3657 - val_acc: 0.8675\n",
      "Epoch 3/20\n",
      "30/30 [==============================] - 0s 12ms/step - loss: 0.2863 - acc: 0.9127 - val_loss: 0.3048 - val_acc: 0.8853\n",
      "Epoch 4/20\n",
      "30/30 [==============================] - 0s 11ms/step - loss: 0.2269 - acc: 0.9287 - val_loss: 0.2821 - val_acc: 0.8872\n",
      "Epoch 5/20\n",
      "30/30 [==============================] - 0s 12ms/step - loss: 0.1856 - acc: 0.9423 - val_loss: 0.2783 - val_acc: 0.8874\n",
      "Epoch 6/20\n",
      "30/30 [==============================] - 0s 12ms/step - loss: 0.1565 - acc: 0.9522 - val_loss: 0.3152 - val_acc: 0.8747\n",
      "Epoch 7/20\n",
      "30/30 [==============================] - 0s 11ms/step - loss: 0.1333 - acc: 0.9591 - val_loss: 0.2856 - val_acc: 0.8852\n",
      "Epoch 8/20\n",
      "30/30 [==============================] - 0s 11ms/step - loss: 0.1146 - acc: 0.9662 - val_loss: 0.3181 - val_acc: 0.8775\n",
      "Epoch 9/20\n",
      "30/30 [==============================] - 0s 11ms/step - loss: 0.0957 - acc: 0.9741 - val_loss: 0.3111 - val_acc: 0.8835\n",
      "Epoch 10/20\n",
      "30/30 [==============================] - 0s 12ms/step - loss: 0.0831 - acc: 0.9783 - val_loss: 0.3286 - val_acc: 0.8802\n",
      "Epoch 11/20\n",
      "30/30 [==============================] - 0s 12ms/step - loss: 0.0706 - acc: 0.9818 - val_loss: 0.3413 - val_acc: 0.8810\n",
      "Epoch 12/20\n",
      "30/30 [==============================] - 0s 11ms/step - loss: 0.0584 - acc: 0.9867 - val_loss: 0.3604 - val_acc: 0.8790\n",
      "Epoch 13/20\n",
      "30/30 [==============================] - 0s 11ms/step - loss: 0.0481 - acc: 0.9897 - val_loss: 0.3931 - val_acc: 0.8767\n",
      "Epoch 14/20\n",
      "30/30 [==============================] - 0s 11ms/step - loss: 0.0407 - acc: 0.9918 - val_loss: 0.4141 - val_acc: 0.8719\n",
      "Epoch 15/20\n",
      "30/30 [==============================] - 0s 11ms/step - loss: 0.0333 - acc: 0.9946 - val_loss: 0.4373 - val_acc: 0.8719\n",
      "Epoch 16/20\n",
      "30/30 [==============================] - 0s 11ms/step - loss: 0.0277 - acc: 0.9959 - val_loss: 0.4496 - val_acc: 0.8736\n",
      "Epoch 17/20\n",
      "30/30 [==============================] - 0s 11ms/step - loss: 0.0229 - acc: 0.9971 - val_loss: 0.4717 - val_acc: 0.8734\n",
      "Epoch 18/20\n",
      "30/30 [==============================] - 0s 12ms/step - loss: 0.0201 - acc: 0.9971 - val_loss: 0.4975 - val_acc: 0.8713\n",
      "Epoch 19/20\n",
      "30/30 [==============================] - 0s 12ms/step - loss: 0.0139 - acc: 0.9991 - val_loss: 0.5226 - val_acc: 0.8707\n",
      "Epoch 20/20\n",
      "30/30 [==============================] - 0s 10ms/step - loss: 0.0114 - acc: 0.9991 - val_loss: 0.5555 - val_acc: 0.8700\n"
     ]
    }
   ],
   "source": [
    "# Training the model\n",
    "model.compile(optimizer='rmsprop',\n",
    "              loss='binary_crossentropy',\n",
    "              metrics=['acc'])\n",
    "history = model.fit(partial_x_train,\n",
    "                    partial_y_train,\n",
    "                    epochs=20,\n",
    "                    batch_size=512, # batch size can be chosen for any power of 2\n",
    "                    validation_data=(x_val, y_val))"
   ]
  },
  {
   "cell_type": "code",
   "execution_count": 14,
   "id": "e1e4e196-33ae-4be4-b12d-2c3bdef1e531",
   "metadata": {},
   "outputs": [
    {
     "data": {
      "text/plain": [
       "dict_keys(['loss', 'acc', 'val_loss', 'val_acc'])"
      ]
     },
     "execution_count": 14,
     "metadata": {},
     "output_type": "execute_result"
    }
   ],
   "source": [
    "# Let's make a dictionary containing data about everything that happened during training\n",
    "history_dict = history.history\n",
    "history_dict.keys()\n",
    "# The dictionary contains four entries: one per metric that was being monitored during training and during validation."
   ]
  },
  {
   "cell_type": "code",
   "execution_count": 16,
   "id": "56517834-20be-466d-bb4b-8370c85d9bb3",
   "metadata": {},
   "outputs": [
    {
     "name": "stdout",
     "output_type": "stream",
     "text": [
      "Collecting matplotlib\n",
      "  Downloading matplotlib-3.7.5-cp38-cp38-win_amd64.whl.metadata (5.8 kB)\n",
      "Collecting contourpy>=1.0.1 (from matplotlib)\n",
      "  Downloading contourpy-1.1.1-cp38-cp38-win_amd64.whl.metadata (5.9 kB)\n",
      "Collecting cycler>=0.10 (from matplotlib)\n",
      "  Downloading cycler-0.12.1-py3-none-any.whl.metadata (3.8 kB)\n",
      "Collecting fonttools>=4.22.0 (from matplotlib)\n",
      "  Downloading fonttools-4.54.1-cp38-cp38-win_amd64.whl.metadata (167 kB)\n",
      "Collecting kiwisolver>=1.0.1 (from matplotlib)\n",
      "  Downloading kiwisolver-1.4.7-cp38-cp38-win_amd64.whl.metadata (6.4 kB)\n",
      "Requirement already satisfied: numpy<2,>=1.20 in c:\\users\\006816379\\appdata\\local\\anaconda3\\envs\\tf\\lib\\site-packages (from matplotlib) (1.24.3)\n",
      "Requirement already satisfied: packaging>=20.0 in c:\\users\\006816379\\appdata\\local\\anaconda3\\envs\\tf\\lib\\site-packages (from matplotlib) (24.1)\n",
      "Collecting pillow>=6.2.0 (from matplotlib)\n",
      "  Downloading pillow-10.4.0-cp38-cp38-win_amd64.whl.metadata (9.3 kB)\n",
      "Collecting pyparsing>=2.3.1 (from matplotlib)\n",
      "  Downloading pyparsing-3.1.4-py3-none-any.whl.metadata (5.1 kB)\n",
      "Requirement already satisfied: python-dateutil>=2.7 in c:\\users\\006816379\\appdata\\local\\anaconda3\\envs\\tf\\lib\\site-packages (from matplotlib) (2.9.0.post0)\n",
      "Requirement already satisfied: importlib-resources>=3.2.0 in c:\\users\\006816379\\appdata\\local\\anaconda3\\envs\\tf\\lib\\site-packages (from matplotlib) (6.4.0)\n",
      "Requirement already satisfied: zipp>=3.1.0 in c:\\users\\006816379\\appdata\\local\\anaconda3\\envs\\tf\\lib\\site-packages (from importlib-resources>=3.2.0->matplotlib) (3.17.0)\n",
      "Requirement already satisfied: six>=1.5 in c:\\users\\006816379\\appdata\\local\\anaconda3\\envs\\tf\\lib\\site-packages (from python-dateutil>=2.7->matplotlib) (1.16.0)\n",
      "Downloading matplotlib-3.7.5-cp38-cp38-win_amd64.whl (7.5 MB)\n",
      "   ---------------------------------------- 0.0/7.5 MB ? eta -:--:--\n",
      "   ------------ --------------------------- 2.4/7.5 MB 12.2 MB/s eta 0:00:01\n",
      "   -------------------------- ------------- 5.0/7.5 MB 11.6 MB/s eta 0:00:01\n",
      "   ---------------------------------------  7.3/7.5 MB 11.6 MB/s eta 0:00:01\n",
      "   ---------------------------------------- 7.5/7.5 MB 11.3 MB/s eta 0:00:00\n",
      "Downloading contourpy-1.1.1-cp38-cp38-win_amd64.whl (477 kB)\n",
      "Downloading cycler-0.12.1-py3-none-any.whl (8.3 kB)\n",
      "Downloading fonttools-4.54.1-cp38-cp38-win_amd64.whl (1.5 MB)\n",
      "   ---------------------------------------- 0.0/1.5 MB ? eta -:--:--\n",
      "   ---------------------------------------- 1.5/1.5 MB 11.7 MB/s eta 0:00:00\n",
      "Downloading kiwisolver-1.4.7-cp38-cp38-win_amd64.whl (55 kB)\n",
      "Downloading pillow-10.4.0-cp38-cp38-win_amd64.whl (2.6 MB)\n",
      "   ---------------------------------------- 0.0/2.6 MB ? eta -:--:--\n",
      "   ------------------------------------ --- 2.4/2.6 MB 12.2 MB/s eta 0:00:01\n",
      "   ---------------------------------------- 2.6/2.6 MB 11.3 MB/s eta 0:00:00\n",
      "Downloading pyparsing-3.1.4-py3-none-any.whl (104 kB)\n",
      "Installing collected packages: pyparsing, pillow, kiwisolver, fonttools, cycler, contourpy, matplotlib\n",
      "Successfully installed contourpy-1.1.1 cycler-0.12.1 fonttools-4.54.1 kiwisolver-1.4.7 matplotlib-3.7.5 pillow-10.4.0 pyparsing-3.1.4\n",
      "Note: you may need to restart the kernel to use updated packages.\n"
     ]
    }
   ],
   "source": [
    "pip install matplotlib"
   ]
  },
  {
   "cell_type": "code",
   "execution_count": 19,
   "id": "be6c431e-d475-443f-8d64-e2cf759aa807",
   "metadata": {},
   "outputs": [
    {
     "data": {
      "image/png": "[encoded data removed]",
      "text/plain": [
       "<Figure size 640x480 with 1 Axes>"
      ]
     },
     "metadata": {},
     "output_type": "display_data"
    }
   ],
   "source": [
    "# Plotting the training and validation loss\n",
    "import matplotlib.pyplot as plt\n",
    "\n",
    "loss_values = history_dict['loss']\n",
    "val_loss_values = history_dict['val_loss']\n",
    "\n",
    "epochs = range(1, len(loss_values) + 1)\n",
    "\n",
    "plt.plot(epochs, loss_values, 'bo', label='Training loss') # 'bo' means blue dot\n",
    "plt.plot(epochs, val_loss_values, 'b', label='Validation loss') # 'b' means solid blue line\n",
    "\n",
    "plt.title('Training and validation loss')\n",
    "plt.xlabel('Epochs')\n",
    "plt.ylabel('Loss')\n",
    "plt.legend()\n",
    "plt.show()"
   ]
  },
  {
   "cell_type": "code",
   "execution_count": 22,
   "id": "38eafe47-3d25-4334-89a4-4c7d31335737",
   "metadata": {},
   "outputs": [
    {
     "data": {
      "image/png": "[encoded data removed]",
      "text/plain": [
       "<Figure size 640x480 with 1 Axes>"
      ]
     },
     "metadata": {},
     "output_type": "display_data"
    }
   ],
   "source": [
    "# Plotting the training and validation accuracy\n",
    "plt.clf() # clear the figure\n",
    "\n",
    "acc_values = history_dict['acc']\n",
    "val_acc_values = history_dict['val_acc']\n",
    "\n",
    "plt.plot(epochs, acc_values, 'bo', label='Training acc')\n",
    "plt.plot(epochs, val_acc_values, 'b', label='Validation acc')\n",
    "plt.title('Training and validation accuracy')\n",
    "plt.xlabel('Epochs')\n",
    "plt.ylabel('Loss')\n",
    "plt.legend()\n",
    "plt.show()"
   ]
  },
  {
   "cell_type": "markdown",
   "id": "deb52129-d406-462f-9e4a-ddf6a043ad57",
   "metadata": {},
   "source": [
    "* It seems there is an overfitting problem.  To prevent overfitting, you could stop training after 5 epochs"
   ]
  },
  {
   "cell_type": "code",
   "execution_count": 70,
   "id": "54921199-dfd9-4fc5-8e1c-260ce0e73131",
   "metadata": {},
   "outputs": [
    {
     "name": "stdout",
     "output_type": "stream",
     "text": [
      "Epoch 1/5\n",
      "49/49 [==============================] - 1s 6ms/step - loss: 0.4769 - accuracy: 0.8199\n",
      "Epoch 2/5\n",
      "49/49 [==============================] - 0s 7ms/step - loss: 0.2863 - accuracy: 0.9027\n",
      "Epoch 3/5\n",
      "49/49 [==============================] - 0s 6ms/step - loss: 0.2229 - accuracy: 0.9214\n",
      "Epoch 4/5\n",
      "49/49 [==============================] - 0s 6ms/step - loss: 0.1872 - accuracy: 0.9334\n",
      "Epoch 5/5\n",
      "49/49 [==============================] - 0s 6ms/step - loss: 0.1654 - accuracy: 0.9416\n",
      "782/782 [==============================] - 1s 786us/step - loss: 0.2987 - accuracy: 0.8825\n",
      "[0.2987391948699951, 0.8825200200080872]\n"
     ]
    }
   ],
   "source": [
    "# Retraining a model from scratch\n",
    "model = models.Sequential()\n",
    "model.add(layers.Dense(16, activation='relu', input_shape=(10000,)))\n",
    "model.add(layers.Dense(16, activation='relu'))\n",
    "model.add(layers.Dense(1, activation='sigmoid'))\n",
    "\n",
    "model.compile(optimizer='rmsprop',\n",
    "              loss='binary_crossentropy',\n",
    "              metrics=['accuracy'])\n",
    "\n",
    "model.fit(x_train, y_train, epochs=5, batch_size=512) # batch size can be chosen for any power of 2\n",
    "\n",
    "results = model.evaluate(x_test, y_test)\n",
    "\n",
    "print(results)"
   ]
  },
  {
   "cell_type": "markdown",
   "id": "997da306-d174-453c-a0e4-85c1ee119fe1",
   "metadata": {},
   "source": [
    "## 3.5 Classifying newswires: a multiclass classification example\n",
    "\n",
    "* Build a network to classify Reuters newswires into 46 mutually exclusive topics.\n",
    "* Because each data point should be classified into only one category, the problem is an instance of single-label, multiclass classification.\n",
    "\n",
    "### 3.5.1 The Reuters dataset\n",
    "* consists of a set of short newswires and their topics, published by Reuters in 1986.\n",
    "* It’s a simple, widely used toy dataset for text classification.\n",
    "* There are 46 different topics; some topics are more represented than others, but each topic has at least 10 examples in the training set.\n",
    "* It comes packaged as part of Keras."
   ]
  },
  {
   "cell_type": "code",
   "execution_count": 71,
   "id": "bd85a3ec-fc11-4e35-9f17-e0240665d12f",
   "metadata": {},
   "outputs": [
    {
     "name": "stdout",
     "output_type": "stream",
     "text": [
      "Downloading data from https://storage.googleapis.com/tensorflow/tf-keras-datasets/reuters.npz\n",
      "2110848/2110848 [==============================] - 0s 0us/step\n",
      "(8982,)\n",
      "(8982,)\n",
      "(2246,)\n",
      "(2246,)\n"
     ]
    }
   ],
   "source": [
    "# Loading the Reuters dataset\n",
    "from keras.datasets import reuters\n",
    "\n",
    "(train_data, train_labels), (test_data, test_labels) = reuters.load_data(num_words=10000)\n",
    "# the argument num_words=10000 restricts the data to the 10,000 most frequently occurring words found in the data.\n",
    "\n",
    "print(train_data.shape) # 8,982 training examples\n",
    "print(train_labels.shape)\n",
    "\n",
    "print(test_data.shape) # 2,246 test examples\n",
    "print(test_labels.shape)"
   ]
  },
  {
   "cell_type": "code",
   "execution_count": 81,
   "id": "4f5172e8-034f-4e3d-b939-d1e3282cf97e",
   "metadata": {},
   "outputs": [
    {
     "name": "stdout",
     "output_type": "stream",
     "text": [
      "31\n"
     ]
    },
    {
     "data": {
      "text/plain": [
       "3"
      ]
     },
     "execution_count": 81,
     "metadata": {},
     "output_type": "execute_result"
    }
   ],
   "source": [
    "train_data[11] # each example is a list of integers (word indices)\n",
    "print(len(train_data[10])) # each train_data example has a different length\n",
    "\n",
    "train_labels[11]"
   ]
  },
  {
   "cell_type": "code",
   "execution_count": 83,
   "id": "ee978595-23b4-4a92-b77e-d16070932c7e",
   "metadata": {},
   "outputs": [
    {
     "name": "stdout",
     "output_type": "stream",
     "text": [
      "(8982, 10000)\n",
      "(2246, 10000)\n"
     ]
    }
   ],
   "source": [
    "# Encoding the data (The same function as before)\n",
    "import numpy as np\n",
    "\n",
    "def vectorize_sequences(sequences, dimension=10000):\n",
    "    results = np.zeros((len(sequences), dimension)) # Creates an all-zero matrix of shape\n",
    "    for i, sequence in enumerate(sequences):\n",
    "        results[i, sequence] = 1. # Set specific indices of results[i] to 1s\n",
    "    return results\n",
    "\n",
    "x_train = vectorize_sequences(train_data)\n",
    "x_test = vectorize_sequences(test_data)\n",
    "print(x_train.shape)\n",
    "print(x_test.shape)"
   ]
  },
  {
   "cell_type": "markdown",
   "id": "4a093738-40e1-4454-86d3-a1f8df1b9f77",
   "metadata": {},
   "source": [
    "### 3.5.3 Building the network\n",
    "\n",
    "* Since we have 46 different classes, we need to increase the number of neurons in hidden layers. Let's go with 64 units"
   ]
  },
  {
   "cell_type": "code",
   "execution_count": 84,
   "id": "59ca7f9c-8976-44b7-8842-d2045f60c78e",
   "metadata": {},
   "outputs": [],
   "source": [
    "# model definition\n",
    "from keras import models\n",
    "from keras import layers\n",
    "\n",
    "model = models.Sequential()\n",
    "model.add(layers.Dense(64, activation='relu', input_shape=(10000,)))\n",
    "model.add(layers.Dense(64, activation='relu'))\n",
    "model.add(layers.Dense(46, activation='softmax')) # output layer has 46 units for 46 different classes"
   ]
  },
  {
   "cell_type": "code",
   "execution_count": 85,
   "id": "f018728f-706a-4d39-8cff-e467371f4c56",
   "metadata": {},
   "outputs": [],
   "source": [
    "# Compiling the model\n",
    "model.compile(optimizer='rmsprop', # rmsprop can adjust the learning rate for each parameter individually, \n",
    "              # but SGD has a fixed learning rate that can have slow convergence\n",
    "              loss='categorical_crossentropy',\n",
    "              metrics=['accuracy'])"
   ]
  },
  {
   "cell_type": "markdown",
   "id": "5fc08135-7e66-4268-ab52-cc952ac0983f",
   "metadata": {},
   "source": [
    "### 3.5.4 Validating your approach\n",
    "\n",
    "* Let’s set apart 1,000 samples in the training data to use as a validation set."
   ]
  },
  {
   "cell_type": "code",
   "execution_count": 86,
   "id": "511fec64-32de-425e-b8d6-6d75987fb4da",
   "metadata": {},
   "outputs": [
    {
     "name": "stdout",
     "output_type": "stream",
     "text": [
      "(8982,)\n",
      "(8982, 46)\n",
      "(2246,)\n",
      "(2246, 46)\n"
     ]
    }
   ],
   "source": [
    "# Setting aside a validation set (See Below block #88)\n",
    "\n",
    "# For labels, as similar as before\n",
    "def to_one_hot(labels, dimension=46):\n",
    "    results = np.zeros((len(labels), dimension)) # Creates an all-zero matrix of shape\n",
    "    for i, label in enumerate(labels):\n",
    "        results[i, label] = 1. # Set specific indices of results[i] to 1s\n",
    "    return results\n",
    "\n",
    "one_hot_train_labels = to_one_hot(train_labels) # vectorize training labels\n",
    "one_hot_test_labels = to_one_hot(test_labels)\n",
    "\n",
    "print(train_labels.shape)\n",
    "print(one_hot_train_labels.shape)\n",
    "\n",
    "print(test_labels.shape)\n",
    "print(one_hot_test_labels.shape)"
   ]
  },
  {
   "cell_type": "code",
   "execution_count": 88,
   "id": "3fc89798-4aac-409b-ac94-29a5e7df8ec6",
   "metadata": {},
   "outputs": [
    {
     "name": "stdout",
     "output_type": "stream",
     "text": [
      "(8982,)\n",
      "(8982, 46)\n",
      "(2246,)\n",
      "(2246, 46)\n"
     ]
    }
   ],
   "source": [
    "# If you are using a built-in way to do this in Keras\n",
    "from keras.utils import to_categorical\n",
    "\n",
    "one_hot_train_labels = to_categorical(train_labels)\n",
    "one_hot_test_labels = to_categorical(test_labels)\n",
    "\n",
    "print(train_labels.shape)\n",
    "print(one_hot_train_labels.shape)\n",
    "\n",
    "print(test_labels.shape)\n",
    "print(one_hot_test_labels.shape)"
   ]
  },
  {
   "cell_type": "code",
   "execution_count": 89,
   "id": "d835a8ad-8846-4ba6-ac21-3e8cfd82408f",
   "metadata": {},
   "outputs": [],
   "source": [
    "# Let’s set apart 1,000 samples in the training data to use as a validation set\n",
    "x_val = x_train[:1000]\n",
    "partial_x_train = x_train[1000:]\n",
    "\n",
    "y_val = one_hot_train_labels[:1000]\n",
    "partial_y_train = one_hot_train_labels[1000:]"
   ]
  },
  {
   "cell_type": "code",
   "execution_count": 90,
   "id": "4233aba6-ff78-4085-9e98-5ac8b4c4c544",
   "metadata": {},
   "outputs": [
    {
     "name": "stdout",
     "output_type": "stream",
     "text": [
      "Epoch 1/20\n",
      "16/16 [==============================] - 1s 26ms/step - loss: 2.7549 - accuracy: 0.4896 - val_loss: 1.8626 - val_accuracy: 0.5900\n",
      "Epoch 2/20\n",
      "16/16 [==============================] - 0s 15ms/step - loss: 1.5530 - accuracy: 0.6691 - val_loss: 1.4118 - val_accuracy: 0.6760\n",
      "Epoch 3/20\n",
      "16/16 [==============================] - 0s 15ms/step - loss: 1.1922 - accuracy: 0.7437 - val_loss: 1.2042 - val_accuracy: 0.7370\n",
      "Epoch 4/20\n",
      "16/16 [==============================] - 0s 14ms/step - loss: 0.9801 - accuracy: 0.7914 - val_loss: 1.0901 - val_accuracy: 0.7720\n",
      "Epoch 5/20\n",
      "16/16 [==============================] - 0s 14ms/step - loss: 0.8217 - accuracy: 0.8254 - val_loss: 1.0199 - val_accuracy: 0.7850\n",
      "Epoch 6/20\n",
      "16/16 [==============================] - 0s 13ms/step - loss: 0.6896 - accuracy: 0.8533 - val_loss: 0.9509 - val_accuracy: 0.7930\n",
      "Epoch 7/20\n",
      "16/16 [==============================] - 0s 13ms/step - loss: 0.5843 - accuracy: 0.8756 - val_loss: 0.9228 - val_accuracy: 0.7980\n",
      "Epoch 8/20\n",
      "16/16 [==============================] - 0s 14ms/step - loss: 0.4869 - accuracy: 0.8976 - val_loss: 0.8827 - val_accuracy: 0.8040\n",
      "Epoch 9/20\n",
      "16/16 [==============================] - 0s 14ms/step - loss: 0.4170 - accuracy: 0.9094 - val_loss: 0.8581 - val_accuracy: 0.8130\n",
      "Epoch 10/20\n",
      "16/16 [==============================] - 0s 15ms/step - loss: 0.3568 - accuracy: 0.9236 - val_loss: 0.8519 - val_accuracy: 0.8110\n",
      "Epoch 11/20\n",
      "16/16 [==============================] - 0s 19ms/step - loss: 0.2996 - accuracy: 0.9328 - val_loss: 0.8483 - val_accuracy: 0.8150\n",
      "Epoch 12/20\n",
      "16/16 [==============================] - 0s 12ms/step - loss: 0.2655 - accuracy: 0.9396 - val_loss: 0.8481 - val_accuracy: 0.8240\n",
      "Epoch 13/20\n",
      "16/16 [==============================] - 0s 13ms/step - loss: 0.2352 - accuracy: 0.9427 - val_loss: 0.8434 - val_accuracy: 0.8210\n",
      "Epoch 14/20\n",
      "16/16 [==============================] - 0s 13ms/step - loss: 0.2062 - accuracy: 0.9491 - val_loss: 0.8648 - val_accuracy: 0.8170\n",
      "Epoch 15/20\n",
      "16/16 [==============================] - 0s 13ms/step - loss: 0.1896 - accuracy: 0.9496 - val_loss: 0.8762 - val_accuracy: 0.8260\n",
      "Epoch 16/20\n",
      "16/16 [==============================] - 0s 13ms/step - loss: 0.1762 - accuracy: 0.9535 - val_loss: 0.8989 - val_accuracy: 0.8090\n",
      "Epoch 17/20\n",
      "16/16 [==============================] - 0s 13ms/step - loss: 0.1638 - accuracy: 0.9519 - val_loss: 0.8958 - val_accuracy: 0.8170\n",
      "Epoch 18/20\n",
      "16/16 [==============================] - 0s 13ms/step - loss: 0.1520 - accuracy: 0.9565 - val_loss: 0.8974 - val_accuracy: 0.8190\n",
      "Epoch 19/20\n",
      "16/16 [==============================] - 0s 13ms/step - loss: 0.1447 - accuracy: 0.9560 - val_loss: 0.9120 - val_accuracy: 0.8200\n",
      "Epoch 20/20\n",
      "16/16 [==============================] - 0s 12ms/step - loss: 0.1379 - accuracy: 0.9563 - val_loss: 0.9253 - val_accuracy: 0.8110\n"
     ]
    }
   ],
   "source": [
    "# Now, let’s train the network for 20 epochs\n",
    "history = model.fit(partial_x_train,\n",
    "                    partial_y_train,\n",
    "                    epochs=20,\n",
    "                    batch_size=512,\n",
    "                    validation_data=(x_val, y_val))"
   ]
  },
  {
   "cell_type": "code",
   "execution_count": 91,
   "id": "aa182772-72af-41b4-b62c-c0c24f62e3d1",
   "metadata": {},
   "outputs": [
    {
     "data": {
      "image/png": "[encoded data removed]",
      "text/plain": [
       "<Figure size 640x480 with 1 Axes>"
      ]
     },
     "metadata": {},
     "output_type": "display_data"
    }
   ],
   "source": [
    "# let’s display its loss and accuracy curves\n",
    "import matplotlib.pyplot as plt\n",
    "\n",
    "loss = history.history['loss']\n",
    "val_loss = history.history['val_loss']\n",
    "\n",
    "epochs = range(1, len(loss) + 1)\n",
    "\n",
    "plt.plot(epochs, loss, 'bo', label='Training loss')\n",
    "plt.plot(epochs, val_loss, 'b', label='Validation loss')\n",
    "plt.title('Training and validation loss')\n",
    "plt.xlabel('Epochs')\n",
    "plt.ylabel('Loss')\n",
    "plt.legend()\n",
    "\n",
    "plt.show()"
   ]
  },
  {
   "cell_type": "code",
   "execution_count": 94,
   "id": "71a3f8b7-a09f-4b40-aabe-1ae139228419",
   "metadata": {},
   "outputs": [
    {
     "data": {
      "image/png": "[encoded data removed]",
      "text/plain": [
       "<Figure size 640x480 with 1 Axes>"
      ]
     },
     "metadata": {},
     "output_type": "display_data"
    }
   ],
   "source": [
    "# Plotting the training and validation accuracy\n",
    "plt.clf()\n",
    "\n",
    "acc = history.history['accuracy']\n",
    "val_acc = history.history['val_accuracy']\n",
    "\n",
    "plt.plot(epochs, acc, 'bo', label='Training acc')\n",
    "plt.plot(epochs, val_acc, 'b', label='Validation acc')\n",
    "plt.title('Training and validation accuracy')\n",
    "plt.xlabel('Epochs')\n",
    "plt.ylabel('Loss')\n",
    "plt.legend()\n",
    "\n",
    "plt.show()"
   ]
  },
  {
   "cell_type": "markdown",
   "id": "1fc6fdc3-903a-4492-9c89-87b773b2f86f",
   "metadata": {},
   "source": [
    "* The network begins to overfit after 10 epochs. Let’s train a new network from \n",
    "scratch for10e epochs and then evaluate it on the test set\n",
    "."
   ]
  },
  {
   "cell_type": "code",
   "execution_count": 95,
   "id": "a782cbaa-959b-4c48-aab8-b3ba974513d9",
   "metadata": {},
   "outputs": [
    {
     "name": "stdout",
     "output_type": "stream",
     "text": [
      "Epoch 1/10\n",
      "16/16 [==============================] - 0s 19ms/step - loss: 2.6937 - accuracy: 0.4936 - val_loss: 1.8380 - val_accuracy: 0.5960\n",
      "Epoch 2/10\n",
      "16/16 [==============================] - 0s 12ms/step - loss: 1.5600 - accuracy: 0.6670 - val_loss: 1.3957 - val_accuracy: 0.6850\n",
      "Epoch 3/10\n",
      "16/16 [==============================] - 0s 12ms/step - loss: 1.1985 - accuracy: 0.7389 - val_loss: 1.1978 - val_accuracy: 0.7420\n",
      "Epoch 4/10\n",
      "16/16 [==============================] - 0s 12ms/step - loss: 0.9809 - accuracy: 0.7893 - val_loss: 1.0905 - val_accuracy: 0.7610\n",
      "Epoch 5/10\n",
      "16/16 [==============================] - 0s 12ms/step - loss: 0.8161 - accuracy: 0.8262 - val_loss: 1.0272 - val_accuracy: 0.7960\n",
      "Epoch 6/10\n",
      "16/16 [==============================] - 0s 12ms/step - loss: 0.6821 - accuracy: 0.8527 - val_loss: 0.9544 - val_accuracy: 0.8090\n",
      "Epoch 7/10\n",
      "16/16 [==============================] - 0s 13ms/step - loss: 0.5699 - accuracy: 0.8824 - val_loss: 0.9605 - val_accuracy: 0.7920\n",
      "Epoch 8/10\n",
      "16/16 [==============================] - 0s 13ms/step - loss: 0.4855 - accuracy: 0.9000 - val_loss: 0.9099 - val_accuracy: 0.8060\n",
      "Epoch 9/10\n",
      "16/16 [==============================] - 0s 12ms/step - loss: 0.4071 - accuracy: 0.9148 - val_loss: 0.8822 - val_accuracy: 0.8150\n",
      "Epoch 10/10\n",
      "16/16 [==============================] - 0s 13ms/step - loss: 0.3498 - accuracy: 0.9260 - val_loss: 0.8632 - val_accuracy: 0.8170\n",
      "71/71 [==============================] - 0s 1ms/step - loss: 0.9452 - accuracy: 0.7934\n"
     ]
    }
   ],
   "source": [
    "# Retraining a model from scratch\n",
    "model = models.Sequential()\n",
    "model.add(layers.Dense(64, activation='relu', input_shape=(10000,)))\n",
    "model.add(layers.Dense(64, activation='relu'))\n",
    "model.add(layers.Dense(46, activation='softmax'))\n",
    "\n",
    "model.compile(optimizer='rmsprop',\n",
    "              loss='categorical_crossentropy',\n",
    "              metrics=['accuracy'])\n",
    "\n",
    "model.fit(partial_x_train,\n",
    "          partial_y_train,\n",
    "          epochs=10,\n",
    "          batch_size=512,\n",
    "          validation_data=(x_val, y_val))\n",
    "\n",
    "results = model.evaluate(x_test, one_hot_test_labels)"
   ]
  },
  {
   "cell_type": "markdown",
   "id": "1f9e4e9d-3e37-4118-89d8-d686d399fe08",
   "metadata": {},
   "source": [
    "### 3.5.5 Generating predictions on new data\n"
   ]
  },
  {
   "cell_type": "code",
   "execution_count": 100,
   "id": "c39f61cc-3784-4077-aa16-1940c59cbc04",
   "metadata": {},
   "outputs": [
    {
     "name": "stdout",
     "output_type": "stream",
     "text": [
      "71/71 [==============================] - 0s 1ms/step\n",
      "(46,)\n",
      "predicted:  3\n",
      "True: 3\n"
     ]
    }
   ],
   "source": [
    "# Generating predictions for new data\n",
    "predictions = model.predict(x_test)\n",
    "\n",
    "print(predictions[0].shape) # Each entry in predictions is a vector of length 46:\n",
    "\n",
    "print(\"predicted: \", np.argmax(predictions[0])) # The largest entry is the predicted class—the class with the highest probability\n",
    "\n",
    "print(\"True:\", test_labels[0])"
   ]
  },
  {
   "cell_type": "markdown",
   "id": "e0941280-858a-4a14-a8ca-ebaadadc5be9",
   "metadata": {},
   "source": [
    "### 3.5.6 Exercises\n",
    "* Let's download the cement data and read it into a pandas dataframe."
   ]
  },
  {
   "cell_type": "code",
   "execution_count": 104,
   "id": "d2eccb49-ac54-4d23-aa63-7644512a4716",
   "metadata": {},
   "outputs": [
    {
     "name": "stdout",
     "output_type": "stream",
     "text": [
      "Collecting pandas\n",
      "  Downloading pandas-2.0.3-cp38-cp38-win_amd64.whl.metadata (18 kB)\n",
      "Requirement already satisfied: python-dateutil>=2.8.2 in c:\\users\\006816379\\appdata\\local\\anaconda3\\envs\\tf\\lib\\site-packages (from pandas) (2.9.0.post0)\n",
      "Requirement already satisfied: pytz>=2020.1 in c:\\users\\006816379\\appdata\\local\\anaconda3\\envs\\tf\\lib\\site-packages (from pandas) (2024.1)\n",
      "Collecting tzdata>=2022.1 (from pandas)\n",
      "  Downloading tzdata-2024.2-py2.py3-none-any.whl.metadata (1.4 kB)\n",
      "Requirement already satisfied: numpy>=1.20.3 in c:\\users\\006816379\\appdata\\local\\anaconda3\\envs\\tf\\lib\\site-packages (from pandas) (1.24.3)\n",
      "Requirement already satisfied: six>=1.5 in c:\\users\\006816379\\appdata\\local\\anaconda3\\envs\\tf\\lib\\site-packages (from python-dateutil>=2.8.2->pandas) (1.16.0)\n",
      "Downloading pandas-2.0.3-cp38-cp38-win_amd64.whl (10.8 MB)\n",
      "   ---------------------------------------- 0.0/10.8 MB ? eta -:--:--\n",
      "   ------------- -------------------------- 3.7/10.8 MB 24.2 MB/s eta 0:00:01\n",
      "   ---------------------------------- ----- 9.2/10.8 MB 21.9 MB/s eta 0:00:01\n",
      "   ---------------------------------------- 10.8/10.8 MB 21.7 MB/s eta 0:00:00\n",
      "Downloading tzdata-2024.2-py2.py3-none-any.whl (346 kB)\n",
      "Installing collected packages: tzdata, pandas\n",
      "Successfully installed pandas-2.0.3 tzdata-2024.2\n"
     ]
    }
   ],
   "source": [
    "!pip install pandas"
   ]
  },
  {
   "cell_type": "code",
   "execution_count": 105,
   "id": "e6a04105-18bf-40e7-8e24-af7de5e2f7d1",
   "metadata": {},
   "outputs": [
    {
     "data": {
      "text/html": [
       "<div>\n",
       "<style scoped>\n",
       "    .dataframe tbody tr th:only-of-type {\n",
       "        vertical-align: middle;\n",
       "    }\n",
       "\n",
       "    .dataframe tbody tr th {\n",
       "        vertical-align: top;\n",
       "    }\n",
       "\n",
       "    .dataframe thead th {\n",
       "        text-align: right;\n",
       "    }\n",
       "</style>\n",
       "<table border=\"1\" class=\"dataframe\">\n",
       "  <thead>\n",
       "    <tr style=\"text-align: right;\">\n",
       "      <th></th>\n",
       "      <th>Cement</th>\n",
       "      <th>Blast Furnace Slag</th>\n",
       "      <th>Fly Ash</th>\n",
       "      <th>Water</th>\n",
       "      <th>Superplasticizer</th>\n",
       "      <th>Coarse Aggregate</th>\n",
       "      <th>Fine Aggregate</th>\n",
       "      <th>Age</th>\n",
       "      <th>Strength</th>\n",
       "    </tr>\n",
       "  </thead>\n",
       "  <tbody>\n",
       "    <tr>\n",
       "      <th>0</th>\n",
       "      <td>540.0</td>\n",
       "      <td>0.0</td>\n",
       "      <td>0.0</td>\n",
       "      <td>162.0</td>\n",
       "      <td>2.5</td>\n",
       "      <td>1040.0</td>\n",
       "      <td>676.0</td>\n",
       "      <td>28</td>\n",
       "      <td>79.99</td>\n",
       "    </tr>\n",
       "    <tr>\n",
       "      <th>1</th>\n",
       "      <td>540.0</td>\n",
       "      <td>0.0</td>\n",
       "      <td>0.0</td>\n",
       "      <td>162.0</td>\n",
       "      <td>2.5</td>\n",
       "      <td>1055.0</td>\n",
       "      <td>676.0</td>\n",
       "      <td>28</td>\n",
       "      <td>61.89</td>\n",
       "    </tr>\n",
       "    <tr>\n",
       "      <th>2</th>\n",
       "      <td>332.5</td>\n",
       "      <td>142.5</td>\n",
       "      <td>0.0</td>\n",
       "      <td>228.0</td>\n",
       "      <td>0.0</td>\n",
       "      <td>932.0</td>\n",
       "      <td>594.0</td>\n",
       "      <td>270</td>\n",
       "      <td>40.27</td>\n",
       "    </tr>\n",
       "    <tr>\n",
       "      <th>3</th>\n",
       "      <td>332.5</td>\n",
       "      <td>142.5</td>\n",
       "      <td>0.0</td>\n",
       "      <td>228.0</td>\n",
       "      <td>0.0</td>\n",
       "      <td>932.0</td>\n",
       "      <td>594.0</td>\n",
       "      <td>365</td>\n",
       "      <td>41.05</td>\n",
       "    </tr>\n",
       "    <tr>\n",
       "      <th>4</th>\n",
       "      <td>198.6</td>\n",
       "      <td>132.4</td>\n",
       "      <td>0.0</td>\n",
       "      <td>192.0</td>\n",
       "      <td>0.0</td>\n",
       "      <td>978.4</td>\n",
       "      <td>825.5</td>\n",
       "      <td>360</td>\n",
       "      <td>44.30</td>\n",
       "    </tr>\n",
       "  </tbody>\n",
       "</table>\n",
       "</div>"
      ],
      "text/plain": [
       "   Cement  Blast Furnace Slag  Fly Ash  Water  Superplasticizer  \\\n",
       "0   540.0                 0.0      0.0  162.0               2.5   \n",
       "1   540.0                 0.0      0.0  162.0               2.5   \n",
       "2   332.5               142.5      0.0  228.0               0.0   \n",
       "3   332.5               142.5      0.0  228.0               0.0   \n",
       "4   198.6               132.4      0.0  192.0               0.0   \n",
       "\n",
       "   Coarse Aggregate  Fine Aggregate  Age  Strength  \n",
       "0            1040.0           676.0   28     79.99  \n",
       "1            1055.0           676.0   28     61.89  \n",
       "2             932.0           594.0  270     40.27  \n",
       "3             932.0           594.0  365     41.05  \n",
       "4             978.4           825.5  360     44.30  "
      ]
     },
     "execution_count": 105,
     "metadata": {},
     "output_type": "execute_result"
    }
   ],
   "source": [
    "import pandas as pd\n",
    "import numpy as np\n",
    "\n",
    "concrete_data = pd.read_csv('https://s3-api.us-geo.objectstorage.softlayer.net/cf-courses-data/CognitiveClass/DL0101EN/labs/data/concrete_data.csv')\n",
    "concrete_data.head()"
   ]
  },
  {
   "cell_type": "markdown",
   "id": "535a29b8-98d6-4515-9066-4b2e76f57556",
   "metadata": {},
   "source": [
    "* So the first concrete sample has 540 cubic meter of cement, 0 cubic meter of blast furnace slag, 0 cubic meter of fly ash, 162 cubic meter of water, 2.5 cubic meter of superplaticizer, 1040 cubic meter of coarse aggregate, 676 cubic meter of fine aggregate. Such a concrete mix which is 28 days old, has a compressive strength of 79.99 MPa"
   ]
  },
  {
   "cell_type": "code",
   "execution_count": 106,
   "id": "c010ed5b-7383-4e92-946d-c8b54f487bc1",
   "metadata": {},
   "outputs": [
    {
     "data": {
      "text/plain": [
       "(1030, 9)"
      ]
     },
     "execution_count": 106,
     "metadata": {},
     "output_type": "execute_result"
    }
   ],
   "source": [
    "# Let's check how many data points we have.\n",
    "concrete_data.shape"
   ]
  },
  {
   "cell_type": "markdown",
   "id": "acba53ff-62b4-4a0a-a9dc-a1f089cef1b4",
   "metadata": {},
   "source": [
    "So, there are approximately 1000 samples to train our model on"
   ]
  },
  {
   "cell_type": "code",
   "execution_count": 107,
   "id": "910ea2aa-82ac-48d9-9cd6-8397fe529828",
   "metadata": {},
   "outputs": [
    {
     "data": {
      "text/html": [
       "<div>\n",
       "<style scoped>\n",
       "    .dataframe tbody tr th:only-of-type {\n",
       "        vertical-align: middle;\n",
       "    }\n",
       "\n",
       "    .dataframe tbody tr th {\n",
       "        vertical-align: top;\n",
       "    }\n",
       "\n",
       "    .dataframe thead th {\n",
       "        text-align: right;\n",
       "    }\n",
       "</style>\n",
       "<table border=\"1\" class=\"dataframe\">\n",
       "  <thead>\n",
       "    <tr style=\"text-align: right;\">\n",
       "      <th></th>\n",
       "      <th>Cement</th>\n",
       "      <th>Blast Furnace Slag</th>\n",
       "      <th>Fly Ash</th>\n",
       "      <th>Water</th>\n",
       "      <th>Superplasticizer</th>\n",
       "      <th>Coarse Aggregate</th>\n",
       "      <th>Fine Aggregate</th>\n",
       "      <th>Age</th>\n",
       "      <th>Strength</th>\n",
       "    </tr>\n",
       "  </thead>\n",
       "  <tbody>\n",
       "    <tr>\n",
       "      <th>count</th>\n",
       "      <td>1030.000000</td>\n",
       "      <td>1030.000000</td>\n",
       "      <td>1030.000000</td>\n",
       "      <td>1030.000000</td>\n",
       "      <td>1030.000000</td>\n",
       "      <td>1030.000000</td>\n",
       "      <td>1030.000000</td>\n",
       "      <td>1030.000000</td>\n",
       "      <td>1030.000000</td>\n",
       "    </tr>\n",
       "    <tr>\n",
       "      <th>mean</th>\n",
       "      <td>281.167864</td>\n",
       "      <td>73.895825</td>\n",
       "      <td>54.188350</td>\n",
       "      <td>181.567282</td>\n",
       "      <td>6.204660</td>\n",
       "      <td>972.918932</td>\n",
       "      <td>773.580485</td>\n",
       "      <td>45.662136</td>\n",
       "      <td>35.817961</td>\n",
       "    </tr>\n",
       "    <tr>\n",
       "      <th>std</th>\n",
       "      <td>104.506364</td>\n",
       "      <td>86.279342</td>\n",
       "      <td>63.997004</td>\n",
       "      <td>21.354219</td>\n",
       "      <td>5.973841</td>\n",
       "      <td>77.753954</td>\n",
       "      <td>80.175980</td>\n",
       "      <td>63.169912</td>\n",
       "      <td>16.705742</td>\n",
       "    </tr>\n",
       "    <tr>\n",
       "      <th>min</th>\n",
       "      <td>102.000000</td>\n",
       "      <td>0.000000</td>\n",
       "      <td>0.000000</td>\n",
       "      <td>121.800000</td>\n",
       "      <td>0.000000</td>\n",
       "      <td>801.000000</td>\n",
       "      <td>594.000000</td>\n",
       "      <td>1.000000</td>\n",
       "      <td>2.330000</td>\n",
       "    </tr>\n",
       "    <tr>\n",
       "      <th>25%</th>\n",
       "      <td>192.375000</td>\n",
       "      <td>0.000000</td>\n",
       "      <td>0.000000</td>\n",
       "      <td>164.900000</td>\n",
       "      <td>0.000000</td>\n",
       "      <td>932.000000</td>\n",
       "      <td>730.950000</td>\n",
       "      <td>7.000000</td>\n",
       "      <td>23.710000</td>\n",
       "    </tr>\n",
       "    <tr>\n",
       "      <th>50%</th>\n",
       "      <td>272.900000</td>\n",
       "      <td>22.000000</td>\n",
       "      <td>0.000000</td>\n",
       "      <td>185.000000</td>\n",
       "      <td>6.400000</td>\n",
       "      <td>968.000000</td>\n",
       "      <td>779.500000</td>\n",
       "      <td>28.000000</td>\n",
       "      <td>34.445000</td>\n",
       "    </tr>\n",
       "    <tr>\n",
       "      <th>75%</th>\n",
       "      <td>350.000000</td>\n",
       "      <td>142.950000</td>\n",
       "      <td>118.300000</td>\n",
       "      <td>192.000000</td>\n",
       "      <td>10.200000</td>\n",
       "      <td>1029.400000</td>\n",
       "      <td>824.000000</td>\n",
       "      <td>56.000000</td>\n",
       "      <td>46.135000</td>\n",
       "    </tr>\n",
       "    <tr>\n",
       "      <th>max</th>\n",
       "      <td>540.000000</td>\n",
       "      <td>359.400000</td>\n",
       "      <td>200.100000</td>\n",
       "      <td>247.000000</td>\n",
       "      <td>32.200000</td>\n",
       "      <td>1145.000000</td>\n",
       "      <td>992.600000</td>\n",
       "      <td>365.000000</td>\n",
       "      <td>82.600000</td>\n",
       "    </tr>\n",
       "  </tbody>\n",
       "</table>\n",
       "</div>"
      ],
      "text/plain": [
       "            Cement  Blast Furnace Slag      Fly Ash        Water  \\\n",
       "count  1030.000000         1030.000000  1030.000000  1030.000000   \n",
       "mean    281.167864           73.895825    54.188350   181.567282   \n",
       "std     104.506364           86.279342    63.997004    21.354219   \n",
       "min     102.000000            0.000000     0.000000   121.800000   \n",
       "25%     192.375000            0.000000     0.000000   164.900000   \n",
       "50%     272.900000           22.000000     0.000000   185.000000   \n",
       "75%     350.000000          142.950000   118.300000   192.000000   \n",
       "max     540.000000          359.400000   200.100000   247.000000   \n",
       "\n",
       "       Superplasticizer  Coarse Aggregate  Fine Aggregate          Age  \\\n",
       "count       1030.000000       1030.000000     1030.000000  1030.000000   \n",
       "mean           6.204660        972.918932      773.580485    45.662136   \n",
       "std            5.973841         77.753954       80.175980    63.169912   \n",
       "min            0.000000        801.000000      594.000000     1.000000   \n",
       "25%            0.000000        932.000000      730.950000     7.000000   \n",
       "50%            6.400000        968.000000      779.500000    28.000000   \n",
       "75%           10.200000       1029.400000      824.000000    56.000000   \n",
       "max           32.200000       1145.000000      992.600000   365.000000   \n",
       "\n",
       "          Strength  \n",
       "count  1030.000000  \n",
       "mean     35.817961  \n",
       "std      16.705742  \n",
       "min       2.330000  \n",
       "25%      23.710000  \n",
       "50%      34.445000  \n",
       "75%      46.135000  \n",
       "max      82.600000  "
      ]
     },
     "execution_count": 107,
     "metadata": {},
     "output_type": "execute_result"
    }
   ],
   "source": [
    "# Let's check the dataset for any missing values.\n",
    "concrete_data.describe()"
   ]
  },
  {
   "cell_type": "code",
   "execution_count": 108,
   "id": "fc3704c7-43b8-4cb5-9236-28ae25b9b157",
   "metadata": {},
   "outputs": [
    {
     "data": {
      "text/plain": [
       "Cement                0\n",
       "Blast Furnace Slag    0\n",
       "Fly Ash               0\n",
       "Water                 0\n",
       "Superplasticizer      0\n",
       "Coarse Aggregate      0\n",
       "Fine Aggregate        0\n",
       "Age                   0\n",
       "Strength              0\n",
       "dtype: int64"
      ]
     },
     "execution_count": 108,
     "metadata": {},
     "output_type": "execute_result"
    }
   ],
   "source": [
    "concrete_data.isnull().sum()"
   ]
  },
  {
   "cell_type": "code",
   "execution_count": 111,
   "id": "824972e3-63f6-488d-87c7-f4bbcac818e0",
   "metadata": {},
   "outputs": [
    {
     "name": "stdout",
     "output_type": "stream",
     "text": [
      "Index(['Cement', 'Blast Furnace Slag', 'Fly Ash', 'Water', 'Superplasticizer',\n",
      "       'Coarse Aggregate', 'Fine Aggregate', 'Age', 'Strength'],\n",
      "      dtype='object')\n",
      "(1030, 8)\n",
      "(1030,)\n"
     ]
    }
   ],
   "source": [
    "# Split data into predictors and target\n",
    "# The target variable in this problem is the concrete sample strength.\n",
    "concrete_data_columns = concrete_data.columns\n",
    "print(concrete_data_columns)\n",
    "\n",
    "predictors = concrete_data[concrete_data_columns[concrete_data_columns != 'Strength']] # all columns except Strength\n",
    "print(predictors.shape)\n",
    "target = concrete_data['Strength'] # Strength column\n",
    "print(target.shape)"
   ]
  },
  {
   "cell_type": "code",
   "execution_count": 112,
   "id": "e8e17b42-6411-4f82-8240-6f13bfbe1e2d",
   "metadata": {},
   "outputs": [
    {
     "data": {
      "text/html": [
       "<div>\n",
       "<style scoped>\n",
       "    .dataframe tbody tr th:only-of-type {\n",
       "        vertical-align: middle;\n",
       "    }\n",
       "\n",
       "    .dataframe tbody tr th {\n",
       "        vertical-align: top;\n",
       "    }\n",
       "\n",
       "    .dataframe thead th {\n",
       "        text-align: right;\n",
       "    }\n",
       "</style>\n",
       "<table border=\"1\" class=\"dataframe\">\n",
       "  <thead>\n",
       "    <tr style=\"text-align: right;\">\n",
       "      <th></th>\n",
       "      <th>Cement</th>\n",
       "      <th>Blast Furnace Slag</th>\n",
       "      <th>Fly Ash</th>\n",
       "      <th>Water</th>\n",
       "      <th>Superplasticizer</th>\n",
       "      <th>Coarse Aggregate</th>\n",
       "      <th>Fine Aggregate</th>\n",
       "      <th>Age</th>\n",
       "    </tr>\n",
       "  </thead>\n",
       "  <tbody>\n",
       "    <tr>\n",
       "      <th>0</th>\n",
       "      <td>540.0</td>\n",
       "      <td>0.0</td>\n",
       "      <td>0.0</td>\n",
       "      <td>162.0</td>\n",
       "      <td>2.5</td>\n",
       "      <td>1040.0</td>\n",
       "      <td>676.0</td>\n",
       "      <td>28</td>\n",
       "    </tr>\n",
       "    <tr>\n",
       "      <th>1</th>\n",
       "      <td>540.0</td>\n",
       "      <td>0.0</td>\n",
       "      <td>0.0</td>\n",
       "      <td>162.0</td>\n",
       "      <td>2.5</td>\n",
       "      <td>1055.0</td>\n",
       "      <td>676.0</td>\n",
       "      <td>28</td>\n",
       "    </tr>\n",
       "    <tr>\n",
       "      <th>2</th>\n",
       "      <td>332.5</td>\n",
       "      <td>142.5</td>\n",
       "      <td>0.0</td>\n",
       "      <td>228.0</td>\n",
       "      <td>0.0</td>\n",
       "      <td>932.0</td>\n",
       "      <td>594.0</td>\n",
       "      <td>270</td>\n",
       "    </tr>\n",
       "    <tr>\n",
       "      <th>3</th>\n",
       "      <td>332.5</td>\n",
       "      <td>142.5</td>\n",
       "      <td>0.0</td>\n",
       "      <td>228.0</td>\n",
       "      <td>0.0</td>\n",
       "      <td>932.0</td>\n",
       "      <td>594.0</td>\n",
       "      <td>365</td>\n",
       "    </tr>\n",
       "    <tr>\n",
       "      <th>4</th>\n",
       "      <td>198.6</td>\n",
       "      <td>132.4</td>\n",
       "      <td>0.0</td>\n",
       "      <td>192.0</td>\n",
       "      <td>0.0</td>\n",
       "      <td>978.4</td>\n",
       "      <td>825.5</td>\n",
       "      <td>360</td>\n",
       "    </tr>\n",
       "  </tbody>\n",
       "</table>\n",
       "</div>"
      ],
      "text/plain": [
       "   Cement  Blast Furnace Slag  Fly Ash  Water  Superplasticizer  \\\n",
       "0   540.0                 0.0      0.0  162.0               2.5   \n",
       "1   540.0                 0.0      0.0  162.0               2.5   \n",
       "2   332.5               142.5      0.0  228.0               0.0   \n",
       "3   332.5               142.5      0.0  228.0               0.0   \n",
       "4   198.6               132.4      0.0  192.0               0.0   \n",
       "\n",
       "   Coarse Aggregate  Fine Aggregate  Age  \n",
       "0            1040.0           676.0   28  \n",
       "1            1055.0           676.0   28  \n",
       "2             932.0           594.0  270  \n",
       "3             932.0           594.0  365  \n",
       "4             978.4           825.5  360  "
      ]
     },
     "execution_count": 112,
     "metadata": {},
     "output_type": "execute_result"
    }
   ],
   "source": [
    "predictors.head()"
   ]
  },
  {
   "cell_type": "code",
   "execution_count": 113,
   "id": "7409317f-5229-4753-b204-f732f8fce6f3",
   "metadata": {},
   "outputs": [
    {
     "data": {
      "text/plain": [
       "0    79.99\n",
       "1    61.89\n",
       "2    40.27\n",
       "3    41.05\n",
       "4    44.30\n",
       "Name: Strength, dtype: float64"
      ]
     },
     "execution_count": 113,
     "metadata": {},
     "output_type": "execute_result"
    }
   ],
   "source": [
    "target.head()"
   ]
  },
  {
   "cell_type": "markdown",
   "id": "e67f3772-9937-49ca-b342-df6b76aa7848",
   "metadata": {},
   "source": [
    "Finally, the last step is to normalize the data by substracting the mean and dividing by the standard deviation.\n"
   ]
  },
  {
   "cell_type": "code",
   "execution_count": 114,
   "id": "b0385419-1178-4ee3-9b51-7e3a41edac0b",
   "metadata": {},
   "outputs": [
    {
     "data": {
      "text/html": [
       "<div>\n",
       "<style scoped>\n",
       "    .dataframe tbody tr th:only-of-type {\n",
       "        vertical-align: middle;\n",
       "    }\n",
       "\n",
       "    .dataframe tbody tr th {\n",
       "        vertical-align: top;\n",
       "    }\n",
       "\n",
       "    .dataframe thead th {\n",
       "        text-align: right;\n",
       "    }\n",
       "</style>\n",
       "<table border=\"1\" class=\"dataframe\">\n",
       "  <thead>\n",
       "    <tr style=\"text-align: right;\">\n",
       "      <th></th>\n",
       "      <th>Cement</th>\n",
       "      <th>Blast Furnace Slag</th>\n",
       "      <th>Fly Ash</th>\n",
       "      <th>Water</th>\n",
       "      <th>Superplasticizer</th>\n",
       "      <th>Coarse Aggregate</th>\n",
       "      <th>Fine Aggregate</th>\n",
       "      <th>Age</th>\n",
       "    </tr>\n",
       "  </thead>\n",
       "  <tbody>\n",
       "    <tr>\n",
       "      <th>0</th>\n",
       "      <td>2.476712</td>\n",
       "      <td>-0.856472</td>\n",
       "      <td>-0.846733</td>\n",
       "      <td>-0.916319</td>\n",
       "      <td>-0.620147</td>\n",
       "      <td>0.862735</td>\n",
       "      <td>-1.217079</td>\n",
       "      <td>-0.279597</td>\n",
       "    </tr>\n",
       "    <tr>\n",
       "      <th>1</th>\n",
       "      <td>2.476712</td>\n",
       "      <td>-0.856472</td>\n",
       "      <td>-0.846733</td>\n",
       "      <td>-0.916319</td>\n",
       "      <td>-0.620147</td>\n",
       "      <td>1.055651</td>\n",
       "      <td>-1.217079</td>\n",
       "      <td>-0.279597</td>\n",
       "    </tr>\n",
       "    <tr>\n",
       "      <th>2</th>\n",
       "      <td>0.491187</td>\n",
       "      <td>0.795140</td>\n",
       "      <td>-0.846733</td>\n",
       "      <td>2.174405</td>\n",
       "      <td>-1.038638</td>\n",
       "      <td>-0.526262</td>\n",
       "      <td>-2.239829</td>\n",
       "      <td>3.551340</td>\n",
       "    </tr>\n",
       "    <tr>\n",
       "      <th>3</th>\n",
       "      <td>0.491187</td>\n",
       "      <td>0.795140</td>\n",
       "      <td>-0.846733</td>\n",
       "      <td>2.174405</td>\n",
       "      <td>-1.038638</td>\n",
       "      <td>-0.526262</td>\n",
       "      <td>-2.239829</td>\n",
       "      <td>5.055221</td>\n",
       "    </tr>\n",
       "    <tr>\n",
       "      <th>4</th>\n",
       "      <td>-0.790075</td>\n",
       "      <td>0.678079</td>\n",
       "      <td>-0.846733</td>\n",
       "      <td>0.488555</td>\n",
       "      <td>-1.038638</td>\n",
       "      <td>0.070492</td>\n",
       "      <td>0.647569</td>\n",
       "      <td>4.976069</td>\n",
       "    </tr>\n",
       "  </tbody>\n",
       "</table>\n",
       "</div>"
      ],
      "text/plain": [
       "     Cement  Blast Furnace Slag   Fly Ash     Water  Superplasticizer  \\\n",
       "0  2.476712           -0.856472 -0.846733 -0.916319         -0.620147   \n",
       "1  2.476712           -0.856472 -0.846733 -0.916319         -0.620147   \n",
       "2  0.491187            0.795140 -0.846733  2.174405         -1.038638   \n",
       "3  0.491187            0.795140 -0.846733  2.174405         -1.038638   \n",
       "4 -0.790075            0.678079 -0.846733  0.488555         -1.038638   \n",
       "\n",
       "   Coarse Aggregate  Fine Aggregate       Age  \n",
       "0          0.862735       -1.217079 -0.279597  \n",
       "1          1.055651       -1.217079 -0.279597  \n",
       "2         -0.526262       -2.239829  3.551340  \n",
       "3         -0.526262       -2.239829  5.055221  \n",
       "4          0.070492        0.647569  4.976069  "
      ]
     },
     "execution_count": 114,
     "metadata": {},
     "output_type": "execute_result"
    }
   ],
   "source": [
    "predictors_norm = (predictors - predictors.mean()) / predictors.std()\n",
    "predictors_norm.head()"
   ]
  },
  {
   "cell_type": "markdown",
   "id": "8a09ef00-5e9b-40d2-b823-02a56ac062a3",
   "metadata": {},
   "source": [
    "Let's save the number of predictors to *n_cols* since we will need this number when building our network.\n"
   ]
  },
  {
   "cell_type": "code",
   "execution_count": 115,
   "id": "83e8fc61-081e-4ed7-8856-bfcaaee05a75",
   "metadata": {},
   "outputs": [],
   "source": [
    "n_cols = predictors_norm.shape[1] # number of predictors"
   ]
  },
  {
   "cell_type": "code",
   "execution_count": 119,
   "id": "bfd1865b-d627-4895-8629-6b3e6c943794",
   "metadata": {},
   "outputs": [],
   "source": [
    "# Build a NN\n",
    "from keras.models import Sequential\n",
    "from keras.layers import Dense\n",
    "\n",
    "# define regression model\n",
    "def regression_model():\n",
    "    # create model: two hidden layers, each of 50 hidden units\n",
    "    model = Sequential()\n",
    "    model.add(Dense(50, activation='relu', input_shape=(n_cols,))) \n",
    "    model.add(Dense(50, activation='relu'))\n",
    "    model.add(Dense(1))\n",
    "    \n",
    "    # compile model\n",
    "    model.compile(optimizer='adam', loss='mean_squared_error')\n",
    "    return model"
   ]
  },
  {
   "cell_type": "markdown",
   "id": "23d9f42a-2a12-40e3-b873-8d1a5f1e14de",
   "metadata": {},
   "source": [
    "## Train and Test the Network\n"
   ]
  },
  {
   "cell_type": "code",
   "execution_count": 120,
   "id": "305c9318-0cd0-4f30-b190-6061cb9b1bc1",
   "metadata": {},
   "outputs": [],
   "source": [
    "# build the model\n",
    "model = regression_model()"
   ]
  },
  {
   "cell_type": "markdown",
   "id": "62c80aa0-5639-4e8a-8509-f213439890cf",
   "metadata": {},
   "source": [
    "Next, we will train and test the model at the same time using the *fit* method. We will leave out 30% of the data for validation and we will train the model for 100 epochs.\n"
   ]
  },
  {
   "cell_type": "code",
   "execution_count": 122,
   "id": "873a78a4-55b0-4c4f-95f6-279a5618c1ce",
   "metadata": {},
   "outputs": [
    {
     "name": "stdout",
     "output_type": "stream",
     "text": [
      "Epoch 1/100\n",
      "23/23 - 0s - loss: 1657.7167 - val_loss: 1164.5404 - 293ms/epoch - 13ms/step\n",
      "Epoch 2/100\n",
      "23/23 - 0s - loss: 1535.7083 - val_loss: 1068.0541 - 27ms/epoch - 1ms/step\n",
      "Epoch 3/100\n",
      "23/23 - 0s - loss: 1356.7804 - val_loss: 919.9002 - 29ms/epoch - 1ms/step\n",
      "Epoch 4/100\n",
      "23/23 - 0s - loss: 1082.0690 - val_loss: 719.6859 - 26ms/epoch - 1ms/step\n",
      "Epoch 5/100\n",
      "23/23 - 0s - loss: 746.6702 - val_loss: 505.9610 - 25ms/epoch - 1ms/step\n",
      "Epoch 6/100\n",
      "23/23 - 0s - loss: 454.8219 - val_loss: 338.6076 - 28ms/epoch - 1ms/step\n",
      "Epoch 7/100\n",
      "23/23 - 0s - loss: 295.0692 - val_loss: 260.3346 - 37ms/epoch - 2ms/step\n",
      "Epoch 8/100\n",
      "23/23 - 0s - loss: 247.7953 - val_loss: 225.5828 - 29ms/epoch - 1ms/step\n",
      "Epoch 9/100\n",
      "23/23 - 0s - loss: 223.5557 - val_loss: 213.4027 - 31ms/epoch - 1ms/step\n",
      "Epoch 10/100\n",
      "23/23 - 0s - loss: 208.2943 - val_loss: 204.5819 - 27ms/epoch - 1ms/step\n",
      "Epoch 11/100\n",
      "23/23 - 0s - loss: 197.4693 - val_loss: 198.7637 - 30ms/epoch - 1ms/step\n",
      "Epoch 12/100\n",
      "23/23 - 0s - loss: 189.5101 - val_loss: 192.6570 - 28ms/epoch - 1ms/step\n",
      "Epoch 13/100\n",
      "23/23 - 0s - loss: 182.5064 - val_loss: 189.9230 - 27ms/epoch - 1ms/step\n",
      "Epoch 14/100\n",
      "23/23 - 0s - loss: 176.7922 - val_loss: 187.2404 - 28ms/epoch - 1ms/step\n",
      "Epoch 15/100\n",
      "23/23 - 0s - loss: 171.7268 - val_loss: 184.6046 - 27ms/epoch - 1ms/step\n",
      "Epoch 16/100\n",
      "23/23 - 0s - loss: 167.5295 - val_loss: 182.2807 - 27ms/epoch - 1ms/step\n",
      "Epoch 17/100\n",
      "23/23 - 0s - loss: 164.2570 - val_loss: 180.7354 - 25ms/epoch - 1ms/step\n",
      "Epoch 18/100\n",
      "23/23 - 0s - loss: 160.5685 - val_loss: 179.7120 - 28ms/epoch - 1ms/step\n",
      "Epoch 19/100\n",
      "23/23 - 0s - loss: 157.9501 - val_loss: 180.1790 - 28ms/epoch - 1ms/step\n",
      "Epoch 20/100\n",
      "23/23 - 0s - loss: 155.3786 - val_loss: 177.3621 - 26ms/epoch - 1ms/step\n",
      "Epoch 21/100\n",
      "23/23 - 0s - loss: 153.5190 - val_loss: 176.3905 - 26ms/epoch - 1ms/step\n",
      "Epoch 22/100\n",
      "23/23 - 0s - loss: 151.1063 - val_loss: 176.5598 - 25ms/epoch - 1ms/step\n",
      "Epoch 23/100\n",
      "23/23 - 0s - loss: 148.9115 - val_loss: 177.9513 - 25ms/epoch - 1ms/step\n",
      "Epoch 24/100\n",
      "23/23 - 0s - loss: 147.5702 - val_loss: 173.2772 - 27ms/epoch - 1ms/step\n",
      "Epoch 25/100\n",
      "23/23 - 0s - loss: 145.7360 - val_loss: 175.0844 - 27ms/epoch - 1ms/step\n",
      "Epoch 26/100\n",
      "23/23 - 0s - loss: 143.9737 - val_loss: 172.7709 - 26ms/epoch - 1ms/step\n",
      "Epoch 27/100\n",
      "23/23 - 0s - loss: 142.6970 - val_loss: 170.6616 - 28ms/epoch - 1ms/step\n",
      "Epoch 28/100\n",
      "23/23 - 0s - loss: 140.9528 - val_loss: 170.7548 - 26ms/epoch - 1ms/step\n",
      "Epoch 29/100\n",
      "23/23 - 0s - loss: 139.0956 - val_loss: 172.3743 - 25ms/epoch - 1ms/step\n",
      "Epoch 30/100\n",
      "23/23 - 0s - loss: 138.4745 - val_loss: 170.6197 - 26ms/epoch - 1ms/step\n",
      "Epoch 31/100\n",
      "23/23 - 0s - loss: 136.0913 - val_loss: 169.1335 - 24ms/epoch - 1ms/step\n",
      "Epoch 32/100\n",
      "23/23 - 0s - loss: 134.8936 - val_loss: 170.3216 - 26ms/epoch - 1ms/step\n",
      "Epoch 33/100\n",
      "23/23 - 0s - loss: 133.0977 - val_loss: 167.9903 - 27ms/epoch - 1ms/step\n",
      "Epoch 34/100\n",
      "23/23 - 0s - loss: 131.7466 - val_loss: 167.3092 - 26ms/epoch - 1ms/step\n",
      "Epoch 35/100\n",
      "23/23 - 0s - loss: 130.3322 - val_loss: 167.4658 - 25ms/epoch - 1ms/step\n",
      "Epoch 36/100\n",
      "23/23 - 0s - loss: 129.7268 - val_loss: 166.3240 - 26ms/epoch - 1ms/step\n",
      "Epoch 37/100\n",
      "23/23 - 0s - loss: 127.2830 - val_loss: 169.1506 - 26ms/epoch - 1ms/step\n",
      "Epoch 38/100\n",
      "23/23 - 0s - loss: 125.4548 - val_loss: 167.4924 - 25ms/epoch - 1ms/step\n",
      "Epoch 39/100\n",
      "23/23 - 0s - loss: 124.2864 - val_loss: 169.5914 - 27ms/epoch - 1ms/step\n",
      "Epoch 40/100\n",
      "23/23 - 0s - loss: 122.2843 - val_loss: 165.0436 - 25ms/epoch - 1ms/step\n",
      "Epoch 41/100\n",
      "23/23 - 0s - loss: 120.6314 - val_loss: 162.2076 - 26ms/epoch - 1ms/step\n",
      "Epoch 42/100\n",
      "23/23 - 0s - loss: 119.1296 - val_loss: 163.5091 - 28ms/epoch - 1ms/step\n",
      "Epoch 43/100\n",
      "23/23 - 0s - loss: 117.5760 - val_loss: 166.3508 - 26ms/epoch - 1ms/step\n",
      "Epoch 44/100\n",
      "23/23 - 0s - loss: 115.7025 - val_loss: 164.0719 - 27ms/epoch - 1ms/step\n",
      "Epoch 45/100\n",
      "23/23 - 0s - loss: 113.1788 - val_loss: 161.9323 - 28ms/epoch - 1ms/step\n",
      "Epoch 46/100\n",
      "23/23 - 0s - loss: 111.8778 - val_loss: 163.4139 - 27ms/epoch - 1ms/step\n",
      "Epoch 47/100\n",
      "23/23 - 0s - loss: 109.2585 - val_loss: 161.3241 - 28ms/epoch - 1ms/step\n",
      "Epoch 48/100\n",
      "23/23 - 0s - loss: 107.4312 - val_loss: 161.0090 - 27ms/epoch - 1ms/step\n",
      "Epoch 49/100\n",
      "23/23 - 0s - loss: 104.0619 - val_loss: 156.5318 - 25ms/epoch - 1ms/step\n",
      "Epoch 50/100\n",
      "23/23 - 0s - loss: 101.4756 - val_loss: 157.9207 - 27ms/epoch - 1ms/step\n",
      "Epoch 51/100\n",
      "23/23 - 0s - loss: 99.2114 - val_loss: 153.8433 - 25ms/epoch - 1ms/step\n",
      "Epoch 52/100\n",
      "23/23 - 0s - loss: 96.6534 - val_loss: 158.1580 - 26ms/epoch - 1ms/step\n",
      "Epoch 53/100\n",
      "23/23 - 0s - loss: 94.8416 - val_loss: 159.9702 - 26ms/epoch - 1ms/step\n",
      "Epoch 54/100\n",
      "23/23 - 0s - loss: 91.8377 - val_loss: 153.5192 - 25ms/epoch - 1ms/step\n",
      "Epoch 55/100\n",
      "23/23 - 0s - loss: 88.8760 - val_loss: 155.6847 - 27ms/epoch - 1ms/step\n",
      "Epoch 56/100\n",
      "23/23 - 0s - loss: 87.0667 - val_loss: 153.2977 - 26ms/epoch - 1ms/step\n",
      "Epoch 57/100\n",
      "23/23 - 0s - loss: 83.7520 - val_loss: 160.5441 - 25ms/epoch - 1ms/step\n",
      "Epoch 58/100\n",
      "23/23 - 0s - loss: 80.7480 - val_loss: 152.7278 - 27ms/epoch - 1ms/step\n",
      "Epoch 59/100\n",
      "23/23 - 0s - loss: 78.4287 - val_loss: 151.9686 - 24ms/epoch - 1ms/step\n",
      "Epoch 60/100\n",
      "23/23 - 0s - loss: 76.2271 - val_loss: 149.8654 - 26ms/epoch - 1ms/step\n",
      "Epoch 61/100\n",
      "23/23 - 0s - loss: 73.3316 - val_loss: 149.2739 - 36ms/epoch - 2ms/step\n",
      "Epoch 62/100\n",
      "23/23 - 0s - loss: 70.9257 - val_loss: 153.7370 - 28ms/epoch - 1ms/step\n",
      "Epoch 63/100\n",
      "23/23 - 0s - loss: 68.6077 - val_loss: 152.7440 - 25ms/epoch - 1ms/step\n",
      "Epoch 64/100\n",
      "23/23 - 0s - loss: 66.4094 - val_loss: 149.2763 - 25ms/epoch - 1ms/step\n",
      "Epoch 65/100\n",
      "23/23 - 0s - loss: 64.3497 - val_loss: 156.8026 - 25ms/epoch - 1ms/step\n",
      "Epoch 66/100\n",
      "23/23 - 0s - loss: 63.1384 - val_loss: 151.8609 - 24ms/epoch - 1ms/step\n",
      "Epoch 67/100\n",
      "23/23 - 0s - loss: 61.7766 - val_loss: 139.1975 - 26ms/epoch - 1ms/step\n",
      "Epoch 68/100\n",
      "23/23 - 0s - loss: 58.4914 - val_loss: 157.2386 - 26ms/epoch - 1ms/step\n",
      "Epoch 69/100\n",
      "23/23 - 0s - loss: 57.1438 - val_loss: 150.9064 - 25ms/epoch - 1ms/step\n",
      "Epoch 70/100\n",
      "23/23 - 0s - loss: 55.6312 - val_loss: 149.9945 - 25ms/epoch - 1ms/step\n",
      "Epoch 71/100\n",
      "23/23 - 0s - loss: 54.1788 - val_loss: 147.7990 - 26ms/epoch - 1ms/step\n",
      "Epoch 72/100\n",
      "23/23 - 0s - loss: 52.6195 - val_loss: 151.9105 - 26ms/epoch - 1ms/step\n",
      "Epoch 73/100\n",
      "23/23 - 0s - loss: 51.1808 - val_loss: 158.4882 - 26ms/epoch - 1ms/step\n",
      "Epoch 74/100\n",
      "23/23 - 0s - loss: 51.6032 - val_loss: 144.1645 - 25ms/epoch - 1ms/step\n",
      "Epoch 75/100\n",
      "23/23 - 0s - loss: 48.8887 - val_loss: 161.5819 - 26ms/epoch - 1ms/step\n",
      "Epoch 76/100\n",
      "23/23 - 0s - loss: 48.3931 - val_loss: 150.0818 - 25ms/epoch - 1ms/step\n",
      "Epoch 77/100\n",
      "23/23 - 0s - loss: 47.1362 - val_loss: 154.2348 - 25ms/epoch - 1ms/step\n",
      "Epoch 78/100\n",
      "23/23 - 0s - loss: 45.9080 - val_loss: 155.0407 - 25ms/epoch - 1ms/step\n",
      "Epoch 79/100\n",
      "23/23 - 0s - loss: 46.4392 - val_loss: 160.6971 - 26ms/epoch - 1ms/step\n",
      "Epoch 80/100\n",
      "23/23 - 0s - loss: 44.7346 - val_loss: 152.9268 - 27ms/epoch - 1ms/step\n",
      "Epoch 81/100\n",
      "23/23 - 0s - loss: 44.7738 - val_loss: 153.0920 - 27ms/epoch - 1ms/step\n",
      "Epoch 82/100\n",
      "23/23 - 0s - loss: 43.7950 - val_loss: 154.8920 - 27ms/epoch - 1ms/step\n",
      "Epoch 83/100\n",
      "23/23 - 0s - loss: 42.8815 - val_loss: 157.7905 - 26ms/epoch - 1ms/step\n",
      "Epoch 84/100\n",
      "23/23 - 0s - loss: 42.2327 - val_loss: 150.1911 - 27ms/epoch - 1ms/step\n",
      "Epoch 85/100\n",
      "23/23 - 0s - loss: 41.7236 - val_loss: 168.7611 - 26ms/epoch - 1ms/step\n",
      "Epoch 86/100\n",
      "23/23 - 0s - loss: 41.9971 - val_loss: 158.9380 - 26ms/epoch - 1ms/step\n",
      "Epoch 87/100\n",
      "23/23 - 0s - loss: 40.8417 - val_loss: 156.6597 - 27ms/epoch - 1ms/step\n",
      "Epoch 88/100\n",
      "23/23 - 0s - loss: 40.4743 - val_loss: 153.3697 - 27ms/epoch - 1ms/step\n",
      "Epoch 89/100\n",
      "23/23 - 0s - loss: 39.9963 - val_loss: 156.5441 - 26ms/epoch - 1ms/step\n",
      "Epoch 90/100\n",
      "23/23 - 0s - loss: 39.4661 - val_loss: 166.4110 - 26ms/epoch - 1ms/step\n",
      "Epoch 91/100\n",
      "23/23 - 0s - loss: 39.0820 - val_loss: 154.4747 - 25ms/epoch - 1ms/step\n",
      "Epoch 92/100\n",
      "23/23 - 0s - loss: 38.5122 - val_loss: 156.2171 - 26ms/epoch - 1ms/step\n",
      "Epoch 93/100\n",
      "23/23 - 0s - loss: 38.0639 - val_loss: 158.8602 - 25ms/epoch - 1ms/step\n",
      "Epoch 94/100\n",
      "23/23 - 0s - loss: 37.6945 - val_loss: 160.2739 - 26ms/epoch - 1ms/step\n",
      "Epoch 95/100\n",
      "23/23 - 0s - loss: 37.2182 - val_loss: 158.1197 - 26ms/epoch - 1ms/step\n",
      "Epoch 96/100\n",
      "23/23 - 0s - loss: 37.3002 - val_loss: 159.6715 - 26ms/epoch - 1ms/step\n",
      "Epoch 97/100\n",
      "23/23 - 0s - loss: 36.6845 - val_loss: 163.2262 - 25ms/epoch - 1ms/step\n",
      "Epoch 98/100\n",
      "23/23 - 0s - loss: 36.4811 - val_loss: 150.1181 - 25ms/epoch - 1ms/step\n",
      "Epoch 99/100\n",
      "23/23 - 0s - loss: 36.9630 - val_loss: 167.5510 - 26ms/epoch - 1ms/step\n",
      "Epoch 100/100\n",
      "23/23 - 0s - loss: 37.1160 - val_loss: 164.5717 - 26ms/epoch - 1ms/step\n"
     ]
    },
    {
     "data": {
      "text/plain": [
       "<keras.src.callbacks.History at 0x2381ae8d7c0>"
      ]
     },
     "execution_count": 122,
     "metadata": {},
     "output_type": "execute_result"
    }
   ],
   "source": [
    "# fit the model\n",
    "# Convert predictors and target to NumPy arrays\n",
    "predictors_norm_np = predictors_norm.to_numpy()  # or predictors_norm.values\n",
    "target_np = target.to_numpy()  # or target.values\n",
    "\n",
    "# Fit the model with NumPy arrays\n",
    "model.fit(predictors_norm_np, target_np, validation_split=0.3, epochs=100, verbose=2)\n"
   ]
  },
  {
   "cell_type": "markdown",
   "id": "58f10617-7d97-4990-94de-ed7dc670c578",
   "metadata": {},
   "source": [
    "# 3.6 Predicting house prices: a regression example"
   ]
  },
  {
   "cell_type": "markdown",
   "id": "1fd9bc55-053f-4062-96c2-778afc76576d",
   "metadata": {},
   "source": [
    "### 3.6.1 The Boston Housing Price dataset"
   ]
  },
  {
   "cell_type": "markdown",
   "id": "55473973-6ba4-481e-9cfd-72bb88cf3664",
   "metadata": {},
   "source": [
    "* predict the median price of homes in a given Boston suburb in the mid-1970s, given data points about the suburb at the time, such as the crime rate, the local property tax rate, and so on.\n",
    "* It has relatively few data points: only 506, split between 404 training samples and 102 test samples."
   ]
  },
  {
   "cell_type": "code",
   "execution_count": 123,
   "id": "f4649530-8c9c-4c79-97b6-06f2ebebba3a",
   "metadata": {},
   "outputs": [
    {
     "name": "stdout",
     "output_type": "stream",
     "text": [
      "Downloading data from https://storage.googleapis.com/tensorflow/tf-keras-datasets/boston_housing.npz\n",
      "57026/57026 [==============================] - 0s 0us/step\n"
     ]
    }
   ],
   "source": [
    "# Loading the Boston housing dataset\n",
    "from keras.datasets import boston_housing\n",
    "(train_data, train_targets), (test_data, test_targets) = boston_housing.load_data()"
   ]
  },
  {
   "cell_type": "code",
   "execution_count": 124,
   "id": "0dbe9ef2-fc4d-41b6-99c9-68f2c3b65260",
   "metadata": {},
   "outputs": [
    {
     "name": "stdout",
     "output_type": "stream",
     "text": [
      "(404, 13)\n",
      "(102, 13)\n"
     ]
    }
   ],
   "source": [
    "print(train_data.shape)\n",
    "print(test_data.shape)\n"
   ]
  },
  {
   "cell_type": "code",
   "execution_count": 126,
   "id": "0c16c287-d2f6-4653-8a37-52aab9a8ebee",
   "metadata": {},
   "outputs": [
    {
     "data": {
      "text/html": [
       "<div>\n",
       "<style scoped>\n",
       "    .dataframe tbody tr th:only-of-type {\n",
       "        vertical-align: middle;\n",
       "    }\n",
       "\n",
       "    .dataframe tbody tr th {\n",
       "        vertical-align: top;\n",
       "    }\n",
       "\n",
       "    .dataframe thead th {\n",
       "        text-align: right;\n",
       "    }\n",
       "</style>\n",
       "<table border=\"1\" class=\"dataframe\">\n",
       "  <thead>\n",
       "    <tr style=\"text-align: right;\">\n",
       "      <th></th>\n",
       "      <th>0</th>\n",
       "      <th>1</th>\n",
       "      <th>2</th>\n",
       "      <th>3</th>\n",
       "      <th>4</th>\n",
       "      <th>5</th>\n",
       "      <th>6</th>\n",
       "      <th>7</th>\n",
       "      <th>8</th>\n",
       "      <th>9</th>\n",
       "      <th>10</th>\n",
       "      <th>11</th>\n",
       "      <th>12</th>\n",
       "    </tr>\n",
       "  </thead>\n",
       "  <tbody>\n",
       "    <tr>\n",
       "      <th>0</th>\n",
       "      <td>1.23247</td>\n",
       "      <td>0.0</td>\n",
       "      <td>8.14</td>\n",
       "      <td>0.0</td>\n",
       "      <td>0.538</td>\n",
       "      <td>6.142</td>\n",
       "      <td>91.7</td>\n",
       "      <td>3.9769</td>\n",
       "      <td>4.0</td>\n",
       "      <td>307.0</td>\n",
       "      <td>21.0</td>\n",
       "      <td>396.90</td>\n",
       "      <td>18.72</td>\n",
       "    </tr>\n",
       "    <tr>\n",
       "      <th>1</th>\n",
       "      <td>0.02177</td>\n",
       "      <td>82.5</td>\n",
       "      <td>2.03</td>\n",
       "      <td>0.0</td>\n",
       "      <td>0.415</td>\n",
       "      <td>7.610</td>\n",
       "      <td>15.7</td>\n",
       "      <td>6.2700</td>\n",
       "      <td>2.0</td>\n",
       "      <td>348.0</td>\n",
       "      <td>14.7</td>\n",
       "      <td>395.38</td>\n",
       "      <td>3.11</td>\n",
       "    </tr>\n",
       "    <tr>\n",
       "      <th>2</th>\n",
       "      <td>4.89822</td>\n",
       "      <td>0.0</td>\n",
       "      <td>18.10</td>\n",
       "      <td>0.0</td>\n",
       "      <td>0.631</td>\n",
       "      <td>4.970</td>\n",
       "      <td>100.0</td>\n",
       "      <td>1.3325</td>\n",
       "      <td>24.0</td>\n",
       "      <td>666.0</td>\n",
       "      <td>20.2</td>\n",
       "      <td>375.52</td>\n",
       "      <td>3.26</td>\n",
       "    </tr>\n",
       "    <tr>\n",
       "      <th>3</th>\n",
       "      <td>0.03961</td>\n",
       "      <td>0.0</td>\n",
       "      <td>5.19</td>\n",
       "      <td>0.0</td>\n",
       "      <td>0.515</td>\n",
       "      <td>6.037</td>\n",
       "      <td>34.5</td>\n",
       "      <td>5.9853</td>\n",
       "      <td>5.0</td>\n",
       "      <td>224.0</td>\n",
       "      <td>20.2</td>\n",
       "      <td>396.90</td>\n",
       "      <td>8.01</td>\n",
       "    </tr>\n",
       "    <tr>\n",
       "      <th>4</th>\n",
       "      <td>3.69311</td>\n",
       "      <td>0.0</td>\n",
       "      <td>18.10</td>\n",
       "      <td>0.0</td>\n",
       "      <td>0.713</td>\n",
       "      <td>6.376</td>\n",
       "      <td>88.4</td>\n",
       "      <td>2.5671</td>\n",
       "      <td>24.0</td>\n",
       "      <td>666.0</td>\n",
       "      <td>20.2</td>\n",
       "      <td>391.43</td>\n",
       "      <td>14.65</td>\n",
       "    </tr>\n",
       "  </tbody>\n",
       "</table>\n",
       "</div>"
      ],
      "text/plain": [
       "        0     1      2    3      4      5      6       7     8      9     10  \\\n",
       "0  1.23247   0.0   8.14  0.0  0.538  6.142   91.7  3.9769   4.0  307.0  21.0   \n",
       "1  0.02177  82.5   2.03  0.0  0.415  7.610   15.7  6.2700   2.0  348.0  14.7   \n",
       "2  4.89822   0.0  18.10  0.0  0.631  4.970  100.0  1.3325  24.0  666.0  20.2   \n",
       "3  0.03961   0.0   5.19  0.0  0.515  6.037   34.5  5.9853   5.0  224.0  20.2   \n",
       "4  3.69311   0.0  18.10  0.0  0.713  6.376   88.4  2.5671  24.0  666.0  20.2   \n",
       "\n",
       "       11     12  \n",
       "0  396.90  18.72  \n",
       "1  395.38   3.11  \n",
       "2  375.52   3.26  \n",
       "3  396.90   8.01  \n",
       "4  391.43  14.65  "
      ]
     },
     "execution_count": 126,
     "metadata": {},
     "output_type": "execute_result"
    }
   ],
   "source": [
    "train_data_df = pd.DataFrame(train_data)\n",
    "train_data_df.head()\n"
   ]
  },
  {
   "cell_type": "markdown",
   "id": "8c43d20f-af5a-480b-9b29-39409b3253e5",
   "metadata": {},
   "source": [
    "### 3.6.2 Preparing the data\n"
   ]
  },
  {
   "cell_type": "markdown",
   "id": "ef31838e-3929-4a93-b75b-bfaff7f4188d",
   "metadata": {},
   "source": [
    "* It would be problematic to feed into a neural network values that all take wildly different ranges.\n",
    "  - do feature-wise normalization"
   ]
  },
  {
   "cell_type": "code",
   "execution_count": 127,
   "id": "08ab9b23-b437-400e-bf49-35102344fb0d",
   "metadata": {},
   "outputs": [],
   "source": [
    "# Normalizing the data\n",
    "mean = train_data.mean(axis=0) \n",
    "# the parameter axis=0 is used to specify that the mean should be calculated column-wise (across the rows for each column) when normalizing the data. \n",
    "train_data -= mean\n",
    "std = train_data.std(axis=0)\n",
    "train_data /= std\n",
    "\n",
    "# Note that the quantities used for normalizing the test data are computed using the training data. \n",
    "# You should never use in your workflow any quantity computed on the test data.\n",
    "test_data -= mean\n",
    "test_data /= std"
   ]
  },
  {
   "cell_type": "markdown",
   "id": "29ca54a2-a4b2-4e76-8aa2-38e031f4414a",
   "metadata": {},
   "source": [
    "### 3.6.3 Building your network"
   ]
  },
  {
   "cell_type": "markdown",
   "id": "6dde7f05-95c7-473d-a4dc-d9360e655101",
   "metadata": {},
   "source": [
    "Because so few samples are available, you’ll use a very small network with two hidden\n",
    "layers, each with 64 units."
   ]
  },
  {
   "cell_type": "code",
   "execution_count": 128,
   "id": "1323b0a8-5e4d-4105-9900-a8a31d81b723",
   "metadata": {},
   "outputs": [],
   "source": [
    "from keras import models\n",
    "from keras import layers\n",
    "def build_model():\n",
    "    model = models.Sequential()\n",
    "    model.add(layers.Dense(64, activation='relu',\n",
    "                           input_shape=(train_data.shape[1],)))\n",
    "    model.add(layers.Dense(64, activation='relu'))\n",
    "    model.add(layers.Dense(1))\n",
    "    \n",
    "    model.compile(optimizer='rmsprop', loss='mse', metrics=['mae']) # Mean absolute error\n",
    "    return model"
   ]
  },
  {
   "cell_type": "markdown",
   "id": "3c87e14a-70f3-4f0d-b96b-fad99007db13",
   "metadata": {},
   "source": [
    "### 3.6.4 Validating your approach using K-fold validation\n",
    "\n"
   ]
  }
 ],
 "metadata": {
  "kernelspec": {
   "display_name": "Python 3 (ipykernel)",
   "language": "python",
   "name": "python3"
  },
  "language_info": {
   "codemirror_mode": {
    "name": "ipython",
    "version": 3
   },
   "file_extension": ".py",
   "mimetype": "text/x-python",
   "name": "python",
   "nbconvert_exporter": "python",
   "pygments_lexer": "ipython3",
   "version": "3.11.9"
  }
 },
 "nbformat": 4,
 "nbformat_minor": 5
}

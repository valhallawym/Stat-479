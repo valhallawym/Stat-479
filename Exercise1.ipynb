{
 "cells": [
  {
   "cell_type": "code",
   "execution_count": 1,
   "id": "5492f64d-dafb-4c56-ab6e-92e2198ea67e",
   "metadata": {},
   "outputs": [],
   "source": [
    "import tensorflow as tf\n",
    "import keras as keras"
   ]
  },
  {
   "cell_type": "code",
   "execution_count": 19,
   "id": "cfb9da19-e942-4f1e-877d-191984c506b3",
   "metadata": {},
   "outputs": [
    {
     "name": "stdout",
     "output_type": "stream",
     "text": [
      "4.8\n",
      "output from np:  4.8\n"
     ]
    }
   ],
   "source": [
    "inputs = [1, 2, 3, 2.5]\n",
    "weights = [0.2, 0.8, -0.5, 1]\n",
    "bias = 2\n",
    "output1 = inputs[0]*weights[0] + inputs[1]*weights[1] + inputs[2]*weights[2] + inputs[3]*weights[3] + bias\n",
    "\n",
    "print(output1)\n",
    "\n",
    "# employ dot product\n",
    "import numpy as np\n",
    "\n",
    "output1 = np.dot(inputs, weights) + bias\n",
    "print(\"output from np: \", output1)"
   ]
  },
  {
   "cell_type": "code",
   "execution_count": 20,
   "id": "803191e6-c720-445f-91d5-783d55722666",
   "metadata": {},
   "outputs": [
    {
     "name": "stdout",
     "output_type": "stream",
     "text": [
      "[4.8, 1.21, 2.385]\n",
      "output from np:  4.8\n"
     ]
    }
   ],
   "source": [
    "# 4 inputs and 3 neurons\n",
    "inputs = [1, 2, 3, 2.5]\n",
    "\n",
    "weights1 = [0.2, 0.8, -0.5, 1]\n",
    "weights2 = [0.5, -0.91, 0.26, -0.5]\n",
    "weights3 = [-0.26, -0.27, 0.17, 0.87]\n",
    "\n",
    "bias1 = 2\n",
    "bias2 = 3\n",
    "bias3 = 0.5\n",
    "\n",
    "\n",
    "output = [inputs[0]*weights1[0] + inputs[1]*weights1[1] + inputs[2]*weights1[2] + inputs[3]*weights1[3] + bias1,\n",
    "          inputs[0]*weights2[0] + inputs[1]*weights2[1] + inputs[2]*weights2[2] + inputs[3]*weights2[3] + bias2,\n",
    "          inputs[0]*weights3[0] + inputs[1]*weights3[1] + inputs[2]*weights3[2] + inputs[3]*weights3[3] + bias3]\n",
    "          \n",
    "          \n",
    "\n",
    "print(output)"
   ]
  },
  {
   "cell_type": "code",
   "execution_count": 22,
   "id": "663cdc86-2a29-438a-9649-ea04fe132f10",
   "metadata": {},
   "outputs": [
    {
     "name": "stdout",
     "output_type": "stream",
     "text": [
      "Manual output: [4.8, 1.21, 2.385]\n",
      "Output from np.dot(): [4.8   1.21  2.385]\n"
     ]
    }
   ],
   "source": [
    "import numpy as np\n",
    "\n",
    "# Define inputs\n",
    "inputs = [1, 2, 3, 2.5]\n",
    "\n",
    "# Define weights for 3 neurons\n",
    "weights = [[0.2, 0.8, -0.5, 1],\n",
    "           [0.5, -0.91, 0.26, -0.5],\n",
    "           [-0.26, -0.27, 0.17, 0.87]]\n",
    "\n",
    "# Define biases for 3 neurons\n",
    "biases = [2, 3, 0.5]\n",
    "\n",
    "# Manual calculation (same as your code, just refactored)\n",
    "output = [inputs[0]*weights[0][0] + inputs[1]*weights[0][1] + inputs[2]*weights[0][2] + inputs[3]*weights[0][3] + biases[0],\n",
    "          inputs[0]*weights[1][0] + inputs[1]*weights[1][1] + inputs[2]*weights[1][2] + inputs[3]*weights[1][3] + biases[1],\n",
    "          inputs[0]*weights[2][0] + inputs[1]*weights[2][1] + inputs[2]*weights[2][2] + inputs[3]*weights[2][3] + biases[2]]\n",
    "\n",
    "print(\"Manual output:\", output)\n",
    "\n",
    "# Using np.dot() for the same calculation\n",
    "output_np = np.dot(weights, inputs) + biases\n",
    "print(\"Output from np.dot():\", output_np)\n"
   ]
  },
  {
   "cell_type": "markdown",
   "id": "d836895b-90a7-45cc-8fd6-c85a668928b5",
   "metadata": {},
   "source": [
    "### forward propagation in ANN"
   ]
  },
  {
   "cell_type": "code",
   "execution_count": 31,
   "id": "e809a391-c048-47d9-b803-6a39597a444b",
   "metadata": {},
   "outputs": [
    {
     "name": "stdout",
     "output_type": "stream",
     "text": [
      "Weights: [0.799  0.4639 0.7279 0.5723 0.719  0.1712]\n",
      "Biases: [0.7691 0.8852 0.758  0.5268]\n",
      "x1 is 0.5 and x2 is 0.85\n",
      "The weighted sum of the inputs at the first node in the hidden layer is 1.5629\n",
      "The weighted sum of the inputs at the second node in the hidden layer is 1.7356\n",
      "The activation of the first node in the hidden layer is 0.8268\n",
      "The activation of the second node in the hidden layer is 0.8501\n",
      "The weighted sum of the inputs at the final node is 1.4980\n"
     ]
    }
   ],
   "source": [
    "import numpy as np\n",
    "\n",
    "# Generate random weights and biases using numpy's random uniform function\n",
    "weights = np.around(np.random.uniform(size=6), decimals=4)\n",
    "biases = np.around(np.random.uniform(size=4), decimals=4)  # Updated to size=4\n",
    "\n",
    "print(\"Weights:\", weights)\n",
    "print(\"Biases:\", biases)\n",
    "\n",
    "# Inputs\n",
    "x_1 = 0.5\n",
    "x_2 = 0.85\n",
    "\n",
    "print(\"x1 is {} and x2 is {}\".format(x_1, x_2))\n",
    "\n",
    "# Calculate the weighted sum for the first and second nodes in the hidden layer\n",
    "z_11 = x_1*weights[0] + x_2*weights[1] + biases[0]\n",
    "print(\"The weighted sum of the inputs at the first node in the hidden layer is {:.4f}\".format(z_11))\n",
    "\n",
    "z_12 = x_1*weights[2] + x_2*weights[3] + biases[1]\n",
    "print(\"The weighted sum of the inputs at the second node in the hidden layer is {:.4f}\".format(z_12))\n",
    "\n",
    "# Assuming a sigmoid activation function, let's compute the activation for both nodes\n",
    "a_11 = 1 / (1 + np.exp(-z_11))\n",
    "print(\"The activation of the first node in the hidden layer is {:.4f}\".format(a_11))\n",
    "\n",
    "a_12 = 1 / (1 + np.exp(-z_12))\n",
    "print(\"The activation of the second node in the hidden layer is {:.4f}\".format(a_12))\n",
    "\n",
    "# Compute the weighted sum for the final node using activations and third bias\n",
    "z_2 = a_11*weights[4] + a_12*weights[5] + biases[2]\n",
    "print(\"The weighted sum of the inputs at the final node is {:.4f}\".format(z_2))\n",
    "\n",
    "# output of the network in the output\n",
    "a_2 = 1/(1 + np.exp(-z_2))\n",
    "print(\"The output of the network for X is {:.4f}\".format(z_2))"
   ]
  },
  {
   "cell_type": "code",
   "execution_count": 33,
   "id": "2d9af957-0542-4900-bb50-4ae57de19ad5",
   "metadata": {},
   "outputs": [
    {
     "name": "stdout",
     "output_type": "stream",
     "text": [
      "[[ 4.8    1.21   2.385]\n",
      " [ 8.9   -1.81   0.2  ]\n",
      " [ 1.41   1.051  0.026]]\n"
     ]
    }
   ],
   "source": [
    "import numpy as np\n",
    "\n",
    "# Define the batches of inputs (3 samples, each with 4 features)\n",
    "inputs = [[1, 2, 3, 2.5],\n",
    "          [2, 5, -1, 2],\n",
    "          [-1.5, 2.7, 3.3, -0.8]]  # Added missing comma here\n",
    "\n",
    "# Define weights and biases for 3 neurons\n",
    "weights = [[0.2, 0.8, -0.5, 1],\n",
    "           [0.5, -0.91, 0.26, -0.5],\n",
    "           [-0.26, -0.27, 0.17, 0.87]]\n",
    "\n",
    "biases = [2, 3, 0.5]\n",
    "\n",
    "# Compute the output by performing dot product between inputs and transposed weights\n",
    "layer_output = np.dot(inputs, np.array(weights).T) + biases\n",
    "print(layer_output)"
   ]
  },
  {
   "cell_type": "code",
   "execution_count": 34,
   "id": "4317f15c-c999-4c45-982a-3befab020c8d",
   "metadata": {},
   "outputs": [
    {
     "name": "stdout",
     "output_type": "stream",
     "text": [
      "[[ 3.5031  -0.04185 -0.41865]\n",
      " [ 3.2434  -1.7332  -4.7113 ]\n",
      " [ 2.00686  2.41254  0.65021]]\n"
     ]
    }
   ],
   "source": [
    "# So far, we have an input layer with 4 features and a hidden layer with 3 neurons\n",
    "# Add another layer with 3 neurons\n",
    "weights2 = [[0.1,-0.14,0.5],\n",
    "           [-0.5, 0.12,-0.33],\n",
    "           [-0.44,0.73,0.13]]\n",
    "\n",
    "biases = [2, 3, 0.5]\n",
    "\n",
    "layer_output2 = np.dot(layer_output, np.array(weights2).T) + biases\n",
    "print(layer_output2)"
   ]
  },
  {
   "cell_type": "code",
   "execution_count": null,
   "id": "a1704f31-772c-4b9e-847c-3f18b851e7c8",
   "metadata": {},
   "outputs": [],
   "source": []
  }
 ],
 "metadata": {
  "kernelspec": {
   "display_name": "Python 3 (ipykernel)",
   "language": "python",
   "name": "python3"
  },
  "language_info": {
   "codemirror_mode": {
    "name": "ipython",
    "version": 3
   },
   "file_extension": ".py",
   "mimetype": "text/x-python",
   "name": "python",
   "nbconvert_exporter": "python",
   "pygments_lexer": "ipython3",
   "version": "3.11.9"
  }
 },
 "nbformat": 4,
 "nbformat_minor": 5
}
